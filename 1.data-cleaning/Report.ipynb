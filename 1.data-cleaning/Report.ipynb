{
 "metadata": {
  "language_info": {
   "codemirror_mode": {
    "name": "ipython",
    "version": 3
   },
   "file_extension": ".py",
   "mimetype": "text/x-python",
   "name": "python",
   "nbconvert_exporter": "python",
   "pygments_lexer": "ipython3",
   "version": "3.8.5-final"
  },
  "orig_nbformat": 2,
  "kernelspec": {
   "name": "python3",
   "display_name": "Python 3"
  }
 },
 "nbformat": 4,
 "nbformat_minor": 2,
 "cells": [
  {
   "source": [
    "# Data Mining\n",
    "## Assignment 1 - Data Cleansing\n",
    "\n",
    "---\n",
    "\n",
    "## Aadam - CS1945\n",
    "\n",
    "---\n",
    "\n",
    "## Tasks to do\n",
    "1. Combine all the three datasets in a single source, you may use any DBMS. \n",
    "2. Once you have the data in the staging area inside your DBMS, perform data profiling for all the fields. By data profiling means the following statistics:\n",
    "    - No. of unique values (for each column) \n",
    "    - No. of nulls (for each column) \n",
    "    - Invalid values (for each column) \n",
    "    - Total no. of courses \n",
    "    - Total no. of female students Vs male students \n",
    "    - Total no of people who has taken more than 5 courses in a semester. \n",
    "    - The relationship between total no. of unique student ID’s and total no. of students. \n",
    "    - Average no of people per semester of each campus. \n",
    "    - Average no of students in every batch of each campus.\n",
    "3. After the profiling, you should have identified the anomalies and data cleansing issues. Here are some of the issues you need to address during your cleansing work.\n",
    "    - Separate first and last names both for the student and father. Standardize the first and last names. (Hint: Find all the unique names in data and create a lookup table with two columns i.e. correct_name, variation etc. Use the lookup table to update the name fields with standardized names. Never hardcode names in your SQL.)\n",
    "    - Introduce a new column i.e. city_name. It will involve extracting the city from the address and then the standardization of the city names. (Use the city names in the telephone directory as standard)\n",
    "    - Bring the gender information into a consistent representation. Use ‘M’ and ‘F’ with data type CHAR(1).\n",
    "    - Since the gender information is missing for the Peshawar campus, you can use the student names to figure out the gender. (Hint: Find all distinct male and female names and create a lookup table)\n",
    "    - If you have been using VARCHAR or CHAR for date, port the date information into columns with the proper Date data type. The dates should be as per calendar dates.\n",
    "    - Validate all the dates against the business rules e.g. the DOB should be smaller than the Reg. Date and Graduation Date should be greater than Reg. Date. The data might be having anomalies like exchanged DOB and Reg. Date by mistake etc. Also be careful with invalid dates i.e. 31st Feb. or 29th Feb. in a non-leap year.\n",
    "    - For some campuses, the degree information is missing. Devise some technique to figure it out and update the rows with empty degree fields. Validate other businessrules for each field. One example is that marks should be in the range 0 to 100 inclusive.\n"
   ],
   "cell_type": "markdown",
   "metadata": {}
  },
  {
   "cell_type": "code",
   "execution_count": 2,
   "metadata": {},
   "outputs": [],
   "source": [
    "import sqlite3\n",
    "\n",
    "import pandas as pd"
   ]
  },
  {
   "cell_type": "code",
   "execution_count": 120,
   "metadata": {},
   "outputs": [],
   "source": [
    "con = sqlite3.connect('University.db')\n",
    "\n",
    "df_std = pd.read_sql_query(\"SELECT * FROM Students\", con)\n",
    "df_reg = pd.read_sql_query(\"SELECT * FROM Course_Registrations\", con)\n",
    "\n",
    "con.close()"
   ]
  },
  {
   "cell_type": "code",
   "execution_count": 116,
   "metadata": {},
   "outputs": [
    {
     "output_type": "execute_result",
     "data": {
      "text/plain": [
       "           SID                 Name                Father  \\\n",
       "0     KHR_BS_0       Hussain Ansary          Ubaid Ansary   \n",
       "1     KHR_BS_1  Shk. Munir Hussaini  Viqar Hamid Hussaini   \n",
       "2    KHR_BS_10         Hamna Ansary         Hameed Ansary   \n",
       "3   KHR_BS_100        Jabbar Haqqie     Muneer Rai Haqqie   \n",
       "4  KHR_BS_1000     Rana Hayyat Baig   Ghulam Mustafa Baig   \n",
       "\n",
       "                   DoB Gender   Reg Date Reg Status Degree Status  \\\n",
       "0  1974-01-05 00:00:00      M 1994-08-13          A             C   \n",
       "1  1974-12-13 00:00:00      M 1994-08-13          A             C   \n",
       "2  1974-04-25 00:00:00      F 1994-08-14          A             C   \n",
       "3  1974-05-22 00:00:00      M 1994-08-18          A             C   \n",
       "4  1976-02-25 00:00:00      M 1995-08-28          A             C   \n",
       "\n",
       "                                             Address Qualification Degree  \\\n",
       "0           h# 978 Street No.72  Defense Phase 1 KHR       A-Level     BS   \n",
       "1                    H#  169 s#  0 Mutian wala Thata       A-Level     BS   \n",
       "2                     h#  697 St. #  94 sea site KHR       A-Level     BS   \n",
       "3                       H# 504 S No.4  Kumria Quetta       A-Level     BS   \n",
       "4  H No.509 St. No.38  Kishwar heights university...          HSSC     BS   \n",
       "\n",
       "  Campus  \n",
       "0    KHR  \n",
       "1    KHR  \n",
       "2    KHR  \n",
       "3    KHR  \n",
       "4    KHR  "
      ],
      "text/html": "<div>\n<style scoped>\n    .dataframe tbody tr th:only-of-type {\n        vertical-align: middle;\n    }\n\n    .dataframe tbody tr th {\n        vertical-align: top;\n    }\n\n    .dataframe thead th {\n        text-align: right;\n    }\n</style>\n<table border=\"1\" class=\"dataframe\">\n  <thead>\n    <tr style=\"text-align: right;\">\n      <th></th>\n      <th>SID</th>\n      <th>Name</th>\n      <th>Father</th>\n      <th>DoB</th>\n      <th>Gender</th>\n      <th>Reg Date</th>\n      <th>Reg Status</th>\n      <th>Degree Status</th>\n      <th>Address</th>\n      <th>Qualification</th>\n      <th>Degree</th>\n      <th>Campus</th>\n    </tr>\n  </thead>\n  <tbody>\n    <tr>\n      <th>0</th>\n      <td>KHR_BS_0</td>\n      <td>Hussain Ansary</td>\n      <td>Ubaid Ansary</td>\n      <td>1974-01-05 00:00:00</td>\n      <td>M</td>\n      <td>1994-08-13</td>\n      <td>A</td>\n      <td>C</td>\n      <td>h# 978 Street No.72  Defense Phase 1 KHR</td>\n      <td>A-Level</td>\n      <td>BS</td>\n      <td>KHR</td>\n    </tr>\n    <tr>\n      <th>1</th>\n      <td>KHR_BS_1</td>\n      <td>Shk. Munir Hussaini</td>\n      <td>Viqar Hamid Hussaini</td>\n      <td>1974-12-13 00:00:00</td>\n      <td>M</td>\n      <td>1994-08-13</td>\n      <td>A</td>\n      <td>C</td>\n      <td>H#  169 s#  0 Mutian wala Thata</td>\n      <td>A-Level</td>\n      <td>BS</td>\n      <td>KHR</td>\n    </tr>\n    <tr>\n      <th>2</th>\n      <td>KHR_BS_10</td>\n      <td>Hamna Ansary</td>\n      <td>Hameed Ansary</td>\n      <td>1974-04-25 00:00:00</td>\n      <td>F</td>\n      <td>1994-08-14</td>\n      <td>A</td>\n      <td>C</td>\n      <td>h#  697 St. #  94 sea site KHR</td>\n      <td>A-Level</td>\n      <td>BS</td>\n      <td>KHR</td>\n    </tr>\n    <tr>\n      <th>3</th>\n      <td>KHR_BS_100</td>\n      <td>Jabbar Haqqie</td>\n      <td>Muneer Rai Haqqie</td>\n      <td>1974-05-22 00:00:00</td>\n      <td>M</td>\n      <td>1994-08-18</td>\n      <td>A</td>\n      <td>C</td>\n      <td>H# 504 S No.4  Kumria Quetta</td>\n      <td>A-Level</td>\n      <td>BS</td>\n      <td>KHR</td>\n    </tr>\n    <tr>\n      <th>4</th>\n      <td>KHR_BS_1000</td>\n      <td>Rana Hayyat Baig</td>\n      <td>Ghulam Mustafa Baig</td>\n      <td>1976-02-25 00:00:00</td>\n      <td>M</td>\n      <td>1995-08-28</td>\n      <td>A</td>\n      <td>C</td>\n      <td>H No.509 St. No.38  Kishwar heights university...</td>\n      <td>HSSC</td>\n      <td>BS</td>\n      <td>KHR</td>\n    </tr>\n  </tbody>\n</table>\n</div>"
     },
     "metadata": {},
     "execution_count": 116
    }
   ],
   "source": [
    "df_std.head()"
   ]
  },
  {
   "cell_type": "code",
   "execution_count": 121,
   "metadata": {},
   "outputs": [
    {
     "output_type": "execute_result",
     "data": {
      "text/plain": [
       "        SID  Course  Score Semester                        Year Discipline  \\\n",
       "0  KHR_BS_0  CS-101     72     Fall  1994-01-01 00:00:00.000000         CS   \n",
       "1  KHR_BS_0  CS-102     78     Fall  1994-01-01 00:00:00.000000         CS   \n",
       "2  KHR_BS_0  CS-103     53     Fall  1994-01-01 00:00:00.000000         CS   \n",
       "3  KHR_BS_0  CS-104     58     Fall  1994-01-01 00:00:00.000000         CS   \n",
       "4  KHR_BS_0  CS-105     61   Spring  1995-01-01 00:00:00.000000         CS   \n",
       "\n",
       "  Degree Campus  \n",
       "0     BS    KHR  \n",
       "1     BS    KHR  \n",
       "2     BS    KHR  \n",
       "3     BS    KHR  \n",
       "4     BS    KHR  "
      ],
      "text/html": "<div>\n<style scoped>\n    .dataframe tbody tr th:only-of-type {\n        vertical-align: middle;\n    }\n\n    .dataframe tbody tr th {\n        vertical-align: top;\n    }\n\n    .dataframe thead th {\n        text-align: right;\n    }\n</style>\n<table border=\"1\" class=\"dataframe\">\n  <thead>\n    <tr style=\"text-align: right;\">\n      <th></th>\n      <th>SID</th>\n      <th>Course</th>\n      <th>Score</th>\n      <th>Semester</th>\n      <th>Year</th>\n      <th>Discipline</th>\n      <th>Degree</th>\n      <th>Campus</th>\n    </tr>\n  </thead>\n  <tbody>\n    <tr>\n      <th>0</th>\n      <td>KHR_BS_0</td>\n      <td>CS-101</td>\n      <td>72</td>\n      <td>Fall</td>\n      <td>1994-01-01 00:00:00.000000</td>\n      <td>CS</td>\n      <td>BS</td>\n      <td>KHR</td>\n    </tr>\n    <tr>\n      <th>1</th>\n      <td>KHR_BS_0</td>\n      <td>CS-102</td>\n      <td>78</td>\n      <td>Fall</td>\n      <td>1994-01-01 00:00:00.000000</td>\n      <td>CS</td>\n      <td>BS</td>\n      <td>KHR</td>\n    </tr>\n    <tr>\n      <th>2</th>\n      <td>KHR_BS_0</td>\n      <td>CS-103</td>\n      <td>53</td>\n      <td>Fall</td>\n      <td>1994-01-01 00:00:00.000000</td>\n      <td>CS</td>\n      <td>BS</td>\n      <td>KHR</td>\n    </tr>\n    <tr>\n      <th>3</th>\n      <td>KHR_BS_0</td>\n      <td>CS-104</td>\n      <td>58</td>\n      <td>Fall</td>\n      <td>1994-01-01 00:00:00.000000</td>\n      <td>CS</td>\n      <td>BS</td>\n      <td>KHR</td>\n    </tr>\n    <tr>\n      <th>4</th>\n      <td>KHR_BS_0</td>\n      <td>CS-105</td>\n      <td>61</td>\n      <td>Spring</td>\n      <td>1995-01-01 00:00:00.000000</td>\n      <td>CS</td>\n      <td>BS</td>\n      <td>KHR</td>\n    </tr>\n  </tbody>\n</table>\n</div>"
     },
     "metadata": {},
     "execution_count": 121
    }
   ],
   "source": [
    "df_reg.head()"
   ]
  },
  {
   "source": [
    "# Data Profiling"
   ],
   "cell_type": "markdown",
   "metadata": {}
  },
  {
   "cell_type": "code",
   "execution_count": 117,
   "metadata": {},
   "outputs": [
    {
     "output_type": "execute_result",
     "data": {
      "text/plain": [
       "                SID           Name            Father  \\\n",
       "count         17102          17102             17102   \n",
       "unique        17102          14673             14270   \n",
       "top     PEW_BS_1573  Kishwar Pasha  Mudassir Khattak   \n",
       "freq              1              6                 5   \n",
       "first           NaN            NaN               NaN   \n",
       "last            NaN            NaN               NaN   \n",
       "\n",
       "                               DoB Gender             Reg Date Reg Status  \\\n",
       "count                        17100  13398                17102      17102   \n",
       "unique                        7380      2                  442          2   \n",
       "top     1981-03-22 00:00:00.000000      M  2003-08-16 00:00:00          A   \n",
       "freq                             8   8935                   76      17100   \n",
       "first                          NaN    NaN  1994-01-08 00:00:00        NaN   \n",
       "last                           NaN    NaN  2005-01-12 00:00:00        NaN   \n",
       "\n",
       "       Degree Status                                 Address Qualification  \\\n",
       "count          17102                                   17102         17102   \n",
       "unique             2                                   15360            12   \n",
       "top                C  house no.141 S# 16  Haider road Multan         F.Sc.   \n",
       "freq           12500                                       3          2390   \n",
       "first            NaN                                     NaN           NaN   \n",
       "last             NaN                                     NaN           NaN   \n",
       "\n",
       "       Degree Campus  \n",
       "count   17102  17102  \n",
       "unique      2      3  \n",
       "top        BS    KHR  \n",
       "freq    14302   8201  \n",
       "first     NaN    NaN  \n",
       "last      NaN    NaN  "
      ],
      "text/html": "<div>\n<style scoped>\n    .dataframe tbody tr th:only-of-type {\n        vertical-align: middle;\n    }\n\n    .dataframe tbody tr th {\n        vertical-align: top;\n    }\n\n    .dataframe thead th {\n        text-align: right;\n    }\n</style>\n<table border=\"1\" class=\"dataframe\">\n  <thead>\n    <tr style=\"text-align: right;\">\n      <th></th>\n      <th>SID</th>\n      <th>Name</th>\n      <th>Father</th>\n      <th>DoB</th>\n      <th>Gender</th>\n      <th>Reg Date</th>\n      <th>Reg Status</th>\n      <th>Degree Status</th>\n      <th>Address</th>\n      <th>Qualification</th>\n      <th>Degree</th>\n      <th>Campus</th>\n    </tr>\n  </thead>\n  <tbody>\n    <tr>\n      <th>count</th>\n      <td>17102</td>\n      <td>17102</td>\n      <td>17102</td>\n      <td>17100</td>\n      <td>13398</td>\n      <td>17102</td>\n      <td>17102</td>\n      <td>17102</td>\n      <td>17102</td>\n      <td>17102</td>\n      <td>17102</td>\n      <td>17102</td>\n    </tr>\n    <tr>\n      <th>unique</th>\n      <td>17102</td>\n      <td>14673</td>\n      <td>14270</td>\n      <td>7380</td>\n      <td>2</td>\n      <td>442</td>\n      <td>2</td>\n      <td>2</td>\n      <td>15360</td>\n      <td>12</td>\n      <td>2</td>\n      <td>3</td>\n    </tr>\n    <tr>\n      <th>top</th>\n      <td>PEW_BS_1573</td>\n      <td>Kishwar Pasha</td>\n      <td>Mudassir Khattak</td>\n      <td>1981-03-22 00:00:00.000000</td>\n      <td>M</td>\n      <td>2003-08-16 00:00:00</td>\n      <td>A</td>\n      <td>C</td>\n      <td>house no.141 S# 16  Haider road Multan</td>\n      <td>F.Sc.</td>\n      <td>BS</td>\n      <td>KHR</td>\n    </tr>\n    <tr>\n      <th>freq</th>\n      <td>1</td>\n      <td>6</td>\n      <td>5</td>\n      <td>8</td>\n      <td>8935</td>\n      <td>76</td>\n      <td>17100</td>\n      <td>12500</td>\n      <td>3</td>\n      <td>2390</td>\n      <td>14302</td>\n      <td>8201</td>\n    </tr>\n    <tr>\n      <th>first</th>\n      <td>NaN</td>\n      <td>NaN</td>\n      <td>NaN</td>\n      <td>NaN</td>\n      <td>NaN</td>\n      <td>1994-01-08 00:00:00</td>\n      <td>NaN</td>\n      <td>NaN</td>\n      <td>NaN</td>\n      <td>NaN</td>\n      <td>NaN</td>\n      <td>NaN</td>\n    </tr>\n    <tr>\n      <th>last</th>\n      <td>NaN</td>\n      <td>NaN</td>\n      <td>NaN</td>\n      <td>NaN</td>\n      <td>NaN</td>\n      <td>2005-01-12 00:00:00</td>\n      <td>NaN</td>\n      <td>NaN</td>\n      <td>NaN</td>\n      <td>NaN</td>\n      <td>NaN</td>\n      <td>NaN</td>\n    </tr>\n  </tbody>\n</table>\n</div>"
     },
     "metadata": {},
     "execution_count": 117
    }
   ],
   "source": [
    "df_std.describe(include='all')"
   ]
  },
  {
   "cell_type": "code",
   "execution_count": 122,
   "metadata": {},
   "outputs": [
    {
     "output_type": "execute_result",
     "data": {
      "text/plain": [
       "                SID  Course          Score Semester  \\\n",
       "count        406200  406200  406200.000000   406200   \n",
       "unique        11700     120            NaN        2   \n",
       "top     PEW_BS_1573  CS-103            NaN   Spring   \n",
       "freq             48    8900            NaN   203100   \n",
       "mean            NaN     NaN      74.460268      NaN   \n",
       "std             NaN     NaN      14.415844      NaN   \n",
       "min             NaN     NaN      50.000000      NaN   \n",
       "25%             NaN     NaN      62.000000      NaN   \n",
       "50%             NaN     NaN      74.000000      NaN   \n",
       "75%             NaN     NaN      87.000000      NaN   \n",
       "max             NaN     NaN      99.000000      NaN   \n",
       "\n",
       "                              Year Discipline  Degree  Campus  \n",
       "count                       406200     406200  406200  406200  \n",
       "unique                          16          8       2       3  \n",
       "top     1970-01-01 00:00:00.000002         TC      BS     LHR  \n",
       "freq                         76200      94200  376800  190800  \n",
       "mean                           NaN        NaN     NaN     NaN  \n",
       "std                            NaN        NaN     NaN     NaN  \n",
       "min                            NaN        NaN     NaN     NaN  \n",
       "25%                            NaN        NaN     NaN     NaN  \n",
       "50%                            NaN        NaN     NaN     NaN  \n",
       "75%                            NaN        NaN     NaN     NaN  \n",
       "max                            NaN        NaN     NaN     NaN  "
      ],
      "text/html": "<div>\n<style scoped>\n    .dataframe tbody tr th:only-of-type {\n        vertical-align: middle;\n    }\n\n    .dataframe tbody tr th {\n        vertical-align: top;\n    }\n\n    .dataframe thead th {\n        text-align: right;\n    }\n</style>\n<table border=\"1\" class=\"dataframe\">\n  <thead>\n    <tr style=\"text-align: right;\">\n      <th></th>\n      <th>SID</th>\n      <th>Course</th>\n      <th>Score</th>\n      <th>Semester</th>\n      <th>Year</th>\n      <th>Discipline</th>\n      <th>Degree</th>\n      <th>Campus</th>\n    </tr>\n  </thead>\n  <tbody>\n    <tr>\n      <th>count</th>\n      <td>406200</td>\n      <td>406200</td>\n      <td>406200.000000</td>\n      <td>406200</td>\n      <td>406200</td>\n      <td>406200</td>\n      <td>406200</td>\n      <td>406200</td>\n    </tr>\n    <tr>\n      <th>unique</th>\n      <td>11700</td>\n      <td>120</td>\n      <td>NaN</td>\n      <td>2</td>\n      <td>16</td>\n      <td>8</td>\n      <td>2</td>\n      <td>3</td>\n    </tr>\n    <tr>\n      <th>top</th>\n      <td>PEW_BS_1573</td>\n      <td>CS-103</td>\n      <td>NaN</td>\n      <td>Spring</td>\n      <td>1970-01-01 00:00:00.000002</td>\n      <td>TC</td>\n      <td>BS</td>\n      <td>LHR</td>\n    </tr>\n    <tr>\n      <th>freq</th>\n      <td>48</td>\n      <td>8900</td>\n      <td>NaN</td>\n      <td>203100</td>\n      <td>76200</td>\n      <td>94200</td>\n      <td>376800</td>\n      <td>190800</td>\n    </tr>\n    <tr>\n      <th>mean</th>\n      <td>NaN</td>\n      <td>NaN</td>\n      <td>74.460268</td>\n      <td>NaN</td>\n      <td>NaN</td>\n      <td>NaN</td>\n      <td>NaN</td>\n      <td>NaN</td>\n    </tr>\n    <tr>\n      <th>std</th>\n      <td>NaN</td>\n      <td>NaN</td>\n      <td>14.415844</td>\n      <td>NaN</td>\n      <td>NaN</td>\n      <td>NaN</td>\n      <td>NaN</td>\n      <td>NaN</td>\n    </tr>\n    <tr>\n      <th>min</th>\n      <td>NaN</td>\n      <td>NaN</td>\n      <td>50.000000</td>\n      <td>NaN</td>\n      <td>NaN</td>\n      <td>NaN</td>\n      <td>NaN</td>\n      <td>NaN</td>\n    </tr>\n    <tr>\n      <th>25%</th>\n      <td>NaN</td>\n      <td>NaN</td>\n      <td>62.000000</td>\n      <td>NaN</td>\n      <td>NaN</td>\n      <td>NaN</td>\n      <td>NaN</td>\n      <td>NaN</td>\n    </tr>\n    <tr>\n      <th>50%</th>\n      <td>NaN</td>\n      <td>NaN</td>\n      <td>74.000000</td>\n      <td>NaN</td>\n      <td>NaN</td>\n      <td>NaN</td>\n      <td>NaN</td>\n      <td>NaN</td>\n    </tr>\n    <tr>\n      <th>75%</th>\n      <td>NaN</td>\n      <td>NaN</td>\n      <td>87.000000</td>\n      <td>NaN</td>\n      <td>NaN</td>\n      <td>NaN</td>\n      <td>NaN</td>\n      <td>NaN</td>\n    </tr>\n    <tr>\n      <th>max</th>\n      <td>NaN</td>\n      <td>NaN</td>\n      <td>99.000000</td>\n      <td>NaN</td>\n      <td>NaN</td>\n      <td>NaN</td>\n      <td>NaN</td>\n      <td>NaN</td>\n    </tr>\n  </tbody>\n</table>\n</div>"
     },
     "metadata": {},
     "execution_count": 122
    }
   ],
   "source": [
    "df_reg.describe(include='all')"
   ]
  },
  {
   "cell_type": "code",
   "execution_count": 124,
   "metadata": {},
   "outputs": [
    {
     "output_type": "execute_result",
     "data": {
      "text/plain": [
       "                   0\n",
       "SID            17102\n",
       "Name           14673\n",
       "Father         14270\n",
       "DoB             7380\n",
       "Gender             2\n",
       "Reg Date         442\n",
       "Reg Status         2\n",
       "Degree Status      2\n",
       "Address        15360\n",
       "Qualification     12\n",
       "Degree             2\n",
       "Campus             3"
      ],
      "text/html": "<div>\n<style scoped>\n    .dataframe tbody tr th:only-of-type {\n        vertical-align: middle;\n    }\n\n    .dataframe tbody tr th {\n        vertical-align: top;\n    }\n\n    .dataframe thead th {\n        text-align: right;\n    }\n</style>\n<table border=\"1\" class=\"dataframe\">\n  <thead>\n    <tr style=\"text-align: right;\">\n      <th></th>\n      <th>0</th>\n    </tr>\n  </thead>\n  <tbody>\n    <tr>\n      <th>SID</th>\n      <td>17102</td>\n    </tr>\n    <tr>\n      <th>Name</th>\n      <td>14673</td>\n    </tr>\n    <tr>\n      <th>Father</th>\n      <td>14270</td>\n    </tr>\n    <tr>\n      <th>DoB</th>\n      <td>7380</td>\n    </tr>\n    <tr>\n      <th>Gender</th>\n      <td>2</td>\n    </tr>\n    <tr>\n      <th>Reg Date</th>\n      <td>442</td>\n    </tr>\n    <tr>\n      <th>Reg Status</th>\n      <td>2</td>\n    </tr>\n    <tr>\n      <th>Degree Status</th>\n      <td>2</td>\n    </tr>\n    <tr>\n      <th>Address</th>\n      <td>15360</td>\n    </tr>\n    <tr>\n      <th>Qualification</th>\n      <td>12</td>\n    </tr>\n    <tr>\n      <th>Degree</th>\n      <td>2</td>\n    </tr>\n    <tr>\n      <th>Campus</th>\n      <td>3</td>\n    </tr>\n  </tbody>\n</table>\n</div>"
     },
     "metadata": {},
     "execution_count": 124
    }
   ],
   "source": [
    "df_std.nunique().to_frame()"
   ]
  },
  {
   "cell_type": "code",
   "execution_count": 123,
   "metadata": {},
   "outputs": [
    {
     "output_type": "execute_result",
     "data": {
      "text/plain": [
       "                0\n",
       "SID         11700\n",
       "Course        120\n",
       "Score          50\n",
       "Semester        2\n",
       "Year           16\n",
       "Discipline      8\n",
       "Degree          2\n",
       "Campus          3"
      ],
      "text/html": "<div>\n<style scoped>\n    .dataframe tbody tr th:only-of-type {\n        vertical-align: middle;\n    }\n\n    .dataframe tbody tr th {\n        vertical-align: top;\n    }\n\n    .dataframe thead th {\n        text-align: right;\n    }\n</style>\n<table border=\"1\" class=\"dataframe\">\n  <thead>\n    <tr style=\"text-align: right;\">\n      <th></th>\n      <th>0</th>\n    </tr>\n  </thead>\n  <tbody>\n    <tr>\n      <th>SID</th>\n      <td>11700</td>\n    </tr>\n    <tr>\n      <th>Course</th>\n      <td>120</td>\n    </tr>\n    <tr>\n      <th>Score</th>\n      <td>50</td>\n    </tr>\n    <tr>\n      <th>Semester</th>\n      <td>2</td>\n    </tr>\n    <tr>\n      <th>Year</th>\n      <td>16</td>\n    </tr>\n    <tr>\n      <th>Discipline</th>\n      <td>8</td>\n    </tr>\n    <tr>\n      <th>Degree</th>\n      <td>2</td>\n    </tr>\n    <tr>\n      <th>Campus</th>\n      <td>3</td>\n    </tr>\n  </tbody>\n</table>\n</div>"
     },
     "metadata": {},
     "execution_count": 123
    }
   ],
   "source": [
    "df_reg.nunique().to_frame()"
   ]
  },
  {
   "source": [
    "## No. of Unique Values in Students Table\n",
    "\n",
    "| Column        | Count |\n",
    "|:--------------|------:|\n",
    "| SID           | 17102 |\n",
    "| Name          | 14673 |\n",
    "| Father        | 14270 |\n",
    "| DoB           |  7380 |\n",
    "| Gender        |     2 |\n",
    "| Reg Date      |   442 |\n",
    "| Reg Status    |     2 |\n",
    "| Degree Status |     2 |\n",
    "| Address       | 15360 |\n",
    "| Qualification |    12 |\n",
    "| Degree        |     2 |\n",
    "| Campus        |     3 |\n",
    "\n",
    "## No. of Unique Values in Course Registration Table\n",
    "\n",
    "|            |Count |\n",
    "|:-----------|-----:|\n",
    "| SID        | 8000 |\n",
    "| Course     |  120 |\n",
    "| Score      |   50 |\n",
    "| Semester   |    2 |\n",
    "| Year       |   13 |\n",
    "| Discipline |    8 |\n",
    "| Degree     |    2 |\n"
   ],
   "cell_type": "markdown",
   "metadata": {}
  },
  {
   "cell_type": "code",
   "execution_count": 125,
   "metadata": {},
   "outputs": [
    {
     "output_type": "execute_result",
     "data": {
      "text/plain": [
       "SID                 0\n",
       "Name                0\n",
       "Father              0\n",
       "DoB                 2\n",
       "Gender           3704\n",
       "Reg Date            0\n",
       "Reg Status          0\n",
       "Degree Status       0\n",
       "Address             0\n",
       "Qualification       0\n",
       "Degree              0\n",
       "Campus              0\n",
       "dtype: int64"
      ]
     },
     "metadata": {},
     "execution_count": 125
    }
   ],
   "source": [
    "df_std.isnull().sum(axis = 0)"
   ]
  },
  {
   "cell_type": "code",
   "execution_count": 126,
   "metadata": {},
   "outputs": [
    {
     "output_type": "execute_result",
     "data": {
      "text/plain": [
       "SID           0\n",
       "Course        0\n",
       "Score         0\n",
       "Semester      0\n",
       "Year          0\n",
       "Discipline    0\n",
       "Degree        0\n",
       "Campus        0\n",
       "dtype: int64"
      ]
     },
     "metadata": {},
     "execution_count": 126
    }
   ],
   "source": [
    "df_reg.isnull().sum(axis = 0)"
   ]
  },
  {
   "source": [
    "## No. of Nulls in Students Table\n",
    "\n",
    "\n",
    "|               |Count |\n",
    "|:--------------|-----:|\n",
    "| SID           |    0 |\n",
    "| Name          |    0 |\n",
    "| Father        |    0 |\n",
    "| DoB           |    2 |\n",
    "| Gender        | 3704 |\n",
    "| Reg Date      |    0 |\n",
    "| Reg Status    |    0 |\n",
    "| Degree Status |    0 |\n",
    "| Address       |    0 |\n",
    "| Qualification |    0 |\n",
    "| Degree        |    0 |\n",
    "| Campus        |    0 |\n",
    "\n",
    "## No. of Nulls in Course Registration Table\n",
    "\n",
    "|            |   0 |\n",
    "|:-----------|----:|\n",
    "| SID        |   0 |\n",
    "| Course     |   0 |\n",
    "| Score      |   0 |\n",
    "| Semester   |   0 |\n",
    "| Year       |   0 |\n",
    "| Discipline |   0 |\n",
    "| Degree     |   0 |"
   ],
   "cell_type": "markdown",
   "metadata": {}
  },
  {
   "source": [
    "## Invalid Values\n",
    "\n",
    "Let's try to see if the dates in DoB and Reg Date are valid."
   ],
   "cell_type": "markdown",
   "metadata": {}
  },
  {
   "cell_type": "code",
   "execution_count": 46,
   "metadata": {},
   "outputs": [],
   "source": [
    "dob = pd.to_datetime(df_std.DoB, errors=\"coerce\")"
   ]
  },
  {
   "cell_type": "code",
   "execution_count": 127,
   "metadata": {},
   "outputs": [],
   "source": [
    "df_std[\"Reg Date\"] = pd.to_datetime(df_std[\"Reg Date\"])"
   ]
  },
  {
   "cell_type": "code",
   "execution_count": 128,
   "metadata": {},
   "outputs": [],
   "source": [
    "df_reg.Year = pd.to_datetime(df_reg.Year)"
   ]
  },
  {
   "source": [
    "### Following are the invalid Date values in DOB"
   ],
   "cell_type": "markdown",
   "metadata": {}
  },
  {
   "cell_type": "code",
   "execution_count": 198,
   "metadata": {},
   "outputs": [],
   "source": [
    "# df_std[dob.isnull()]"
   ]
  },
  {
   "source": [
    "Most of the values have 29 Feb as a date in an year which wasn't a **Leap Year**. We can correct them by decrementing the day."
   ],
   "cell_type": "markdown",
   "metadata": {}
  },
  {
   "cell_type": "code",
   "execution_count": 49,
   "metadata": {},
   "outputs": [
    {
     "output_type": "execute_result",
     "data": {
      "text/plain": [
       "16"
      ]
     },
     "metadata": {},
     "execution_count": 49
    }
   ],
   "source": [
    "sum(dob.isnull())"
   ]
  },
  {
   "source": [
    "## No. of Invalid Dates: 16"
   ],
   "cell_type": "markdown",
   "metadata": {}
  },
  {
   "cell_type": "code",
   "execution_count": 129,
   "metadata": {},
   "outputs": [
    {
     "output_type": "execute_result",
     "data": {
      "text/plain": [
       "120"
      ]
     },
     "metadata": {},
     "execution_count": 129
    }
   ],
   "source": [
    "df_reg.Course.nunique()"
   ]
  },
  {
   "source": [
    "## Total No. of Courses: 120"
   ],
   "cell_type": "markdown",
   "metadata": {}
  },
  {
   "cell_type": "code",
   "execution_count": 53,
   "metadata": {},
   "outputs": [
    {
     "output_type": "execute_result",
     "data": {
      "text/plain": [
       "8935"
      ]
     },
     "metadata": {},
     "execution_count": 53
    }
   ],
   "source": [
    "num_male = sum(df_std.Gender == 'M')\n",
    "num_male"
   ]
  },
  {
   "cell_type": "code",
   "execution_count": 54,
   "metadata": {},
   "outputs": [
    {
     "output_type": "execute_result",
     "data": {
      "text/plain": [
       "4463"
      ]
     },
     "metadata": {},
     "execution_count": 54
    }
   ],
   "source": [
    "num_female = sum(df_std.Gender == 'F')\n",
    "num_female"
   ]
  },
  {
   "source": [
    "## Total no. of Male vs Female students\n",
    "\n",
    "|    Gender     |Count |\n",
    "|:--------------|-----:|\n",
    "| Male          | 8935 |\n",
    "| Female        | 4463 |\n",
    "\n",
    "This doesn't contain the data from Peshawar Campus."
   ],
   "cell_type": "markdown",
   "metadata": {}
  },
  {
   "cell_type": "code",
   "execution_count": 130,
   "metadata": {},
   "outputs": [
    {
     "output_type": "execute_result",
     "data": {
      "text/plain": [
       "        SID  Course  Score Semester       Year Discipline Degree Campus\n",
       "0  KHR_BS_0  CS-101     72     Fall 1994-01-01         CS     BS    KHR\n",
       "1  KHR_BS_0  CS-102     78     Fall 1994-01-01         CS     BS    KHR\n",
       "2  KHR_BS_0  CS-103     53     Fall 1994-01-01         CS     BS    KHR\n",
       "3  KHR_BS_0  CS-104     58     Fall 1994-01-01         CS     BS    KHR\n",
       "4  KHR_BS_0  CS-105     61   Spring 1995-01-01         CS     BS    KHR"
      ],
      "text/html": "<div>\n<style scoped>\n    .dataframe tbody tr th:only-of-type {\n        vertical-align: middle;\n    }\n\n    .dataframe tbody tr th {\n        vertical-align: top;\n    }\n\n    .dataframe thead th {\n        text-align: right;\n    }\n</style>\n<table border=\"1\" class=\"dataframe\">\n  <thead>\n    <tr style=\"text-align: right;\">\n      <th></th>\n      <th>SID</th>\n      <th>Course</th>\n      <th>Score</th>\n      <th>Semester</th>\n      <th>Year</th>\n      <th>Discipline</th>\n      <th>Degree</th>\n      <th>Campus</th>\n    </tr>\n  </thead>\n  <tbody>\n    <tr>\n      <th>0</th>\n      <td>KHR_BS_0</td>\n      <td>CS-101</td>\n      <td>72</td>\n      <td>Fall</td>\n      <td>1994-01-01</td>\n      <td>CS</td>\n      <td>BS</td>\n      <td>KHR</td>\n    </tr>\n    <tr>\n      <th>1</th>\n      <td>KHR_BS_0</td>\n      <td>CS-102</td>\n      <td>78</td>\n      <td>Fall</td>\n      <td>1994-01-01</td>\n      <td>CS</td>\n      <td>BS</td>\n      <td>KHR</td>\n    </tr>\n    <tr>\n      <th>2</th>\n      <td>KHR_BS_0</td>\n      <td>CS-103</td>\n      <td>53</td>\n      <td>Fall</td>\n      <td>1994-01-01</td>\n      <td>CS</td>\n      <td>BS</td>\n      <td>KHR</td>\n    </tr>\n    <tr>\n      <th>3</th>\n      <td>KHR_BS_0</td>\n      <td>CS-104</td>\n      <td>58</td>\n      <td>Fall</td>\n      <td>1994-01-01</td>\n      <td>CS</td>\n      <td>BS</td>\n      <td>KHR</td>\n    </tr>\n    <tr>\n      <th>4</th>\n      <td>KHR_BS_0</td>\n      <td>CS-105</td>\n      <td>61</td>\n      <td>Spring</td>\n      <td>1995-01-01</td>\n      <td>CS</td>\n      <td>BS</td>\n      <td>KHR</td>\n    </tr>\n  </tbody>\n</table>\n</div>"
     },
     "metadata": {},
     "execution_count": 130
    }
   ],
   "source": [
    "df_reg.head()"
   ]
  },
  {
   "cell_type": "code",
   "execution_count": 89,
   "metadata": {},
   "outputs": [],
   "source": [
    "grouped_semester_course = df_reg.groupby(['SID', 'Semester', 'Year']).agg({'Course': ['count']})\n",
    "grouped_semester_course.columns = ['count']\n",
    "grouped_semester_course = grouped_semester_course.reset_index()"
   ]
  },
  {
   "cell_type": "code",
   "execution_count": 90,
   "metadata": {},
   "outputs": [
    {
     "output_type": "execute_result",
     "data": {
      "text/plain": [
       "41200"
      ]
     },
     "metadata": {},
     "execution_count": 90
    }
   ],
   "source": [
    "sum(grouped_semester_course['count'] > 5)"
   ]
  },
  {
   "source": [
    "## Total No. of people who has taken more than 5 courses in a semester: 41200"
   ],
   "cell_type": "markdown",
   "metadata": {}
  },
  {
   "cell_type": "code",
   "execution_count": 93,
   "metadata": {},
   "outputs": [
    {
     "output_type": "execute_result",
     "data": {
      "text/plain": [
       "17102"
      ]
     },
     "metadata": {},
     "execution_count": 93
    }
   ],
   "source": [
    "df_std.SID.count()"
   ]
  },
  {
   "cell_type": "code",
   "execution_count": 101,
   "metadata": {},
   "outputs": [
    {
     "output_type": "execute_result",
     "data": {
      "text/plain": [
       "0    6601\n",
       "dtype: int64"
      ]
     },
     "metadata": {},
     "execution_count": 101
    }
   ],
   "source": [
    "df_std.SID.str.extract('(\\d+)').nunique()"
   ]
  },
  {
   "source": [
    "## The relationship between total no. of unique student ID’s and total no. of students\n",
    "\n",
    "|         |Count |\n",
    "|:--------------|-----:|\n",
    "| Unique IDs          | 6601 |\n",
    "| Total Students      | 17102 |\n",
    "\n"
   ],
   "cell_type": "markdown",
   "metadata": {}
  },
  {
   "cell_type": "code",
   "execution_count": 132,
   "metadata": {},
   "outputs": [
    {
     "output_type": "execute_result",
     "data": {
      "text/plain": [
       "        SID  Course  Score Semester       Year Discipline Degree Campus\n",
       "0  KHR_BS_0  CS-101     72     Fall 1994-01-01         CS     BS    KHR\n",
       "1  KHR_BS_0  CS-102     78     Fall 1994-01-01         CS     BS    KHR\n",
       "2  KHR_BS_0  CS-103     53     Fall 1994-01-01         CS     BS    KHR\n",
       "3  KHR_BS_0  CS-104     58     Fall 1994-01-01         CS     BS    KHR\n",
       "4  KHR_BS_0  CS-105     61   Spring 1995-01-01         CS     BS    KHR"
      ],
      "text/html": "<div>\n<style scoped>\n    .dataframe tbody tr th:only-of-type {\n        vertical-align: middle;\n    }\n\n    .dataframe tbody tr th {\n        vertical-align: top;\n    }\n\n    .dataframe thead th {\n        text-align: right;\n    }\n</style>\n<table border=\"1\" class=\"dataframe\">\n  <thead>\n    <tr style=\"text-align: right;\">\n      <th></th>\n      <th>SID</th>\n      <th>Course</th>\n      <th>Score</th>\n      <th>Semester</th>\n      <th>Year</th>\n      <th>Discipline</th>\n      <th>Degree</th>\n      <th>Campus</th>\n    </tr>\n  </thead>\n  <tbody>\n    <tr>\n      <th>0</th>\n      <td>KHR_BS_0</td>\n      <td>CS-101</td>\n      <td>72</td>\n      <td>Fall</td>\n      <td>1994-01-01</td>\n      <td>CS</td>\n      <td>BS</td>\n      <td>KHR</td>\n    </tr>\n    <tr>\n      <th>1</th>\n      <td>KHR_BS_0</td>\n      <td>CS-102</td>\n      <td>78</td>\n      <td>Fall</td>\n      <td>1994-01-01</td>\n      <td>CS</td>\n      <td>BS</td>\n      <td>KHR</td>\n    </tr>\n    <tr>\n      <th>2</th>\n      <td>KHR_BS_0</td>\n      <td>CS-103</td>\n      <td>53</td>\n      <td>Fall</td>\n      <td>1994-01-01</td>\n      <td>CS</td>\n      <td>BS</td>\n      <td>KHR</td>\n    </tr>\n    <tr>\n      <th>3</th>\n      <td>KHR_BS_0</td>\n      <td>CS-104</td>\n      <td>58</td>\n      <td>Fall</td>\n      <td>1994-01-01</td>\n      <td>CS</td>\n      <td>BS</td>\n      <td>KHR</td>\n    </tr>\n    <tr>\n      <th>4</th>\n      <td>KHR_BS_0</td>\n      <td>CS-105</td>\n      <td>61</td>\n      <td>Spring</td>\n      <td>1995-01-01</td>\n      <td>CS</td>\n      <td>BS</td>\n      <td>KHR</td>\n    </tr>\n  </tbody>\n</table>\n</div>"
     },
     "metadata": {},
     "execution_count": 132
    }
   ],
   "source": [
    "df_reg.head()"
   ]
  },
  {
   "cell_type": "code",
   "execution_count": 147,
   "metadata": {},
   "outputs": [
    {
     "output_type": "execute_result",
     "data": {
      "text/plain": [
       "  Campus Semester       Year  count\n",
       "0    KHR     Fall 1994-01-01   3600\n",
       "1    KHR     Fall 1995-01-01   7200\n",
       "2    KHR     Fall 1996-01-01   7200\n",
       "3    KHR     Fall 1997-01-01   7200\n",
       "4    KHR     Fall 1998-01-01   3600"
      ],
      "text/html": "<div>\n<style scoped>\n    .dataframe tbody tr th:only-of-type {\n        vertical-align: middle;\n    }\n\n    .dataframe tbody tr th {\n        vertical-align: top;\n    }\n\n    .dataframe thead th {\n        text-align: right;\n    }\n</style>\n<table border=\"1\" class=\"dataframe\">\n  <thead>\n    <tr style=\"text-align: right;\">\n      <th></th>\n      <th>Campus</th>\n      <th>Semester</th>\n      <th>Year</th>\n      <th>count</th>\n    </tr>\n  </thead>\n  <tbody>\n    <tr>\n      <th>0</th>\n      <td>KHR</td>\n      <td>Fall</td>\n      <td>1994-01-01</td>\n      <td>3600</td>\n    </tr>\n    <tr>\n      <th>1</th>\n      <td>KHR</td>\n      <td>Fall</td>\n      <td>1995-01-01</td>\n      <td>7200</td>\n    </tr>\n    <tr>\n      <th>2</th>\n      <td>KHR</td>\n      <td>Fall</td>\n      <td>1996-01-01</td>\n      <td>7200</td>\n    </tr>\n    <tr>\n      <th>3</th>\n      <td>KHR</td>\n      <td>Fall</td>\n      <td>1997-01-01</td>\n      <td>7200</td>\n    </tr>\n    <tr>\n      <th>4</th>\n      <td>KHR</td>\n      <td>Fall</td>\n      <td>1998-01-01</td>\n      <td>3600</td>\n    </tr>\n  </tbody>\n</table>\n</div>"
     },
     "metadata": {},
     "execution_count": 147
    }
   ],
   "source": [
    "grouped_semester_students = df_reg.groupby(['Campus', 'Semester', 'Year']).agg({'SID': ['count']})\n",
    "grouped_semester_students.columns = ['count']\n",
    "grouped_semester_students = grouped_semester_students.reset_index()\n",
    "grouped_semester_students.head()"
   ]
  },
  {
   "cell_type": "code",
   "execution_count": 146,
   "metadata": {},
   "outputs": [
    {
     "output_type": "execute_result",
     "data": {
      "text/plain": [
       "  Campus           avg\n",
       "0    KHR   4133.333333\n",
       "1    LHR   7950.000000\n",
       "2    PEW  28200.000000"
      ],
      "text/html": "<div>\n<style scoped>\n    .dataframe tbody tr th:only-of-type {\n        vertical-align: middle;\n    }\n\n    .dataframe tbody tr th {\n        vertical-align: top;\n    }\n\n    .dataframe thead th {\n        text-align: right;\n    }\n</style>\n<table border=\"1\" class=\"dataframe\">\n  <thead>\n    <tr style=\"text-align: right;\">\n      <th></th>\n      <th>Campus</th>\n      <th>avg</th>\n    </tr>\n  </thead>\n  <tbody>\n    <tr>\n      <th>0</th>\n      <td>KHR</td>\n      <td>4133.333333</td>\n    </tr>\n    <tr>\n      <th>1</th>\n      <td>LHR</td>\n      <td>7950.000000</td>\n    </tr>\n    <tr>\n      <th>2</th>\n      <td>PEW</td>\n      <td>28200.000000</td>\n    </tr>\n  </tbody>\n</table>\n</div>"
     },
     "metadata": {},
     "execution_count": 146
    }
   ],
   "source": [
    "avg_semester_students = grouped_semester_students.reset_index().groupby(['Campus']).agg({'count': ['mean']})\n",
    "avg_semester_students.columns = ['avg']\n",
    "avg_semester_students = avg_semester_students.reset_index()\n",
    "avg_semester_students"
   ]
  },
  {
   "source": [
    "## Average no of people per semester of each campus\n",
    "\n",
    "| Campus   |      Avg |\n",
    "|:---------|---------:|\n",
    "| KHR      |  4133.33 |\n",
    "| LHR      |  7950    |\n",
    "| PEW      | 28200    |"
   ],
   "cell_type": "markdown",
   "metadata": {}
  },
  {
   "source": [
    "# Data Cleansing"
   ],
   "cell_type": "markdown",
   "metadata": {}
  },
  {
   "source": [
    "---\n",
    "\n",
    "- Introduce a new column i.e. city_name. It will involve extracting the city from the address and then the standardization of the city names. (Use the city names in the telephone directory as standard)"
   ],
   "cell_type": "markdown",
   "metadata": {}
  },
  {
   "cell_type": "code",
   "execution_count": 167,
   "metadata": {},
   "outputs": [],
   "source": [
    "city_names = df_std.Address.str.split().str[-1]"
   ]
  },
  {
   "cell_type": "code",
   "execution_count": 219,
   "metadata": {},
   "outputs": [],
   "source": [
    "last_two_city_names = df_std.Address.str.split().str[-2:].str.join(' ')\n",
    "# sorted(last_two_city_names.unique())"
   ]
  },
  {
   "cell_type": "code",
   "execution_count": 220,
   "metadata": {},
   "outputs": [
    {
     "output_type": "execute_result",
     "data": {
      "text/plain": [
       "['Abbotabad',\n",
       " 'Attock',\n",
       " 'Bahawalpur',\n",
       " 'Bhatian',\n",
       " 'Bhawalpur',\n",
       " 'Chishtian',\n",
       " 'D.G. Khan',\n",
       " 'D.I. Khan',\n",
       " 'Faisalabad',\n",
       " 'Gilgit',\n",
       " 'Gujrat',\n",
       " 'Gujrawala',\n",
       " 'Hakim',\n",
       " 'Haripur',\n",
       " 'Hasanabdal',\n",
       " 'Hyderabad',\n",
       " 'Ismail Khan',\n",
       " 'Jehlum',\n",
       " 'KARACHI',\n",
       " 'KHR',\n",
       " 'Kabirwala',\n",
       " 'Karachi',\n",
       " 'Kharian',\n",
       " 'Khas',\n",
       " 'Khr',\n",
       " 'LalaMusa',\n",
       " 'Lyyah',\n",
       " 'Mansehra',\n",
       " 'Mardan',\n",
       " 'Melsi',\n",
       " 'Multan',\n",
       " 'Noshera',\n",
       " 'PESHAWAR',\n",
       " 'PSH',\n",
       " 'Peshawar',\n",
       " 'Psh',\n",
       " 'Quetta',\n",
       " 'Sadiqabad',\n",
       " 'Sahiwal',\n",
       " 'Sargodha',\n",
       " 'Sawat',\n",
       " 'Shekhopura',\n",
       " 'Sialkot',\n",
       " 'Sibbi',\n",
       " 'Thata',\n",
       " 'Umer Kot',\n",
       " 'Usman Kot',\n",
       " 'Wahari',\n",
       " 'Wazirabad',\n",
       " 'ghazi khan',\n",
       " 'karachi',\n",
       " 'khr',\n",
       " 'peshawar',\n",
       " 'psh']"
      ]
     },
     "metadata": {},
     "execution_count": 220
    }
   ],
   "source": [
    "sorted(city_names.unique())"
   ]
  },
  {
   "cell_type": "code",
   "execution_count": 239,
   "metadata": {},
   "outputs": [],
   "source": [
    "std_city_map = {}\n",
    "std_city_map.update(\n",
    "    dict.fromkeys(\n",
    "        [\n",
    "            'KHR', \n",
    "            'KARACHI', \n",
    "            'Khr', \n",
    "            'Karachi', \n",
    "            'khr', \n",
    "            'karachi'\n",
    "            ], 'Karachi'))\n",
    "\n",
    "std_city_map.update(\n",
    "    dict.fromkeys(\n",
    "        [\n",
    "            'PSH',\n",
    "            'Psh',\n",
    "            'Peshawar',\n",
    "            'PESHAWAR',\n",
    "            'peshawar',\n",
    "            'psh'\n",
    "        ], 'Peshawar'\n",
    "    )\n",
    ")\n",
    "\n",
    "std_city_map.update({'Abbotabad': 'Abottabad'})\n",
    "std_city_map.update({'Attock': 'Attock'})\n",
    "std_city_map.update({'Bahawalpur': 'Bahawalpur', 'Bhawalpur': 'Bahawalpur'})\n",
    "std_city_map.update({'Bhatian': 'Pindi Bhattian'})\n",
    "std_city_map.update({'Chishtian': 'Chishtian'})\n",
    "std_city_map.update({'D.G. Khan': 'Dera Ghazi Khan', 'ghazi khan': 'Dera Ghazi Khan'})\n",
    "std_city_map.update({'D.I. Khan': 'D.I.Khan', 'Ismail Khan': 'D.I.Khan'})\n",
    "std_city_map.update({'Faisalabad': 'Faisalabad'})\n",
    "std_city_map.update({'Gilgit': 'Gilgit'})\n",
    "std_city_map.update({'Gujrat': 'Gujrat'})\n",
    "std_city_map.update({'Gujrawala': 'Gujranwala'})\n",
    "std_city_map.update({'Hakim': 'Abdul Hakim'})\n",
    "std_city_map.update({'Haripur': 'Haripur'})\n",
    "std_city_map.update({'Hasanabdal': 'Hasan Abdal'})\n",
    "std_city_map.update({'Hyderabad': 'Hyderabad'})\n",
    "std_city_map.update({'Jehlum': 'Jhelum'})\n",
    "std_city_map.update({'Kabirwala': 'Kabirwala'})\n",
    "std_city_map.update({'Kharian': 'Kharian'})\n",
    "std_city_map.update({'Khas': 'Mirpur Khas'})\n",
    "std_city_map.update({'LalaMusa': 'LalaMusa'})\n",
    "std_city_map.update({'Lyyah': 'Layyah'})\n",
    "std_city_map.update({'Mansehra': 'Mansehra'})\n",
    "std_city_map.update({'Mardan': 'Mardan'})\n",
    "std_city_map.update({'Melsi': 'Mailsi'})\n",
    "std_city_map.update({'Noshera': 'Nowshera'})\n",
    "std_city_map.update({'Sawat': 'Swat'})\n",
    "std_city_map.update({'Shekhopura': 'Sheikhupura'})\n",
    "std_city_map.update({'Sibbi': 'Sibi'})\n",
    "std_city_map.update({'Thata': 'Thatta'})\n",
    "std_city_map.update({'Wahari': 'Vehari'})"
   ]
  },
  {
   "cell_type": "code",
   "execution_count": 253,
   "metadata": {},
   "outputs": [],
   "source": [
    "# std_city_map"
   ]
  },
  {
   "cell_type": "code",
   "execution_count": 241,
   "metadata": {},
   "outputs": [],
   "source": [
    "two_words_city_name = ['Khan', 'Kot']"
   ]
  },
  {
   "cell_type": "code",
   "execution_count": 254,
   "metadata": {},
   "outputs": [],
   "source": [
    "# Get the previous word for these, in order to figure out the city\n",
    "city_names[city_names == 'Khan'] = last_two_city_names[city_names == 'Khan']\n",
    "city_names[city_names == 'khan'] = last_two_city_names[city_names == 'khan']\n",
    "city_names[city_names == 'Kot'] = last_two_city_names[city_names == 'Kot']"
   ]
  },
  {
   "cell_type": "code",
   "execution_count": 256,
   "metadata": {},
   "outputs": [],
   "source": [
    "# sorted(city_names.unique())"
   ]
  },
  {
   "cell_type": "code",
   "execution_count": 257,
   "metadata": {},
   "outputs": [],
   "source": [
    "std_city_names = city_names.replace(std_city_map)"
   ]
  },
  {
   "cell_type": "code",
   "execution_count": 258,
   "metadata": {},
   "outputs": [
    {
     "output_type": "execute_result",
     "data": {
      "text/plain": [
       "['Abdul Hakim',\n",
       " 'Abottabad',\n",
       " 'Attock',\n",
       " 'Bahawalpur',\n",
       " 'Chishtian',\n",
       " 'D.I.Khan',\n",
       " 'Dera Ghazi Khan',\n",
       " 'Faisalabad',\n",
       " 'Gilgit',\n",
       " 'Gujranwala',\n",
       " 'Gujrat',\n",
       " 'Haripur',\n",
       " 'Hasan Abdal',\n",
       " 'Hyderabad',\n",
       " 'Jhelum',\n",
       " 'Kabirwala',\n",
       " 'Karachi',\n",
       " 'Kharian',\n",
       " 'LalaMusa',\n",
       " 'Layyah',\n",
       " 'Mailsi',\n",
       " 'Mansehra',\n",
       " 'Mardan',\n",
       " 'Mirpur Khas',\n",
       " 'Multan',\n",
       " 'Nowshera',\n",
       " 'Peshawar',\n",
       " 'Pindi Bhattian',\n",
       " 'Quetta',\n",
       " 'Sadiqabad',\n",
       " 'Sahiwal',\n",
       " 'Sargodha',\n",
       " 'Sheikhupura',\n",
       " 'Sialkot',\n",
       " 'Sibi',\n",
       " 'Swat',\n",
       " 'Thatta',\n",
       " 'Umer Kot',\n",
       " 'Usman Kot',\n",
       " 'Vehari',\n",
       " 'Wazirabad']"
      ]
     },
     "metadata": {},
     "execution_count": 258
    }
   ],
   "source": [
    "sorted(std_city_names.unique())"
   ]
  },
  {
   "cell_type": "code",
   "execution_count": 259,
   "metadata": {},
   "outputs": [],
   "source": [
    "df_std['City'] = std_city_names"
   ]
  },
  {
   "cell_type": "code",
   "execution_count": 260,
   "metadata": {},
   "outputs": [
    {
     "output_type": "execute_result",
     "data": {
      "text/plain": [
       "           SID                 Name                Father  \\\n",
       "0     KHR_BS_0       Hussain Ansary          Ubaid Ansary   \n",
       "1     KHR_BS_1  Shk. Munir Hussaini  Viqar Hamid Hussaini   \n",
       "2    KHR_BS_10         Hamna Ansary         Hameed Ansary   \n",
       "3   KHR_BS_100        Jabbar Haqqie     Muneer Rai Haqqie   \n",
       "4  KHR_BS_1000     Rana Hayyat Baig   Ghulam Mustafa Baig   \n",
       "\n",
       "                   DoB Gender   Reg Date Reg Status Degree Status  \\\n",
       "0  1974-01-05 00:00:00      M 1994-08-13          A             C   \n",
       "1  1974-12-13 00:00:00      M 1994-08-13          A             C   \n",
       "2  1974-04-25 00:00:00      F 1994-08-14          A             C   \n",
       "3  1974-05-22 00:00:00      M 1994-08-18          A             C   \n",
       "4  1976-02-25 00:00:00      M 1995-08-28          A             C   \n",
       "\n",
       "                                             Address Qualification Degree  \\\n",
       "0           h# 978 Street No.72  Defense Phase 1 KHR       A-Level     BS   \n",
       "1                    H#  169 s#  0 Mutian wala Thata       A-Level     BS   \n",
       "2                     h#  697 St. #  94 sea site KHR       A-Level     BS   \n",
       "3                       H# 504 S No.4  Kumria Quetta       A-Level     BS   \n",
       "4  H No.509 St. No.38  Kishwar heights university...          HSSC     BS   \n",
       "\n",
       "  Campus     City  \n",
       "0    KHR  Karachi  \n",
       "1    KHR   Thatta  \n",
       "2    KHR  Karachi  \n",
       "3    KHR   Quetta  \n",
       "4    KHR  Karachi  "
      ],
      "text/html": "<div>\n<style scoped>\n    .dataframe tbody tr th:only-of-type {\n        vertical-align: middle;\n    }\n\n    .dataframe tbody tr th {\n        vertical-align: top;\n    }\n\n    .dataframe thead th {\n        text-align: right;\n    }\n</style>\n<table border=\"1\" class=\"dataframe\">\n  <thead>\n    <tr style=\"text-align: right;\">\n      <th></th>\n      <th>SID</th>\n      <th>Name</th>\n      <th>Father</th>\n      <th>DoB</th>\n      <th>Gender</th>\n      <th>Reg Date</th>\n      <th>Reg Status</th>\n      <th>Degree Status</th>\n      <th>Address</th>\n      <th>Qualification</th>\n      <th>Degree</th>\n      <th>Campus</th>\n      <th>City</th>\n    </tr>\n  </thead>\n  <tbody>\n    <tr>\n      <th>0</th>\n      <td>KHR_BS_0</td>\n      <td>Hussain Ansary</td>\n      <td>Ubaid Ansary</td>\n      <td>1974-01-05 00:00:00</td>\n      <td>M</td>\n      <td>1994-08-13</td>\n      <td>A</td>\n      <td>C</td>\n      <td>h# 978 Street No.72  Defense Phase 1 KHR</td>\n      <td>A-Level</td>\n      <td>BS</td>\n      <td>KHR</td>\n      <td>Karachi</td>\n    </tr>\n    <tr>\n      <th>1</th>\n      <td>KHR_BS_1</td>\n      <td>Shk. Munir Hussaini</td>\n      <td>Viqar Hamid Hussaini</td>\n      <td>1974-12-13 00:00:00</td>\n      <td>M</td>\n      <td>1994-08-13</td>\n      <td>A</td>\n      <td>C</td>\n      <td>H#  169 s#  0 Mutian wala Thata</td>\n      <td>A-Level</td>\n      <td>BS</td>\n      <td>KHR</td>\n      <td>Thatta</td>\n    </tr>\n    <tr>\n      <th>2</th>\n      <td>KHR_BS_10</td>\n      <td>Hamna Ansary</td>\n      <td>Hameed Ansary</td>\n      <td>1974-04-25 00:00:00</td>\n      <td>F</td>\n      <td>1994-08-14</td>\n      <td>A</td>\n      <td>C</td>\n      <td>h#  697 St. #  94 sea site KHR</td>\n      <td>A-Level</td>\n      <td>BS</td>\n      <td>KHR</td>\n      <td>Karachi</td>\n    </tr>\n    <tr>\n      <th>3</th>\n      <td>KHR_BS_100</td>\n      <td>Jabbar Haqqie</td>\n      <td>Muneer Rai Haqqie</td>\n      <td>1974-05-22 00:00:00</td>\n      <td>M</td>\n      <td>1994-08-18</td>\n      <td>A</td>\n      <td>C</td>\n      <td>H# 504 S No.4  Kumria Quetta</td>\n      <td>A-Level</td>\n      <td>BS</td>\n      <td>KHR</td>\n      <td>Quetta</td>\n    </tr>\n    <tr>\n      <th>4</th>\n      <td>KHR_BS_1000</td>\n      <td>Rana Hayyat Baig</td>\n      <td>Ghulam Mustafa Baig</td>\n      <td>1976-02-25 00:00:00</td>\n      <td>M</td>\n      <td>1995-08-28</td>\n      <td>A</td>\n      <td>C</td>\n      <td>H No.509 St. No.38  Kishwar heights university...</td>\n      <td>HSSC</td>\n      <td>BS</td>\n      <td>KHR</td>\n      <td>Karachi</td>\n    </tr>\n  </tbody>\n</table>\n</div>"
     },
     "metadata": {},
     "execution_count": 260
    }
   ],
   "source": [
    "df_std.head()"
   ]
  },
  {
   "cell_type": "code",
   "execution_count": 261,
   "metadata": {},
   "outputs": [
    {
     "output_type": "execute_result",
     "data": {
      "text/plain": [
       "                SID           Name            Father  \\\n",
       "count         17102          17102             17102   \n",
       "unique        17102          14673             14270   \n",
       "top     PEW_BS_1573  Kishwar Pasha  Mudassir Khattak   \n",
       "freq              1              6                 5   \n",
       "first           NaN            NaN               NaN   \n",
       "last            NaN            NaN               NaN   \n",
       "\n",
       "                               DoB Gender             Reg Date Reg Status  \\\n",
       "count                        17100  13398                17102      17102   \n",
       "unique                        7380      2                  442          2   \n",
       "top     1981-03-22 00:00:00.000000      M  2003-08-16 00:00:00          A   \n",
       "freq                             8   8935                   76      17100   \n",
       "first                          NaN    NaN  1994-01-08 00:00:00        NaN   \n",
       "last                           NaN    NaN  2005-01-12 00:00:00        NaN   \n",
       "\n",
       "       Degree Status                                 Address Qualification  \\\n",
       "count          17102                                   17102         17102   \n",
       "unique             2                                   15360            12   \n",
       "top                C  house no.141 S# 16  Haider road Multan         F.Sc.   \n",
       "freq           12500                                       3          2390   \n",
       "first            NaN                                     NaN           NaN   \n",
       "last             NaN                                     NaN           NaN   \n",
       "\n",
       "       Degree Campus     City  \n",
       "count   17102  17102    17102  \n",
       "unique      2      3       41  \n",
       "top        BS    KHR  Karachi  \n",
       "freq    14302   8201     4438  \n",
       "first     NaN    NaN      NaN  \n",
       "last      NaN    NaN      NaN  "
      ],
      "text/html": "<div>\n<style scoped>\n    .dataframe tbody tr th:only-of-type {\n        vertical-align: middle;\n    }\n\n    .dataframe tbody tr th {\n        vertical-align: top;\n    }\n\n    .dataframe thead th {\n        text-align: right;\n    }\n</style>\n<table border=\"1\" class=\"dataframe\">\n  <thead>\n    <tr style=\"text-align: right;\">\n      <th></th>\n      <th>SID</th>\n      <th>Name</th>\n      <th>Father</th>\n      <th>DoB</th>\n      <th>Gender</th>\n      <th>Reg Date</th>\n      <th>Reg Status</th>\n      <th>Degree Status</th>\n      <th>Address</th>\n      <th>Qualification</th>\n      <th>Degree</th>\n      <th>Campus</th>\n      <th>City</th>\n    </tr>\n  </thead>\n  <tbody>\n    <tr>\n      <th>count</th>\n      <td>17102</td>\n      <td>17102</td>\n      <td>17102</td>\n      <td>17100</td>\n      <td>13398</td>\n      <td>17102</td>\n      <td>17102</td>\n      <td>17102</td>\n      <td>17102</td>\n      <td>17102</td>\n      <td>17102</td>\n      <td>17102</td>\n      <td>17102</td>\n    </tr>\n    <tr>\n      <th>unique</th>\n      <td>17102</td>\n      <td>14673</td>\n      <td>14270</td>\n      <td>7380</td>\n      <td>2</td>\n      <td>442</td>\n      <td>2</td>\n      <td>2</td>\n      <td>15360</td>\n      <td>12</td>\n      <td>2</td>\n      <td>3</td>\n      <td>41</td>\n    </tr>\n    <tr>\n      <th>top</th>\n      <td>PEW_BS_1573</td>\n      <td>Kishwar Pasha</td>\n      <td>Mudassir Khattak</td>\n      <td>1981-03-22 00:00:00.000000</td>\n      <td>M</td>\n      <td>2003-08-16 00:00:00</td>\n      <td>A</td>\n      <td>C</td>\n      <td>house no.141 S# 16  Haider road Multan</td>\n      <td>F.Sc.</td>\n      <td>BS</td>\n      <td>KHR</td>\n      <td>Karachi</td>\n    </tr>\n    <tr>\n      <th>freq</th>\n      <td>1</td>\n      <td>6</td>\n      <td>5</td>\n      <td>8</td>\n      <td>8935</td>\n      <td>76</td>\n      <td>17100</td>\n      <td>12500</td>\n      <td>3</td>\n      <td>2390</td>\n      <td>14302</td>\n      <td>8201</td>\n      <td>4438</td>\n    </tr>\n    <tr>\n      <th>first</th>\n      <td>NaN</td>\n      <td>NaN</td>\n      <td>NaN</td>\n      <td>NaN</td>\n      <td>NaN</td>\n      <td>1994-01-08 00:00:00</td>\n      <td>NaN</td>\n      <td>NaN</td>\n      <td>NaN</td>\n      <td>NaN</td>\n      <td>NaN</td>\n      <td>NaN</td>\n      <td>NaN</td>\n    </tr>\n    <tr>\n      <th>last</th>\n      <td>NaN</td>\n      <td>NaN</td>\n      <td>NaN</td>\n      <td>NaN</td>\n      <td>NaN</td>\n      <td>2005-01-12 00:00:00</td>\n      <td>NaN</td>\n      <td>NaN</td>\n      <td>NaN</td>\n      <td>NaN</td>\n      <td>NaN</td>\n      <td>NaN</td>\n      <td>NaN</td>\n    </tr>\n  </tbody>\n</table>\n</div>"
     },
     "metadata": {},
     "execution_count": 261
    }
   ],
   "source": [
    "df_std.describe()"
   ]
  },
  {
   "source": [
    "### We have 41 Unique cities"
   ],
   "cell_type": "markdown",
   "metadata": {}
  },
  {
   "source": [
    "---\n",
    "\n",
    "- Bring the gender information into a consistent representation. Use ‘M’ and ‘F’ with data type CHAR(1).\n",
    "\n",
    "\n",
    "We've already achieved this during the data collection phase."
   ],
   "cell_type": "markdown",
   "metadata": {}
  },
  {
   "cell_type": "code",
   "execution_count": null,
   "metadata": {},
   "outputs": [],
   "source": []
  }
 ]
}