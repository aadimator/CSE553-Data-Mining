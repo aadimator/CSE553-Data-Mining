{
 "metadata": {
  "language_info": {
   "codemirror_mode": {
    "name": "ipython",
    "version": 3
   },
   "file_extension": ".py",
   "mimetype": "text/x-python",
   "name": "python",
   "nbconvert_exporter": "python",
   "pygments_lexer": "ipython3",
   "version": "3.8.5-final"
  },
  "orig_nbformat": 2,
  "kernelspec": {
   "name": "python3",
   "display_name": "Python 3"
  }
 },
 "nbformat": 4,
 "nbformat_minor": 2,
 "cells": [
  {
   "source": [
    "# Data Mining\n",
    "## Assignment 1 - Data Cleansing\n",
    "\n",
    "---\n",
    "\n",
    "## Aadam - CS1945\n",
    "## Obaidullah - CS1947\n",
    "\n",
    "---\n",
    "\n",
    "## Tasks to do\n",
    "1. Combine all the three datasets in a single source, you may use any DBMS. \n",
    "2. Once you have the data in the staging area inside your DBMS, perform data profiling for all the fields. By data profiling means the following statistics:\n",
    "    - No. of unique values (for each column) \n",
    "    - No. of nulls (for each column) \n",
    "    - Invalid values (for each column) \n",
    "    - Total no. of courses \n",
    "    - Total no. of female students Vs male students \n",
    "    - Total no of people who has taken more than 5 courses in a semester. \n",
    "    - The relationship between total no. of unique student ID’s and total no. of students. \n",
    "    - Average no of people per semester of each campus. \n",
    "    - Average no of students in every batch of each campus.\n",
    "3. After the profiling, you should have identified the anomalies and data cleansing issues. Here are some of the issues you need to address during your cleansing work.\n",
    "    - Separate first and last names both for the student and father. Standardize the first and last names. (Hint: Find all the unique names in data and create a lookup table with two columns i.e. correct_name, variation etc. Use the lookup table to update the name fields with standardized names. Never hardcode names in your SQL.)\n",
    "    - Introduce a new column i.e. city_name. It will involve extracting the city from the address and then the standardization of the city names. (Use the city names in the telephone directory as standard)\n",
    "    - Bring the gender information into a consistent representation. Use ‘M’ and ‘F’ with data type CHAR(1).\n",
    "    - Since the gender information is missing for the Peshawar campus, you can use the student names to figure out the gender. (Hint: Find all distinct male and female names and create a lookup table)\n",
    "    - If you have been using VARCHAR or CHAR for date, port the date information into columns with the proper Date data type. The dates should be as per calendar dates.\n",
    "    - Validate all the dates against the business rules e.g. the DOB should be smaller than the Reg. Date and Graduation Date should be greater than Reg. Date. The data might be having anomalies like exchanged DOB and Reg. Date by mistake etc. Also be careful with invalid dates i.e. 31st Feb. or 29th Feb. in a non-leap year.\n",
    "    - For some campuses, the degree information is missing. Devise some technique to figure it out and update the rows with empty degree fields. Validate other businessrules for each field. One example is that marks should be in the range 0 to 100 inclusive.\n"
   ],
   "cell_type": "markdown",
   "metadata": {}
  },
  {
   "cell_type": "code",
   "execution_count": 323,
   "metadata": {},
   "outputs": [],
   "source": [
    "import sqlite3\n",
    "\n",
    "import pandas as pd\n",
    "\n",
    "from pathlib import Path"
   ]
  },
  {
   "cell_type": "code",
   "execution_count": 324,
   "metadata": {},
   "outputs": [],
   "source": [
    "data_dir = Path(\"Assignment 1 Data Set/\")"
   ]
  },
  {
   "cell_type": "code",
   "execution_count": 800,
   "metadata": {},
   "outputs": [],
   "source": [
    "con = sqlite3.connect('University.db')\n",
    "\n",
    "df_std = pd.read_sql_query(\"SELECT * FROM Students\", con)\n",
    "df_reg = pd.read_sql_query(\"SELECT * FROM Course_Registrations\", con)\n",
    "\n",
    "con.close()"
   ]
  },
  {
   "cell_type": "code",
   "execution_count": 801,
   "metadata": {},
   "outputs": [
    {
     "output_type": "execute_result",
     "data": {
      "text/plain": [
       "           SID                 Name                Father  \\\n",
       "0     KHR_BS_0       Hussain Ansary          Ubaid Ansary   \n",
       "1     KHR_BS_1  Shk. Munir Hussaini  Viqar Hamid Hussaini   \n",
       "2    KHR_BS_10         Hamna Ansary         Hameed Ansary   \n",
       "3   KHR_BS_100        Jabbar Haqqie     Muneer Rai Haqqie   \n",
       "4  KHR_BS_1000     Rana Hayyat Baig   Ghulam Mustafa Baig   \n",
       "\n",
       "                   DoB Gender                    Reg Date Reg Status  \\\n",
       "0  1974-01-05 00:00:00      M  1994-08-13 00:00:00.000000          A   \n",
       "1  1974-12-13 00:00:00      M  1994-08-13 00:00:00.000000          A   \n",
       "2  1974-04-25 00:00:00      F  1994-08-14 00:00:00.000000          A   \n",
       "3  1974-05-22 00:00:00      M  1994-08-18 00:00:00.000000          A   \n",
       "4  1976-02-25 00:00:00      M  1995-08-28 00:00:00.000000          A   \n",
       "\n",
       "  Degree Status                                            Address  \\\n",
       "0             C           h# 978 Street No.72  Defense Phase 1 KHR   \n",
       "1             C                    H#  169 s#  0 Mutian wala Thata   \n",
       "2             C                     h#  697 St. #  94 sea site KHR   \n",
       "3             C                       H# 504 S No.4  Kumria Quetta   \n",
       "4             C  H No.509 St. No.38  Kishwar heights university...   \n",
       "\n",
       "  Qualification Degree Campus  \n",
       "0       A-Level     BS    KHR  \n",
       "1       A-Level     BS    KHR  \n",
       "2       A-Level     BS    KHR  \n",
       "3       A-Level     BS    KHR  \n",
       "4          HSSC     BS    KHR  "
      ],
      "text/html": "<div>\n<style scoped>\n    .dataframe tbody tr th:only-of-type {\n        vertical-align: middle;\n    }\n\n    .dataframe tbody tr th {\n        vertical-align: top;\n    }\n\n    .dataframe thead th {\n        text-align: right;\n    }\n</style>\n<table border=\"1\" class=\"dataframe\">\n  <thead>\n    <tr style=\"text-align: right;\">\n      <th></th>\n      <th>SID</th>\n      <th>Name</th>\n      <th>Father</th>\n      <th>DoB</th>\n      <th>Gender</th>\n      <th>Reg Date</th>\n      <th>Reg Status</th>\n      <th>Degree Status</th>\n      <th>Address</th>\n      <th>Qualification</th>\n      <th>Degree</th>\n      <th>Campus</th>\n    </tr>\n  </thead>\n  <tbody>\n    <tr>\n      <th>0</th>\n      <td>KHR_BS_0</td>\n      <td>Hussain Ansary</td>\n      <td>Ubaid Ansary</td>\n      <td>1974-01-05 00:00:00</td>\n      <td>M</td>\n      <td>1994-08-13 00:00:00.000000</td>\n      <td>A</td>\n      <td>C</td>\n      <td>h# 978 Street No.72  Defense Phase 1 KHR</td>\n      <td>A-Level</td>\n      <td>BS</td>\n      <td>KHR</td>\n    </tr>\n    <tr>\n      <th>1</th>\n      <td>KHR_BS_1</td>\n      <td>Shk. Munir Hussaini</td>\n      <td>Viqar Hamid Hussaini</td>\n      <td>1974-12-13 00:00:00</td>\n      <td>M</td>\n      <td>1994-08-13 00:00:00.000000</td>\n      <td>A</td>\n      <td>C</td>\n      <td>H#  169 s#  0 Mutian wala Thata</td>\n      <td>A-Level</td>\n      <td>BS</td>\n      <td>KHR</td>\n    </tr>\n    <tr>\n      <th>2</th>\n      <td>KHR_BS_10</td>\n      <td>Hamna Ansary</td>\n      <td>Hameed Ansary</td>\n      <td>1974-04-25 00:00:00</td>\n      <td>F</td>\n      <td>1994-08-14 00:00:00.000000</td>\n      <td>A</td>\n      <td>C</td>\n      <td>h#  697 St. #  94 sea site KHR</td>\n      <td>A-Level</td>\n      <td>BS</td>\n      <td>KHR</td>\n    </tr>\n    <tr>\n      <th>3</th>\n      <td>KHR_BS_100</td>\n      <td>Jabbar Haqqie</td>\n      <td>Muneer Rai Haqqie</td>\n      <td>1974-05-22 00:00:00</td>\n      <td>M</td>\n      <td>1994-08-18 00:00:00.000000</td>\n      <td>A</td>\n      <td>C</td>\n      <td>H# 504 S No.4  Kumria Quetta</td>\n      <td>A-Level</td>\n      <td>BS</td>\n      <td>KHR</td>\n    </tr>\n    <tr>\n      <th>4</th>\n      <td>KHR_BS_1000</td>\n      <td>Rana Hayyat Baig</td>\n      <td>Ghulam Mustafa Baig</td>\n      <td>1976-02-25 00:00:00</td>\n      <td>M</td>\n      <td>1995-08-28 00:00:00.000000</td>\n      <td>A</td>\n      <td>C</td>\n      <td>H No.509 St. No.38  Kishwar heights university...</td>\n      <td>HSSC</td>\n      <td>BS</td>\n      <td>KHR</td>\n    </tr>\n  </tbody>\n</table>\n</div>"
     },
     "metadata": {},
     "execution_count": 801
    }
   ],
   "source": [
    "df_std.head()"
   ]
  },
  {
   "cell_type": "code",
   "execution_count": 802,
   "metadata": {},
   "outputs": [
    {
     "output_type": "execute_result",
     "data": {
      "text/plain": [
       "        SID  Course  Score Semester                        Year Discipline  \\\n",
       "0  KHR_BS_0  CS-101     72     Fall  1994-01-01 00:00:00.000000         CS   \n",
       "1  KHR_BS_0  CS-102     78     Fall  1994-01-01 00:00:00.000000         CS   \n",
       "2  KHR_BS_0  CS-103     53     Fall  1994-01-01 00:00:00.000000         CS   \n",
       "3  KHR_BS_0  CS-104     58     Fall  1994-01-01 00:00:00.000000         CS   \n",
       "4  KHR_BS_0  CS-105     61   Spring  1995-01-01 00:00:00.000000         CS   \n",
       "\n",
       "  Degree Campus  \n",
       "0     BS    KHR  \n",
       "1     BS    KHR  \n",
       "2     BS    KHR  \n",
       "3     BS    KHR  \n",
       "4     BS    KHR  "
      ],
      "text/html": "<div>\n<style scoped>\n    .dataframe tbody tr th:only-of-type {\n        vertical-align: middle;\n    }\n\n    .dataframe tbody tr th {\n        vertical-align: top;\n    }\n\n    .dataframe thead th {\n        text-align: right;\n    }\n</style>\n<table border=\"1\" class=\"dataframe\">\n  <thead>\n    <tr style=\"text-align: right;\">\n      <th></th>\n      <th>SID</th>\n      <th>Course</th>\n      <th>Score</th>\n      <th>Semester</th>\n      <th>Year</th>\n      <th>Discipline</th>\n      <th>Degree</th>\n      <th>Campus</th>\n    </tr>\n  </thead>\n  <tbody>\n    <tr>\n      <th>0</th>\n      <td>KHR_BS_0</td>\n      <td>CS-101</td>\n      <td>72</td>\n      <td>Fall</td>\n      <td>1994-01-01 00:00:00.000000</td>\n      <td>CS</td>\n      <td>BS</td>\n      <td>KHR</td>\n    </tr>\n    <tr>\n      <th>1</th>\n      <td>KHR_BS_0</td>\n      <td>CS-102</td>\n      <td>78</td>\n      <td>Fall</td>\n      <td>1994-01-01 00:00:00.000000</td>\n      <td>CS</td>\n      <td>BS</td>\n      <td>KHR</td>\n    </tr>\n    <tr>\n      <th>2</th>\n      <td>KHR_BS_0</td>\n      <td>CS-103</td>\n      <td>53</td>\n      <td>Fall</td>\n      <td>1994-01-01 00:00:00.000000</td>\n      <td>CS</td>\n      <td>BS</td>\n      <td>KHR</td>\n    </tr>\n    <tr>\n      <th>3</th>\n      <td>KHR_BS_0</td>\n      <td>CS-104</td>\n      <td>58</td>\n      <td>Fall</td>\n      <td>1994-01-01 00:00:00.000000</td>\n      <td>CS</td>\n      <td>BS</td>\n      <td>KHR</td>\n    </tr>\n    <tr>\n      <th>4</th>\n      <td>KHR_BS_0</td>\n      <td>CS-105</td>\n      <td>61</td>\n      <td>Spring</td>\n      <td>1995-01-01 00:00:00.000000</td>\n      <td>CS</td>\n      <td>BS</td>\n      <td>KHR</td>\n    </tr>\n  </tbody>\n</table>\n</div>"
     },
     "metadata": {},
     "execution_count": 802
    }
   ],
   "source": [
    "df_reg.head()"
   ]
  },
  {
   "source": [
    "# Data Profiling"
   ],
   "cell_type": "markdown",
   "metadata": {}
  },
  {
   "cell_type": "code",
   "execution_count": 803,
   "metadata": {},
   "outputs": [
    {
     "output_type": "execute_result",
     "data": {
      "text/plain": [
       "                SID           Name            Father  \\\n",
       "count         17102          17102             17102   \n",
       "unique        17102          14673             14270   \n",
       "top     PEW_BS_1573  Kishwar Pasha  Mudassir Khattak   \n",
       "freq              1              6                 5   \n",
       "\n",
       "                               DoB Gender                    Reg Date  \\\n",
       "count                        17100  13398                       17102   \n",
       "unique                        7380      2                         442   \n",
       "top     1981-03-22 00:00:00.000000      M  2003-08-16 00:00:00.000000   \n",
       "freq                             8   8935                          76   \n",
       "\n",
       "       Reg Status Degree Status                                 Address  \\\n",
       "count       17102         17102                                   17102   \n",
       "unique          2             2                                   15360   \n",
       "top             A             C  house no.141 S# 16  Haider road Multan   \n",
       "freq        17100         12500                                       3   \n",
       "\n",
       "       Qualification Degree Campus  \n",
       "count          17102  17102  17102  \n",
       "unique            12      2      3  \n",
       "top            F.Sc.     BS    KHR  \n",
       "freq            2390  14302   8201  "
      ],
      "text/html": "<div>\n<style scoped>\n    .dataframe tbody tr th:only-of-type {\n        vertical-align: middle;\n    }\n\n    .dataframe tbody tr th {\n        vertical-align: top;\n    }\n\n    .dataframe thead th {\n        text-align: right;\n    }\n</style>\n<table border=\"1\" class=\"dataframe\">\n  <thead>\n    <tr style=\"text-align: right;\">\n      <th></th>\n      <th>SID</th>\n      <th>Name</th>\n      <th>Father</th>\n      <th>DoB</th>\n      <th>Gender</th>\n      <th>Reg Date</th>\n      <th>Reg Status</th>\n      <th>Degree Status</th>\n      <th>Address</th>\n      <th>Qualification</th>\n      <th>Degree</th>\n      <th>Campus</th>\n    </tr>\n  </thead>\n  <tbody>\n    <tr>\n      <th>count</th>\n      <td>17102</td>\n      <td>17102</td>\n      <td>17102</td>\n      <td>17100</td>\n      <td>13398</td>\n      <td>17102</td>\n      <td>17102</td>\n      <td>17102</td>\n      <td>17102</td>\n      <td>17102</td>\n      <td>17102</td>\n      <td>17102</td>\n    </tr>\n    <tr>\n      <th>unique</th>\n      <td>17102</td>\n      <td>14673</td>\n      <td>14270</td>\n      <td>7380</td>\n      <td>2</td>\n      <td>442</td>\n      <td>2</td>\n      <td>2</td>\n      <td>15360</td>\n      <td>12</td>\n      <td>2</td>\n      <td>3</td>\n    </tr>\n    <tr>\n      <th>top</th>\n      <td>PEW_BS_1573</td>\n      <td>Kishwar Pasha</td>\n      <td>Mudassir Khattak</td>\n      <td>1981-03-22 00:00:00.000000</td>\n      <td>M</td>\n      <td>2003-08-16 00:00:00.000000</td>\n      <td>A</td>\n      <td>C</td>\n      <td>house no.141 S# 16  Haider road Multan</td>\n      <td>F.Sc.</td>\n      <td>BS</td>\n      <td>KHR</td>\n    </tr>\n    <tr>\n      <th>freq</th>\n      <td>1</td>\n      <td>6</td>\n      <td>5</td>\n      <td>8</td>\n      <td>8935</td>\n      <td>76</td>\n      <td>17100</td>\n      <td>12500</td>\n      <td>3</td>\n      <td>2390</td>\n      <td>14302</td>\n      <td>8201</td>\n    </tr>\n  </tbody>\n</table>\n</div>"
     },
     "metadata": {},
     "execution_count": 803
    }
   ],
   "source": [
    "df_std.describe(include='all')"
   ]
  },
  {
   "cell_type": "code",
   "execution_count": 804,
   "metadata": {},
   "outputs": [
    {
     "output_type": "execute_result",
     "data": {
      "text/plain": [
       "                SID  Course          Score Semester  \\\n",
       "count        406200  406200  406200.000000   406200   \n",
       "unique        11700     120            NaN        2   \n",
       "top     PEW_BS_1573  CS-103            NaN   Spring   \n",
       "freq             48    8900            NaN   203100   \n",
       "mean            NaN     NaN      74.460268      NaN   \n",
       "std             NaN     NaN      14.415844      NaN   \n",
       "min             NaN     NaN      50.000000      NaN   \n",
       "25%             NaN     NaN      62.000000      NaN   \n",
       "50%             NaN     NaN      74.000000      NaN   \n",
       "75%             NaN     NaN      87.000000      NaN   \n",
       "max             NaN     NaN      99.000000      NaN   \n",
       "\n",
       "                              Year Discipline  Degree  Campus  \n",
       "count                       406200     406200  406200  406200  \n",
       "unique                          16          8       2       3  \n",
       "top     1970-01-01 00:00:00.000002         TC      BS     LHR  \n",
       "freq                         76200      94200  376800  190800  \n",
       "mean                           NaN        NaN     NaN     NaN  \n",
       "std                            NaN        NaN     NaN     NaN  \n",
       "min                            NaN        NaN     NaN     NaN  \n",
       "25%                            NaN        NaN     NaN     NaN  \n",
       "50%                            NaN        NaN     NaN     NaN  \n",
       "75%                            NaN        NaN     NaN     NaN  \n",
       "max                            NaN        NaN     NaN     NaN  "
      ],
      "text/html": "<div>\n<style scoped>\n    .dataframe tbody tr th:only-of-type {\n        vertical-align: middle;\n    }\n\n    .dataframe tbody tr th {\n        vertical-align: top;\n    }\n\n    .dataframe thead th {\n        text-align: right;\n    }\n</style>\n<table border=\"1\" class=\"dataframe\">\n  <thead>\n    <tr style=\"text-align: right;\">\n      <th></th>\n      <th>SID</th>\n      <th>Course</th>\n      <th>Score</th>\n      <th>Semester</th>\n      <th>Year</th>\n      <th>Discipline</th>\n      <th>Degree</th>\n      <th>Campus</th>\n    </tr>\n  </thead>\n  <tbody>\n    <tr>\n      <th>count</th>\n      <td>406200</td>\n      <td>406200</td>\n      <td>406200.000000</td>\n      <td>406200</td>\n      <td>406200</td>\n      <td>406200</td>\n      <td>406200</td>\n      <td>406200</td>\n    </tr>\n    <tr>\n      <th>unique</th>\n      <td>11700</td>\n      <td>120</td>\n      <td>NaN</td>\n      <td>2</td>\n      <td>16</td>\n      <td>8</td>\n      <td>2</td>\n      <td>3</td>\n    </tr>\n    <tr>\n      <th>top</th>\n      <td>PEW_BS_1573</td>\n      <td>CS-103</td>\n      <td>NaN</td>\n      <td>Spring</td>\n      <td>1970-01-01 00:00:00.000002</td>\n      <td>TC</td>\n      <td>BS</td>\n      <td>LHR</td>\n    </tr>\n    <tr>\n      <th>freq</th>\n      <td>48</td>\n      <td>8900</td>\n      <td>NaN</td>\n      <td>203100</td>\n      <td>76200</td>\n      <td>94200</td>\n      <td>376800</td>\n      <td>190800</td>\n    </tr>\n    <tr>\n      <th>mean</th>\n      <td>NaN</td>\n      <td>NaN</td>\n      <td>74.460268</td>\n      <td>NaN</td>\n      <td>NaN</td>\n      <td>NaN</td>\n      <td>NaN</td>\n      <td>NaN</td>\n    </tr>\n    <tr>\n      <th>std</th>\n      <td>NaN</td>\n      <td>NaN</td>\n      <td>14.415844</td>\n      <td>NaN</td>\n      <td>NaN</td>\n      <td>NaN</td>\n      <td>NaN</td>\n      <td>NaN</td>\n    </tr>\n    <tr>\n      <th>min</th>\n      <td>NaN</td>\n      <td>NaN</td>\n      <td>50.000000</td>\n      <td>NaN</td>\n      <td>NaN</td>\n      <td>NaN</td>\n      <td>NaN</td>\n      <td>NaN</td>\n    </tr>\n    <tr>\n      <th>25%</th>\n      <td>NaN</td>\n      <td>NaN</td>\n      <td>62.000000</td>\n      <td>NaN</td>\n      <td>NaN</td>\n      <td>NaN</td>\n      <td>NaN</td>\n      <td>NaN</td>\n    </tr>\n    <tr>\n      <th>50%</th>\n      <td>NaN</td>\n      <td>NaN</td>\n      <td>74.000000</td>\n      <td>NaN</td>\n      <td>NaN</td>\n      <td>NaN</td>\n      <td>NaN</td>\n      <td>NaN</td>\n    </tr>\n    <tr>\n      <th>75%</th>\n      <td>NaN</td>\n      <td>NaN</td>\n      <td>87.000000</td>\n      <td>NaN</td>\n      <td>NaN</td>\n      <td>NaN</td>\n      <td>NaN</td>\n      <td>NaN</td>\n    </tr>\n    <tr>\n      <th>max</th>\n      <td>NaN</td>\n      <td>NaN</td>\n      <td>99.000000</td>\n      <td>NaN</td>\n      <td>NaN</td>\n      <td>NaN</td>\n      <td>NaN</td>\n      <td>NaN</td>\n    </tr>\n  </tbody>\n</table>\n</div>"
     },
     "metadata": {},
     "execution_count": 804
    }
   ],
   "source": [
    "df_reg.describe(include='all')"
   ]
  },
  {
   "source": [
    "## No. of Unique Values in Students Table"
   ],
   "cell_type": "markdown",
   "metadata": {}
  },
  {
   "cell_type": "code",
   "execution_count": 805,
   "metadata": {},
   "outputs": [
    {
     "output_type": "execute_result",
     "data": {
      "text/plain": [
       "     SID   Name  Father   DoB  Gender  Reg Date  Reg Status  Degree Status  \\\n",
       "0  17102  14673   14270  7380       2       442           2              2   \n",
       "\n",
       "   Address  Qualification  Degree  Campus  \n",
       "0    15360             12       2       3  "
      ],
      "text/html": "<div>\n<style scoped>\n    .dataframe tbody tr th:only-of-type {\n        vertical-align: middle;\n    }\n\n    .dataframe tbody tr th {\n        vertical-align: top;\n    }\n\n    .dataframe thead th {\n        text-align: right;\n    }\n</style>\n<table border=\"1\" class=\"dataframe\">\n  <thead>\n    <tr style=\"text-align: right;\">\n      <th></th>\n      <th>SID</th>\n      <th>Name</th>\n      <th>Father</th>\n      <th>DoB</th>\n      <th>Gender</th>\n      <th>Reg Date</th>\n      <th>Reg Status</th>\n      <th>Degree Status</th>\n      <th>Address</th>\n      <th>Qualification</th>\n      <th>Degree</th>\n      <th>Campus</th>\n    </tr>\n  </thead>\n  <tbody>\n    <tr>\n      <th>0</th>\n      <td>17102</td>\n      <td>14673</td>\n      <td>14270</td>\n      <td>7380</td>\n      <td>2</td>\n      <td>442</td>\n      <td>2</td>\n      <td>2</td>\n      <td>15360</td>\n      <td>12</td>\n      <td>2</td>\n      <td>3</td>\n    </tr>\n  </tbody>\n</table>\n</div>"
     },
     "metadata": {},
     "execution_count": 805
    }
   ],
   "source": [
    "df_std.nunique().to_frame().T"
   ]
  },
  {
   "source": [
    "## No. of Unique Values in Course Registration Table"
   ],
   "cell_type": "markdown",
   "metadata": {}
  },
  {
   "cell_type": "code",
   "execution_count": 806,
   "metadata": {},
   "outputs": [
    {
     "output_type": "execute_result",
     "data": {
      "text/plain": [
       "     SID  Course  Score  Semester  Year  Discipline  Degree  Campus\n",
       "0  11700     120     50         2    16           8       2       3"
      ],
      "text/html": "<div>\n<style scoped>\n    .dataframe tbody tr th:only-of-type {\n        vertical-align: middle;\n    }\n\n    .dataframe tbody tr th {\n        vertical-align: top;\n    }\n\n    .dataframe thead th {\n        text-align: right;\n    }\n</style>\n<table border=\"1\" class=\"dataframe\">\n  <thead>\n    <tr style=\"text-align: right;\">\n      <th></th>\n      <th>SID</th>\n      <th>Course</th>\n      <th>Score</th>\n      <th>Semester</th>\n      <th>Year</th>\n      <th>Discipline</th>\n      <th>Degree</th>\n      <th>Campus</th>\n    </tr>\n  </thead>\n  <tbody>\n    <tr>\n      <th>0</th>\n      <td>11700</td>\n      <td>120</td>\n      <td>50</td>\n      <td>2</td>\n      <td>16</td>\n      <td>8</td>\n      <td>2</td>\n      <td>3</td>\n    </tr>\n  </tbody>\n</table>\n</div>"
     },
     "metadata": {},
     "execution_count": 806
    }
   ],
   "source": [
    "df_reg.nunique().to_frame().T"
   ]
  },
  {
   "source": [
    "## No. of Nulls in Students Table"
   ],
   "cell_type": "markdown",
   "metadata": {}
  },
  {
   "cell_type": "code",
   "execution_count": 797,
   "metadata": {},
   "outputs": [
    {
     "output_type": "execute_result",
     "data": {
      "text/plain": [
       "       SID  Name  Father  DoB  Gender  Reg Date  Reg Status  Degree Status  \\\n",
       "Count    0     0       0    2    3704         0           0              0   \n",
       "\n",
       "       Address  Qualification  Degree  Campus  \n",
       "Count        0              0       0       0  "
      ],
      "text/html": "<div>\n<style scoped>\n    .dataframe tbody tr th:only-of-type {\n        vertical-align: middle;\n    }\n\n    .dataframe tbody tr th {\n        vertical-align: top;\n    }\n\n    .dataframe thead th {\n        text-align: right;\n    }\n</style>\n<table border=\"1\" class=\"dataframe\">\n  <thead>\n    <tr style=\"text-align: right;\">\n      <th></th>\n      <th>SID</th>\n      <th>Name</th>\n      <th>Father</th>\n      <th>DoB</th>\n      <th>Gender</th>\n      <th>Reg Date</th>\n      <th>Reg Status</th>\n      <th>Degree Status</th>\n      <th>Address</th>\n      <th>Qualification</th>\n      <th>Degree</th>\n      <th>Campus</th>\n    </tr>\n  </thead>\n  <tbody>\n    <tr>\n      <th>Count</th>\n      <td>0</td>\n      <td>0</td>\n      <td>0</td>\n      <td>2</td>\n      <td>3704</td>\n      <td>0</td>\n      <td>0</td>\n      <td>0</td>\n      <td>0</td>\n      <td>0</td>\n      <td>0</td>\n      <td>0</td>\n    </tr>\n  </tbody>\n</table>\n</div>"
     },
     "metadata": {},
     "execution_count": 797
    }
   ],
   "source": [
    "pd.DataFrame(df_std.isnull().sum(axis = 0), columns=['Count']).T"
   ]
  },
  {
   "source": [
    "\n",
    "## No. of Nulls in Course Registration Table"
   ],
   "cell_type": "markdown",
   "metadata": {}
  },
  {
   "cell_type": "code",
   "execution_count": 796,
   "metadata": {},
   "outputs": [
    {
     "output_type": "execute_result",
     "data": {
      "text/plain": [
       "       SID  Course  Score  Semester  Year  Discipline  Degree  Campus\n",
       "Count    0       0      0         0     0           0       0       0"
      ],
      "text/html": "<div>\n<style scoped>\n    .dataframe tbody tr th:only-of-type {\n        vertical-align: middle;\n    }\n\n    .dataframe tbody tr th {\n        vertical-align: top;\n    }\n\n    .dataframe thead th {\n        text-align: right;\n    }\n</style>\n<table border=\"1\" class=\"dataframe\">\n  <thead>\n    <tr style=\"text-align: right;\">\n      <th></th>\n      <th>SID</th>\n      <th>Course</th>\n      <th>Score</th>\n      <th>Semester</th>\n      <th>Year</th>\n      <th>Discipline</th>\n      <th>Degree</th>\n      <th>Campus</th>\n    </tr>\n  </thead>\n  <tbody>\n    <tr>\n      <th>Count</th>\n      <td>0</td>\n      <td>0</td>\n      <td>0</td>\n      <td>0</td>\n      <td>0</td>\n      <td>0</td>\n      <td>0</td>\n      <td>0</td>\n    </tr>\n  </tbody>\n</table>\n</div>"
     },
     "metadata": {},
     "execution_count": 796
    }
   ],
   "source": [
    "pd.DataFrame(df_reg.isnull().sum(axis = 0), columns=['Count']).T"
   ]
  },
  {
   "source": [
    "## Invalid Values\n",
    "\n",
    "Let's try to see if the dates in DoB and Reg Date are valid."
   ],
   "cell_type": "markdown",
   "metadata": {}
  },
  {
   "cell_type": "code",
   "execution_count": 770,
   "metadata": {},
   "outputs": [],
   "source": [
    "dob = pd.to_datetime(df_std.DoB, errors=\"coerce\")"
   ]
  },
  {
   "cell_type": "code",
   "execution_count": 468,
   "metadata": {},
   "outputs": [],
   "source": [
    "df_std[\"Reg Date\"] = pd.to_datetime(df_std[\"Reg Date\"])"
   ]
  },
  {
   "cell_type": "code",
   "execution_count": 469,
   "metadata": {},
   "outputs": [],
   "source": [
    "df_reg.Year = pd.to_datetime(df_reg.Year)"
   ]
  },
  {
   "source": [
    "### Following are the invalid Date values in DOB"
   ],
   "cell_type": "markdown",
   "metadata": {}
  },
  {
   "cell_type": "code",
   "execution_count": 771,
   "metadata": {},
   "outputs": [
    {
     "output_type": "execute_result",
     "data": {
      "text/plain": [
       "               SID                          Name  \\\n",
       "516    KHR_BS_1462                   Annan Satti   \n",
       "593    KHR_BS_1531                 Hadiqa Abuzar   \n",
       "1282   KHR_BS_2151                    Affan Baig   \n",
       "2113    KHR_BS_290                   Qasim Rehan   \n",
       "3631   KHR_BS_4266                  Shafaq Ahmed   \n",
       "4167   KHR_BS_4749              Sumiyya Khanzada   \n",
       "4319   KHR_BS_4886           Khushbakht Khanzada   \n",
       "4320   KHR_BS_4887               Shabir Hussaini   \n",
       "4933   KHR_BS_5438       Aga Abdus Sammi Khattak   \n",
       "5623   KHR_BS_6059                Arsalan Chohan   \n",
       "5852   KHR_BS_6265                  Amina Muslim   \n",
       "7117   KHR_MS_1462       Mouhammad Ghani Paracha   \n",
       "7194   KHR_MS_1531                    Arif Amjad   \n",
       "7414    KHR_MS_290             Sonia Shaheen Haq   \n",
       "10649  LHR_BS_3200  Choudhary Abdul Qadir Minhas   \n",
       "11692   LHR_BS_414      Pervaiz Sikandar Sherazi   \n",
       "\n",
       "                             Father        DoB Gender  \\\n",
       "516               Husain Alam Satti  29/Feb/78      M   \n",
       "593                  Abuzar Zeeshan  29/Feb/77      F   \n",
       "1282        Mohammad Sheharyar Baig  29/Feb/79      M   \n",
       "2113                   Rehan Nabeel  29/Feb/75      M   \n",
       "3631                     Ahmed Ajab  29/Feb/82      F   \n",
       "4167                  Arif Khanzada  29/Feb/83      F   \n",
       "4319            Sh. Sarwar Khanzada  29/Feb/83      F   \n",
       "4320         Syyed Muazzum Hussaini  29/Feb/83      M   \n",
       "4933     Abdul Qadeer Ikram Khattak  29/Feb/85      M   \n",
       "5623              Rabbi Daud Chohan  29/Feb/86      M   \n",
       "5852                 Muslim Shujaat  29/Feb/85      F   \n",
       "7117           Rehmat Kabir Paracha  29/Feb/82      M   \n",
       "7194                  Amjad Inayyat  29/Feb/81      M   \n",
       "7414                    Shaheen Haq  29/Feb/78      F   \n",
       "10649                  Viqar Minhas       None      M   \n",
       "11692  Abdul Mannan Shabeer Sherazi       None      M   \n",
       "\n",
       "                         Reg Date Reg Status Degree Status  \\\n",
       "516    1996-08-28 00:00:00.000000          A             C   \n",
       "593    1996-08-22 00:00:00.000000          A             C   \n",
       "1282   1997-08-16 00:00:00.000000          A             C   \n",
       "2113   1994-08-29 00:00:00.000000          A             C   \n",
       "3631   2001-08-21 00:00:00.000000          A             C   \n",
       "4167   2001-08-03 00:00:00.000000          A             C   \n",
       "4319   2002-08-16 00:00:00.000000          A             I   \n",
       "4320   2002-08-19 00:00:00.000000          A             I   \n",
       "4933   2003-08-20 00:00:00.000000          A             I   \n",
       "5623   2004-08-18 00:00:00.000000          A             I   \n",
       "5852   2004-08-24 00:00:00.000000          A             I   \n",
       "7117   2004-08-28 00:00:00.000000          A             I   \n",
       "7194   2004-08-22 00:00:00.000000          A             I   \n",
       "7414   2001-08-29 00:00:00.000000          A             C   \n",
       "10649  2002-08-20 00:00:00.000000          A             I   \n",
       "11692  1995-08-28 00:00:00.000000          A             C   \n",
       "\n",
       "                                                 Address Qualification Degree  \\\n",
       "516                  House No.483 St. No.37  Dehri Thata         F.Sc.     BS   \n",
       "593                  h no. 292 St. No. 38 Koral Umer Kot          HSSC     BS   \n",
       "1282        house no.568 St. No.52  Zeenat block Karachi         F.Sc.     BS   \n",
       "2113       Ho. No. 193 St. No. 14 Chand mari Mirpur Khas       A level     BS   \n",
       "3631           Ho. No.405 St. No.57  Doley shah Umer Kot       A level     BS   \n",
       "4167    house no. 609 St. No. 98 Shah latif town Karachi         F.Sc.     BS   \n",
       "4319             h no. 681 St. No. 4 Pwd Coloney KARACHI          HSSC     BS   \n",
       "4320             Ho. No. 996 St. No. 67 Sultana abad Khr       A level     BS   \n",
       "4933   House No. 694 St. No. 13 Cement factory colone...         F.Sc.     BS   \n",
       "5623          House No.285 St. No.23  Dhamiyal Chishtian         F.Sc.     BS   \n",
       "5852           Ho. No. 168 St. No. 97 Garrizon Sadiqabad       A level     BS   \n",
       "7117                 House No.483 St. No.37  Dehri Thata            BS     MS   \n",
       "7194                 h no. 292 St. No. 38 Koral Umer Kot            MS     MS   \n",
       "7414                         Ho. No. 193 St. No. 14  Khr          M.Sc     MS   \n",
       "10649      House No.117 St. no.41  Malik abad Bahawalpur         F.Sc.     BS   \n",
       "11692             h no.249 St. no.77  Ramzania Wazirabad          HSSC     BS   \n",
       "\n",
       "      Campus  \n",
       "516      KHR  \n",
       "593      KHR  \n",
       "1282     KHR  \n",
       "2113     KHR  \n",
       "3631     KHR  \n",
       "4167     KHR  \n",
       "4319     KHR  \n",
       "4320     KHR  \n",
       "4933     KHR  \n",
       "5623     KHR  \n",
       "5852     KHR  \n",
       "7117     KHR  \n",
       "7194     KHR  \n",
       "7414     KHR  \n",
       "10649    LHR  \n",
       "11692    LHR  "
      ],
      "text/html": "<div>\n<style scoped>\n    .dataframe tbody tr th:only-of-type {\n        vertical-align: middle;\n    }\n\n    .dataframe tbody tr th {\n        vertical-align: top;\n    }\n\n    .dataframe thead th {\n        text-align: right;\n    }\n</style>\n<table border=\"1\" class=\"dataframe\">\n  <thead>\n    <tr style=\"text-align: right;\">\n      <th></th>\n      <th>SID</th>\n      <th>Name</th>\n      <th>Father</th>\n      <th>DoB</th>\n      <th>Gender</th>\n      <th>Reg Date</th>\n      <th>Reg Status</th>\n      <th>Degree Status</th>\n      <th>Address</th>\n      <th>Qualification</th>\n      <th>Degree</th>\n      <th>Campus</th>\n    </tr>\n  </thead>\n  <tbody>\n    <tr>\n      <th>516</th>\n      <td>KHR_BS_1462</td>\n      <td>Annan Satti</td>\n      <td>Husain Alam Satti</td>\n      <td>29/Feb/78</td>\n      <td>M</td>\n      <td>1996-08-28 00:00:00.000000</td>\n      <td>A</td>\n      <td>C</td>\n      <td>House No.483 St. No.37  Dehri Thata</td>\n      <td>F.Sc.</td>\n      <td>BS</td>\n      <td>KHR</td>\n    </tr>\n    <tr>\n      <th>593</th>\n      <td>KHR_BS_1531</td>\n      <td>Hadiqa Abuzar</td>\n      <td>Abuzar Zeeshan</td>\n      <td>29/Feb/77</td>\n      <td>F</td>\n      <td>1996-08-22 00:00:00.000000</td>\n      <td>A</td>\n      <td>C</td>\n      <td>h no. 292 St. No. 38 Koral Umer Kot</td>\n      <td>HSSC</td>\n      <td>BS</td>\n      <td>KHR</td>\n    </tr>\n    <tr>\n      <th>1282</th>\n      <td>KHR_BS_2151</td>\n      <td>Affan Baig</td>\n      <td>Mohammad Sheharyar Baig</td>\n      <td>29/Feb/79</td>\n      <td>M</td>\n      <td>1997-08-16 00:00:00.000000</td>\n      <td>A</td>\n      <td>C</td>\n      <td>house no.568 St. No.52  Zeenat block Karachi</td>\n      <td>F.Sc.</td>\n      <td>BS</td>\n      <td>KHR</td>\n    </tr>\n    <tr>\n      <th>2113</th>\n      <td>KHR_BS_290</td>\n      <td>Qasim Rehan</td>\n      <td>Rehan Nabeel</td>\n      <td>29/Feb/75</td>\n      <td>M</td>\n      <td>1994-08-29 00:00:00.000000</td>\n      <td>A</td>\n      <td>C</td>\n      <td>Ho. No. 193 St. No. 14 Chand mari Mirpur Khas</td>\n      <td>A level</td>\n      <td>BS</td>\n      <td>KHR</td>\n    </tr>\n    <tr>\n      <th>3631</th>\n      <td>KHR_BS_4266</td>\n      <td>Shafaq Ahmed</td>\n      <td>Ahmed Ajab</td>\n      <td>29/Feb/82</td>\n      <td>F</td>\n      <td>2001-08-21 00:00:00.000000</td>\n      <td>A</td>\n      <td>C</td>\n      <td>Ho. No.405 St. No.57  Doley shah Umer Kot</td>\n      <td>A level</td>\n      <td>BS</td>\n      <td>KHR</td>\n    </tr>\n    <tr>\n      <th>4167</th>\n      <td>KHR_BS_4749</td>\n      <td>Sumiyya Khanzada</td>\n      <td>Arif Khanzada</td>\n      <td>29/Feb/83</td>\n      <td>F</td>\n      <td>2001-08-03 00:00:00.000000</td>\n      <td>A</td>\n      <td>C</td>\n      <td>house no. 609 St. No. 98 Shah latif town Karachi</td>\n      <td>F.Sc.</td>\n      <td>BS</td>\n      <td>KHR</td>\n    </tr>\n    <tr>\n      <th>4319</th>\n      <td>KHR_BS_4886</td>\n      <td>Khushbakht Khanzada</td>\n      <td>Sh. Sarwar Khanzada</td>\n      <td>29/Feb/83</td>\n      <td>F</td>\n      <td>2002-08-16 00:00:00.000000</td>\n      <td>A</td>\n      <td>I</td>\n      <td>h no. 681 St. No. 4 Pwd Coloney KARACHI</td>\n      <td>HSSC</td>\n      <td>BS</td>\n      <td>KHR</td>\n    </tr>\n    <tr>\n      <th>4320</th>\n      <td>KHR_BS_4887</td>\n      <td>Shabir Hussaini</td>\n      <td>Syyed Muazzum Hussaini</td>\n      <td>29/Feb/83</td>\n      <td>M</td>\n      <td>2002-08-19 00:00:00.000000</td>\n      <td>A</td>\n      <td>I</td>\n      <td>Ho. No. 996 St. No. 67 Sultana abad Khr</td>\n      <td>A level</td>\n      <td>BS</td>\n      <td>KHR</td>\n    </tr>\n    <tr>\n      <th>4933</th>\n      <td>KHR_BS_5438</td>\n      <td>Aga Abdus Sammi Khattak</td>\n      <td>Abdul Qadeer Ikram Khattak</td>\n      <td>29/Feb/85</td>\n      <td>M</td>\n      <td>2003-08-20 00:00:00.000000</td>\n      <td>A</td>\n      <td>I</td>\n      <td>House No. 694 St. No. 13 Cement factory colone...</td>\n      <td>F.Sc.</td>\n      <td>BS</td>\n      <td>KHR</td>\n    </tr>\n    <tr>\n      <th>5623</th>\n      <td>KHR_BS_6059</td>\n      <td>Arsalan Chohan</td>\n      <td>Rabbi Daud Chohan</td>\n      <td>29/Feb/86</td>\n      <td>M</td>\n      <td>2004-08-18 00:00:00.000000</td>\n      <td>A</td>\n      <td>I</td>\n      <td>House No.285 St. No.23  Dhamiyal Chishtian</td>\n      <td>F.Sc.</td>\n      <td>BS</td>\n      <td>KHR</td>\n    </tr>\n    <tr>\n      <th>5852</th>\n      <td>KHR_BS_6265</td>\n      <td>Amina Muslim</td>\n      <td>Muslim Shujaat</td>\n      <td>29/Feb/85</td>\n      <td>F</td>\n      <td>2004-08-24 00:00:00.000000</td>\n      <td>A</td>\n      <td>I</td>\n      <td>Ho. No. 168 St. No. 97 Garrizon Sadiqabad</td>\n      <td>A level</td>\n      <td>BS</td>\n      <td>KHR</td>\n    </tr>\n    <tr>\n      <th>7117</th>\n      <td>KHR_MS_1462</td>\n      <td>Mouhammad Ghani Paracha</td>\n      <td>Rehmat Kabir Paracha</td>\n      <td>29/Feb/82</td>\n      <td>M</td>\n      <td>2004-08-28 00:00:00.000000</td>\n      <td>A</td>\n      <td>I</td>\n      <td>House No.483 St. No.37  Dehri Thata</td>\n      <td>BS</td>\n      <td>MS</td>\n      <td>KHR</td>\n    </tr>\n    <tr>\n      <th>7194</th>\n      <td>KHR_MS_1531</td>\n      <td>Arif Amjad</td>\n      <td>Amjad Inayyat</td>\n      <td>29/Feb/81</td>\n      <td>M</td>\n      <td>2004-08-22 00:00:00.000000</td>\n      <td>A</td>\n      <td>I</td>\n      <td>h no. 292 St. No. 38 Koral Umer Kot</td>\n      <td>MS</td>\n      <td>MS</td>\n      <td>KHR</td>\n    </tr>\n    <tr>\n      <th>7414</th>\n      <td>KHR_MS_290</td>\n      <td>Sonia Shaheen Haq</td>\n      <td>Shaheen Haq</td>\n      <td>29/Feb/78</td>\n      <td>F</td>\n      <td>2001-08-29 00:00:00.000000</td>\n      <td>A</td>\n      <td>C</td>\n      <td>Ho. No. 193 St. No. 14  Khr</td>\n      <td>M.Sc</td>\n      <td>MS</td>\n      <td>KHR</td>\n    </tr>\n    <tr>\n      <th>10649</th>\n      <td>LHR_BS_3200</td>\n      <td>Choudhary Abdul Qadir Minhas</td>\n      <td>Viqar Minhas</td>\n      <td>None</td>\n      <td>M</td>\n      <td>2002-08-20 00:00:00.000000</td>\n      <td>A</td>\n      <td>I</td>\n      <td>House No.117 St. no.41  Malik abad Bahawalpur</td>\n      <td>F.Sc.</td>\n      <td>BS</td>\n      <td>LHR</td>\n    </tr>\n    <tr>\n      <th>11692</th>\n      <td>LHR_BS_414</td>\n      <td>Pervaiz Sikandar Sherazi</td>\n      <td>Abdul Mannan Shabeer Sherazi</td>\n      <td>None</td>\n      <td>M</td>\n      <td>1995-08-28 00:00:00.000000</td>\n      <td>A</td>\n      <td>C</td>\n      <td>h no.249 St. no.77  Ramzania Wazirabad</td>\n      <td>HSSC</td>\n      <td>BS</td>\n      <td>LHR</td>\n    </tr>\n  </tbody>\n</table>\n</div>"
     },
     "metadata": {},
     "execution_count": 771
    }
   ],
   "source": [
    "df_std[dob.isnull()]"
   ]
  },
  {
   "source": [
    "Most of the values have 29 Feb as a date in an year which wasn't a **Leap Year**. We can correct them by decrementing the day."
   ],
   "cell_type": "markdown",
   "metadata": {}
  },
  {
   "cell_type": "code",
   "execution_count": 772,
   "metadata": {},
   "outputs": [
    {
     "output_type": "execute_result",
     "data": {
      "text/plain": [
       "16"
      ]
     },
     "metadata": {},
     "execution_count": 772
    }
   ],
   "source": [
    "sum(dob.isnull())"
   ]
  },
  {
   "source": [
    "## No. of Invalid Dates: 16"
   ],
   "cell_type": "markdown",
   "metadata": {}
  },
  {
   "source": [
    "## Total No. of Courses: 120"
   ],
   "cell_type": "markdown",
   "metadata": {}
  },
  {
   "cell_type": "code",
   "execution_count": 129,
   "metadata": {},
   "outputs": [
    {
     "output_type": "execute_result",
     "data": {
      "text/plain": [
       "120"
      ]
     },
     "metadata": {},
     "execution_count": 129
    }
   ],
   "source": [
    "df_reg.Course.nunique()"
   ]
  },
  {
   "source": [
    "## Total no. of Male vs Female students"
   ],
   "cell_type": "markdown",
   "metadata": {}
  },
  {
   "cell_type": "code",
   "execution_count": 807,
   "metadata": {},
   "outputs": [],
   "source": [
    "num_male = sum(df_std.Gender == 'M')\n",
    "num_female = sum(df_std.Gender == 'F')"
   ]
  },
  {
   "cell_type": "code",
   "execution_count": 808,
   "metadata": {},
   "outputs": [
    {
     "output_type": "execute_result",
     "data": {
      "text/plain": [
       "       Males  Females\n",
       "Count   8935     4463"
      ],
      "text/html": "<div>\n<style scoped>\n    .dataframe tbody tr th:only-of-type {\n        vertical-align: middle;\n    }\n\n    .dataframe tbody tr th {\n        vertical-align: top;\n    }\n\n    .dataframe thead th {\n        text-align: right;\n    }\n</style>\n<table border=\"1\" class=\"dataframe\">\n  <thead>\n    <tr style=\"text-align: right;\">\n      <th></th>\n      <th>Males</th>\n      <th>Females</th>\n    </tr>\n  </thead>\n  <tbody>\n    <tr>\n      <th>Count</th>\n      <td>8935</td>\n      <td>4463</td>\n    </tr>\n  </tbody>\n</table>\n</div>"
     },
     "metadata": {},
     "execution_count": 808
    }
   ],
   "source": [
    "pd.DataFrame.from_dict({\"Males\": num_male, \"Females\": num_female}, orient=\"index\", columns=['Count']).T"
   ]
  },
  {
   "source": [
    "This doesn't contain the data from Peshawar Campus."
   ],
   "cell_type": "markdown",
   "metadata": {}
  },
  {
   "source": [
    "## Total No. of people who has taken more than 5 courses in a semester: 41200"
   ],
   "cell_type": "markdown",
   "metadata": {}
  },
  {
   "cell_type": "code",
   "execution_count": 89,
   "metadata": {},
   "outputs": [],
   "source": [
    "grouped_semester_course = df_reg.groupby(['SID', 'Semester', 'Year']).agg({'Course': ['count']})\n",
    "grouped_semester_course.columns = ['count']\n",
    "grouped_semester_course = grouped_semester_course.reset_index()"
   ]
  },
  {
   "cell_type": "code",
   "execution_count": 90,
   "metadata": {},
   "outputs": [
    {
     "output_type": "execute_result",
     "data": {
      "text/plain": [
       "41200"
      ]
     },
     "metadata": {},
     "execution_count": 90
    }
   ],
   "source": [
    "sum(grouped_semester_course['count'] > 5)"
   ]
  },
  {
   "source": [
    "## The relationship between total no. of unique student ID’s and total no. of students\n",
    "\n"
   ],
   "cell_type": "markdown",
   "metadata": {}
  },
  {
   "cell_type": "code",
   "execution_count": 810,
   "metadata": {},
   "outputs": [],
   "source": [
    "total_std = df_std.SID.count()\n",
    "unq_ids = df_std.SID.str.extract('(\\d+)').nunique()"
   ]
  },
  {
   "cell_type": "code",
   "execution_count": 811,
   "metadata": {},
   "outputs": [
    {
     "output_type": "execute_result",
     "data": {
      "text/plain": [
       "       Unique IDs  Total Students\n",
       "Count        6601           17102"
      ],
      "text/html": "<div>\n<style scoped>\n    .dataframe tbody tr th:only-of-type {\n        vertical-align: middle;\n    }\n\n    .dataframe tbody tr th {\n        vertical-align: top;\n    }\n\n    .dataframe thead th {\n        text-align: right;\n    }\n</style>\n<table border=\"1\" class=\"dataframe\">\n  <thead>\n    <tr style=\"text-align: right;\">\n      <th></th>\n      <th>Unique IDs</th>\n      <th>Total Students</th>\n    </tr>\n  </thead>\n  <tbody>\n    <tr>\n      <th>Count</th>\n      <td>6601</td>\n      <td>17102</td>\n    </tr>\n  </tbody>\n</table>\n</div>"
     },
     "metadata": {},
     "execution_count": 811
    }
   ],
   "source": [
    "\n",
    "pd.DataFrame.from_dict({\"Unique IDs\": unq_ids[0], \"Total Students\": total_std}, orient=\"index\", columns=['Count']).T"
   ]
  },
  {
   "source": [
    "## Average no of people per semester of each campus"
   ],
   "cell_type": "markdown",
   "metadata": {}
  },
  {
   "cell_type": "code",
   "execution_count": 813,
   "metadata": {},
   "outputs": [
    {
     "output_type": "execute_result",
     "data": {
      "text/plain": [
       "   Campus Semester                        Year  count\n",
       "0     KHR     Fall  1994-01-01 00:00:00.000000   3600\n",
       "1     KHR     Fall  1995-01-01 00:00:00.000000   7200\n",
       "2     KHR     Fall  1996-01-01 00:00:00.000000   7200\n",
       "3     KHR     Fall  1997-01-01 00:00:00.000000   7200\n",
       "4     KHR     Fall  1998-01-01 00:00:00.000000   3600\n",
       "5     KHR     Fall  2001-01-01 00:00:00.000000   1200\n",
       "6     KHR     Fall  2002-01-01 00:00:00.000000   2400\n",
       "7     KHR     Fall  2003-01-01 00:00:00.000000   2400\n",
       "8     KHR     Fall  2004-01-01 00:00:00.000000   2400\n",
       "9     KHR   Spring  1995-01-01 00:00:00.000000   3600\n",
       "10    KHR   Spring  1996-01-01 00:00:00.000000   7200\n",
       "11    KHR   Spring  1997-01-01 00:00:00.000000   7200\n",
       "12    KHR   Spring  1998-01-01 00:00:00.000000   7200\n",
       "13    KHR   Spring  1999-01-01 00:00:00.000000   3600\n",
       "14    KHR   Spring  2002-01-01 00:00:00.000000   1200\n",
       "15    KHR   Spring  2003-01-01 00:00:00.000000   2400\n",
       "16    KHR   Spring  2004-01-01 00:00:00.000000   2400\n",
       "17    KHR   Spring  2005-01-01 00:00:00.000000   2400\n",
       "18    LHR     Fall  1994-01-01 00:00:00.000000   2400\n",
       "19    LHR     Fall  1995-01-01 00:00:00.000000   4800\n",
       "20    LHR     Fall  1996-01-01 00:00:00.000000   7200\n",
       "21    LHR     Fall  1997-01-01 00:00:00.000000   9600\n",
       "22    LHR     Fall  1998-01-01 00:00:00.000000   9600\n",
       "23    LHR     Fall  1999-01-01 00:00:00.000000   9600\n",
       "24    LHR     Fall  2000-01-01 00:00:00.000000   9600\n",
       "25    LHR     Fall  2001-01-01 00:00:00.000000   9600\n",
       "26    LHR     Fall  2002-01-01 00:00:00.000000   9600\n",
       "27    LHR     Fall  2003-01-01 00:00:00.000000   9600\n",
       "28    LHR     Fall  2004-01-01 00:00:00.000000   9600\n",
       "29    LHR     Fall  2020-01-01 00:00:00.000000   4200\n",
       "30    LHR   Spring  1995-01-01 00:00:00.000000   2400\n",
       "31    LHR   Spring  1996-01-01 00:00:00.000000   4800\n",
       "32    LHR   Spring  1997-01-01 00:00:00.000000   7200\n",
       "33    LHR   Spring  1998-01-01 00:00:00.000000   9600\n",
       "34    LHR   Spring  1999-01-01 00:00:00.000000   9600\n",
       "35    LHR   Spring  2000-01-01 00:00:00.000000   9600\n",
       "36    LHR   Spring  2001-01-01 00:00:00.000000   9600\n",
       "37    LHR   Spring  2002-01-01 00:00:00.000000   9600\n",
       "38    LHR   Spring  2003-01-01 00:00:00.000000   9600\n",
       "39    LHR   Spring  2004-01-01 00:00:00.000000   9600\n",
       "40    LHR   Spring  2005-01-01 00:00:00.000000   9600\n",
       "41    LHR   Spring  2020-01-01 00:00:00.000000   4200\n",
       "42    PEW     Fall  1970-01-01 00:00:00.000001  32400\n",
       "43    PEW     Fall  1970-01-01 00:00:00.000002  38100\n",
       "44    PEW   Spring  1970-01-01 00:00:00.000000   7200\n",
       "45    PEW   Spring  1970-01-01 00:00:00.000001  25200\n",
       "46    PEW   Spring  1970-01-01 00:00:00.000002  38100"
      ],
      "text/html": "<div>\n<style scoped>\n    .dataframe tbody tr th:only-of-type {\n        vertical-align: middle;\n    }\n\n    .dataframe tbody tr th {\n        vertical-align: top;\n    }\n\n    .dataframe thead th {\n        text-align: right;\n    }\n</style>\n<table border=\"1\" class=\"dataframe\">\n  <thead>\n    <tr style=\"text-align: right;\">\n      <th></th>\n      <th>Campus</th>\n      <th>Semester</th>\n      <th>Year</th>\n      <th>count</th>\n    </tr>\n  </thead>\n  <tbody>\n    <tr>\n      <th>0</th>\n      <td>KHR</td>\n      <td>Fall</td>\n      <td>1994-01-01 00:00:00.000000</td>\n      <td>3600</td>\n    </tr>\n    <tr>\n      <th>1</th>\n      <td>KHR</td>\n      <td>Fall</td>\n      <td>1995-01-01 00:00:00.000000</td>\n      <td>7200</td>\n    </tr>\n    <tr>\n      <th>2</th>\n      <td>KHR</td>\n      <td>Fall</td>\n      <td>1996-01-01 00:00:00.000000</td>\n      <td>7200</td>\n    </tr>\n    <tr>\n      <th>3</th>\n      <td>KHR</td>\n      <td>Fall</td>\n      <td>1997-01-01 00:00:00.000000</td>\n      <td>7200</td>\n    </tr>\n    <tr>\n      <th>4</th>\n      <td>KHR</td>\n      <td>Fall</td>\n      <td>1998-01-01 00:00:00.000000</td>\n      <td>3600</td>\n    </tr>\n    <tr>\n      <th>5</th>\n      <td>KHR</td>\n      <td>Fall</td>\n      <td>2001-01-01 00:00:00.000000</td>\n      <td>1200</td>\n    </tr>\n    <tr>\n      <th>6</th>\n      <td>KHR</td>\n      <td>Fall</td>\n      <td>2002-01-01 00:00:00.000000</td>\n      <td>2400</td>\n    </tr>\n    <tr>\n      <th>7</th>\n      <td>KHR</td>\n      <td>Fall</td>\n      <td>2003-01-01 00:00:00.000000</td>\n      <td>2400</td>\n    </tr>\n    <tr>\n      <th>8</th>\n      <td>KHR</td>\n      <td>Fall</td>\n      <td>2004-01-01 00:00:00.000000</td>\n      <td>2400</td>\n    </tr>\n    <tr>\n      <th>9</th>\n      <td>KHR</td>\n      <td>Spring</td>\n      <td>1995-01-01 00:00:00.000000</td>\n      <td>3600</td>\n    </tr>\n    <tr>\n      <th>10</th>\n      <td>KHR</td>\n      <td>Spring</td>\n      <td>1996-01-01 00:00:00.000000</td>\n      <td>7200</td>\n    </tr>\n    <tr>\n      <th>11</th>\n      <td>KHR</td>\n      <td>Spring</td>\n      <td>1997-01-01 00:00:00.000000</td>\n      <td>7200</td>\n    </tr>\n    <tr>\n      <th>12</th>\n      <td>KHR</td>\n      <td>Spring</td>\n      <td>1998-01-01 00:00:00.000000</td>\n      <td>7200</td>\n    </tr>\n    <tr>\n      <th>13</th>\n      <td>KHR</td>\n      <td>Spring</td>\n      <td>1999-01-01 00:00:00.000000</td>\n      <td>3600</td>\n    </tr>\n    <tr>\n      <th>14</th>\n      <td>KHR</td>\n      <td>Spring</td>\n      <td>2002-01-01 00:00:00.000000</td>\n      <td>1200</td>\n    </tr>\n    <tr>\n      <th>15</th>\n      <td>KHR</td>\n      <td>Spring</td>\n      <td>2003-01-01 00:00:00.000000</td>\n      <td>2400</td>\n    </tr>\n    <tr>\n      <th>16</th>\n      <td>KHR</td>\n      <td>Spring</td>\n      <td>2004-01-01 00:00:00.000000</td>\n      <td>2400</td>\n    </tr>\n    <tr>\n      <th>17</th>\n      <td>KHR</td>\n      <td>Spring</td>\n      <td>2005-01-01 00:00:00.000000</td>\n      <td>2400</td>\n    </tr>\n    <tr>\n      <th>18</th>\n      <td>LHR</td>\n      <td>Fall</td>\n      <td>1994-01-01 00:00:00.000000</td>\n      <td>2400</td>\n    </tr>\n    <tr>\n      <th>19</th>\n      <td>LHR</td>\n      <td>Fall</td>\n      <td>1995-01-01 00:00:00.000000</td>\n      <td>4800</td>\n    </tr>\n    <tr>\n      <th>20</th>\n      <td>LHR</td>\n      <td>Fall</td>\n      <td>1996-01-01 00:00:00.000000</td>\n      <td>7200</td>\n    </tr>\n    <tr>\n      <th>21</th>\n      <td>LHR</td>\n      <td>Fall</td>\n      <td>1997-01-01 00:00:00.000000</td>\n      <td>9600</td>\n    </tr>\n    <tr>\n      <th>22</th>\n      <td>LHR</td>\n      <td>Fall</td>\n      <td>1998-01-01 00:00:00.000000</td>\n      <td>9600</td>\n    </tr>\n    <tr>\n      <th>23</th>\n      <td>LHR</td>\n      <td>Fall</td>\n      <td>1999-01-01 00:00:00.000000</td>\n      <td>9600</td>\n    </tr>\n    <tr>\n      <th>24</th>\n      <td>LHR</td>\n      <td>Fall</td>\n      <td>2000-01-01 00:00:00.000000</td>\n      <td>9600</td>\n    </tr>\n    <tr>\n      <th>25</th>\n      <td>LHR</td>\n      <td>Fall</td>\n      <td>2001-01-01 00:00:00.000000</td>\n      <td>9600</td>\n    </tr>\n    <tr>\n      <th>26</th>\n      <td>LHR</td>\n      <td>Fall</td>\n      <td>2002-01-01 00:00:00.000000</td>\n      <td>9600</td>\n    </tr>\n    <tr>\n      <th>27</th>\n      <td>LHR</td>\n      <td>Fall</td>\n      <td>2003-01-01 00:00:00.000000</td>\n      <td>9600</td>\n    </tr>\n    <tr>\n      <th>28</th>\n      <td>LHR</td>\n      <td>Fall</td>\n      <td>2004-01-01 00:00:00.000000</td>\n      <td>9600</td>\n    </tr>\n    <tr>\n      <th>29</th>\n      <td>LHR</td>\n      <td>Fall</td>\n      <td>2020-01-01 00:00:00.000000</td>\n      <td>4200</td>\n    </tr>\n    <tr>\n      <th>30</th>\n      <td>LHR</td>\n      <td>Spring</td>\n      <td>1995-01-01 00:00:00.000000</td>\n      <td>2400</td>\n    </tr>\n    <tr>\n      <th>31</th>\n      <td>LHR</td>\n      <td>Spring</td>\n      <td>1996-01-01 00:00:00.000000</td>\n      <td>4800</td>\n    </tr>\n    <tr>\n      <th>32</th>\n      <td>LHR</td>\n      <td>Spring</td>\n      <td>1997-01-01 00:00:00.000000</td>\n      <td>7200</td>\n    </tr>\n    <tr>\n      <th>33</th>\n      <td>LHR</td>\n      <td>Spring</td>\n      <td>1998-01-01 00:00:00.000000</td>\n      <td>9600</td>\n    </tr>\n    <tr>\n      <th>34</th>\n      <td>LHR</td>\n      <td>Spring</td>\n      <td>1999-01-01 00:00:00.000000</td>\n      <td>9600</td>\n    </tr>\n    <tr>\n      <th>35</th>\n      <td>LHR</td>\n      <td>Spring</td>\n      <td>2000-01-01 00:00:00.000000</td>\n      <td>9600</td>\n    </tr>\n    <tr>\n      <th>36</th>\n      <td>LHR</td>\n      <td>Spring</td>\n      <td>2001-01-01 00:00:00.000000</td>\n      <td>9600</td>\n    </tr>\n    <tr>\n      <th>37</th>\n      <td>LHR</td>\n      <td>Spring</td>\n      <td>2002-01-01 00:00:00.000000</td>\n      <td>9600</td>\n    </tr>\n    <tr>\n      <th>38</th>\n      <td>LHR</td>\n      <td>Spring</td>\n      <td>2003-01-01 00:00:00.000000</td>\n      <td>9600</td>\n    </tr>\n    <tr>\n      <th>39</th>\n      <td>LHR</td>\n      <td>Spring</td>\n      <td>2004-01-01 00:00:00.000000</td>\n      <td>9600</td>\n    </tr>\n    <tr>\n      <th>40</th>\n      <td>LHR</td>\n      <td>Spring</td>\n      <td>2005-01-01 00:00:00.000000</td>\n      <td>9600</td>\n    </tr>\n    <tr>\n      <th>41</th>\n      <td>LHR</td>\n      <td>Spring</td>\n      <td>2020-01-01 00:00:00.000000</td>\n      <td>4200</td>\n    </tr>\n    <tr>\n      <th>42</th>\n      <td>PEW</td>\n      <td>Fall</td>\n      <td>1970-01-01 00:00:00.000001</td>\n      <td>32400</td>\n    </tr>\n    <tr>\n      <th>43</th>\n      <td>PEW</td>\n      <td>Fall</td>\n      <td>1970-01-01 00:00:00.000002</td>\n      <td>38100</td>\n    </tr>\n    <tr>\n      <th>44</th>\n      <td>PEW</td>\n      <td>Spring</td>\n      <td>1970-01-01 00:00:00.000000</td>\n      <td>7200</td>\n    </tr>\n    <tr>\n      <th>45</th>\n      <td>PEW</td>\n      <td>Spring</td>\n      <td>1970-01-01 00:00:00.000001</td>\n      <td>25200</td>\n    </tr>\n    <tr>\n      <th>46</th>\n      <td>PEW</td>\n      <td>Spring</td>\n      <td>1970-01-01 00:00:00.000002</td>\n      <td>38100</td>\n    </tr>\n  </tbody>\n</table>\n</div>"
     },
     "metadata": {},
     "execution_count": 813
    }
   ],
   "source": [
    "grouped_semester_students = df_reg.groupby(['Campus', 'Semester', 'Year']).agg({'SID': ['count']})\n",
    "grouped_semester_students.columns = ['count']\n",
    "grouped_semester_students = grouped_semester_students.reset_index()\n",
    "grouped_semester_students"
   ]
  },
  {
   "cell_type": "code",
   "execution_count": 824,
   "metadata": {},
   "outputs": [
    {
     "output_type": "execute_result",
     "data": {
      "text/plain": [
       "        Average# Students\n",
       "Campus                   \n",
       "KHR           4133.333333\n",
       "LHR           7950.000000\n",
       "PEW          28200.000000"
      ],
      "text/html": "<div>\n<style scoped>\n    .dataframe tbody tr th:only-of-type {\n        vertical-align: middle;\n    }\n\n    .dataframe tbody tr th {\n        vertical-align: top;\n    }\n\n    .dataframe thead th {\n        text-align: right;\n    }\n</style>\n<table border=\"1\" class=\"dataframe\">\n  <thead>\n    <tr style=\"text-align: right;\">\n      <th></th>\n      <th>Average# Students</th>\n    </tr>\n    <tr>\n      <th>Campus</th>\n      <th></th>\n    </tr>\n  </thead>\n  <tbody>\n    <tr>\n      <th>KHR</th>\n      <td>4133.333333</td>\n    </tr>\n    <tr>\n      <th>LHR</th>\n      <td>7950.000000</td>\n    </tr>\n    <tr>\n      <th>PEW</th>\n      <td>28200.000000</td>\n    </tr>\n  </tbody>\n</table>\n</div>"
     },
     "metadata": {},
     "execution_count": 824
    }
   ],
   "source": [
    "avg_semester_students = grouped_semester_students.reset_index().groupby(['Campus']).agg({'count': ['mean']})\n",
    "avg_semester_students.columns = ['Average# Students']\n",
    "# avg_semester_students = avg_semester_students.reset_index()\n",
    "avg_semester_students"
   ]
  },
  {
   "source": [
    "# Data Cleansing"
   ],
   "cell_type": "markdown",
   "metadata": {}
  },
  {
   "source": [
    "- Separate first and last names both for the student and father. Standardize the first and last names."
   ],
   "cell_type": "markdown",
   "metadata": {}
  },
  {
   "cell_type": "code",
   "execution_count": 694,
   "metadata": {},
   "outputs": [],
   "source": [
    "names_list = df_std.Name.str.split().str\n",
    "df_std[\"Std_First_Name\"] = names_list[0:-1].str.join(' ')\n",
    "df_std[\"Std_Last_Name\"] = names_list[-1]"
   ]
  },
  {
   "source": [
    "Let's look at the data where first name is empty."
   ],
   "cell_type": "markdown",
   "metadata": {}
  },
  {
   "cell_type": "code",
   "execution_count": 695,
   "metadata": {},
   "outputs": [
    {
     "output_type": "execute_result",
     "data": {
      "text/plain": [
       "               SID       Name                       Father  \\\n",
       "1037   KHR_BS_1931        Ali                     Ali Ejaz   \n",
       "1675   KHR_BS_2505     Namani                  Umar Namani   \n",
       "2435    KHR_BS_319      Niazi                 Zubair Niazi   \n",
       "2605   KHR_BS_3342   Hussaini        Ismail Munir Hussaini   \n",
       "4257    KHR_BS_483      Munir           Munir Abdul Mujeeb   \n",
       "4264   KHR_BS_4836    Jaffery      Aftab Mustansar Jaffery   \n",
       "5755   KHR_BS_6178    Muazzam                Muazzam Tahir   \n",
       "6170   KHR_BS_6551        Haq          Mouhammed Wajid Haq   \n",
       "6879   KHR_MS_1248   Hussaini        Ismail Munir Hussaini   \n",
       "7445    KHR_MS_318     Namani                  Umar Namani   \n",
       "8833   LHR_BS_1567    Qureshi                Athar Qureshi   \n",
       "10435  LHR_BS_3008      Haque  Nawabzada Adul Qudoos Haque   \n",
       "12011   LHR_BS_467    Kiyyani              Tanveer Kiyyani   \n",
       "13962  PEW_BS_1501     Ansari            Muaz Affan Ansari   \n",
       "14919  PEW_BS_2363       Awan            Jameel Osman Awan   \n",
       "15445  PEW_BS_2837      Waqas                  Waqas Jabir   \n",
       "15491  PEW_BS_2879      Haque           Momd. Husain Haque   \n",
       "15700  PEW_BS_3066     Ansary                 Sonil Ansary   \n",
       "15911  PEW_BS_3256      Shabi                  Shabi Babar   \n",
       "16219   PEW_BS_564    Kiyyani        Mohammed Ajab Kiyyani   \n",
       "16635   PEW_BS_939     Abuzar        Abuzar Shams-ul-Islam   \n",
       "16879   PEW_MS_258   Khanzada         Zafar Amjad Khanzada   \n",
       "\n",
       "                              DoB Gender                    Reg Date  \\\n",
       "1037          1977-01-12 00:00:00      F  1997-08-23 00:00:00.000000   \n",
       "1675          1979-10-11 00:00:00      F  1998-08-12 00:00:00.000000   \n",
       "2435          1976-06-08 00:00:00      F  1994-08-08 00:00:00.000000   \n",
       "2605          1979-10-23 00:00:00      F  1999-08-20 00:00:00.000000   \n",
       "4257          1975-04-11 00:00:00      F  1994-08-21 00:00:00.000000   \n",
       "4264          1982-09-24 00:00:00      F  2002-08-26 00:00:00.000000   \n",
       "5755          1984-07-05 00:00:00      F  2004-08-01 00:00:00.000000   \n",
       "6170          1984-10-13 00:00:00      F  2004-08-01 00:00:00.000000   \n",
       "6879          1981-11-21 00:00:00      F  2004-08-26 00:00:00.000000   \n",
       "7445          1979-09-07 00:00:00      F  2001-08-05 00:00:00.000000   \n",
       "8833   1978-05-16 00:00:00.000000      F  1997-08-23 00:00:00.000000   \n",
       "10435  1983-02-08 00:00:00.000000      F  2001-08-02 00:00:00.000000   \n",
       "12011  1977-06-21 00:00:00.000000      F  1995-08-27 00:00:00.000000   \n",
       "13962  1979-10-19 00:00:00.000000   None  1999-11-08 00:00:00.000000   \n",
       "14919  1983-05-12 00:00:00.000000   None  2001-08-13 00:00:00.000000   \n",
       "15445  1985-09-24 00:00:00.000000   None  2003-08-24 00:00:00.000000   \n",
       "15491  1983-10-19 00:00:00.000000   None  2003-08-16 00:00:00.000000   \n",
       "15700  1986-02-24 00:00:00.000000   None  2004-08-17 00:00:00.000000   \n",
       "15911  1986-01-03 00:00:00.000000   None  2004-08-29 00:00:00.000000   \n",
       "16219  1975-01-28 00:00:00.000000   None  1995-08-25 00:00:00.000000   \n",
       "16635  1977-07-10 00:00:00.000000   None  1997-02-08 00:00:00.000000   \n",
       "16879  1979-01-18 00:00:00.000000   None  2003-12-08 00:00:00.000000   \n",
       "\n",
       "      Reg Status Degree Status  \\\n",
       "1037           A             C   \n",
       "1675           A             C   \n",
       "2435           A             C   \n",
       "2605           A             C   \n",
       "4257           A             C   \n",
       "4264           A             I   \n",
       "5755           A             I   \n",
       "6170           A             I   \n",
       "6879           A             I   \n",
       "7445           A             C   \n",
       "8833           A             C   \n",
       "10435          A             C   \n",
       "12011          A             C   \n",
       "13962          A             C   \n",
       "14919          A             C   \n",
       "15445          A             I   \n",
       "15491          A             I   \n",
       "15700          A             I   \n",
       "15911          A             I   \n",
       "16219          A             C   \n",
       "16635          A             C   \n",
       "16879          A             C   \n",
       "\n",
       "                                                 Address Qualification Degree  \\\n",
       "1037        house # 354 Street No.71  Odean chowk Multan           FSc     BS   \n",
       "1675   h no.680 st. # 86  Kashmir block gulshan iqbal...          HSSC     BS   \n",
       "2435                  House No.404 S# 22  Landhi Karachi         F.Sc.     BS   \n",
       "2605      house # 227 st. # 59  Bara qabrustan Usman Kot           FSc     BS   \n",
       "4257             Ho. no.58 St. # 45  Kamra chowk Karachi       A level     BS   \n",
       "4264      House # 241 street # 54  Cantt. road Sadiqabad           FSc     BS   \n",
       "5755                   H# 304 street no.41  Biyaal Sibbi       A-Level     BS   \n",
       "6170                 h# 16 st. # 25  Shah latif town KHR       A-Level     BS   \n",
       "6879           h no. 620 s no. 64 Factory road Usman Kot            MS     MS   \n",
       "7445              ho. #  89 street #  26 Bander road khr           MSc     MS   \n",
       "8833           Ho. no.169 S No.49  Saidpur road Sargodha       A level     BS   \n",
       "10435             ho. #  799 St. No. 72 Koral Faisalabad           Fsc     BS   \n",
       "12011                Ho. #  865 S#  80 Noorpur Gujrawala           Fsc     BS   \n",
       "13962         house # 535 st. # 35  Nai abadi Hasanabdal           FSc     BS   \n",
       "14919               Ho. # 802 s# 67  College road Gilgit           Fsc     BS   \n",
       "15445        Ho. #  478 street #  14 Shehar bazar Gilgit           Fsc     BS   \n",
       "15491  house # 707 st. # 65  University coloney peshawar           FSc     BS   \n",
       "15700      house no. 220 St. No. 89 Bara market Peshawar         F.Sc.     BS   \n",
       "15911               Ho. #  909 Street #  98 Mandi Gilgit           Fsc     BS   \n",
       "16219  house # 339 Street No.94  Air port coloney pes...           FSc     BS   \n",
       "16635           house # 680 st. # 36  Eid gha Hasanabdal           FSc     BS   \n",
       "16879  H#  807 Street No. 20 Chittian hattian Hasanabdal        M.Phil     MS   \n",
       "\n",
       "      Campus Std_First_Name Std_Last_Name  \n",
       "1037     KHR                          Ali  \n",
       "1675     KHR                       Namani  \n",
       "2435     KHR                        Niazi  \n",
       "2605     KHR                     Hussaini  \n",
       "4257     KHR                        Munir  \n",
       "4264     KHR                      Jaffery  \n",
       "5755     KHR                      Muazzam  \n",
       "6170     KHR                          Haq  \n",
       "6879     KHR                     Hussaini  \n",
       "7445     KHR                       Namani  \n",
       "8833     LHR                      Qureshi  \n",
       "10435    LHR                        Haque  \n",
       "12011    LHR                      Kiyyani  \n",
       "13962    PEW                       Ansari  \n",
       "14919    PEW                         Awan  \n",
       "15445    PEW                        Waqas  \n",
       "15491    PEW                        Haque  \n",
       "15700    PEW                       Ansary  \n",
       "15911    PEW                        Shabi  \n",
       "16219    PEW                      Kiyyani  \n",
       "16635    PEW                       Abuzar  \n",
       "16879    PEW                     Khanzada  "
      ],
      "text/html": "<div>\n<style scoped>\n    .dataframe tbody tr th:only-of-type {\n        vertical-align: middle;\n    }\n\n    .dataframe tbody tr th {\n        vertical-align: top;\n    }\n\n    .dataframe thead th {\n        text-align: right;\n    }\n</style>\n<table border=\"1\" class=\"dataframe\">\n  <thead>\n    <tr style=\"text-align: right;\">\n      <th></th>\n      <th>SID</th>\n      <th>Name</th>\n      <th>Father</th>\n      <th>DoB</th>\n      <th>Gender</th>\n      <th>Reg Date</th>\n      <th>Reg Status</th>\n      <th>Degree Status</th>\n      <th>Address</th>\n      <th>Qualification</th>\n      <th>Degree</th>\n      <th>Campus</th>\n      <th>Std_First_Name</th>\n      <th>Std_Last_Name</th>\n    </tr>\n  </thead>\n  <tbody>\n    <tr>\n      <th>1037</th>\n      <td>KHR_BS_1931</td>\n      <td>Ali</td>\n      <td>Ali Ejaz</td>\n      <td>1977-01-12 00:00:00</td>\n      <td>F</td>\n      <td>1997-08-23 00:00:00.000000</td>\n      <td>A</td>\n      <td>C</td>\n      <td>house # 354 Street No.71  Odean chowk Multan</td>\n      <td>FSc</td>\n      <td>BS</td>\n      <td>KHR</td>\n      <td></td>\n      <td>Ali</td>\n    </tr>\n    <tr>\n      <th>1675</th>\n      <td>KHR_BS_2505</td>\n      <td>Namani</td>\n      <td>Umar Namani</td>\n      <td>1979-10-11 00:00:00</td>\n      <td>F</td>\n      <td>1998-08-12 00:00:00.000000</td>\n      <td>A</td>\n      <td>C</td>\n      <td>h no.680 st. # 86  Kashmir block gulshan iqbal...</td>\n      <td>HSSC</td>\n      <td>BS</td>\n      <td>KHR</td>\n      <td></td>\n      <td>Namani</td>\n    </tr>\n    <tr>\n      <th>2435</th>\n      <td>KHR_BS_319</td>\n      <td>Niazi</td>\n      <td>Zubair Niazi</td>\n      <td>1976-06-08 00:00:00</td>\n      <td>F</td>\n      <td>1994-08-08 00:00:00.000000</td>\n      <td>A</td>\n      <td>C</td>\n      <td>House No.404 S# 22  Landhi Karachi</td>\n      <td>F.Sc.</td>\n      <td>BS</td>\n      <td>KHR</td>\n      <td></td>\n      <td>Niazi</td>\n    </tr>\n    <tr>\n      <th>2605</th>\n      <td>KHR_BS_3342</td>\n      <td>Hussaini</td>\n      <td>Ismail Munir Hussaini</td>\n      <td>1979-10-23 00:00:00</td>\n      <td>F</td>\n      <td>1999-08-20 00:00:00.000000</td>\n      <td>A</td>\n      <td>C</td>\n      <td>house # 227 st. # 59  Bara qabrustan Usman Kot</td>\n      <td>FSc</td>\n      <td>BS</td>\n      <td>KHR</td>\n      <td></td>\n      <td>Hussaini</td>\n    </tr>\n    <tr>\n      <th>4257</th>\n      <td>KHR_BS_483</td>\n      <td>Munir</td>\n      <td>Munir Abdul Mujeeb</td>\n      <td>1975-04-11 00:00:00</td>\n      <td>F</td>\n      <td>1994-08-21 00:00:00.000000</td>\n      <td>A</td>\n      <td>C</td>\n      <td>Ho. no.58 St. # 45  Kamra chowk Karachi</td>\n      <td>A level</td>\n      <td>BS</td>\n      <td>KHR</td>\n      <td></td>\n      <td>Munir</td>\n    </tr>\n    <tr>\n      <th>4264</th>\n      <td>KHR_BS_4836</td>\n      <td>Jaffery</td>\n      <td>Aftab Mustansar Jaffery</td>\n      <td>1982-09-24 00:00:00</td>\n      <td>F</td>\n      <td>2002-08-26 00:00:00.000000</td>\n      <td>A</td>\n      <td>I</td>\n      <td>House # 241 street # 54  Cantt. road Sadiqabad</td>\n      <td>FSc</td>\n      <td>BS</td>\n      <td>KHR</td>\n      <td></td>\n      <td>Jaffery</td>\n    </tr>\n    <tr>\n      <th>5755</th>\n      <td>KHR_BS_6178</td>\n      <td>Muazzam</td>\n      <td>Muazzam Tahir</td>\n      <td>1984-07-05 00:00:00</td>\n      <td>F</td>\n      <td>2004-08-01 00:00:00.000000</td>\n      <td>A</td>\n      <td>I</td>\n      <td>H# 304 street no.41  Biyaal Sibbi</td>\n      <td>A-Level</td>\n      <td>BS</td>\n      <td>KHR</td>\n      <td></td>\n      <td>Muazzam</td>\n    </tr>\n    <tr>\n      <th>6170</th>\n      <td>KHR_BS_6551</td>\n      <td>Haq</td>\n      <td>Mouhammed Wajid Haq</td>\n      <td>1984-10-13 00:00:00</td>\n      <td>F</td>\n      <td>2004-08-01 00:00:00.000000</td>\n      <td>A</td>\n      <td>I</td>\n      <td>h# 16 st. # 25  Shah latif town KHR</td>\n      <td>A-Level</td>\n      <td>BS</td>\n      <td>KHR</td>\n      <td></td>\n      <td>Haq</td>\n    </tr>\n    <tr>\n      <th>6879</th>\n      <td>KHR_MS_1248</td>\n      <td>Hussaini</td>\n      <td>Ismail Munir Hussaini</td>\n      <td>1981-11-21 00:00:00</td>\n      <td>F</td>\n      <td>2004-08-26 00:00:00.000000</td>\n      <td>A</td>\n      <td>I</td>\n      <td>h no. 620 s no. 64 Factory road Usman Kot</td>\n      <td>MS</td>\n      <td>MS</td>\n      <td>KHR</td>\n      <td></td>\n      <td>Hussaini</td>\n    </tr>\n    <tr>\n      <th>7445</th>\n      <td>KHR_MS_318</td>\n      <td>Namani</td>\n      <td>Umar Namani</td>\n      <td>1979-09-07 00:00:00</td>\n      <td>F</td>\n      <td>2001-08-05 00:00:00.000000</td>\n      <td>A</td>\n      <td>C</td>\n      <td>ho. #  89 street #  26 Bander road khr</td>\n      <td>MSc</td>\n      <td>MS</td>\n      <td>KHR</td>\n      <td></td>\n      <td>Namani</td>\n    </tr>\n    <tr>\n      <th>8833</th>\n      <td>LHR_BS_1567</td>\n      <td>Qureshi</td>\n      <td>Athar Qureshi</td>\n      <td>1978-05-16 00:00:00.000000</td>\n      <td>F</td>\n      <td>1997-08-23 00:00:00.000000</td>\n      <td>A</td>\n      <td>C</td>\n      <td>Ho. no.169 S No.49  Saidpur road Sargodha</td>\n      <td>A level</td>\n      <td>BS</td>\n      <td>LHR</td>\n      <td></td>\n      <td>Qureshi</td>\n    </tr>\n    <tr>\n      <th>10435</th>\n      <td>LHR_BS_3008</td>\n      <td>Haque</td>\n      <td>Nawabzada Adul Qudoos Haque</td>\n      <td>1983-02-08 00:00:00.000000</td>\n      <td>F</td>\n      <td>2001-08-02 00:00:00.000000</td>\n      <td>A</td>\n      <td>C</td>\n      <td>ho. #  799 St. No. 72 Koral Faisalabad</td>\n      <td>Fsc</td>\n      <td>BS</td>\n      <td>LHR</td>\n      <td></td>\n      <td>Haque</td>\n    </tr>\n    <tr>\n      <th>12011</th>\n      <td>LHR_BS_467</td>\n      <td>Kiyyani</td>\n      <td>Tanveer Kiyyani</td>\n      <td>1977-06-21 00:00:00.000000</td>\n      <td>F</td>\n      <td>1995-08-27 00:00:00.000000</td>\n      <td>A</td>\n      <td>C</td>\n      <td>Ho. #  865 S#  80 Noorpur Gujrawala</td>\n      <td>Fsc</td>\n      <td>BS</td>\n      <td>LHR</td>\n      <td></td>\n      <td>Kiyyani</td>\n    </tr>\n    <tr>\n      <th>13962</th>\n      <td>PEW_BS_1501</td>\n      <td>Ansari</td>\n      <td>Muaz Affan Ansari</td>\n      <td>1979-10-19 00:00:00.000000</td>\n      <td>None</td>\n      <td>1999-11-08 00:00:00.000000</td>\n      <td>A</td>\n      <td>C</td>\n      <td>house # 535 st. # 35  Nai abadi Hasanabdal</td>\n      <td>FSc</td>\n      <td>BS</td>\n      <td>PEW</td>\n      <td></td>\n      <td>Ansari</td>\n    </tr>\n    <tr>\n      <th>14919</th>\n      <td>PEW_BS_2363</td>\n      <td>Awan</td>\n      <td>Jameel Osman Awan</td>\n      <td>1983-05-12 00:00:00.000000</td>\n      <td>None</td>\n      <td>2001-08-13 00:00:00.000000</td>\n      <td>A</td>\n      <td>C</td>\n      <td>Ho. # 802 s# 67  College road Gilgit</td>\n      <td>Fsc</td>\n      <td>BS</td>\n      <td>PEW</td>\n      <td></td>\n      <td>Awan</td>\n    </tr>\n    <tr>\n      <th>15445</th>\n      <td>PEW_BS_2837</td>\n      <td>Waqas</td>\n      <td>Waqas Jabir</td>\n      <td>1985-09-24 00:00:00.000000</td>\n      <td>None</td>\n      <td>2003-08-24 00:00:00.000000</td>\n      <td>A</td>\n      <td>I</td>\n      <td>Ho. #  478 street #  14 Shehar bazar Gilgit</td>\n      <td>Fsc</td>\n      <td>BS</td>\n      <td>PEW</td>\n      <td></td>\n      <td>Waqas</td>\n    </tr>\n    <tr>\n      <th>15491</th>\n      <td>PEW_BS_2879</td>\n      <td>Haque</td>\n      <td>Momd. Husain Haque</td>\n      <td>1983-10-19 00:00:00.000000</td>\n      <td>None</td>\n      <td>2003-08-16 00:00:00.000000</td>\n      <td>A</td>\n      <td>I</td>\n      <td>house # 707 st. # 65  University coloney peshawar</td>\n      <td>FSc</td>\n      <td>BS</td>\n      <td>PEW</td>\n      <td></td>\n      <td>Haque</td>\n    </tr>\n    <tr>\n      <th>15700</th>\n      <td>PEW_BS_3066</td>\n      <td>Ansary</td>\n      <td>Sonil Ansary</td>\n      <td>1986-02-24 00:00:00.000000</td>\n      <td>None</td>\n      <td>2004-08-17 00:00:00.000000</td>\n      <td>A</td>\n      <td>I</td>\n      <td>house no. 220 St. No. 89 Bara market Peshawar</td>\n      <td>F.Sc.</td>\n      <td>BS</td>\n      <td>PEW</td>\n      <td></td>\n      <td>Ansary</td>\n    </tr>\n    <tr>\n      <th>15911</th>\n      <td>PEW_BS_3256</td>\n      <td>Shabi</td>\n      <td>Shabi Babar</td>\n      <td>1986-01-03 00:00:00.000000</td>\n      <td>None</td>\n      <td>2004-08-29 00:00:00.000000</td>\n      <td>A</td>\n      <td>I</td>\n      <td>Ho. #  909 Street #  98 Mandi Gilgit</td>\n      <td>Fsc</td>\n      <td>BS</td>\n      <td>PEW</td>\n      <td></td>\n      <td>Shabi</td>\n    </tr>\n    <tr>\n      <th>16219</th>\n      <td>PEW_BS_564</td>\n      <td>Kiyyani</td>\n      <td>Mohammed Ajab Kiyyani</td>\n      <td>1975-01-28 00:00:00.000000</td>\n      <td>None</td>\n      <td>1995-08-25 00:00:00.000000</td>\n      <td>A</td>\n      <td>C</td>\n      <td>house # 339 Street No.94  Air port coloney pes...</td>\n      <td>FSc</td>\n      <td>BS</td>\n      <td>PEW</td>\n      <td></td>\n      <td>Kiyyani</td>\n    </tr>\n    <tr>\n      <th>16635</th>\n      <td>PEW_BS_939</td>\n      <td>Abuzar</td>\n      <td>Abuzar Shams-ul-Islam</td>\n      <td>1977-07-10 00:00:00.000000</td>\n      <td>None</td>\n      <td>1997-02-08 00:00:00.000000</td>\n      <td>A</td>\n      <td>C</td>\n      <td>house # 680 st. # 36  Eid gha Hasanabdal</td>\n      <td>FSc</td>\n      <td>BS</td>\n      <td>PEW</td>\n      <td></td>\n      <td>Abuzar</td>\n    </tr>\n    <tr>\n      <th>16879</th>\n      <td>PEW_MS_258</td>\n      <td>Khanzada</td>\n      <td>Zafar Amjad Khanzada</td>\n      <td>1979-01-18 00:00:00.000000</td>\n      <td>None</td>\n      <td>2003-12-08 00:00:00.000000</td>\n      <td>A</td>\n      <td>C</td>\n      <td>H#  807 Street No. 20 Chittian hattian Hasanabdal</td>\n      <td>M.Phil</td>\n      <td>MS</td>\n      <td>PEW</td>\n      <td></td>\n      <td>Khanzada</td>\n    </tr>\n  </tbody>\n</table>\n</div>"
     },
     "metadata": {},
     "execution_count": 695
    }
   ],
   "source": [
    "df_std[df_std.Std_First_Name == \"\"]"
   ]
  },
  {
   "source": [
    "By looking at the data, it seems that Father's name is typed in place of Student's Name by mistake. We can interchange their order, and then try to extract first and last names again."
   ],
   "cell_type": "markdown",
   "metadata": {}
  },
  {
   "cell_type": "code",
   "execution_count": 696,
   "metadata": {},
   "outputs": [
    {
     "output_type": "execute_result",
     "data": {
      "text/plain": [
       "               SID                         Name     Father  \\\n",
       "1037   KHR_BS_1931                     Ali Ejaz        Ali   \n",
       "1675   KHR_BS_2505                  Umar Namani     Namani   \n",
       "2435    KHR_BS_319                 Zubair Niazi      Niazi   \n",
       "2605   KHR_BS_3342        Ismail Munir Hussaini   Hussaini   \n",
       "4257    KHR_BS_483           Munir Abdul Mujeeb      Munir   \n",
       "4264   KHR_BS_4836      Aftab Mustansar Jaffery    Jaffery   \n",
       "5755   KHR_BS_6178                Muazzam Tahir    Muazzam   \n",
       "6170   KHR_BS_6551          Mouhammed Wajid Haq        Haq   \n",
       "6879   KHR_MS_1248        Ismail Munir Hussaini   Hussaini   \n",
       "7445    KHR_MS_318                  Umar Namani     Namani   \n",
       "8833   LHR_BS_1567                Athar Qureshi    Qureshi   \n",
       "10435  LHR_BS_3008  Nawabzada Adul Qudoos Haque      Haque   \n",
       "12011   LHR_BS_467              Tanveer Kiyyani    Kiyyani   \n",
       "13962  PEW_BS_1501            Muaz Affan Ansari     Ansari   \n",
       "14919  PEW_BS_2363            Jameel Osman Awan       Awan   \n",
       "15445  PEW_BS_2837                  Waqas Jabir      Waqas   \n",
       "15491  PEW_BS_2879           Momd. Husain Haque      Haque   \n",
       "15700  PEW_BS_3066                 Sonil Ansary     Ansary   \n",
       "15911  PEW_BS_3256                  Shabi Babar      Shabi   \n",
       "16219   PEW_BS_564        Mohammed Ajab Kiyyani    Kiyyani   \n",
       "16635   PEW_BS_939        Abuzar Shams-ul-Islam     Abuzar   \n",
       "16879   PEW_MS_258         Zafar Amjad Khanzada   Khanzada   \n",
       "\n",
       "                              DoB Gender                    Reg Date  \\\n",
       "1037          1977-01-12 00:00:00      F  1997-08-23 00:00:00.000000   \n",
       "1675          1979-10-11 00:00:00      F  1998-08-12 00:00:00.000000   \n",
       "2435          1976-06-08 00:00:00      F  1994-08-08 00:00:00.000000   \n",
       "2605          1979-10-23 00:00:00      F  1999-08-20 00:00:00.000000   \n",
       "4257          1975-04-11 00:00:00      F  1994-08-21 00:00:00.000000   \n",
       "4264          1982-09-24 00:00:00      F  2002-08-26 00:00:00.000000   \n",
       "5755          1984-07-05 00:00:00      F  2004-08-01 00:00:00.000000   \n",
       "6170          1984-10-13 00:00:00      F  2004-08-01 00:00:00.000000   \n",
       "6879          1981-11-21 00:00:00      F  2004-08-26 00:00:00.000000   \n",
       "7445          1979-09-07 00:00:00      F  2001-08-05 00:00:00.000000   \n",
       "8833   1978-05-16 00:00:00.000000      F  1997-08-23 00:00:00.000000   \n",
       "10435  1983-02-08 00:00:00.000000      F  2001-08-02 00:00:00.000000   \n",
       "12011  1977-06-21 00:00:00.000000      F  1995-08-27 00:00:00.000000   \n",
       "13962  1979-10-19 00:00:00.000000   None  1999-11-08 00:00:00.000000   \n",
       "14919  1983-05-12 00:00:00.000000   None  2001-08-13 00:00:00.000000   \n",
       "15445  1985-09-24 00:00:00.000000   None  2003-08-24 00:00:00.000000   \n",
       "15491  1983-10-19 00:00:00.000000   None  2003-08-16 00:00:00.000000   \n",
       "15700  1986-02-24 00:00:00.000000   None  2004-08-17 00:00:00.000000   \n",
       "15911  1986-01-03 00:00:00.000000   None  2004-08-29 00:00:00.000000   \n",
       "16219  1975-01-28 00:00:00.000000   None  1995-08-25 00:00:00.000000   \n",
       "16635  1977-07-10 00:00:00.000000   None  1997-02-08 00:00:00.000000   \n",
       "16879  1979-01-18 00:00:00.000000   None  2003-12-08 00:00:00.000000   \n",
       "\n",
       "      Reg Status Degree Status  \\\n",
       "1037           A             C   \n",
       "1675           A             C   \n",
       "2435           A             C   \n",
       "2605           A             C   \n",
       "4257           A             C   \n",
       "4264           A             I   \n",
       "5755           A             I   \n",
       "6170           A             I   \n",
       "6879           A             I   \n",
       "7445           A             C   \n",
       "8833           A             C   \n",
       "10435          A             C   \n",
       "12011          A             C   \n",
       "13962          A             C   \n",
       "14919          A             C   \n",
       "15445          A             I   \n",
       "15491          A             I   \n",
       "15700          A             I   \n",
       "15911          A             I   \n",
       "16219          A             C   \n",
       "16635          A             C   \n",
       "16879          A             C   \n",
       "\n",
       "                                                 Address Qualification Degree  \\\n",
       "1037        house # 354 Street No.71  Odean chowk Multan           FSc     BS   \n",
       "1675   h no.680 st. # 86  Kashmir block gulshan iqbal...          HSSC     BS   \n",
       "2435                  House No.404 S# 22  Landhi Karachi         F.Sc.     BS   \n",
       "2605      house # 227 st. # 59  Bara qabrustan Usman Kot           FSc     BS   \n",
       "4257             Ho. no.58 St. # 45  Kamra chowk Karachi       A level     BS   \n",
       "4264      House # 241 street # 54  Cantt. road Sadiqabad           FSc     BS   \n",
       "5755                   H# 304 street no.41  Biyaal Sibbi       A-Level     BS   \n",
       "6170                 h# 16 st. # 25  Shah latif town KHR       A-Level     BS   \n",
       "6879           h no. 620 s no. 64 Factory road Usman Kot            MS     MS   \n",
       "7445              ho. #  89 street #  26 Bander road khr           MSc     MS   \n",
       "8833           Ho. no.169 S No.49  Saidpur road Sargodha       A level     BS   \n",
       "10435             ho. #  799 St. No. 72 Koral Faisalabad           Fsc     BS   \n",
       "12011                Ho. #  865 S#  80 Noorpur Gujrawala           Fsc     BS   \n",
       "13962         house # 535 st. # 35  Nai abadi Hasanabdal           FSc     BS   \n",
       "14919               Ho. # 802 s# 67  College road Gilgit           Fsc     BS   \n",
       "15445        Ho. #  478 street #  14 Shehar bazar Gilgit           Fsc     BS   \n",
       "15491  house # 707 st. # 65  University coloney peshawar           FSc     BS   \n",
       "15700      house no. 220 St. No. 89 Bara market Peshawar         F.Sc.     BS   \n",
       "15911               Ho. #  909 Street #  98 Mandi Gilgit           Fsc     BS   \n",
       "16219  house # 339 Street No.94  Air port coloney pes...           FSc     BS   \n",
       "16635           house # 680 st. # 36  Eid gha Hasanabdal           FSc     BS   \n",
       "16879  H#  807 Street No. 20 Chittian hattian Hasanabdal        M.Phil     MS   \n",
       "\n",
       "      Campus Std_First_Name Std_Last_Name  \n",
       "1037     KHR                          Ali  \n",
       "1675     KHR                       Namani  \n",
       "2435     KHR                        Niazi  \n",
       "2605     KHR                     Hussaini  \n",
       "4257     KHR                        Munir  \n",
       "4264     KHR                      Jaffery  \n",
       "5755     KHR                      Muazzam  \n",
       "6170     KHR                          Haq  \n",
       "6879     KHR                     Hussaini  \n",
       "7445     KHR                       Namani  \n",
       "8833     LHR                      Qureshi  \n",
       "10435    LHR                        Haque  \n",
       "12011    LHR                      Kiyyani  \n",
       "13962    PEW                       Ansari  \n",
       "14919    PEW                         Awan  \n",
       "15445    PEW                        Waqas  \n",
       "15491    PEW                        Haque  \n",
       "15700    PEW                       Ansary  \n",
       "15911    PEW                        Shabi  \n",
       "16219    PEW                      Kiyyani  \n",
       "16635    PEW                       Abuzar  \n",
       "16879    PEW                     Khanzada  "
      ],
      "text/html": "<div>\n<style scoped>\n    .dataframe tbody tr th:only-of-type {\n        vertical-align: middle;\n    }\n\n    .dataframe tbody tr th {\n        vertical-align: top;\n    }\n\n    .dataframe thead th {\n        text-align: right;\n    }\n</style>\n<table border=\"1\" class=\"dataframe\">\n  <thead>\n    <tr style=\"text-align: right;\">\n      <th></th>\n      <th>SID</th>\n      <th>Name</th>\n      <th>Father</th>\n      <th>DoB</th>\n      <th>Gender</th>\n      <th>Reg Date</th>\n      <th>Reg Status</th>\n      <th>Degree Status</th>\n      <th>Address</th>\n      <th>Qualification</th>\n      <th>Degree</th>\n      <th>Campus</th>\n      <th>Std_First_Name</th>\n      <th>Std_Last_Name</th>\n    </tr>\n  </thead>\n  <tbody>\n    <tr>\n      <th>1037</th>\n      <td>KHR_BS_1931</td>\n      <td>Ali Ejaz</td>\n      <td>Ali</td>\n      <td>1977-01-12 00:00:00</td>\n      <td>F</td>\n      <td>1997-08-23 00:00:00.000000</td>\n      <td>A</td>\n      <td>C</td>\n      <td>house # 354 Street No.71  Odean chowk Multan</td>\n      <td>FSc</td>\n      <td>BS</td>\n      <td>KHR</td>\n      <td></td>\n      <td>Ali</td>\n    </tr>\n    <tr>\n      <th>1675</th>\n      <td>KHR_BS_2505</td>\n      <td>Umar Namani</td>\n      <td>Namani</td>\n      <td>1979-10-11 00:00:00</td>\n      <td>F</td>\n      <td>1998-08-12 00:00:00.000000</td>\n      <td>A</td>\n      <td>C</td>\n      <td>h no.680 st. # 86  Kashmir block gulshan iqbal...</td>\n      <td>HSSC</td>\n      <td>BS</td>\n      <td>KHR</td>\n      <td></td>\n      <td>Namani</td>\n    </tr>\n    <tr>\n      <th>2435</th>\n      <td>KHR_BS_319</td>\n      <td>Zubair Niazi</td>\n      <td>Niazi</td>\n      <td>1976-06-08 00:00:00</td>\n      <td>F</td>\n      <td>1994-08-08 00:00:00.000000</td>\n      <td>A</td>\n      <td>C</td>\n      <td>House No.404 S# 22  Landhi Karachi</td>\n      <td>F.Sc.</td>\n      <td>BS</td>\n      <td>KHR</td>\n      <td></td>\n      <td>Niazi</td>\n    </tr>\n    <tr>\n      <th>2605</th>\n      <td>KHR_BS_3342</td>\n      <td>Ismail Munir Hussaini</td>\n      <td>Hussaini</td>\n      <td>1979-10-23 00:00:00</td>\n      <td>F</td>\n      <td>1999-08-20 00:00:00.000000</td>\n      <td>A</td>\n      <td>C</td>\n      <td>house # 227 st. # 59  Bara qabrustan Usman Kot</td>\n      <td>FSc</td>\n      <td>BS</td>\n      <td>KHR</td>\n      <td></td>\n      <td>Hussaini</td>\n    </tr>\n    <tr>\n      <th>4257</th>\n      <td>KHR_BS_483</td>\n      <td>Munir Abdul Mujeeb</td>\n      <td>Munir</td>\n      <td>1975-04-11 00:00:00</td>\n      <td>F</td>\n      <td>1994-08-21 00:00:00.000000</td>\n      <td>A</td>\n      <td>C</td>\n      <td>Ho. no.58 St. # 45  Kamra chowk Karachi</td>\n      <td>A level</td>\n      <td>BS</td>\n      <td>KHR</td>\n      <td></td>\n      <td>Munir</td>\n    </tr>\n    <tr>\n      <th>4264</th>\n      <td>KHR_BS_4836</td>\n      <td>Aftab Mustansar Jaffery</td>\n      <td>Jaffery</td>\n      <td>1982-09-24 00:00:00</td>\n      <td>F</td>\n      <td>2002-08-26 00:00:00.000000</td>\n      <td>A</td>\n      <td>I</td>\n      <td>House # 241 street # 54  Cantt. road Sadiqabad</td>\n      <td>FSc</td>\n      <td>BS</td>\n      <td>KHR</td>\n      <td></td>\n      <td>Jaffery</td>\n    </tr>\n    <tr>\n      <th>5755</th>\n      <td>KHR_BS_6178</td>\n      <td>Muazzam Tahir</td>\n      <td>Muazzam</td>\n      <td>1984-07-05 00:00:00</td>\n      <td>F</td>\n      <td>2004-08-01 00:00:00.000000</td>\n      <td>A</td>\n      <td>I</td>\n      <td>H# 304 street no.41  Biyaal Sibbi</td>\n      <td>A-Level</td>\n      <td>BS</td>\n      <td>KHR</td>\n      <td></td>\n      <td>Muazzam</td>\n    </tr>\n    <tr>\n      <th>6170</th>\n      <td>KHR_BS_6551</td>\n      <td>Mouhammed Wajid Haq</td>\n      <td>Haq</td>\n      <td>1984-10-13 00:00:00</td>\n      <td>F</td>\n      <td>2004-08-01 00:00:00.000000</td>\n      <td>A</td>\n      <td>I</td>\n      <td>h# 16 st. # 25  Shah latif town KHR</td>\n      <td>A-Level</td>\n      <td>BS</td>\n      <td>KHR</td>\n      <td></td>\n      <td>Haq</td>\n    </tr>\n    <tr>\n      <th>6879</th>\n      <td>KHR_MS_1248</td>\n      <td>Ismail Munir Hussaini</td>\n      <td>Hussaini</td>\n      <td>1981-11-21 00:00:00</td>\n      <td>F</td>\n      <td>2004-08-26 00:00:00.000000</td>\n      <td>A</td>\n      <td>I</td>\n      <td>h no. 620 s no. 64 Factory road Usman Kot</td>\n      <td>MS</td>\n      <td>MS</td>\n      <td>KHR</td>\n      <td></td>\n      <td>Hussaini</td>\n    </tr>\n    <tr>\n      <th>7445</th>\n      <td>KHR_MS_318</td>\n      <td>Umar Namani</td>\n      <td>Namani</td>\n      <td>1979-09-07 00:00:00</td>\n      <td>F</td>\n      <td>2001-08-05 00:00:00.000000</td>\n      <td>A</td>\n      <td>C</td>\n      <td>ho. #  89 street #  26 Bander road khr</td>\n      <td>MSc</td>\n      <td>MS</td>\n      <td>KHR</td>\n      <td></td>\n      <td>Namani</td>\n    </tr>\n    <tr>\n      <th>8833</th>\n      <td>LHR_BS_1567</td>\n      <td>Athar Qureshi</td>\n      <td>Qureshi</td>\n      <td>1978-05-16 00:00:00.000000</td>\n      <td>F</td>\n      <td>1997-08-23 00:00:00.000000</td>\n      <td>A</td>\n      <td>C</td>\n      <td>Ho. no.169 S No.49  Saidpur road Sargodha</td>\n      <td>A level</td>\n      <td>BS</td>\n      <td>LHR</td>\n      <td></td>\n      <td>Qureshi</td>\n    </tr>\n    <tr>\n      <th>10435</th>\n      <td>LHR_BS_3008</td>\n      <td>Nawabzada Adul Qudoos Haque</td>\n      <td>Haque</td>\n      <td>1983-02-08 00:00:00.000000</td>\n      <td>F</td>\n      <td>2001-08-02 00:00:00.000000</td>\n      <td>A</td>\n      <td>C</td>\n      <td>ho. #  799 St. No. 72 Koral Faisalabad</td>\n      <td>Fsc</td>\n      <td>BS</td>\n      <td>LHR</td>\n      <td></td>\n      <td>Haque</td>\n    </tr>\n    <tr>\n      <th>12011</th>\n      <td>LHR_BS_467</td>\n      <td>Tanveer Kiyyani</td>\n      <td>Kiyyani</td>\n      <td>1977-06-21 00:00:00.000000</td>\n      <td>F</td>\n      <td>1995-08-27 00:00:00.000000</td>\n      <td>A</td>\n      <td>C</td>\n      <td>Ho. #  865 S#  80 Noorpur Gujrawala</td>\n      <td>Fsc</td>\n      <td>BS</td>\n      <td>LHR</td>\n      <td></td>\n      <td>Kiyyani</td>\n    </tr>\n    <tr>\n      <th>13962</th>\n      <td>PEW_BS_1501</td>\n      <td>Muaz Affan Ansari</td>\n      <td>Ansari</td>\n      <td>1979-10-19 00:00:00.000000</td>\n      <td>None</td>\n      <td>1999-11-08 00:00:00.000000</td>\n      <td>A</td>\n      <td>C</td>\n      <td>house # 535 st. # 35  Nai abadi Hasanabdal</td>\n      <td>FSc</td>\n      <td>BS</td>\n      <td>PEW</td>\n      <td></td>\n      <td>Ansari</td>\n    </tr>\n    <tr>\n      <th>14919</th>\n      <td>PEW_BS_2363</td>\n      <td>Jameel Osman Awan</td>\n      <td>Awan</td>\n      <td>1983-05-12 00:00:00.000000</td>\n      <td>None</td>\n      <td>2001-08-13 00:00:00.000000</td>\n      <td>A</td>\n      <td>C</td>\n      <td>Ho. # 802 s# 67  College road Gilgit</td>\n      <td>Fsc</td>\n      <td>BS</td>\n      <td>PEW</td>\n      <td></td>\n      <td>Awan</td>\n    </tr>\n    <tr>\n      <th>15445</th>\n      <td>PEW_BS_2837</td>\n      <td>Waqas Jabir</td>\n      <td>Waqas</td>\n      <td>1985-09-24 00:00:00.000000</td>\n      <td>None</td>\n      <td>2003-08-24 00:00:00.000000</td>\n      <td>A</td>\n      <td>I</td>\n      <td>Ho. #  478 street #  14 Shehar bazar Gilgit</td>\n      <td>Fsc</td>\n      <td>BS</td>\n      <td>PEW</td>\n      <td></td>\n      <td>Waqas</td>\n    </tr>\n    <tr>\n      <th>15491</th>\n      <td>PEW_BS_2879</td>\n      <td>Momd. Husain Haque</td>\n      <td>Haque</td>\n      <td>1983-10-19 00:00:00.000000</td>\n      <td>None</td>\n      <td>2003-08-16 00:00:00.000000</td>\n      <td>A</td>\n      <td>I</td>\n      <td>house # 707 st. # 65  University coloney peshawar</td>\n      <td>FSc</td>\n      <td>BS</td>\n      <td>PEW</td>\n      <td></td>\n      <td>Haque</td>\n    </tr>\n    <tr>\n      <th>15700</th>\n      <td>PEW_BS_3066</td>\n      <td>Sonil Ansary</td>\n      <td>Ansary</td>\n      <td>1986-02-24 00:00:00.000000</td>\n      <td>None</td>\n      <td>2004-08-17 00:00:00.000000</td>\n      <td>A</td>\n      <td>I</td>\n      <td>house no. 220 St. No. 89 Bara market Peshawar</td>\n      <td>F.Sc.</td>\n      <td>BS</td>\n      <td>PEW</td>\n      <td></td>\n      <td>Ansary</td>\n    </tr>\n    <tr>\n      <th>15911</th>\n      <td>PEW_BS_3256</td>\n      <td>Shabi Babar</td>\n      <td>Shabi</td>\n      <td>1986-01-03 00:00:00.000000</td>\n      <td>None</td>\n      <td>2004-08-29 00:00:00.000000</td>\n      <td>A</td>\n      <td>I</td>\n      <td>Ho. #  909 Street #  98 Mandi Gilgit</td>\n      <td>Fsc</td>\n      <td>BS</td>\n      <td>PEW</td>\n      <td></td>\n      <td>Shabi</td>\n    </tr>\n    <tr>\n      <th>16219</th>\n      <td>PEW_BS_564</td>\n      <td>Mohammed Ajab Kiyyani</td>\n      <td>Kiyyani</td>\n      <td>1975-01-28 00:00:00.000000</td>\n      <td>None</td>\n      <td>1995-08-25 00:00:00.000000</td>\n      <td>A</td>\n      <td>C</td>\n      <td>house # 339 Street No.94  Air port coloney pes...</td>\n      <td>FSc</td>\n      <td>BS</td>\n      <td>PEW</td>\n      <td></td>\n      <td>Kiyyani</td>\n    </tr>\n    <tr>\n      <th>16635</th>\n      <td>PEW_BS_939</td>\n      <td>Abuzar Shams-ul-Islam</td>\n      <td>Abuzar</td>\n      <td>1977-07-10 00:00:00.000000</td>\n      <td>None</td>\n      <td>1997-02-08 00:00:00.000000</td>\n      <td>A</td>\n      <td>C</td>\n      <td>house # 680 st. # 36  Eid gha Hasanabdal</td>\n      <td>FSc</td>\n      <td>BS</td>\n      <td>PEW</td>\n      <td></td>\n      <td>Abuzar</td>\n    </tr>\n    <tr>\n      <th>16879</th>\n      <td>PEW_MS_258</td>\n      <td>Zafar Amjad Khanzada</td>\n      <td>Khanzada</td>\n      <td>1979-01-18 00:00:00.000000</td>\n      <td>None</td>\n      <td>2003-12-08 00:00:00.000000</td>\n      <td>A</td>\n      <td>C</td>\n      <td>H#  807 Street No. 20 Chittian hattian Hasanabdal</td>\n      <td>M.Phil</td>\n      <td>MS</td>\n      <td>PEW</td>\n      <td></td>\n      <td>Khanzada</td>\n    </tr>\n  </tbody>\n</table>\n</div>"
     },
     "metadata": {},
     "execution_count": 696
    }
   ],
   "source": [
    "m = df_std.Std_First_Name == ''\n",
    "df_std.loc[m, ['Name', 'Father']] = (df.loc[m, ['Father', 'Name']].values)\n",
    "df_std[df_std.Std_First_Name == \"\"]"
   ]
  },
  {
   "cell_type": "code",
   "execution_count": 697,
   "metadata": {},
   "outputs": [],
   "source": [
    "names_list = df_std.Name.str.split().str\n",
    "df_std[\"Std_First_Name\"] = names_list[0:-1].str.join(' ')\n",
    "df_std[\"Std_Last_Name\"] = names_list[-1]"
   ]
  },
  {
   "cell_type": "code",
   "execution_count": 698,
   "metadata": {},
   "outputs": [
    {
     "output_type": "execute_result",
     "data": {
      "text/plain": [
       "Empty DataFrame\n",
       "Columns: [SID, Name, Father, DoB, Gender, Reg Date, Reg Status, Degree Status, Address, Qualification, Degree, Campus, Std_First_Name, Std_Last_Name]\n",
       "Index: []"
      ],
      "text/html": "<div>\n<style scoped>\n    .dataframe tbody tr th:only-of-type {\n        vertical-align: middle;\n    }\n\n    .dataframe tbody tr th {\n        vertical-align: top;\n    }\n\n    .dataframe thead th {\n        text-align: right;\n    }\n</style>\n<table border=\"1\" class=\"dataframe\">\n  <thead>\n    <tr style=\"text-align: right;\">\n      <th></th>\n      <th>SID</th>\n      <th>Name</th>\n      <th>Father</th>\n      <th>DoB</th>\n      <th>Gender</th>\n      <th>Reg Date</th>\n      <th>Reg Status</th>\n      <th>Degree Status</th>\n      <th>Address</th>\n      <th>Qualification</th>\n      <th>Degree</th>\n      <th>Campus</th>\n      <th>Std_First_Name</th>\n      <th>Std_Last_Name</th>\n    </tr>\n  </thead>\n  <tbody>\n  </tbody>\n</table>\n</div>"
     },
     "metadata": {},
     "execution_count": 698
    }
   ],
   "source": [
    "df_std[df_std.Std_First_Name == \"\"]"
   ]
  },
  {
   "source": [
    "### Father's First and Last Name"
   ],
   "cell_type": "markdown",
   "metadata": {}
  },
  {
   "cell_type": "code",
   "execution_count": 699,
   "metadata": {},
   "outputs": [],
   "source": [
    "fnames_list = df_std.Father.str.split().str\n",
    "df_std[\"Father_First_Name\"] = fnames_list[0:-1].str.join(' ')\n",
    "df_std[\"Father_Last_Name\"] = fnames_list[-1]"
   ]
  },
  {
   "source": [
    "If a Father only has `Last Name`, make it his `First Name`."
   ],
   "cell_type": "markdown",
   "metadata": {}
  },
  {
   "cell_type": "code",
   "execution_count": 700,
   "metadata": {},
   "outputs": [
    {
     "output_type": "execute_result",
     "data": {
      "text/plain": [
       "               SID                         Name     Father  \\\n",
       "1037   KHR_BS_1931                     Ali Ejaz        Ali   \n",
       "1675   KHR_BS_2505                  Umar Namani     Namani   \n",
       "2435    KHR_BS_319                 Zubair Niazi      Niazi   \n",
       "2605   KHR_BS_3342        Ismail Munir Hussaini   Hussaini   \n",
       "4257    KHR_BS_483           Munir Abdul Mujeeb      Munir   \n",
       "4264   KHR_BS_4836      Aftab Mustansar Jaffery    Jaffery   \n",
       "5755   KHR_BS_6178                Muazzam Tahir    Muazzam   \n",
       "6170   KHR_BS_6551          Mouhammed Wajid Haq        Haq   \n",
       "6879   KHR_MS_1248        Ismail Munir Hussaini   Hussaini   \n",
       "7445    KHR_MS_318                  Umar Namani     Namani   \n",
       "8833   LHR_BS_1567                Athar Qureshi    Qureshi   \n",
       "10435  LHR_BS_3008  Nawabzada Adul Qudoos Haque      Haque   \n",
       "12011   LHR_BS_467              Tanveer Kiyyani    Kiyyani   \n",
       "13962  PEW_BS_1501            Muaz Affan Ansari     Ansari   \n",
       "14919  PEW_BS_2363            Jameel Osman Awan       Awan   \n",
       "15445  PEW_BS_2837                  Waqas Jabir      Waqas   \n",
       "15491  PEW_BS_2879           Momd. Husain Haque      Haque   \n",
       "15700  PEW_BS_3066                 Sonil Ansary     Ansary   \n",
       "15911  PEW_BS_3256                  Shabi Babar      Shabi   \n",
       "16219   PEW_BS_564        Mohammed Ajab Kiyyani    Kiyyani   \n",
       "16635   PEW_BS_939        Abuzar Shams-ul-Islam     Abuzar   \n",
       "16879   PEW_MS_258         Zafar Amjad Khanzada   Khanzada   \n",
       "\n",
       "                              DoB Gender                    Reg Date  \\\n",
       "1037          1977-01-12 00:00:00      F  1997-08-23 00:00:00.000000   \n",
       "1675          1979-10-11 00:00:00      F  1998-08-12 00:00:00.000000   \n",
       "2435          1976-06-08 00:00:00      F  1994-08-08 00:00:00.000000   \n",
       "2605          1979-10-23 00:00:00      F  1999-08-20 00:00:00.000000   \n",
       "4257          1975-04-11 00:00:00      F  1994-08-21 00:00:00.000000   \n",
       "4264          1982-09-24 00:00:00      F  2002-08-26 00:00:00.000000   \n",
       "5755          1984-07-05 00:00:00      F  2004-08-01 00:00:00.000000   \n",
       "6170          1984-10-13 00:00:00      F  2004-08-01 00:00:00.000000   \n",
       "6879          1981-11-21 00:00:00      F  2004-08-26 00:00:00.000000   \n",
       "7445          1979-09-07 00:00:00      F  2001-08-05 00:00:00.000000   \n",
       "8833   1978-05-16 00:00:00.000000      F  1997-08-23 00:00:00.000000   \n",
       "10435  1983-02-08 00:00:00.000000      F  2001-08-02 00:00:00.000000   \n",
       "12011  1977-06-21 00:00:00.000000      F  1995-08-27 00:00:00.000000   \n",
       "13962  1979-10-19 00:00:00.000000   None  1999-11-08 00:00:00.000000   \n",
       "14919  1983-05-12 00:00:00.000000   None  2001-08-13 00:00:00.000000   \n",
       "15445  1985-09-24 00:00:00.000000   None  2003-08-24 00:00:00.000000   \n",
       "15491  1983-10-19 00:00:00.000000   None  2003-08-16 00:00:00.000000   \n",
       "15700  1986-02-24 00:00:00.000000   None  2004-08-17 00:00:00.000000   \n",
       "15911  1986-01-03 00:00:00.000000   None  2004-08-29 00:00:00.000000   \n",
       "16219  1975-01-28 00:00:00.000000   None  1995-08-25 00:00:00.000000   \n",
       "16635  1977-07-10 00:00:00.000000   None  1997-02-08 00:00:00.000000   \n",
       "16879  1979-01-18 00:00:00.000000   None  2003-12-08 00:00:00.000000   \n",
       "\n",
       "      Reg Status Degree Status  \\\n",
       "1037           A             C   \n",
       "1675           A             C   \n",
       "2435           A             C   \n",
       "2605           A             C   \n",
       "4257           A             C   \n",
       "4264           A             I   \n",
       "5755           A             I   \n",
       "6170           A             I   \n",
       "6879           A             I   \n",
       "7445           A             C   \n",
       "8833           A             C   \n",
       "10435          A             C   \n",
       "12011          A             C   \n",
       "13962          A             C   \n",
       "14919          A             C   \n",
       "15445          A             I   \n",
       "15491          A             I   \n",
       "15700          A             I   \n",
       "15911          A             I   \n",
       "16219          A             C   \n",
       "16635          A             C   \n",
       "16879          A             C   \n",
       "\n",
       "                                                 Address Qualification Degree  \\\n",
       "1037        house # 354 Street No.71  Odean chowk Multan           FSc     BS   \n",
       "1675   h no.680 st. # 86  Kashmir block gulshan iqbal...          HSSC     BS   \n",
       "2435                  House No.404 S# 22  Landhi Karachi         F.Sc.     BS   \n",
       "2605      house # 227 st. # 59  Bara qabrustan Usman Kot           FSc     BS   \n",
       "4257             Ho. no.58 St. # 45  Kamra chowk Karachi       A level     BS   \n",
       "4264      House # 241 street # 54  Cantt. road Sadiqabad           FSc     BS   \n",
       "5755                   H# 304 street no.41  Biyaal Sibbi       A-Level     BS   \n",
       "6170                 h# 16 st. # 25  Shah latif town KHR       A-Level     BS   \n",
       "6879           h no. 620 s no. 64 Factory road Usman Kot            MS     MS   \n",
       "7445              ho. #  89 street #  26 Bander road khr           MSc     MS   \n",
       "8833           Ho. no.169 S No.49  Saidpur road Sargodha       A level     BS   \n",
       "10435             ho. #  799 St. No. 72 Koral Faisalabad           Fsc     BS   \n",
       "12011                Ho. #  865 S#  80 Noorpur Gujrawala           Fsc     BS   \n",
       "13962         house # 535 st. # 35  Nai abadi Hasanabdal           FSc     BS   \n",
       "14919               Ho. # 802 s# 67  College road Gilgit           Fsc     BS   \n",
       "15445        Ho. #  478 street #  14 Shehar bazar Gilgit           Fsc     BS   \n",
       "15491  house # 707 st. # 65  University coloney peshawar           FSc     BS   \n",
       "15700      house no. 220 St. No. 89 Bara market Peshawar         F.Sc.     BS   \n",
       "15911               Ho. #  909 Street #  98 Mandi Gilgit           Fsc     BS   \n",
       "16219  house # 339 Street No.94  Air port coloney pes...           FSc     BS   \n",
       "16635           house # 680 st. # 36  Eid gha Hasanabdal           FSc     BS   \n",
       "16879  H#  807 Street No. 20 Chittian hattian Hasanabdal        M.Phil     MS   \n",
       "\n",
       "      Campus         Std_First_Name   Std_Last_Name Father_First_Name  \\\n",
       "1037     KHR                    Ali            Ejaz                     \n",
       "1675     KHR                   Umar          Namani                     \n",
       "2435     KHR                 Zubair           Niazi                     \n",
       "2605     KHR           Ismail Munir        Hussaini                     \n",
       "4257     KHR            Munir Abdul          Mujeeb                     \n",
       "4264     KHR        Aftab Mustansar         Jaffery                     \n",
       "5755     KHR                Muazzam           Tahir                     \n",
       "6170     KHR        Mouhammed Wajid             Haq                     \n",
       "6879     KHR           Ismail Munir        Hussaini                     \n",
       "7445     KHR                   Umar          Namani                     \n",
       "8833     LHR                  Athar         Qureshi                     \n",
       "10435    LHR  Nawabzada Adul Qudoos           Haque                     \n",
       "12011    LHR                Tanveer         Kiyyani                     \n",
       "13962    PEW             Muaz Affan          Ansari                     \n",
       "14919    PEW           Jameel Osman            Awan                     \n",
       "15445    PEW                  Waqas           Jabir                     \n",
       "15491    PEW           Momd. Husain           Haque                     \n",
       "15700    PEW                  Sonil          Ansary                     \n",
       "15911    PEW                  Shabi           Babar                     \n",
       "16219    PEW          Mohammed Ajab         Kiyyani                     \n",
       "16635    PEW                 Abuzar  Shams-ul-Islam                     \n",
       "16879    PEW            Zafar Amjad        Khanzada                     \n",
       "\n",
       "      Father_Last_Name  \n",
       "1037               Ali  \n",
       "1675            Namani  \n",
       "2435             Niazi  \n",
       "2605          Hussaini  \n",
       "4257             Munir  \n",
       "4264           Jaffery  \n",
       "5755           Muazzam  \n",
       "6170               Haq  \n",
       "6879          Hussaini  \n",
       "7445            Namani  \n",
       "8833           Qureshi  \n",
       "10435            Haque  \n",
       "12011          Kiyyani  \n",
       "13962           Ansari  \n",
       "14919             Awan  \n",
       "15445            Waqas  \n",
       "15491            Haque  \n",
       "15700           Ansary  \n",
       "15911            Shabi  \n",
       "16219          Kiyyani  \n",
       "16635           Abuzar  \n",
       "16879         Khanzada  "
      ],
      "text/html": "<div>\n<style scoped>\n    .dataframe tbody tr th:only-of-type {\n        vertical-align: middle;\n    }\n\n    .dataframe tbody tr th {\n        vertical-align: top;\n    }\n\n    .dataframe thead th {\n        text-align: right;\n    }\n</style>\n<table border=\"1\" class=\"dataframe\">\n  <thead>\n    <tr style=\"text-align: right;\">\n      <th></th>\n      <th>SID</th>\n      <th>Name</th>\n      <th>Father</th>\n      <th>DoB</th>\n      <th>Gender</th>\n      <th>Reg Date</th>\n      <th>Reg Status</th>\n      <th>Degree Status</th>\n      <th>Address</th>\n      <th>Qualification</th>\n      <th>Degree</th>\n      <th>Campus</th>\n      <th>Std_First_Name</th>\n      <th>Std_Last_Name</th>\n      <th>Father_First_Name</th>\n      <th>Father_Last_Name</th>\n    </tr>\n  </thead>\n  <tbody>\n    <tr>\n      <th>1037</th>\n      <td>KHR_BS_1931</td>\n      <td>Ali Ejaz</td>\n      <td>Ali</td>\n      <td>1977-01-12 00:00:00</td>\n      <td>F</td>\n      <td>1997-08-23 00:00:00.000000</td>\n      <td>A</td>\n      <td>C</td>\n      <td>house # 354 Street No.71  Odean chowk Multan</td>\n      <td>FSc</td>\n      <td>BS</td>\n      <td>KHR</td>\n      <td>Ali</td>\n      <td>Ejaz</td>\n      <td></td>\n      <td>Ali</td>\n    </tr>\n    <tr>\n      <th>1675</th>\n      <td>KHR_BS_2505</td>\n      <td>Umar Namani</td>\n      <td>Namani</td>\n      <td>1979-10-11 00:00:00</td>\n      <td>F</td>\n      <td>1998-08-12 00:00:00.000000</td>\n      <td>A</td>\n      <td>C</td>\n      <td>h no.680 st. # 86  Kashmir block gulshan iqbal...</td>\n      <td>HSSC</td>\n      <td>BS</td>\n      <td>KHR</td>\n      <td>Umar</td>\n      <td>Namani</td>\n      <td></td>\n      <td>Namani</td>\n    </tr>\n    <tr>\n      <th>2435</th>\n      <td>KHR_BS_319</td>\n      <td>Zubair Niazi</td>\n      <td>Niazi</td>\n      <td>1976-06-08 00:00:00</td>\n      <td>F</td>\n      <td>1994-08-08 00:00:00.000000</td>\n      <td>A</td>\n      <td>C</td>\n      <td>House No.404 S# 22  Landhi Karachi</td>\n      <td>F.Sc.</td>\n      <td>BS</td>\n      <td>KHR</td>\n      <td>Zubair</td>\n      <td>Niazi</td>\n      <td></td>\n      <td>Niazi</td>\n    </tr>\n    <tr>\n      <th>2605</th>\n      <td>KHR_BS_3342</td>\n      <td>Ismail Munir Hussaini</td>\n      <td>Hussaini</td>\n      <td>1979-10-23 00:00:00</td>\n      <td>F</td>\n      <td>1999-08-20 00:00:00.000000</td>\n      <td>A</td>\n      <td>C</td>\n      <td>house # 227 st. # 59  Bara qabrustan Usman Kot</td>\n      <td>FSc</td>\n      <td>BS</td>\n      <td>KHR</td>\n      <td>Ismail Munir</td>\n      <td>Hussaini</td>\n      <td></td>\n      <td>Hussaini</td>\n    </tr>\n    <tr>\n      <th>4257</th>\n      <td>KHR_BS_483</td>\n      <td>Munir Abdul Mujeeb</td>\n      <td>Munir</td>\n      <td>1975-04-11 00:00:00</td>\n      <td>F</td>\n      <td>1994-08-21 00:00:00.000000</td>\n      <td>A</td>\n      <td>C</td>\n      <td>Ho. no.58 St. # 45  Kamra chowk Karachi</td>\n      <td>A level</td>\n      <td>BS</td>\n      <td>KHR</td>\n      <td>Munir Abdul</td>\n      <td>Mujeeb</td>\n      <td></td>\n      <td>Munir</td>\n    </tr>\n    <tr>\n      <th>4264</th>\n      <td>KHR_BS_4836</td>\n      <td>Aftab Mustansar Jaffery</td>\n      <td>Jaffery</td>\n      <td>1982-09-24 00:00:00</td>\n      <td>F</td>\n      <td>2002-08-26 00:00:00.000000</td>\n      <td>A</td>\n      <td>I</td>\n      <td>House # 241 street # 54  Cantt. road Sadiqabad</td>\n      <td>FSc</td>\n      <td>BS</td>\n      <td>KHR</td>\n      <td>Aftab Mustansar</td>\n      <td>Jaffery</td>\n      <td></td>\n      <td>Jaffery</td>\n    </tr>\n    <tr>\n      <th>5755</th>\n      <td>KHR_BS_6178</td>\n      <td>Muazzam Tahir</td>\n      <td>Muazzam</td>\n      <td>1984-07-05 00:00:00</td>\n      <td>F</td>\n      <td>2004-08-01 00:00:00.000000</td>\n      <td>A</td>\n      <td>I</td>\n      <td>H# 304 street no.41  Biyaal Sibbi</td>\n      <td>A-Level</td>\n      <td>BS</td>\n      <td>KHR</td>\n      <td>Muazzam</td>\n      <td>Tahir</td>\n      <td></td>\n      <td>Muazzam</td>\n    </tr>\n    <tr>\n      <th>6170</th>\n      <td>KHR_BS_6551</td>\n      <td>Mouhammed Wajid Haq</td>\n      <td>Haq</td>\n      <td>1984-10-13 00:00:00</td>\n      <td>F</td>\n      <td>2004-08-01 00:00:00.000000</td>\n      <td>A</td>\n      <td>I</td>\n      <td>h# 16 st. # 25  Shah latif town KHR</td>\n      <td>A-Level</td>\n      <td>BS</td>\n      <td>KHR</td>\n      <td>Mouhammed Wajid</td>\n      <td>Haq</td>\n      <td></td>\n      <td>Haq</td>\n    </tr>\n    <tr>\n      <th>6879</th>\n      <td>KHR_MS_1248</td>\n      <td>Ismail Munir Hussaini</td>\n      <td>Hussaini</td>\n      <td>1981-11-21 00:00:00</td>\n      <td>F</td>\n      <td>2004-08-26 00:00:00.000000</td>\n      <td>A</td>\n      <td>I</td>\n      <td>h no. 620 s no. 64 Factory road Usman Kot</td>\n      <td>MS</td>\n      <td>MS</td>\n      <td>KHR</td>\n      <td>Ismail Munir</td>\n      <td>Hussaini</td>\n      <td></td>\n      <td>Hussaini</td>\n    </tr>\n    <tr>\n      <th>7445</th>\n      <td>KHR_MS_318</td>\n      <td>Umar Namani</td>\n      <td>Namani</td>\n      <td>1979-09-07 00:00:00</td>\n      <td>F</td>\n      <td>2001-08-05 00:00:00.000000</td>\n      <td>A</td>\n      <td>C</td>\n      <td>ho. #  89 street #  26 Bander road khr</td>\n      <td>MSc</td>\n      <td>MS</td>\n      <td>KHR</td>\n      <td>Umar</td>\n      <td>Namani</td>\n      <td></td>\n      <td>Namani</td>\n    </tr>\n    <tr>\n      <th>8833</th>\n      <td>LHR_BS_1567</td>\n      <td>Athar Qureshi</td>\n      <td>Qureshi</td>\n      <td>1978-05-16 00:00:00.000000</td>\n      <td>F</td>\n      <td>1997-08-23 00:00:00.000000</td>\n      <td>A</td>\n      <td>C</td>\n      <td>Ho. no.169 S No.49  Saidpur road Sargodha</td>\n      <td>A level</td>\n      <td>BS</td>\n      <td>LHR</td>\n      <td>Athar</td>\n      <td>Qureshi</td>\n      <td></td>\n      <td>Qureshi</td>\n    </tr>\n    <tr>\n      <th>10435</th>\n      <td>LHR_BS_3008</td>\n      <td>Nawabzada Adul Qudoos Haque</td>\n      <td>Haque</td>\n      <td>1983-02-08 00:00:00.000000</td>\n      <td>F</td>\n      <td>2001-08-02 00:00:00.000000</td>\n      <td>A</td>\n      <td>C</td>\n      <td>ho. #  799 St. No. 72 Koral Faisalabad</td>\n      <td>Fsc</td>\n      <td>BS</td>\n      <td>LHR</td>\n      <td>Nawabzada Adul Qudoos</td>\n      <td>Haque</td>\n      <td></td>\n      <td>Haque</td>\n    </tr>\n    <tr>\n      <th>12011</th>\n      <td>LHR_BS_467</td>\n      <td>Tanveer Kiyyani</td>\n      <td>Kiyyani</td>\n      <td>1977-06-21 00:00:00.000000</td>\n      <td>F</td>\n      <td>1995-08-27 00:00:00.000000</td>\n      <td>A</td>\n      <td>C</td>\n      <td>Ho. #  865 S#  80 Noorpur Gujrawala</td>\n      <td>Fsc</td>\n      <td>BS</td>\n      <td>LHR</td>\n      <td>Tanveer</td>\n      <td>Kiyyani</td>\n      <td></td>\n      <td>Kiyyani</td>\n    </tr>\n    <tr>\n      <th>13962</th>\n      <td>PEW_BS_1501</td>\n      <td>Muaz Affan Ansari</td>\n      <td>Ansari</td>\n      <td>1979-10-19 00:00:00.000000</td>\n      <td>None</td>\n      <td>1999-11-08 00:00:00.000000</td>\n      <td>A</td>\n      <td>C</td>\n      <td>house # 535 st. # 35  Nai abadi Hasanabdal</td>\n      <td>FSc</td>\n      <td>BS</td>\n      <td>PEW</td>\n      <td>Muaz Affan</td>\n      <td>Ansari</td>\n      <td></td>\n      <td>Ansari</td>\n    </tr>\n    <tr>\n      <th>14919</th>\n      <td>PEW_BS_2363</td>\n      <td>Jameel Osman Awan</td>\n      <td>Awan</td>\n      <td>1983-05-12 00:00:00.000000</td>\n      <td>None</td>\n      <td>2001-08-13 00:00:00.000000</td>\n      <td>A</td>\n      <td>C</td>\n      <td>Ho. # 802 s# 67  College road Gilgit</td>\n      <td>Fsc</td>\n      <td>BS</td>\n      <td>PEW</td>\n      <td>Jameel Osman</td>\n      <td>Awan</td>\n      <td></td>\n      <td>Awan</td>\n    </tr>\n    <tr>\n      <th>15445</th>\n      <td>PEW_BS_2837</td>\n      <td>Waqas Jabir</td>\n      <td>Waqas</td>\n      <td>1985-09-24 00:00:00.000000</td>\n      <td>None</td>\n      <td>2003-08-24 00:00:00.000000</td>\n      <td>A</td>\n      <td>I</td>\n      <td>Ho. #  478 street #  14 Shehar bazar Gilgit</td>\n      <td>Fsc</td>\n      <td>BS</td>\n      <td>PEW</td>\n      <td>Waqas</td>\n      <td>Jabir</td>\n      <td></td>\n      <td>Waqas</td>\n    </tr>\n    <tr>\n      <th>15491</th>\n      <td>PEW_BS_2879</td>\n      <td>Momd. Husain Haque</td>\n      <td>Haque</td>\n      <td>1983-10-19 00:00:00.000000</td>\n      <td>None</td>\n      <td>2003-08-16 00:00:00.000000</td>\n      <td>A</td>\n      <td>I</td>\n      <td>house # 707 st. # 65  University coloney peshawar</td>\n      <td>FSc</td>\n      <td>BS</td>\n      <td>PEW</td>\n      <td>Momd. Husain</td>\n      <td>Haque</td>\n      <td></td>\n      <td>Haque</td>\n    </tr>\n    <tr>\n      <th>15700</th>\n      <td>PEW_BS_3066</td>\n      <td>Sonil Ansary</td>\n      <td>Ansary</td>\n      <td>1986-02-24 00:00:00.000000</td>\n      <td>None</td>\n      <td>2004-08-17 00:00:00.000000</td>\n      <td>A</td>\n      <td>I</td>\n      <td>house no. 220 St. No. 89 Bara market Peshawar</td>\n      <td>F.Sc.</td>\n      <td>BS</td>\n      <td>PEW</td>\n      <td>Sonil</td>\n      <td>Ansary</td>\n      <td></td>\n      <td>Ansary</td>\n    </tr>\n    <tr>\n      <th>15911</th>\n      <td>PEW_BS_3256</td>\n      <td>Shabi Babar</td>\n      <td>Shabi</td>\n      <td>1986-01-03 00:00:00.000000</td>\n      <td>None</td>\n      <td>2004-08-29 00:00:00.000000</td>\n      <td>A</td>\n      <td>I</td>\n      <td>Ho. #  909 Street #  98 Mandi Gilgit</td>\n      <td>Fsc</td>\n      <td>BS</td>\n      <td>PEW</td>\n      <td>Shabi</td>\n      <td>Babar</td>\n      <td></td>\n      <td>Shabi</td>\n    </tr>\n    <tr>\n      <th>16219</th>\n      <td>PEW_BS_564</td>\n      <td>Mohammed Ajab Kiyyani</td>\n      <td>Kiyyani</td>\n      <td>1975-01-28 00:00:00.000000</td>\n      <td>None</td>\n      <td>1995-08-25 00:00:00.000000</td>\n      <td>A</td>\n      <td>C</td>\n      <td>house # 339 Street No.94  Air port coloney pes...</td>\n      <td>FSc</td>\n      <td>BS</td>\n      <td>PEW</td>\n      <td>Mohammed Ajab</td>\n      <td>Kiyyani</td>\n      <td></td>\n      <td>Kiyyani</td>\n    </tr>\n    <tr>\n      <th>16635</th>\n      <td>PEW_BS_939</td>\n      <td>Abuzar Shams-ul-Islam</td>\n      <td>Abuzar</td>\n      <td>1977-07-10 00:00:00.000000</td>\n      <td>None</td>\n      <td>1997-02-08 00:00:00.000000</td>\n      <td>A</td>\n      <td>C</td>\n      <td>house # 680 st. # 36  Eid gha Hasanabdal</td>\n      <td>FSc</td>\n      <td>BS</td>\n      <td>PEW</td>\n      <td>Abuzar</td>\n      <td>Shams-ul-Islam</td>\n      <td></td>\n      <td>Abuzar</td>\n    </tr>\n    <tr>\n      <th>16879</th>\n      <td>PEW_MS_258</td>\n      <td>Zafar Amjad Khanzada</td>\n      <td>Khanzada</td>\n      <td>1979-01-18 00:00:00.000000</td>\n      <td>None</td>\n      <td>2003-12-08 00:00:00.000000</td>\n      <td>A</td>\n      <td>C</td>\n      <td>H#  807 Street No. 20 Chittian hattian Hasanabdal</td>\n      <td>M.Phil</td>\n      <td>MS</td>\n      <td>PEW</td>\n      <td>Zafar Amjad</td>\n      <td>Khanzada</td>\n      <td></td>\n      <td>Khanzada</td>\n    </tr>\n  </tbody>\n</table>\n</div>"
     },
     "metadata": {},
     "execution_count": 700
    }
   ],
   "source": [
    "df_std[df_std.Father_First_Name == '']"
   ]
  },
  {
   "cell_type": "code",
   "execution_count": 701,
   "metadata": {},
   "outputs": [
    {
     "output_type": "execute_result",
     "data": {
      "text/plain": [
       "Empty DataFrame\n",
       "Columns: [SID, Name, Father, DoB, Gender, Reg Date, Reg Status, Degree Status, Address, Qualification, Degree, Campus, Std_First_Name, Std_Last_Name, Father_First_Name, Father_Last_Name]\n",
       "Index: []"
      ],
      "text/html": "<div>\n<style scoped>\n    .dataframe tbody tr th:only-of-type {\n        vertical-align: middle;\n    }\n\n    .dataframe tbody tr th {\n        vertical-align: top;\n    }\n\n    .dataframe thead th {\n        text-align: right;\n    }\n</style>\n<table border=\"1\" class=\"dataframe\">\n  <thead>\n    <tr style=\"text-align: right;\">\n      <th></th>\n      <th>SID</th>\n      <th>Name</th>\n      <th>Father</th>\n      <th>DoB</th>\n      <th>Gender</th>\n      <th>Reg Date</th>\n      <th>Reg Status</th>\n      <th>Degree Status</th>\n      <th>Address</th>\n      <th>Qualification</th>\n      <th>Degree</th>\n      <th>Campus</th>\n      <th>Std_First_Name</th>\n      <th>Std_Last_Name</th>\n      <th>Father_First_Name</th>\n      <th>Father_Last_Name</th>\n    </tr>\n  </thead>\n  <tbody>\n  </tbody>\n</table>\n</div>"
     },
     "metadata": {},
     "execution_count": 701
    }
   ],
   "source": [
    "m = df_std.Father_First_Name == ''\n",
    "df_std.loc[m, ['Father_First_Name', 'Father_Last_Name']] = (df_std.loc[m, ['Father_Last_Name', 'Father_First_Name']].values)\n",
    "df_std[df_std.Father_First_Name == \"\"]"
   ]
  },
  {
   "source": [
    "### Name Standardization"
   ],
   "cell_type": "markdown",
   "metadata": {}
  },
  {
   "cell_type": "code",
   "execution_count": 702,
   "metadata": {},
   "outputs": [],
   "source": [
    "all_names = pd.concat([df_std.Std_First_Name, df_std.Std_Last_Name, df_std.Father_First_Name, df_std.Father_Last_Name], ignore_index=True)"
   ]
  },
  {
   "cell_type": "code",
   "execution_count": 703,
   "metadata": {},
   "outputs": [
    {
     "output_type": "execute_result",
     "data": {
      "text/plain": [
       "12475"
      ]
     },
     "metadata": {},
     "execution_count": 703
    }
   ],
   "source": [
    "len(all_names.unique())"
   ]
  },
  {
   "cell_type": "code",
   "execution_count": 709,
   "metadata": {},
   "outputs": [
    {
     "output_type": "execute_result",
     "data": {
      "text/plain": [
       "{'AAdil': 'Aadil',\n",
       " 'AAmer': 'Aamer',\n",
       " 'AAmir': 'Aamir',\n",
       " 'AAqil': 'Aaqil',\n",
       " 'AAmina': 'Aamina',\n",
       " 'Ch\\\\.': 'Choudhary',\n",
       " 'Chodhary': 'Choudhary',\n",
       " 'M\\\\.': 'Mohammad',\n",
       " 'Mohammed': 'Mohammad',\n",
       " 'Momd\\\\.': 'Mohammad',\n",
       " 'Mouhammad': 'Mohammad',\n",
       " 'Mouhammed': 'Mohammad',\n",
       " 'Muhammad': 'Mohammad',\n",
       " 'Sh\\\\.': 'Sheikh',\n",
       " 'Sheik': 'Sheikh',\n",
       " 'Shk\\\\.': 'Sheikh',\n",
       " 'Syed': 'Syyed'}"
      ]
     },
     "metadata": {},
     "execution_count": 709
    }
   ],
   "source": [
    "std_name_map = {}\n",
    "\n",
    "std_name_map.update({\"AAdil\": 'Aadil'})\n",
    "std_name_map.update({\"AAmer\": 'Aamer'})\n",
    "std_name_map.update({\"AAmir\": 'Aamir'})\n",
    "std_name_map.update({\"AAqil\": 'Aaqil'})\n",
    "std_name_map.update({\"AAmina\": 'Aamina'})\n",
    "std_name_map.update({\"Ch\\.\": 'Choudhary', \"Chodhary\": \"Choudhary\"})\n",
    "std_name_map.update({\"M\\.\": 'Mohammad', \"Mohammed\": \"Mohammad\", \n",
    "                     \"Momd\\.\": \"Mohammad\", \"Mouhammad\": \"Mohammad\", \n",
    "                     \"Mouhammed\": \"Mohammad\", \"Muhammad\": \"Mohammad\"})\n",
    "std_name_map.update({\"Sh\\.\": \"Sheikh\", \"Sheik\": 'Sheikh', 'Shk\\.': 'Sheikh'})\n",
    "std_name_map.update({\"Syed\": \"Syyed\"})\n",
    "\n",
    "std_name_map"
   ]
  },
  {
   "cell_type": "code",
   "execution_count": 710,
   "metadata": {},
   "outputs": [],
   "source": [
    "df_std.Std_First_Name = df_std.Std_First_Name.replace(std_name_map, regex=True)\n",
    "# sorted(df_std.Std_First_Name.unique())"
   ]
  },
  {
   "cell_type": "code",
   "execution_count": 711,
   "metadata": {},
   "outputs": [],
   "source": [
    "df_std.Std_Last_Name = df_std.Std_Last_Name.replace(std_name_map, regex=True)\n",
    "df_std.Name = df_std.Name.replace(std_name_map, regex=True)\n",
    "df_std.Father = df_std.Father.replace(std_name_map, regex=True)\n",
    "df_std.Father_First_Name = df_std.Father_First_Name.replace(std_name_map, regex=True)\n",
    "df_std.Father_Last_Name = df_std.Father_Last_Name.replace(std_name_map, regex=True)"
   ]
  },
  {
   "source": [
    "---\n",
    "\n",
    "- Since the gender information is missing for the Peshawar campus, you can use the student names to figure out the gender. \n",
    "\n",
    "### Our Approach\n",
    "We created a simple LSTM DL model which was trained on Student's first names from Karachi and Lahore campus, and it predicted whether a student was 'Male' or 'Female' based on the name.\n",
    "\n",
    "First we'll create a training dataset for the model from the Lahore and Karachi campuses, and then use the Peshawar campus for prediction."
   ],
   "cell_type": "markdown",
   "metadata": {}
  },
  {
   "cell_type": "code",
   "execution_count": 712,
   "metadata": {},
   "outputs": [
    {
     "output_type": "execute_result",
     "data": {
      "text/plain": [
       "         Std_First_Name Gender\n",
       "0               Hussain      M\n",
       "1          Sheikh Munir      M\n",
       "2                 Hamna      F\n",
       "3                Jabbar      M\n",
       "4           Rana Hayyat      M\n",
       "...                 ...    ...\n",
       "13397              Rohi      F\n",
       "13398      Mahtab Emmad      M\n",
       "13399    Mohammad Latif      M\n",
       "13400              Iman      F\n",
       "13401  Choudhary Muneer      M\n",
       "\n",
       "[13398 rows x 2 columns]"
      ],
      "text/html": "<div>\n<style scoped>\n    .dataframe tbody tr th:only-of-type {\n        vertical-align: middle;\n    }\n\n    .dataframe tbody tr th {\n        vertical-align: top;\n    }\n\n    .dataframe thead th {\n        text-align: right;\n    }\n</style>\n<table border=\"1\" class=\"dataframe\">\n  <thead>\n    <tr style=\"text-align: right;\">\n      <th></th>\n      <th>Std_First_Name</th>\n      <th>Gender</th>\n    </tr>\n  </thead>\n  <tbody>\n    <tr>\n      <th>0</th>\n      <td>Hussain</td>\n      <td>M</td>\n    </tr>\n    <tr>\n      <th>1</th>\n      <td>Sheikh Munir</td>\n      <td>M</td>\n    </tr>\n    <tr>\n      <th>2</th>\n      <td>Hamna</td>\n      <td>F</td>\n    </tr>\n    <tr>\n      <th>3</th>\n      <td>Jabbar</td>\n      <td>M</td>\n    </tr>\n    <tr>\n      <th>4</th>\n      <td>Rana Hayyat</td>\n      <td>M</td>\n    </tr>\n    <tr>\n      <th>...</th>\n      <td>...</td>\n      <td>...</td>\n    </tr>\n    <tr>\n      <th>13397</th>\n      <td>Rohi</td>\n      <td>F</td>\n    </tr>\n    <tr>\n      <th>13398</th>\n      <td>Mahtab Emmad</td>\n      <td>M</td>\n    </tr>\n    <tr>\n      <th>13399</th>\n      <td>Mohammad Latif</td>\n      <td>M</td>\n    </tr>\n    <tr>\n      <th>13400</th>\n      <td>Iman</td>\n      <td>F</td>\n    </tr>\n    <tr>\n      <th>13401</th>\n      <td>Choudhary Muneer</td>\n      <td>M</td>\n    </tr>\n  </tbody>\n</table>\n<p>13398 rows × 2 columns</p>\n</div>"
     },
     "metadata": {},
     "execution_count": 712
    }
   ],
   "source": [
    "csv_data = df_std[['Std_First_Name', 'Gender']][~df_std.Gender.isnull()]\n",
    "csv_data"
   ]
  },
  {
   "cell_type": "code",
   "execution_count": 713,
   "metadata": {},
   "outputs": [],
   "source": [
    "csv_data.to_csv(data_dir / 'names.csv', index=False)"
   ]
  },
  {
   "cell_type": "code",
   "execution_count": 714,
   "metadata": {},
   "outputs": [
    {
     "output_type": "execute_result",
     "data": {
      "text/plain": [
       "             Std_First_Name\n",
       "11982                 Karam\n",
       "12397            Abdul Ahad\n",
       "12972                 Mehak\n",
       "12991  Mohammad Abdur Rahim\n",
       "13402          Midhat Azhar\n",
       "...                     ...\n",
       "17097               Natalia\n",
       "17098     Agha Abdul kareem\n",
       "17099                 Azhar\n",
       "17100    Riffat Ajmal Affan\n",
       "17101              Zulfiqar\n",
       "\n",
       "[3704 rows x 1 columns]"
      ],
      "text/html": "<div>\n<style scoped>\n    .dataframe tbody tr th:only-of-type {\n        vertical-align: middle;\n    }\n\n    .dataframe tbody tr th {\n        vertical-align: top;\n    }\n\n    .dataframe thead th {\n        text-align: right;\n    }\n</style>\n<table border=\"1\" class=\"dataframe\">\n  <thead>\n    <tr style=\"text-align: right;\">\n      <th></th>\n      <th>Std_First_Name</th>\n    </tr>\n  </thead>\n  <tbody>\n    <tr>\n      <th>11982</th>\n      <td>Karam</td>\n    </tr>\n    <tr>\n      <th>12397</th>\n      <td>Abdul Ahad</td>\n    </tr>\n    <tr>\n      <th>12972</th>\n      <td>Mehak</td>\n    </tr>\n    <tr>\n      <th>12991</th>\n      <td>Mohammad Abdur Rahim</td>\n    </tr>\n    <tr>\n      <th>13402</th>\n      <td>Midhat Azhar</td>\n    </tr>\n    <tr>\n      <th>...</th>\n      <td>...</td>\n    </tr>\n    <tr>\n      <th>17097</th>\n      <td>Natalia</td>\n    </tr>\n    <tr>\n      <th>17098</th>\n      <td>Agha Abdul kareem</td>\n    </tr>\n    <tr>\n      <th>17099</th>\n      <td>Azhar</td>\n    </tr>\n    <tr>\n      <th>17100</th>\n      <td>Riffat Ajmal Affan</td>\n    </tr>\n    <tr>\n      <th>17101</th>\n      <td>Zulfiqar</td>\n    </tr>\n  </tbody>\n</table>\n<p>3704 rows × 1 columns</p>\n</div>"
     },
     "metadata": {},
     "execution_count": 714
    }
   ],
   "source": [
    "null_gender = df_std[['Std_First_Name']][df_std.Gender.isnull()]\n",
    "null_gender"
   ]
  },
  {
   "cell_type": "code",
   "execution_count": 715,
   "metadata": {},
   "outputs": [],
   "source": [
    "pd.Series(null_gender.Std_First_Name.unique()).to_csv(data_dir / 'names_unlabeled.csv', index=False, header=False)"
   ]
  },
  {
   "cell_type": "code",
   "execution_count": 716,
   "metadata": {},
   "outputs": [
    {
     "output_type": "execute_result",
     "data": {
      "text/plain": [
       "0"
      ]
     },
     "metadata": {},
     "execution_count": 716
    }
   ],
   "source": [
    "sum(null_gender.Std_First_Name == \"\")"
   ]
  },
  {
   "source": [
    "### Load predicted genders"
   ],
   "cell_type": "markdown",
   "metadata": {}
  },
  {
   "cell_type": "code",
   "execution_count": 724,
   "metadata": {},
   "outputs": [],
   "source": [
    "import json\n",
    "\n",
    "with open(data_dir / 'genders.json') as json_file:\n",
    "    pew_gender_map = json.load(json_file)"
   ]
  },
  {
   "cell_type": "code",
   "execution_count": 725,
   "metadata": {},
   "outputs": [],
   "source": [
    "gender_values = null_gender.Std_First_Name.map(pew_gender_map)"
   ]
  },
  {
   "cell_type": "code",
   "execution_count": 727,
   "metadata": {},
   "outputs": [],
   "source": [
    "df_std.loc[df_std.Gender.isnull(), 'Gender'] = gender_values"
   ]
  },
  {
   "cell_type": "code",
   "execution_count": 728,
   "metadata": {},
   "outputs": [
    {
     "output_type": "execute_result",
     "data": {
      "text/plain": [
       "               SID                        Name                Father  \\\n",
       "13402     PEW_BS_0        Midhat Azhar Durrani         Azhar Durrani   \n",
       "13403     PEW_BS_1  Mohammad Abdul Rafay Kazmi           Iffan Kazmi   \n",
       "13404    PEW_BS_10                Ghosia Najum           Najum Yosaf   \n",
       "13405   PEW_BS_100      Shuja Taimor Kharasani       Sahir Kharasani   \n",
       "13406  PEW_BS_1000                Kashif Zaidi           Zaran Zaidi   \n",
       "...            ...                         ...                   ...   \n",
       "17097    PEW_MS_95               Natalia Baqir     Baqir Abdul Rafay   \n",
       "17098    PEW_MS_96    Agha Abdul kareem Abbasi          Ghazi Abbasi   \n",
       "17099    PEW_MS_97               Azhar Durrani      Ibraheem Durrani   \n",
       "17100    PEW_MS_98   Riffat Ajmal Affan Ansary    Ajmal Affan Ansary   \n",
       "17101    PEW_MS_99             Zulfiqar Gondal  Mohammad Ijaz Gondal   \n",
       "\n",
       "                              DoB Gender                    Reg Date  \\\n",
       "13402  1974-04-14 00:00:00.000000      F  1994-08-26 00:00:00.000000   \n",
       "13403  1974-12-13 00:00:00.000000      M  1994-08-13 00:00:00.000000   \n",
       "13404  1974-04-25 00:00:00.000000      F  1994-08-14 00:00:00.000000   \n",
       "13405  1974-05-22 00:00:00.000000      M  1994-08-18 00:00:00.000000   \n",
       "13406  1978-02-25 00:00:00.000000      M  1997-08-28 00:00:00.000000   \n",
       "...                           ...    ...                         ...   \n",
       "17097  1979-03-15 00:00:00.000000      F  2001-01-08 00:00:00.000000   \n",
       "17098  1978-11-15 00:00:00.000000      M  2001-05-08 00:00:00.000000   \n",
       "17099  1978-11-17 00:00:00.000000      M  2001-08-08 00:00:00.000000   \n",
       "17100  1978-08-20 00:00:00.000000      F  2001-11-08 00:00:00.000000   \n",
       "17101  1978-04-20 00:00:00.000000      M  2001-08-14 00:00:00.000000   \n",
       "\n",
       "      Reg Status Degree Status  \\\n",
       "13402          A             C   \n",
       "13403          A             C   \n",
       "13404          A             C   \n",
       "13405          A             C   \n",
       "13406          A             C   \n",
       "...          ...           ...   \n",
       "17097          A             C   \n",
       "17098          A             C   \n",
       "17099          A             C   \n",
       "17100          A             C   \n",
       "17101          A             C   \n",
       "\n",
       "                                               Address Qualification Degree  \\\n",
       "13402             H# 447 St. # 5  Air port coloney PSH       A-Level     BS   \n",
       "13403             H#  169 s#  0 University coloney PSH       A-Level     BS   \n",
       "13404           h#  697 St. #  94 Lohi pura Hasanabdal       A-Level     BS   \n",
       "13405                   H# 504 S No.4  Bara market PSH       A-Level     BS   \n",
       "13406  H No.509 St. No.38  University coloney PESHAWAR          HSSC     BS   \n",
       "...                                                ...           ...    ...   \n",
       "17097     House No. 699 Street #  59 Chand mari Gilgit            BS     MS   \n",
       "17098           H No. 14 s no. 55 Bara market PESHAWAR            MS     MS   \n",
       "17099             Ho. no. 329 s no. 50 Khybar road Psh          M.Sc     MS   \n",
       "17100          h no.875 St. no.45  Purani Taal Noshera            MS     MS   \n",
       "17101         Ho. No.190 St. # 9  Lane 6 Mall road Psh          M.Sc     MS   \n",
       "\n",
       "      Campus        Std_First_Name Std_Last_Name Father_First_Name  \\\n",
       "13402    PEW          Midhat Azhar       Durrani             Azhar   \n",
       "13403    PEW  Mohammad Abdul Rafay         Kazmi             Iffan   \n",
       "13404    PEW                Ghosia         Najum             Najum   \n",
       "13405    PEW          Shuja Taimor     Kharasani             Sahir   \n",
       "13406    PEW                Kashif         Zaidi             Zaran   \n",
       "...      ...                   ...           ...               ...   \n",
       "17097    PEW               Natalia         Baqir       Baqir Abdul   \n",
       "17098    PEW     Agha Abdul kareem        Abbasi             Ghazi   \n",
       "17099    PEW                 Azhar       Durrani          Ibraheem   \n",
       "17100    PEW    Riffat Ajmal Affan        Ansary       Ajmal Affan   \n",
       "17101    PEW              Zulfiqar        Gondal     Mohammad Ijaz   \n",
       "\n",
       "      Father_Last_Name  \n",
       "13402          Durrani  \n",
       "13403            Kazmi  \n",
       "13404            Yosaf  \n",
       "13405        Kharasani  \n",
       "13406            Zaidi  \n",
       "...                ...  \n",
       "17097            Rafay  \n",
       "17098           Abbasi  \n",
       "17099          Durrani  \n",
       "17100           Ansary  \n",
       "17101           Gondal  \n",
       "\n",
       "[3700 rows x 16 columns]"
      ],
      "text/html": "<div>\n<style scoped>\n    .dataframe tbody tr th:only-of-type {\n        vertical-align: middle;\n    }\n\n    .dataframe tbody tr th {\n        vertical-align: top;\n    }\n\n    .dataframe thead th {\n        text-align: right;\n    }\n</style>\n<table border=\"1\" class=\"dataframe\">\n  <thead>\n    <tr style=\"text-align: right;\">\n      <th></th>\n      <th>SID</th>\n      <th>Name</th>\n      <th>Father</th>\n      <th>DoB</th>\n      <th>Gender</th>\n      <th>Reg Date</th>\n      <th>Reg Status</th>\n      <th>Degree Status</th>\n      <th>Address</th>\n      <th>Qualification</th>\n      <th>Degree</th>\n      <th>Campus</th>\n      <th>Std_First_Name</th>\n      <th>Std_Last_Name</th>\n      <th>Father_First_Name</th>\n      <th>Father_Last_Name</th>\n    </tr>\n  </thead>\n  <tbody>\n    <tr>\n      <th>13402</th>\n      <td>PEW_BS_0</td>\n      <td>Midhat Azhar Durrani</td>\n      <td>Azhar Durrani</td>\n      <td>1974-04-14 00:00:00.000000</td>\n      <td>F</td>\n      <td>1994-08-26 00:00:00.000000</td>\n      <td>A</td>\n      <td>C</td>\n      <td>H# 447 St. # 5  Air port coloney PSH</td>\n      <td>A-Level</td>\n      <td>BS</td>\n      <td>PEW</td>\n      <td>Midhat Azhar</td>\n      <td>Durrani</td>\n      <td>Azhar</td>\n      <td>Durrani</td>\n    </tr>\n    <tr>\n      <th>13403</th>\n      <td>PEW_BS_1</td>\n      <td>Mohammad Abdul Rafay Kazmi</td>\n      <td>Iffan Kazmi</td>\n      <td>1974-12-13 00:00:00.000000</td>\n      <td>M</td>\n      <td>1994-08-13 00:00:00.000000</td>\n      <td>A</td>\n      <td>C</td>\n      <td>H#  169 s#  0 University coloney PSH</td>\n      <td>A-Level</td>\n      <td>BS</td>\n      <td>PEW</td>\n      <td>Mohammad Abdul Rafay</td>\n      <td>Kazmi</td>\n      <td>Iffan</td>\n      <td>Kazmi</td>\n    </tr>\n    <tr>\n      <th>13404</th>\n      <td>PEW_BS_10</td>\n      <td>Ghosia Najum</td>\n      <td>Najum Yosaf</td>\n      <td>1974-04-25 00:00:00.000000</td>\n      <td>F</td>\n      <td>1994-08-14 00:00:00.000000</td>\n      <td>A</td>\n      <td>C</td>\n      <td>h#  697 St. #  94 Lohi pura Hasanabdal</td>\n      <td>A-Level</td>\n      <td>BS</td>\n      <td>PEW</td>\n      <td>Ghosia</td>\n      <td>Najum</td>\n      <td>Najum</td>\n      <td>Yosaf</td>\n    </tr>\n    <tr>\n      <th>13405</th>\n      <td>PEW_BS_100</td>\n      <td>Shuja Taimor Kharasani</td>\n      <td>Sahir Kharasani</td>\n      <td>1974-05-22 00:00:00.000000</td>\n      <td>M</td>\n      <td>1994-08-18 00:00:00.000000</td>\n      <td>A</td>\n      <td>C</td>\n      <td>H# 504 S No.4  Bara market PSH</td>\n      <td>A-Level</td>\n      <td>BS</td>\n      <td>PEW</td>\n      <td>Shuja Taimor</td>\n      <td>Kharasani</td>\n      <td>Sahir</td>\n      <td>Kharasani</td>\n    </tr>\n    <tr>\n      <th>13406</th>\n      <td>PEW_BS_1000</td>\n      <td>Kashif Zaidi</td>\n      <td>Zaran Zaidi</td>\n      <td>1978-02-25 00:00:00.000000</td>\n      <td>M</td>\n      <td>1997-08-28 00:00:00.000000</td>\n      <td>A</td>\n      <td>C</td>\n      <td>H No.509 St. No.38  University coloney PESHAWAR</td>\n      <td>HSSC</td>\n      <td>BS</td>\n      <td>PEW</td>\n      <td>Kashif</td>\n      <td>Zaidi</td>\n      <td>Zaran</td>\n      <td>Zaidi</td>\n    </tr>\n    <tr>\n      <th>...</th>\n      <td>...</td>\n      <td>...</td>\n      <td>...</td>\n      <td>...</td>\n      <td>...</td>\n      <td>...</td>\n      <td>...</td>\n      <td>...</td>\n      <td>...</td>\n      <td>...</td>\n      <td>...</td>\n      <td>...</td>\n      <td>...</td>\n      <td>...</td>\n      <td>...</td>\n      <td>...</td>\n    </tr>\n    <tr>\n      <th>17097</th>\n      <td>PEW_MS_95</td>\n      <td>Natalia Baqir</td>\n      <td>Baqir Abdul Rafay</td>\n      <td>1979-03-15 00:00:00.000000</td>\n      <td>F</td>\n      <td>2001-01-08 00:00:00.000000</td>\n      <td>A</td>\n      <td>C</td>\n      <td>House No. 699 Street #  59 Chand mari Gilgit</td>\n      <td>BS</td>\n      <td>MS</td>\n      <td>PEW</td>\n      <td>Natalia</td>\n      <td>Baqir</td>\n      <td>Baqir Abdul</td>\n      <td>Rafay</td>\n    </tr>\n    <tr>\n      <th>17098</th>\n      <td>PEW_MS_96</td>\n      <td>Agha Abdul kareem Abbasi</td>\n      <td>Ghazi Abbasi</td>\n      <td>1978-11-15 00:00:00.000000</td>\n      <td>M</td>\n      <td>2001-05-08 00:00:00.000000</td>\n      <td>A</td>\n      <td>C</td>\n      <td>H No. 14 s no. 55 Bara market PESHAWAR</td>\n      <td>MS</td>\n      <td>MS</td>\n      <td>PEW</td>\n      <td>Agha Abdul kareem</td>\n      <td>Abbasi</td>\n      <td>Ghazi</td>\n      <td>Abbasi</td>\n    </tr>\n    <tr>\n      <th>17099</th>\n      <td>PEW_MS_97</td>\n      <td>Azhar Durrani</td>\n      <td>Ibraheem Durrani</td>\n      <td>1978-11-17 00:00:00.000000</td>\n      <td>M</td>\n      <td>2001-08-08 00:00:00.000000</td>\n      <td>A</td>\n      <td>C</td>\n      <td>Ho. no. 329 s no. 50 Khybar road Psh</td>\n      <td>M.Sc</td>\n      <td>MS</td>\n      <td>PEW</td>\n      <td>Azhar</td>\n      <td>Durrani</td>\n      <td>Ibraheem</td>\n      <td>Durrani</td>\n    </tr>\n    <tr>\n      <th>17100</th>\n      <td>PEW_MS_98</td>\n      <td>Riffat Ajmal Affan Ansary</td>\n      <td>Ajmal Affan Ansary</td>\n      <td>1978-08-20 00:00:00.000000</td>\n      <td>F</td>\n      <td>2001-11-08 00:00:00.000000</td>\n      <td>A</td>\n      <td>C</td>\n      <td>h no.875 St. no.45  Purani Taal Noshera</td>\n      <td>MS</td>\n      <td>MS</td>\n      <td>PEW</td>\n      <td>Riffat Ajmal Affan</td>\n      <td>Ansary</td>\n      <td>Ajmal Affan</td>\n      <td>Ansary</td>\n    </tr>\n    <tr>\n      <th>17101</th>\n      <td>PEW_MS_99</td>\n      <td>Zulfiqar Gondal</td>\n      <td>Mohammad Ijaz Gondal</td>\n      <td>1978-04-20 00:00:00.000000</td>\n      <td>M</td>\n      <td>2001-08-14 00:00:00.000000</td>\n      <td>A</td>\n      <td>C</td>\n      <td>Ho. No.190 St. # 9  Lane 6 Mall road Psh</td>\n      <td>M.Sc</td>\n      <td>MS</td>\n      <td>PEW</td>\n      <td>Zulfiqar</td>\n      <td>Gondal</td>\n      <td>Mohammad Ijaz</td>\n      <td>Gondal</td>\n    </tr>\n  </tbody>\n</table>\n<p>3700 rows × 16 columns</p>\n</div>"
     },
     "metadata": {},
     "execution_count": 728
    }
   ],
   "source": [
    "df_std[df_std.Campus == 'PEW']"
   ]
  },
  {
   "cell_type": "code",
   "execution_count": 729,
   "metadata": {},
   "outputs": [
    {
     "output_type": "execute_result",
     "data": {
      "text/plain": [
       "0"
      ]
     },
     "metadata": {},
     "execution_count": 729
    }
   ],
   "source": [
    "sum(df_std.Gender.isnull())"
   ]
  },
  {
   "source": [
    "### Each student has been assigned a gender."
   ],
   "cell_type": "markdown",
   "metadata": {}
  },
  {
   "source": [
    "---\n",
    "\n",
    "- Introduce a new column i.e. city_name. It will involve extracting the city from the address and then the standardization of the city names. (Use the city names in the telephone directory as standard)"
   ],
   "cell_type": "markdown",
   "metadata": {}
  },
  {
   "cell_type": "code",
   "execution_count": 730,
   "metadata": {},
   "outputs": [],
   "source": [
    "city_names = df_std.Address.str.split().str[-1]"
   ]
  },
  {
   "cell_type": "code",
   "execution_count": 731,
   "metadata": {},
   "outputs": [],
   "source": [
    "last_two_city_names = df_std.Address.str.split().str[-2:].str.join(' ')\n",
    "# sorted(last_two_city_names.unique())"
   ]
  },
  {
   "cell_type": "code",
   "execution_count": 732,
   "metadata": {},
   "outputs": [
    {
     "output_type": "execute_result",
     "data": {
      "text/plain": [
       "['Abbotabad',\n",
       " 'Attock',\n",
       " 'Bahawalpur',\n",
       " 'Bhatian',\n",
       " 'Bhawalpur',\n",
       " 'Chishtian',\n",
       " 'Faisalabad',\n",
       " 'Gilgit',\n",
       " 'Gujrat',\n",
       " 'Gujrawala',\n",
       " 'Hakim',\n",
       " 'Haripur',\n",
       " 'Hasanabdal',\n",
       " 'Hyderabad',\n",
       " 'Jehlum',\n",
       " 'KARACHI',\n",
       " 'KHR',\n",
       " 'Kabirwala',\n",
       " 'Karachi',\n",
       " 'Khan',\n",
       " 'Kharian',\n",
       " 'Khas',\n",
       " 'Khr',\n",
       " 'Kot',\n",
       " 'LalaMusa',\n",
       " 'Lyyah',\n",
       " 'Mansehra',\n",
       " 'Mardan',\n",
       " 'Melsi',\n",
       " 'Multan',\n",
       " 'Noshera',\n",
       " 'PESHAWAR',\n",
       " 'PSH',\n",
       " 'Peshawar',\n",
       " 'Psh',\n",
       " 'Quetta',\n",
       " 'Sadiqabad',\n",
       " 'Sahiwal',\n",
       " 'Sargodha',\n",
       " 'Sawat',\n",
       " 'Shekhopura',\n",
       " 'Sialkot',\n",
       " 'Sibbi',\n",
       " 'Thata',\n",
       " 'Wahari',\n",
       " 'Wazirabad',\n",
       " 'karachi',\n",
       " 'khan',\n",
       " 'khr',\n",
       " 'peshawar',\n",
       " 'psh']"
      ]
     },
     "metadata": {},
     "execution_count": 732
    }
   ],
   "source": [
    "sorted(city_names.unique())"
   ]
  },
  {
   "cell_type": "code",
   "execution_count": 733,
   "metadata": {},
   "outputs": [],
   "source": [
    "std_city_map = {}\n",
    "std_city_map.update(\n",
    "    dict.fromkeys(\n",
    "        [\n",
    "            'KHR', \n",
    "            'KARACHI', \n",
    "            'Khr', \n",
    "            'Karachi', \n",
    "            'khr', \n",
    "            'karachi'\n",
    "            ], 'Karachi'))\n",
    "\n",
    "std_city_map.update(\n",
    "    dict.fromkeys(\n",
    "        [\n",
    "            'PSH',\n",
    "            'Psh',\n",
    "            'Peshawar',\n",
    "            'PESHAWAR',\n",
    "            'peshawar',\n",
    "            'psh'\n",
    "        ], 'Peshawar'\n",
    "    )\n",
    ")\n",
    "\n",
    "std_city_map.update({'Abbotabad': 'Abottabad'})\n",
    "std_city_map.update({'Bahawalpur': 'Bahawalpur', 'Bhawalpur': 'Bahawalpur'})\n",
    "std_city_map.update({'Bhatian': 'Pindi Bhattian'})\n",
    "std_city_map.update({'D.G. Khan': 'Dera Ghazi Khan', 'ghazi khan': 'Dera Ghazi Khan'})\n",
    "std_city_map.update({'D.I. Khan': 'D.I.Khan', 'Ismail Khan': 'D.I.Khan'})\n",
    "std_city_map.update({'Gujrawala': 'Gujranwala'})\n",
    "std_city_map.update({'Hakim': 'Abdul Hakim'})\n",
    "std_city_map.update({'Hasanabdal': 'Hasan Abdal'})\n",
    "std_city_map.update({'Jehlum': 'Jhelum'})\n",
    "std_city_map.update({'Khas': 'Mirpur Khas'})\n",
    "std_city_map.update({'Lyyah': 'Layyah'})\n",
    "std_city_map.update({'Melsi': 'Mailsi'})\n",
    "std_city_map.update({'Noshera': 'Nowshera'})\n",
    "std_city_map.update({'Sawat': 'Swat'})\n",
    "std_city_map.update({'Shekhopura': 'Sheikhupura'})\n",
    "std_city_map.update({'Sibbi': 'Sibi'})\n",
    "std_city_map.update({'Thata': 'Thatta'})\n",
    "std_city_map.update({'Wahari': 'Vehari'})"
   ]
  },
  {
   "cell_type": "code",
   "execution_count": 735,
   "metadata": {},
   "outputs": [],
   "source": [
    "two_words_city_name = ['Khan', 'Kot']"
   ]
  },
  {
   "cell_type": "code",
   "execution_count": 736,
   "metadata": {},
   "outputs": [],
   "source": [
    "# Get the previous word for these, in order to figure out the city\n",
    "city_names[city_names == 'Khan'] = last_two_city_names[city_names == 'Khan']\n",
    "city_names[city_names == 'khan'] = last_two_city_names[city_names == 'khan']\n",
    "city_names[city_names == 'Kot'] = last_two_city_names[city_names == 'Kot']"
   ]
  },
  {
   "cell_type": "code",
   "execution_count": 738,
   "metadata": {},
   "outputs": [],
   "source": [
    "std_city_names = city_names.replace(std_city_map)"
   ]
  },
  {
   "cell_type": "code",
   "execution_count": 739,
   "metadata": {},
   "outputs": [
    {
     "output_type": "execute_result",
     "data": {
      "text/plain": [
       "['Abdul Hakim',\n",
       " 'Abottabad',\n",
       " 'Attock',\n",
       " 'Bahawalpur',\n",
       " 'Chishtian',\n",
       " 'D.I.Khan',\n",
       " 'Dera Ghazi Khan',\n",
       " 'Faisalabad',\n",
       " 'Gilgit',\n",
       " 'Gujranwala',\n",
       " 'Gujrat',\n",
       " 'Haripur',\n",
       " 'Hasan Abdal',\n",
       " 'Hyderabad',\n",
       " 'Jhelum',\n",
       " 'Kabirwala',\n",
       " 'Karachi',\n",
       " 'Kharian',\n",
       " 'LalaMusa',\n",
       " 'Layyah',\n",
       " 'Mailsi',\n",
       " 'Mansehra',\n",
       " 'Mardan',\n",
       " 'Mirpur Khas',\n",
       " 'Multan',\n",
       " 'Nowshera',\n",
       " 'Peshawar',\n",
       " 'Pindi Bhattian',\n",
       " 'Quetta',\n",
       " 'Sadiqabad',\n",
       " 'Sahiwal',\n",
       " 'Sargodha',\n",
       " 'Sheikhupura',\n",
       " 'Sialkot',\n",
       " 'Sibi',\n",
       " 'Swat',\n",
       " 'Thatta',\n",
       " 'Umer Kot',\n",
       " 'Usman Kot',\n",
       " 'Vehari',\n",
       " 'Wazirabad']"
      ]
     },
     "metadata": {},
     "execution_count": 739
    }
   ],
   "source": [
    "sorted(std_city_names.unique())"
   ]
  },
  {
   "cell_type": "code",
   "execution_count": 740,
   "metadata": {},
   "outputs": [],
   "source": [
    "df_std['City'] = std_city_names"
   ]
  },
  {
   "cell_type": "code",
   "execution_count": 741,
   "metadata": {},
   "outputs": [
    {
     "output_type": "execute_result",
     "data": {
      "text/plain": [
       "           SID                   Name                Father  \\\n",
       "0     KHR_BS_0         Hussain Ansary          Ubaid Ansary   \n",
       "1     KHR_BS_1  Sheikh Munir Hussaini  Viqar Hamid Hussaini   \n",
       "2    KHR_BS_10           Hamna Ansary         Hameed Ansary   \n",
       "3   KHR_BS_100          Jabbar Haqqie     Muneer Rai Haqqie   \n",
       "4  KHR_BS_1000       Rana Hayyat Baig   Ghulam Mustafa Baig   \n",
       "\n",
       "                   DoB Gender                    Reg Date Reg Status  \\\n",
       "0  1974-01-05 00:00:00      M  1994-08-13 00:00:00.000000          A   \n",
       "1  1974-12-13 00:00:00      M  1994-08-13 00:00:00.000000          A   \n",
       "2  1974-04-25 00:00:00      F  1994-08-14 00:00:00.000000          A   \n",
       "3  1974-05-22 00:00:00      M  1994-08-18 00:00:00.000000          A   \n",
       "4  1976-02-25 00:00:00      M  1995-08-28 00:00:00.000000          A   \n",
       "\n",
       "  Degree Status                                            Address  \\\n",
       "0             C           h# 978 Street No.72  Defense Phase 1 KHR   \n",
       "1             C                    H#  169 s#  0 Mutian wala Thata   \n",
       "2             C                     h#  697 St. #  94 sea site KHR   \n",
       "3             C                       H# 504 S No.4  Kumria Quetta   \n",
       "4             C  H No.509 St. No.38  Kishwar heights university...   \n",
       "\n",
       "  Qualification Degree Campus Std_First_Name Std_Last_Name Father_First_Name  \\\n",
       "0       A-Level     BS    KHR        Hussain        Ansary             Ubaid   \n",
       "1       A-Level     BS    KHR   Sheikh Munir      Hussaini       Viqar Hamid   \n",
       "2       A-Level     BS    KHR          Hamna        Ansary            Hameed   \n",
       "3       A-Level     BS    KHR         Jabbar        Haqqie        Muneer Rai   \n",
       "4          HSSC     BS    KHR    Rana Hayyat          Baig    Ghulam Mustafa   \n",
       "\n",
       "  Father_Last_Name     City  \n",
       "0           Ansary  Karachi  \n",
       "1         Hussaini   Thatta  \n",
       "2           Ansary  Karachi  \n",
       "3           Haqqie   Quetta  \n",
       "4             Baig  Karachi  "
      ],
      "text/html": "<div>\n<style scoped>\n    .dataframe tbody tr th:only-of-type {\n        vertical-align: middle;\n    }\n\n    .dataframe tbody tr th {\n        vertical-align: top;\n    }\n\n    .dataframe thead th {\n        text-align: right;\n    }\n</style>\n<table border=\"1\" class=\"dataframe\">\n  <thead>\n    <tr style=\"text-align: right;\">\n      <th></th>\n      <th>SID</th>\n      <th>Name</th>\n      <th>Father</th>\n      <th>DoB</th>\n      <th>Gender</th>\n      <th>Reg Date</th>\n      <th>Reg Status</th>\n      <th>Degree Status</th>\n      <th>Address</th>\n      <th>Qualification</th>\n      <th>Degree</th>\n      <th>Campus</th>\n      <th>Std_First_Name</th>\n      <th>Std_Last_Name</th>\n      <th>Father_First_Name</th>\n      <th>Father_Last_Name</th>\n      <th>City</th>\n    </tr>\n  </thead>\n  <tbody>\n    <tr>\n      <th>0</th>\n      <td>KHR_BS_0</td>\n      <td>Hussain Ansary</td>\n      <td>Ubaid Ansary</td>\n      <td>1974-01-05 00:00:00</td>\n      <td>M</td>\n      <td>1994-08-13 00:00:00.000000</td>\n      <td>A</td>\n      <td>C</td>\n      <td>h# 978 Street No.72  Defense Phase 1 KHR</td>\n      <td>A-Level</td>\n      <td>BS</td>\n      <td>KHR</td>\n      <td>Hussain</td>\n      <td>Ansary</td>\n      <td>Ubaid</td>\n      <td>Ansary</td>\n      <td>Karachi</td>\n    </tr>\n    <tr>\n      <th>1</th>\n      <td>KHR_BS_1</td>\n      <td>Sheikh Munir Hussaini</td>\n      <td>Viqar Hamid Hussaini</td>\n      <td>1974-12-13 00:00:00</td>\n      <td>M</td>\n      <td>1994-08-13 00:00:00.000000</td>\n      <td>A</td>\n      <td>C</td>\n      <td>H#  169 s#  0 Mutian wala Thata</td>\n      <td>A-Level</td>\n      <td>BS</td>\n      <td>KHR</td>\n      <td>Sheikh Munir</td>\n      <td>Hussaini</td>\n      <td>Viqar Hamid</td>\n      <td>Hussaini</td>\n      <td>Thatta</td>\n    </tr>\n    <tr>\n      <th>2</th>\n      <td>KHR_BS_10</td>\n      <td>Hamna Ansary</td>\n      <td>Hameed Ansary</td>\n      <td>1974-04-25 00:00:00</td>\n      <td>F</td>\n      <td>1994-08-14 00:00:00.000000</td>\n      <td>A</td>\n      <td>C</td>\n      <td>h#  697 St. #  94 sea site KHR</td>\n      <td>A-Level</td>\n      <td>BS</td>\n      <td>KHR</td>\n      <td>Hamna</td>\n      <td>Ansary</td>\n      <td>Hameed</td>\n      <td>Ansary</td>\n      <td>Karachi</td>\n    </tr>\n    <tr>\n      <th>3</th>\n      <td>KHR_BS_100</td>\n      <td>Jabbar Haqqie</td>\n      <td>Muneer Rai Haqqie</td>\n      <td>1974-05-22 00:00:00</td>\n      <td>M</td>\n      <td>1994-08-18 00:00:00.000000</td>\n      <td>A</td>\n      <td>C</td>\n      <td>H# 504 S No.4  Kumria Quetta</td>\n      <td>A-Level</td>\n      <td>BS</td>\n      <td>KHR</td>\n      <td>Jabbar</td>\n      <td>Haqqie</td>\n      <td>Muneer Rai</td>\n      <td>Haqqie</td>\n      <td>Quetta</td>\n    </tr>\n    <tr>\n      <th>4</th>\n      <td>KHR_BS_1000</td>\n      <td>Rana Hayyat Baig</td>\n      <td>Ghulam Mustafa Baig</td>\n      <td>1976-02-25 00:00:00</td>\n      <td>M</td>\n      <td>1995-08-28 00:00:00.000000</td>\n      <td>A</td>\n      <td>C</td>\n      <td>H No.509 St. No.38  Kishwar heights university...</td>\n      <td>HSSC</td>\n      <td>BS</td>\n      <td>KHR</td>\n      <td>Rana Hayyat</td>\n      <td>Baig</td>\n      <td>Ghulam Mustafa</td>\n      <td>Baig</td>\n      <td>Karachi</td>\n    </tr>\n  </tbody>\n</table>\n</div>"
     },
     "metadata": {},
     "execution_count": 741
    }
   ],
   "source": [
    "df_std.head()"
   ]
  },
  {
   "cell_type": "code",
   "execution_count": 742,
   "metadata": {},
   "outputs": [
    {
     "output_type": "execute_result",
     "data": {
      "text/plain": [
       "                SID           Name       Father                         DoB  \\\n",
       "count         17102          17102        17102                       17100   \n",
       "unique        17102          14642        14230                        7380   \n",
       "top     PEW_BS_1573  Kishwar Pasha  Amjad Satti  1981-03-22 00:00:00.000000   \n",
       "freq              1              6            5                           8   \n",
       "\n",
       "       Gender                    Reg Date Reg Status Degree Status  \\\n",
       "count   17102                       17102      17102         17102   \n",
       "unique      2                         442          2             2   \n",
       "top         M  2003-08-16 00:00:00.000000          A             C   \n",
       "freq    11531                          76      17100         12500   \n",
       "\n",
       "                                       Address Qualification Degree Campus  \\\n",
       "count                                    17102         17102  17102  17102   \n",
       "unique                                   15360            12      2      3   \n",
       "top     house no.141 S# 16  Haider road Multan         F.Sc.     BS    KHR   \n",
       "freq                                         3          2390  14302   8201   \n",
       "\n",
       "       Std_First_Name Std_Last_Name Father_First_Name Father_Last_Name  \\\n",
       "count           17102         17102             17102            17102   \n",
       "unique           5879           315              6458              316   \n",
       "top           Firdous         Zaidi             Amjad            Zaidi   \n",
       "freq               55           369                62              369   \n",
       "\n",
       "           City  \n",
       "count     17102  \n",
       "unique       41  \n",
       "top     Karachi  \n",
       "freq       4438  "
      ],
      "text/html": "<div>\n<style scoped>\n    .dataframe tbody tr th:only-of-type {\n        vertical-align: middle;\n    }\n\n    .dataframe tbody tr th {\n        vertical-align: top;\n    }\n\n    .dataframe thead th {\n        text-align: right;\n    }\n</style>\n<table border=\"1\" class=\"dataframe\">\n  <thead>\n    <tr style=\"text-align: right;\">\n      <th></th>\n      <th>SID</th>\n      <th>Name</th>\n      <th>Father</th>\n      <th>DoB</th>\n      <th>Gender</th>\n      <th>Reg Date</th>\n      <th>Reg Status</th>\n      <th>Degree Status</th>\n      <th>Address</th>\n      <th>Qualification</th>\n      <th>Degree</th>\n      <th>Campus</th>\n      <th>Std_First_Name</th>\n      <th>Std_Last_Name</th>\n      <th>Father_First_Name</th>\n      <th>Father_Last_Name</th>\n      <th>City</th>\n    </tr>\n  </thead>\n  <tbody>\n    <tr>\n      <th>count</th>\n      <td>17102</td>\n      <td>17102</td>\n      <td>17102</td>\n      <td>17100</td>\n      <td>17102</td>\n      <td>17102</td>\n      <td>17102</td>\n      <td>17102</td>\n      <td>17102</td>\n      <td>17102</td>\n      <td>17102</td>\n      <td>17102</td>\n      <td>17102</td>\n      <td>17102</td>\n      <td>17102</td>\n      <td>17102</td>\n      <td>17102</td>\n    </tr>\n    <tr>\n      <th>unique</th>\n      <td>17102</td>\n      <td>14642</td>\n      <td>14230</td>\n      <td>7380</td>\n      <td>2</td>\n      <td>442</td>\n      <td>2</td>\n      <td>2</td>\n      <td>15360</td>\n      <td>12</td>\n      <td>2</td>\n      <td>3</td>\n      <td>5879</td>\n      <td>315</td>\n      <td>6458</td>\n      <td>316</td>\n      <td>41</td>\n    </tr>\n    <tr>\n      <th>top</th>\n      <td>PEW_BS_1573</td>\n      <td>Kishwar Pasha</td>\n      <td>Amjad Satti</td>\n      <td>1981-03-22 00:00:00.000000</td>\n      <td>M</td>\n      <td>2003-08-16 00:00:00.000000</td>\n      <td>A</td>\n      <td>C</td>\n      <td>house no.141 S# 16  Haider road Multan</td>\n      <td>F.Sc.</td>\n      <td>BS</td>\n      <td>KHR</td>\n      <td>Firdous</td>\n      <td>Zaidi</td>\n      <td>Amjad</td>\n      <td>Zaidi</td>\n      <td>Karachi</td>\n    </tr>\n    <tr>\n      <th>freq</th>\n      <td>1</td>\n      <td>6</td>\n      <td>5</td>\n      <td>8</td>\n      <td>11531</td>\n      <td>76</td>\n      <td>17100</td>\n      <td>12500</td>\n      <td>3</td>\n      <td>2390</td>\n      <td>14302</td>\n      <td>8201</td>\n      <td>55</td>\n      <td>369</td>\n      <td>62</td>\n      <td>369</td>\n      <td>4438</td>\n    </tr>\n  </tbody>\n</table>\n</div>"
     },
     "metadata": {},
     "execution_count": 742
    }
   ],
   "source": [
    "df_std.describe()"
   ]
  },
  {
   "source": [
    "### We have 41 Unique cities"
   ],
   "cell_type": "markdown",
   "metadata": {}
  },
  {
   "source": [
    "---\n",
    "\n",
    "- Bring the gender information into a consistent representation. Use ‘M’ and ‘F’ with data type CHAR(1).\n",
    "\n",
    "\n",
    "We've already achieved this during the data collection phase."
   ],
   "cell_type": "markdown",
   "metadata": {}
  },
  {
   "source": [
    "## Date Validation\n",
    "\n",
    "- If you have been using VARCHAR or CHAR for date, port the date information into columns with the proper Date data type. The dates should be as per calendar dates."
   ],
   "cell_type": "markdown",
   "metadata": {}
  },
  {
   "cell_type": "code",
   "execution_count": 743,
   "metadata": {},
   "outputs": [],
   "source": [
    "df_std[\"Reg Date\"] = pd.to_datetime(df_std[\"Reg Date\"])"
   ]
  },
  {
   "cell_type": "code",
   "execution_count": 744,
   "metadata": {},
   "outputs": [],
   "source": [
    "df_reg.Year = pd.to_datetime(df_reg.Year)"
   ]
  },
  {
   "cell_type": "code",
   "execution_count": 745,
   "metadata": {},
   "outputs": [
    {
     "output_type": "error",
     "ename": "ParserError",
     "evalue": "day is out of range for month: 29/Feb/78",
     "traceback": [
      "\u001b[1;31m---------------------------------------------------------------------------\u001b[0m",
      "\u001b[1;31mValueError\u001b[0m                                Traceback (most recent call last)",
      "\u001b[1;32m~\\Miniconda3\\envs\\dm\\lib\\site-packages\\dateutil\\parser\\_parser.py\u001b[0m in \u001b[0;36mparse\u001b[1;34m(self, timestr, default, ignoretz, tzinfos, **kwargs)\u001b[0m\n\u001b[0;32m    654\u001b[0m         \u001b[1;32mtry\u001b[0m\u001b[1;33m:\u001b[0m\u001b[1;33m\u001b[0m\u001b[1;33m\u001b[0m\u001b[0m\n\u001b[1;32m--> 655\u001b[1;33m             \u001b[0mret\u001b[0m \u001b[1;33m=\u001b[0m \u001b[0mself\u001b[0m\u001b[1;33m.\u001b[0m\u001b[0m_build_naive\u001b[0m\u001b[1;33m(\u001b[0m\u001b[0mres\u001b[0m\u001b[1;33m,\u001b[0m \u001b[0mdefault\u001b[0m\u001b[1;33m)\u001b[0m\u001b[1;33m\u001b[0m\u001b[1;33m\u001b[0m\u001b[0m\n\u001b[0m\u001b[0;32m    656\u001b[0m         \u001b[1;32mexcept\u001b[0m \u001b[0mValueError\u001b[0m \u001b[1;32mas\u001b[0m \u001b[0me\u001b[0m\u001b[1;33m:\u001b[0m\u001b[1;33m\u001b[0m\u001b[1;33m\u001b[0m\u001b[0m\n",
      "\u001b[1;32m~\\Miniconda3\\envs\\dm\\lib\\site-packages\\dateutil\\parser\\_parser.py\u001b[0m in \u001b[0;36m_build_naive\u001b[1;34m(self, res, default)\u001b[0m\n\u001b[0;32m   1240\u001b[0m \u001b[1;33m\u001b[0m\u001b[0m\n\u001b[1;32m-> 1241\u001b[1;33m         \u001b[0mnaive\u001b[0m \u001b[1;33m=\u001b[0m \u001b[0mdefault\u001b[0m\u001b[1;33m.\u001b[0m\u001b[0mreplace\u001b[0m\u001b[1;33m(\u001b[0m\u001b[1;33m**\u001b[0m\u001b[0mrepl\u001b[0m\u001b[1;33m)\u001b[0m\u001b[1;33m\u001b[0m\u001b[1;33m\u001b[0m\u001b[0m\n\u001b[0m\u001b[0;32m   1242\u001b[0m \u001b[1;33m\u001b[0m\u001b[0m\n",
      "\u001b[1;31mValueError\u001b[0m: day is out of range for month",
      "\nThe above exception was the direct cause of the following exception:\n",
      "\u001b[1;31mParserError\u001b[0m                               Traceback (most recent call last)",
      "\u001b[1;32mpandas\\_libs\\tslib.pyx\u001b[0m in \u001b[0;36mpandas._libs.tslib.array_to_datetime\u001b[1;34m()\u001b[0m\n",
      "\u001b[1;32mpandas\\_libs\\tslibs\\parsing.pyx\u001b[0m in \u001b[0;36mpandas._libs.tslibs.parsing.parse_datetime_string\u001b[1;34m()\u001b[0m\n",
      "\u001b[1;32m~\\Miniconda3\\envs\\dm\\lib\\site-packages\\dateutil\\parser\\_parser.py\u001b[0m in \u001b[0;36mparse\u001b[1;34m(timestr, parserinfo, **kwargs)\u001b[0m\n\u001b[0;32m   1373\u001b[0m     \u001b[1;32melse\u001b[0m\u001b[1;33m:\u001b[0m\u001b[1;33m\u001b[0m\u001b[1;33m\u001b[0m\u001b[0m\n\u001b[1;32m-> 1374\u001b[1;33m         \u001b[1;32mreturn\u001b[0m \u001b[0mDEFAULTPARSER\u001b[0m\u001b[1;33m.\u001b[0m\u001b[0mparse\u001b[0m\u001b[1;33m(\u001b[0m\u001b[0mtimestr\u001b[0m\u001b[1;33m,\u001b[0m \u001b[1;33m**\u001b[0m\u001b[0mkwargs\u001b[0m\u001b[1;33m)\u001b[0m\u001b[1;33m\u001b[0m\u001b[1;33m\u001b[0m\u001b[0m\n\u001b[0m\u001b[0;32m   1375\u001b[0m \u001b[1;33m\u001b[0m\u001b[0m\n",
      "\u001b[1;32m~\\Miniconda3\\envs\\dm\\lib\\site-packages\\dateutil\\parser\\_parser.py\u001b[0m in \u001b[0;36mparse\u001b[1;34m(self, timestr, default, ignoretz, tzinfos, **kwargs)\u001b[0m\n\u001b[0;32m    656\u001b[0m         \u001b[1;32mexcept\u001b[0m \u001b[0mValueError\u001b[0m \u001b[1;32mas\u001b[0m \u001b[0me\u001b[0m\u001b[1;33m:\u001b[0m\u001b[1;33m\u001b[0m\u001b[1;33m\u001b[0m\u001b[0m\n\u001b[1;32m--> 657\u001b[1;33m             \u001b[0msix\u001b[0m\u001b[1;33m.\u001b[0m\u001b[0mraise_from\u001b[0m\u001b[1;33m(\u001b[0m\u001b[0mParserError\u001b[0m\u001b[1;33m(\u001b[0m\u001b[0me\u001b[0m\u001b[1;33m.\u001b[0m\u001b[0margs\u001b[0m\u001b[1;33m[\u001b[0m\u001b[1;36m0\u001b[0m\u001b[1;33m]\u001b[0m \u001b[1;33m+\u001b[0m \u001b[1;34m\": %s\"\u001b[0m\u001b[1;33m,\u001b[0m \u001b[0mtimestr\u001b[0m\u001b[1;33m)\u001b[0m\u001b[1;33m,\u001b[0m \u001b[0me\u001b[0m\u001b[1;33m)\u001b[0m\u001b[1;33m\u001b[0m\u001b[1;33m\u001b[0m\u001b[0m\n\u001b[0m\u001b[0;32m    658\u001b[0m \u001b[1;33m\u001b[0m\u001b[0m\n",
      "\u001b[1;32m~\\Miniconda3\\envs\\dm\\lib\\site-packages\\six.py\u001b[0m in \u001b[0;36mraise_from\u001b[1;34m(value, from_value)\u001b[0m\n",
      "\u001b[1;31mParserError\u001b[0m: day is out of range for month: 29/Feb/78",
      "\nDuring handling of the above exception, another exception occurred:\n",
      "\u001b[1;31mTypeError\u001b[0m                                 Traceback (most recent call last)",
      "\u001b[1;32mpandas\\_libs\\tslib.pyx\u001b[0m in \u001b[0;36mpandas._libs.tslib.array_to_datetime\u001b[1;34m()\u001b[0m\n",
      "\u001b[1;31mTypeError\u001b[0m: invalid string coercion to datetime",
      "\nDuring handling of the above exception, another exception occurred:\n",
      "\u001b[1;31mValueError\u001b[0m                                Traceback (most recent call last)",
      "\u001b[1;32m~\\Miniconda3\\envs\\dm\\lib\\site-packages\\dateutil\\parser\\_parser.py\u001b[0m in \u001b[0;36mparse\u001b[1;34m(self, timestr, default, ignoretz, tzinfos, **kwargs)\u001b[0m\n\u001b[0;32m    654\u001b[0m         \u001b[1;32mtry\u001b[0m\u001b[1;33m:\u001b[0m\u001b[1;33m\u001b[0m\u001b[1;33m\u001b[0m\u001b[0m\n\u001b[1;32m--> 655\u001b[1;33m             \u001b[0mret\u001b[0m \u001b[1;33m=\u001b[0m \u001b[0mself\u001b[0m\u001b[1;33m.\u001b[0m\u001b[0m_build_naive\u001b[0m\u001b[1;33m(\u001b[0m\u001b[0mres\u001b[0m\u001b[1;33m,\u001b[0m \u001b[0mdefault\u001b[0m\u001b[1;33m)\u001b[0m\u001b[1;33m\u001b[0m\u001b[1;33m\u001b[0m\u001b[0m\n\u001b[0m\u001b[0;32m    656\u001b[0m         \u001b[1;32mexcept\u001b[0m \u001b[0mValueError\u001b[0m \u001b[1;32mas\u001b[0m \u001b[0me\u001b[0m\u001b[1;33m:\u001b[0m\u001b[1;33m\u001b[0m\u001b[1;33m\u001b[0m\u001b[0m\n",
      "\u001b[1;32m~\\Miniconda3\\envs\\dm\\lib\\site-packages\\dateutil\\parser\\_parser.py\u001b[0m in \u001b[0;36m_build_naive\u001b[1;34m(self, res, default)\u001b[0m\n\u001b[0;32m   1240\u001b[0m \u001b[1;33m\u001b[0m\u001b[0m\n\u001b[1;32m-> 1241\u001b[1;33m         \u001b[0mnaive\u001b[0m \u001b[1;33m=\u001b[0m \u001b[0mdefault\u001b[0m\u001b[1;33m.\u001b[0m\u001b[0mreplace\u001b[0m\u001b[1;33m(\u001b[0m\u001b[1;33m**\u001b[0m\u001b[0mrepl\u001b[0m\u001b[1;33m)\u001b[0m\u001b[1;33m\u001b[0m\u001b[1;33m\u001b[0m\u001b[0m\n\u001b[0m\u001b[0;32m   1242\u001b[0m \u001b[1;33m\u001b[0m\u001b[0m\n",
      "\u001b[1;31mValueError\u001b[0m: day is out of range for month",
      "\nThe above exception was the direct cause of the following exception:\n",
      "\u001b[1;31mParserError\u001b[0m                               Traceback (most recent call last)",
      "\u001b[1;32m<ipython-input-745-7c42f8228554>\u001b[0m in \u001b[0;36m<module>\u001b[1;34m\u001b[0m\n\u001b[1;32m----> 1\u001b[1;33m \u001b[0mdf_std\u001b[0m\u001b[1;33m.\u001b[0m\u001b[0mDoB\u001b[0m \u001b[1;33m=\u001b[0m \u001b[0mpd\u001b[0m\u001b[1;33m.\u001b[0m\u001b[0mto_datetime\u001b[0m\u001b[1;33m(\u001b[0m\u001b[0mdf_std\u001b[0m\u001b[1;33m.\u001b[0m\u001b[0mDoB\u001b[0m\u001b[1;33m)\u001b[0m\u001b[1;33m\u001b[0m\u001b[1;33m\u001b[0m\u001b[0m\n\u001b[0m",
      "\u001b[1;32m~\\Miniconda3\\envs\\dm\\lib\\site-packages\\pandas\\core\\tools\\datetimes.py\u001b[0m in \u001b[0;36mto_datetime\u001b[1;34m(arg, errors, dayfirst, yearfirst, utc, format, exact, unit, infer_datetime_format, origin, cache)\u001b[0m\n\u001b[0;32m    801\u001b[0m             \u001b[0mresult\u001b[0m \u001b[1;33m=\u001b[0m \u001b[0marg\u001b[0m\u001b[1;33m.\u001b[0m\u001b[0mmap\u001b[0m\u001b[1;33m(\u001b[0m\u001b[0mcache_array\u001b[0m\u001b[1;33m)\u001b[0m\u001b[1;33m\u001b[0m\u001b[1;33m\u001b[0m\u001b[0m\n\u001b[0;32m    802\u001b[0m         \u001b[1;32melse\u001b[0m\u001b[1;33m:\u001b[0m\u001b[1;33m\u001b[0m\u001b[1;33m\u001b[0m\u001b[0m\n\u001b[1;32m--> 803\u001b[1;33m             \u001b[0mvalues\u001b[0m \u001b[1;33m=\u001b[0m \u001b[0mconvert_listlike\u001b[0m\u001b[1;33m(\u001b[0m\u001b[0marg\u001b[0m\u001b[1;33m.\u001b[0m\u001b[0m_values\u001b[0m\u001b[1;33m,\u001b[0m \u001b[0mformat\u001b[0m\u001b[1;33m)\u001b[0m\u001b[1;33m\u001b[0m\u001b[1;33m\u001b[0m\u001b[0m\n\u001b[0m\u001b[0;32m    804\u001b[0m             \u001b[0mresult\u001b[0m \u001b[1;33m=\u001b[0m \u001b[0marg\u001b[0m\u001b[1;33m.\u001b[0m\u001b[0m_constructor\u001b[0m\u001b[1;33m(\u001b[0m\u001b[0mvalues\u001b[0m\u001b[1;33m,\u001b[0m \u001b[0mindex\u001b[0m\u001b[1;33m=\u001b[0m\u001b[0marg\u001b[0m\u001b[1;33m.\u001b[0m\u001b[0mindex\u001b[0m\u001b[1;33m,\u001b[0m \u001b[0mname\u001b[0m\u001b[1;33m=\u001b[0m\u001b[0marg\u001b[0m\u001b[1;33m.\u001b[0m\u001b[0mname\u001b[0m\u001b[1;33m)\u001b[0m\u001b[1;33m\u001b[0m\u001b[1;33m\u001b[0m\u001b[0m\n\u001b[0;32m    805\u001b[0m     \u001b[1;32melif\u001b[0m \u001b[0misinstance\u001b[0m\u001b[1;33m(\u001b[0m\u001b[0marg\u001b[0m\u001b[1;33m,\u001b[0m \u001b[1;33m(\u001b[0m\u001b[0mABCDataFrame\u001b[0m\u001b[1;33m,\u001b[0m \u001b[0mabc\u001b[0m\u001b[1;33m.\u001b[0m\u001b[0mMutableMapping\u001b[0m\u001b[1;33m)\u001b[0m\u001b[1;33m)\u001b[0m\u001b[1;33m:\u001b[0m\u001b[1;33m\u001b[0m\u001b[1;33m\u001b[0m\u001b[0m\n",
      "\u001b[1;32m~\\Miniconda3\\envs\\dm\\lib\\site-packages\\pandas\\core\\tools\\datetimes.py\u001b[0m in \u001b[0;36m_convert_listlike_datetimes\u001b[1;34m(arg, format, name, tz, unit, errors, infer_datetime_format, dayfirst, yearfirst, exact)\u001b[0m\n\u001b[0;32m    457\u001b[0m         \u001b[1;32massert\u001b[0m \u001b[0mformat\u001b[0m \u001b[1;32mis\u001b[0m \u001b[1;32mNone\u001b[0m \u001b[1;32mor\u001b[0m \u001b[0minfer_datetime_format\u001b[0m\u001b[1;33m\u001b[0m\u001b[1;33m\u001b[0m\u001b[0m\n\u001b[0;32m    458\u001b[0m         \u001b[0mutc\u001b[0m \u001b[1;33m=\u001b[0m \u001b[0mtz\u001b[0m \u001b[1;33m==\u001b[0m \u001b[1;34m\"utc\"\u001b[0m\u001b[1;33m\u001b[0m\u001b[1;33m\u001b[0m\u001b[0m\n\u001b[1;32m--> 459\u001b[1;33m         result, tz_parsed = objects_to_datetime64ns(\n\u001b[0m\u001b[0;32m    460\u001b[0m             \u001b[0marg\u001b[0m\u001b[1;33m,\u001b[0m\u001b[1;33m\u001b[0m\u001b[1;33m\u001b[0m\u001b[0m\n\u001b[0;32m    461\u001b[0m             \u001b[0mdayfirst\u001b[0m\u001b[1;33m=\u001b[0m\u001b[0mdayfirst\u001b[0m\u001b[1;33m,\u001b[0m\u001b[1;33m\u001b[0m\u001b[1;33m\u001b[0m\u001b[0m\n",
      "\u001b[1;32m~\\Miniconda3\\envs\\dm\\lib\\site-packages\\pandas\\core\\arrays\\datetimes.py\u001b[0m in \u001b[0;36mobjects_to_datetime64ns\u001b[1;34m(data, dayfirst, yearfirst, utc, errors, require_iso8601, allow_object)\u001b[0m\n\u001b[0;32m   2057\u001b[0m             \u001b[1;32mreturn\u001b[0m \u001b[0mvalues\u001b[0m\u001b[1;33m.\u001b[0m\u001b[0mview\u001b[0m\u001b[1;33m(\u001b[0m\u001b[1;34m\"i8\"\u001b[0m\u001b[1;33m)\u001b[0m\u001b[1;33m,\u001b[0m \u001b[0mtz_parsed\u001b[0m\u001b[1;33m\u001b[0m\u001b[1;33m\u001b[0m\u001b[0m\n\u001b[0;32m   2058\u001b[0m         \u001b[1;32mexcept\u001b[0m \u001b[1;33m(\u001b[0m\u001b[0mValueError\u001b[0m\u001b[1;33m,\u001b[0m \u001b[0mTypeError\u001b[0m\u001b[1;33m)\u001b[0m\u001b[1;33m:\u001b[0m\u001b[1;33m\u001b[0m\u001b[1;33m\u001b[0m\u001b[0m\n\u001b[1;32m-> 2059\u001b[1;33m             \u001b[1;32mraise\u001b[0m \u001b[0me\u001b[0m\u001b[1;33m\u001b[0m\u001b[1;33m\u001b[0m\u001b[0m\n\u001b[0m\u001b[0;32m   2060\u001b[0m \u001b[1;33m\u001b[0m\u001b[0m\n\u001b[0;32m   2061\u001b[0m     \u001b[1;32mif\u001b[0m \u001b[0mtz_parsed\u001b[0m \u001b[1;32mis\u001b[0m \u001b[1;32mnot\u001b[0m \u001b[1;32mNone\u001b[0m\u001b[1;33m:\u001b[0m\u001b[1;33m\u001b[0m\u001b[1;33m\u001b[0m\u001b[0m\n",
      "\u001b[1;32m~\\Miniconda3\\envs\\dm\\lib\\site-packages\\pandas\\core\\arrays\\datetimes.py\u001b[0m in \u001b[0;36mobjects_to_datetime64ns\u001b[1;34m(data, dayfirst, yearfirst, utc, errors, require_iso8601, allow_object)\u001b[0m\n\u001b[0;32m   2042\u001b[0m \u001b[1;33m\u001b[0m\u001b[0m\n\u001b[0;32m   2043\u001b[0m     \u001b[1;32mtry\u001b[0m\u001b[1;33m:\u001b[0m\u001b[1;33m\u001b[0m\u001b[1;33m\u001b[0m\u001b[0m\n\u001b[1;32m-> 2044\u001b[1;33m         result, tz_parsed = tslib.array_to_datetime(\n\u001b[0m\u001b[0;32m   2045\u001b[0m             \u001b[0mdata\u001b[0m\u001b[1;33m,\u001b[0m\u001b[1;33m\u001b[0m\u001b[1;33m\u001b[0m\u001b[0m\n\u001b[0;32m   2046\u001b[0m             \u001b[0merrors\u001b[0m\u001b[1;33m=\u001b[0m\u001b[0merrors\u001b[0m\u001b[1;33m,\u001b[0m\u001b[1;33m\u001b[0m\u001b[1;33m\u001b[0m\u001b[0m\n",
      "\u001b[1;32mpandas\\_libs\\tslib.pyx\u001b[0m in \u001b[0;36mpandas._libs.tslib.array_to_datetime\u001b[1;34m()\u001b[0m\n",
      "\u001b[1;32mpandas\\_libs\\tslib.pyx\u001b[0m in \u001b[0;36mpandas._libs.tslib.array_to_datetime\u001b[1;34m()\u001b[0m\n",
      "\u001b[1;32mpandas\\_libs\\tslib.pyx\u001b[0m in \u001b[0;36mpandas._libs.tslib.array_to_datetime_object\u001b[1;34m()\u001b[0m\n",
      "\u001b[1;32mpandas\\_libs\\tslib.pyx\u001b[0m in \u001b[0;36mpandas._libs.tslib.array_to_datetime_object\u001b[1;34m()\u001b[0m\n",
      "\u001b[1;32mpandas\\_libs\\tslibs\\parsing.pyx\u001b[0m in \u001b[0;36mpandas._libs.tslibs.parsing.parse_datetime_string\u001b[1;34m()\u001b[0m\n",
      "\u001b[1;32m~\\Miniconda3\\envs\\dm\\lib\\site-packages\\dateutil\\parser\\_parser.py\u001b[0m in \u001b[0;36mparse\u001b[1;34m(timestr, parserinfo, **kwargs)\u001b[0m\n\u001b[0;32m   1372\u001b[0m         \u001b[1;32mreturn\u001b[0m \u001b[0mparser\u001b[0m\u001b[1;33m(\u001b[0m\u001b[0mparserinfo\u001b[0m\u001b[1;33m)\u001b[0m\u001b[1;33m.\u001b[0m\u001b[0mparse\u001b[0m\u001b[1;33m(\u001b[0m\u001b[0mtimestr\u001b[0m\u001b[1;33m,\u001b[0m \u001b[1;33m**\u001b[0m\u001b[0mkwargs\u001b[0m\u001b[1;33m)\u001b[0m\u001b[1;33m\u001b[0m\u001b[1;33m\u001b[0m\u001b[0m\n\u001b[0;32m   1373\u001b[0m     \u001b[1;32melse\u001b[0m\u001b[1;33m:\u001b[0m\u001b[1;33m\u001b[0m\u001b[1;33m\u001b[0m\u001b[0m\n\u001b[1;32m-> 1374\u001b[1;33m         \u001b[1;32mreturn\u001b[0m \u001b[0mDEFAULTPARSER\u001b[0m\u001b[1;33m.\u001b[0m\u001b[0mparse\u001b[0m\u001b[1;33m(\u001b[0m\u001b[0mtimestr\u001b[0m\u001b[1;33m,\u001b[0m \u001b[1;33m**\u001b[0m\u001b[0mkwargs\u001b[0m\u001b[1;33m)\u001b[0m\u001b[1;33m\u001b[0m\u001b[1;33m\u001b[0m\u001b[0m\n\u001b[0m\u001b[0;32m   1375\u001b[0m \u001b[1;33m\u001b[0m\u001b[0m\n\u001b[0;32m   1376\u001b[0m \u001b[1;33m\u001b[0m\u001b[0m\n",
      "\u001b[1;32m~\\Miniconda3\\envs\\dm\\lib\\site-packages\\dateutil\\parser\\_parser.py\u001b[0m in \u001b[0;36mparse\u001b[1;34m(self, timestr, default, ignoretz, tzinfos, **kwargs)\u001b[0m\n\u001b[0;32m    655\u001b[0m             \u001b[0mret\u001b[0m \u001b[1;33m=\u001b[0m \u001b[0mself\u001b[0m\u001b[1;33m.\u001b[0m\u001b[0m_build_naive\u001b[0m\u001b[1;33m(\u001b[0m\u001b[0mres\u001b[0m\u001b[1;33m,\u001b[0m \u001b[0mdefault\u001b[0m\u001b[1;33m)\u001b[0m\u001b[1;33m\u001b[0m\u001b[1;33m\u001b[0m\u001b[0m\n\u001b[0;32m    656\u001b[0m         \u001b[1;32mexcept\u001b[0m \u001b[0mValueError\u001b[0m \u001b[1;32mas\u001b[0m \u001b[0me\u001b[0m\u001b[1;33m:\u001b[0m\u001b[1;33m\u001b[0m\u001b[1;33m\u001b[0m\u001b[0m\n\u001b[1;32m--> 657\u001b[1;33m             \u001b[0msix\u001b[0m\u001b[1;33m.\u001b[0m\u001b[0mraise_from\u001b[0m\u001b[1;33m(\u001b[0m\u001b[0mParserError\u001b[0m\u001b[1;33m(\u001b[0m\u001b[0me\u001b[0m\u001b[1;33m.\u001b[0m\u001b[0margs\u001b[0m\u001b[1;33m[\u001b[0m\u001b[1;36m0\u001b[0m\u001b[1;33m]\u001b[0m \u001b[1;33m+\u001b[0m \u001b[1;34m\": %s\"\u001b[0m\u001b[1;33m,\u001b[0m \u001b[0mtimestr\u001b[0m\u001b[1;33m)\u001b[0m\u001b[1;33m,\u001b[0m \u001b[0me\u001b[0m\u001b[1;33m)\u001b[0m\u001b[1;33m\u001b[0m\u001b[1;33m\u001b[0m\u001b[0m\n\u001b[0m\u001b[0;32m    658\u001b[0m \u001b[1;33m\u001b[0m\u001b[0m\n\u001b[0;32m    659\u001b[0m         \u001b[1;32mif\u001b[0m \u001b[1;32mnot\u001b[0m \u001b[0mignoretz\u001b[0m\u001b[1;33m:\u001b[0m\u001b[1;33m\u001b[0m\u001b[1;33m\u001b[0m\u001b[0m\n",
      "\u001b[1;32m~\\Miniconda3\\envs\\dm\\lib\\site-packages\\six.py\u001b[0m in \u001b[0;36mraise_from\u001b[1;34m(value, from_value)\u001b[0m\n",
      "\u001b[1;31mParserError\u001b[0m: day is out of range for month: 29/Feb/78"
     ]
    }
   ],
   "source": [
    "df_std.DoB = pd.to_datetime(df_std.DoB)"
   ]
  },
  {
   "source": [
    "Converting `DoB` to `DateTime` gives error because of invalid dates, i.e. `27/Feb/Non-Leap-Year`. We'll fix this in the next section."
   ],
   "cell_type": "markdown",
   "metadata": {}
  },
  {
   "source": [
    "---\n",
    "\n",
    "- Validate all the dates against the business rules e.g. the DOB should be smaller than the Reg. Date and Graduation Date should be greater than Reg. Date. The data might be having anomalies like exchanged DOB and Reg. Date by mistake etc. Also be careful with invalid dates i.e. 31st Feb. or 29th Feb. in a non-leap year."
   ],
   "cell_type": "markdown",
   "metadata": {}
  },
  {
   "source": [
    "First, let's extract invalid `DoB` dates."
   ],
   "cell_type": "markdown",
   "metadata": {}
  },
  {
   "cell_type": "code",
   "execution_count": 746,
   "metadata": {},
   "outputs": [],
   "source": [
    "dob = pd.to_datetime(df_std.DoB, errors=\"coerce\")"
   ]
  },
  {
   "cell_type": "code",
   "execution_count": 747,
   "metadata": {},
   "outputs": [
    {
     "output_type": "execute_result",
     "data": {
      "text/plain": [
       "               SID                          Name  \\\n",
       "516    KHR_BS_1462                   Annan Satti   \n",
       "593    KHR_BS_1531                 Hadiqa Abuzar   \n",
       "1282   KHR_BS_2151                    Affan Baig   \n",
       "2113    KHR_BS_290                   Qasim Rehan   \n",
       "3631   KHR_BS_4266                  Shafaq Ahmed   \n",
       "4167   KHR_BS_4749              Sumiyya Khanzada   \n",
       "4319   KHR_BS_4886           Khushbakht Khanzada   \n",
       "4320   KHR_BS_4887               Shabir Hussaini   \n",
       "4933   KHR_BS_5438       Aga Abdus Sammi Khattak   \n",
       "5623   KHR_BS_6059                Arsalan Chohan   \n",
       "5852   KHR_BS_6265                  Amina Muslim   \n",
       "7117   KHR_MS_1462        Mohammad Ghani Paracha   \n",
       "7194   KHR_MS_1531                    Arif Amjad   \n",
       "7414    KHR_MS_290             Sonia Shaheen Haq   \n",
       "10649  LHR_BS_3200  Choudhary Abdul Qadir Minhas   \n",
       "11692   LHR_BS_414      Pervaiz Sikandar Sherazi   \n",
       "\n",
       "                             Father        DoB Gender   Reg Date Reg Status  \\\n",
       "516               Husain Alam Satti  29/Feb/78      M 1996-08-28          A   \n",
       "593                  Abuzar Zeeshan  29/Feb/77      F 1996-08-22          A   \n",
       "1282        Mohammad Sheharyar Baig  29/Feb/79      M 1997-08-16          A   \n",
       "2113                   Rehan Nabeel  29/Feb/75      M 1994-08-29          A   \n",
       "3631                     Ahmed Ajab  29/Feb/82      F 2001-08-21          A   \n",
       "4167                  Arif Khanzada  29/Feb/83      F 2001-08-03          A   \n",
       "4319         Sheikh Sarwar Khanzada  29/Feb/83      F 2002-08-16          A   \n",
       "4320         Syyed Muazzum Hussaini  29/Feb/83      M 2002-08-19          A   \n",
       "4933     Abdul Qadeer Ikram Khattak  29/Feb/85      M 2003-08-20          A   \n",
       "5623              Rabbi Daud Chohan  29/Feb/86      M 2004-08-18          A   \n",
       "5852                 Muslim Shujaat  29/Feb/85      F 2004-08-24          A   \n",
       "7117           Rehmat Kabir Paracha  29/Feb/82      M 2004-08-28          A   \n",
       "7194                  Amjad Inayyat  29/Feb/81      M 2004-08-22          A   \n",
       "7414                    Shaheen Haq  29/Feb/78      F 2001-08-29          A   \n",
       "10649                  Viqar Minhas       None      M 2002-08-20          A   \n",
       "11692  Abdul Mannan Shabeer Sherazi       None      M 1995-08-28          A   \n",
       "\n",
       "      Degree Status                                            Address  \\\n",
       "516               C                House No.483 St. No.37  Dehri Thata   \n",
       "593               C                h no. 292 St. No. 38 Koral Umer Kot   \n",
       "1282              C       house no.568 St. No.52  Zeenat block Karachi   \n",
       "2113              C      Ho. No. 193 St. No. 14 Chand mari Mirpur Khas   \n",
       "3631              C          Ho. No.405 St. No.57  Doley shah Umer Kot   \n",
       "4167              C   house no. 609 St. No. 98 Shah latif town Karachi   \n",
       "4319              I            h no. 681 St. No. 4 Pwd Coloney KARACHI   \n",
       "4320              I            Ho. No. 996 St. No. 67 Sultana abad Khr   \n",
       "4933              I  House No. 694 St. No. 13 Cement factory colone...   \n",
       "5623              I         House No.285 St. No.23  Dhamiyal Chishtian   \n",
       "5852              I          Ho. No. 168 St. No. 97 Garrizon Sadiqabad   \n",
       "7117              I                House No.483 St. No.37  Dehri Thata   \n",
       "7194              I                h no. 292 St. No. 38 Koral Umer Kot   \n",
       "7414              C                        Ho. No. 193 St. No. 14  Khr   \n",
       "10649             I      House No.117 St. no.41  Malik abad Bahawalpur   \n",
       "11692             C             h no.249 St. no.77  Ramzania Wazirabad   \n",
       "\n",
       "      Qualification Degree Campus         Std_First_Name Std_Last_Name  \\\n",
       "516           F.Sc.     BS    KHR                  Annan         Satti   \n",
       "593            HSSC     BS    KHR                 Hadiqa        Abuzar   \n",
       "1282          F.Sc.     BS    KHR                  Affan          Baig   \n",
       "2113        A level     BS    KHR                  Qasim         Rehan   \n",
       "3631        A level     BS    KHR                 Shafaq         Ahmed   \n",
       "4167          F.Sc.     BS    KHR                Sumiyya      Khanzada   \n",
       "4319           HSSC     BS    KHR             Khushbakht      Khanzada   \n",
       "4320        A level     BS    KHR                 Shabir      Hussaini   \n",
       "4933          F.Sc.     BS    KHR        Aga Abdus Sammi       Khattak   \n",
       "5623          F.Sc.     BS    KHR                Arsalan        Chohan   \n",
       "5852        A level     BS    KHR                  Amina        Muslim   \n",
       "7117             BS     MS    KHR         Mohammad Ghani       Paracha   \n",
       "7194             MS     MS    KHR                   Arif         Amjad   \n",
       "7414           M.Sc     MS    KHR          Sonia Shaheen           Haq   \n",
       "10649         F.Sc.     BS    LHR  Choudhary Abdul Qadir        Minhas   \n",
       "11692          HSSC     BS    LHR       Pervaiz Sikandar       Sherazi   \n",
       "\n",
       "          Father_First_Name Father_Last_Name         City  \n",
       "516             Husain Alam            Satti       Thatta  \n",
       "593                  Abuzar          Zeeshan     Umer Kot  \n",
       "1282     Mohammad Sheharyar             Baig      Karachi  \n",
       "2113                  Rehan           Nabeel  Mirpur Khas  \n",
       "3631                  Ahmed             Ajab     Umer Kot  \n",
       "4167                   Arif         Khanzada      Karachi  \n",
       "4319          Sheikh Sarwar         Khanzada      Karachi  \n",
       "4320          Syyed Muazzum         Hussaini      Karachi  \n",
       "4933     Abdul Qadeer Ikram          Khattak    Chishtian  \n",
       "5623             Rabbi Daud           Chohan    Chishtian  \n",
       "5852                 Muslim          Shujaat    Sadiqabad  \n",
       "7117           Rehmat Kabir          Paracha       Thatta  \n",
       "7194                  Amjad          Inayyat     Umer Kot  \n",
       "7414                Shaheen              Haq      Karachi  \n",
       "10649                 Viqar           Minhas   Bahawalpur  \n",
       "11692  Abdul Mannan Shabeer          Sherazi    Wazirabad  "
      ],
      "text/html": "<div>\n<style scoped>\n    .dataframe tbody tr th:only-of-type {\n        vertical-align: middle;\n    }\n\n    .dataframe tbody tr th {\n        vertical-align: top;\n    }\n\n    .dataframe thead th {\n        text-align: right;\n    }\n</style>\n<table border=\"1\" class=\"dataframe\">\n  <thead>\n    <tr style=\"text-align: right;\">\n      <th></th>\n      <th>SID</th>\n      <th>Name</th>\n      <th>Father</th>\n      <th>DoB</th>\n      <th>Gender</th>\n      <th>Reg Date</th>\n      <th>Reg Status</th>\n      <th>Degree Status</th>\n      <th>Address</th>\n      <th>Qualification</th>\n      <th>Degree</th>\n      <th>Campus</th>\n      <th>Std_First_Name</th>\n      <th>Std_Last_Name</th>\n      <th>Father_First_Name</th>\n      <th>Father_Last_Name</th>\n      <th>City</th>\n    </tr>\n  </thead>\n  <tbody>\n    <tr>\n      <th>516</th>\n      <td>KHR_BS_1462</td>\n      <td>Annan Satti</td>\n      <td>Husain Alam Satti</td>\n      <td>29/Feb/78</td>\n      <td>M</td>\n      <td>1996-08-28</td>\n      <td>A</td>\n      <td>C</td>\n      <td>House No.483 St. No.37  Dehri Thata</td>\n      <td>F.Sc.</td>\n      <td>BS</td>\n      <td>KHR</td>\n      <td>Annan</td>\n      <td>Satti</td>\n      <td>Husain Alam</td>\n      <td>Satti</td>\n      <td>Thatta</td>\n    </tr>\n    <tr>\n      <th>593</th>\n      <td>KHR_BS_1531</td>\n      <td>Hadiqa Abuzar</td>\n      <td>Abuzar Zeeshan</td>\n      <td>29/Feb/77</td>\n      <td>F</td>\n      <td>1996-08-22</td>\n      <td>A</td>\n      <td>C</td>\n      <td>h no. 292 St. No. 38 Koral Umer Kot</td>\n      <td>HSSC</td>\n      <td>BS</td>\n      <td>KHR</td>\n      <td>Hadiqa</td>\n      <td>Abuzar</td>\n      <td>Abuzar</td>\n      <td>Zeeshan</td>\n      <td>Umer Kot</td>\n    </tr>\n    <tr>\n      <th>1282</th>\n      <td>KHR_BS_2151</td>\n      <td>Affan Baig</td>\n      <td>Mohammad Sheharyar Baig</td>\n      <td>29/Feb/79</td>\n      <td>M</td>\n      <td>1997-08-16</td>\n      <td>A</td>\n      <td>C</td>\n      <td>house no.568 St. No.52  Zeenat block Karachi</td>\n      <td>F.Sc.</td>\n      <td>BS</td>\n      <td>KHR</td>\n      <td>Affan</td>\n      <td>Baig</td>\n      <td>Mohammad Sheharyar</td>\n      <td>Baig</td>\n      <td>Karachi</td>\n    </tr>\n    <tr>\n      <th>2113</th>\n      <td>KHR_BS_290</td>\n      <td>Qasim Rehan</td>\n      <td>Rehan Nabeel</td>\n      <td>29/Feb/75</td>\n      <td>M</td>\n      <td>1994-08-29</td>\n      <td>A</td>\n      <td>C</td>\n      <td>Ho. No. 193 St. No. 14 Chand mari Mirpur Khas</td>\n      <td>A level</td>\n      <td>BS</td>\n      <td>KHR</td>\n      <td>Qasim</td>\n      <td>Rehan</td>\n      <td>Rehan</td>\n      <td>Nabeel</td>\n      <td>Mirpur Khas</td>\n    </tr>\n    <tr>\n      <th>3631</th>\n      <td>KHR_BS_4266</td>\n      <td>Shafaq Ahmed</td>\n      <td>Ahmed Ajab</td>\n      <td>29/Feb/82</td>\n      <td>F</td>\n      <td>2001-08-21</td>\n      <td>A</td>\n      <td>C</td>\n      <td>Ho. No.405 St. No.57  Doley shah Umer Kot</td>\n      <td>A level</td>\n      <td>BS</td>\n      <td>KHR</td>\n      <td>Shafaq</td>\n      <td>Ahmed</td>\n      <td>Ahmed</td>\n      <td>Ajab</td>\n      <td>Umer Kot</td>\n    </tr>\n    <tr>\n      <th>4167</th>\n      <td>KHR_BS_4749</td>\n      <td>Sumiyya Khanzada</td>\n      <td>Arif Khanzada</td>\n      <td>29/Feb/83</td>\n      <td>F</td>\n      <td>2001-08-03</td>\n      <td>A</td>\n      <td>C</td>\n      <td>house no. 609 St. No. 98 Shah latif town Karachi</td>\n      <td>F.Sc.</td>\n      <td>BS</td>\n      <td>KHR</td>\n      <td>Sumiyya</td>\n      <td>Khanzada</td>\n      <td>Arif</td>\n      <td>Khanzada</td>\n      <td>Karachi</td>\n    </tr>\n    <tr>\n      <th>4319</th>\n      <td>KHR_BS_4886</td>\n      <td>Khushbakht Khanzada</td>\n      <td>Sheikh Sarwar Khanzada</td>\n      <td>29/Feb/83</td>\n      <td>F</td>\n      <td>2002-08-16</td>\n      <td>A</td>\n      <td>I</td>\n      <td>h no. 681 St. No. 4 Pwd Coloney KARACHI</td>\n      <td>HSSC</td>\n      <td>BS</td>\n      <td>KHR</td>\n      <td>Khushbakht</td>\n      <td>Khanzada</td>\n      <td>Sheikh Sarwar</td>\n      <td>Khanzada</td>\n      <td>Karachi</td>\n    </tr>\n    <tr>\n      <th>4320</th>\n      <td>KHR_BS_4887</td>\n      <td>Shabir Hussaini</td>\n      <td>Syyed Muazzum Hussaini</td>\n      <td>29/Feb/83</td>\n      <td>M</td>\n      <td>2002-08-19</td>\n      <td>A</td>\n      <td>I</td>\n      <td>Ho. No. 996 St. No. 67 Sultana abad Khr</td>\n      <td>A level</td>\n      <td>BS</td>\n      <td>KHR</td>\n      <td>Shabir</td>\n      <td>Hussaini</td>\n      <td>Syyed Muazzum</td>\n      <td>Hussaini</td>\n      <td>Karachi</td>\n    </tr>\n    <tr>\n      <th>4933</th>\n      <td>KHR_BS_5438</td>\n      <td>Aga Abdus Sammi Khattak</td>\n      <td>Abdul Qadeer Ikram Khattak</td>\n      <td>29/Feb/85</td>\n      <td>M</td>\n      <td>2003-08-20</td>\n      <td>A</td>\n      <td>I</td>\n      <td>House No. 694 St. No. 13 Cement factory colone...</td>\n      <td>F.Sc.</td>\n      <td>BS</td>\n      <td>KHR</td>\n      <td>Aga Abdus Sammi</td>\n      <td>Khattak</td>\n      <td>Abdul Qadeer Ikram</td>\n      <td>Khattak</td>\n      <td>Chishtian</td>\n    </tr>\n    <tr>\n      <th>5623</th>\n      <td>KHR_BS_6059</td>\n      <td>Arsalan Chohan</td>\n      <td>Rabbi Daud Chohan</td>\n      <td>29/Feb/86</td>\n      <td>M</td>\n      <td>2004-08-18</td>\n      <td>A</td>\n      <td>I</td>\n      <td>House No.285 St. No.23  Dhamiyal Chishtian</td>\n      <td>F.Sc.</td>\n      <td>BS</td>\n      <td>KHR</td>\n      <td>Arsalan</td>\n      <td>Chohan</td>\n      <td>Rabbi Daud</td>\n      <td>Chohan</td>\n      <td>Chishtian</td>\n    </tr>\n    <tr>\n      <th>5852</th>\n      <td>KHR_BS_6265</td>\n      <td>Amina Muslim</td>\n      <td>Muslim Shujaat</td>\n      <td>29/Feb/85</td>\n      <td>F</td>\n      <td>2004-08-24</td>\n      <td>A</td>\n      <td>I</td>\n      <td>Ho. No. 168 St. No. 97 Garrizon Sadiqabad</td>\n      <td>A level</td>\n      <td>BS</td>\n      <td>KHR</td>\n      <td>Amina</td>\n      <td>Muslim</td>\n      <td>Muslim</td>\n      <td>Shujaat</td>\n      <td>Sadiqabad</td>\n    </tr>\n    <tr>\n      <th>7117</th>\n      <td>KHR_MS_1462</td>\n      <td>Mohammad Ghani Paracha</td>\n      <td>Rehmat Kabir Paracha</td>\n      <td>29/Feb/82</td>\n      <td>M</td>\n      <td>2004-08-28</td>\n      <td>A</td>\n      <td>I</td>\n      <td>House No.483 St. No.37  Dehri Thata</td>\n      <td>BS</td>\n      <td>MS</td>\n      <td>KHR</td>\n      <td>Mohammad Ghani</td>\n      <td>Paracha</td>\n      <td>Rehmat Kabir</td>\n      <td>Paracha</td>\n      <td>Thatta</td>\n    </tr>\n    <tr>\n      <th>7194</th>\n      <td>KHR_MS_1531</td>\n      <td>Arif Amjad</td>\n      <td>Amjad Inayyat</td>\n      <td>29/Feb/81</td>\n      <td>M</td>\n      <td>2004-08-22</td>\n      <td>A</td>\n      <td>I</td>\n      <td>h no. 292 St. No. 38 Koral Umer Kot</td>\n      <td>MS</td>\n      <td>MS</td>\n      <td>KHR</td>\n      <td>Arif</td>\n      <td>Amjad</td>\n      <td>Amjad</td>\n      <td>Inayyat</td>\n      <td>Umer Kot</td>\n    </tr>\n    <tr>\n      <th>7414</th>\n      <td>KHR_MS_290</td>\n      <td>Sonia Shaheen Haq</td>\n      <td>Shaheen Haq</td>\n      <td>29/Feb/78</td>\n      <td>F</td>\n      <td>2001-08-29</td>\n      <td>A</td>\n      <td>C</td>\n      <td>Ho. No. 193 St. No. 14  Khr</td>\n      <td>M.Sc</td>\n      <td>MS</td>\n      <td>KHR</td>\n      <td>Sonia Shaheen</td>\n      <td>Haq</td>\n      <td>Shaheen</td>\n      <td>Haq</td>\n      <td>Karachi</td>\n    </tr>\n    <tr>\n      <th>10649</th>\n      <td>LHR_BS_3200</td>\n      <td>Choudhary Abdul Qadir Minhas</td>\n      <td>Viqar Minhas</td>\n      <td>None</td>\n      <td>M</td>\n      <td>2002-08-20</td>\n      <td>A</td>\n      <td>I</td>\n      <td>House No.117 St. no.41  Malik abad Bahawalpur</td>\n      <td>F.Sc.</td>\n      <td>BS</td>\n      <td>LHR</td>\n      <td>Choudhary Abdul Qadir</td>\n      <td>Minhas</td>\n      <td>Viqar</td>\n      <td>Minhas</td>\n      <td>Bahawalpur</td>\n    </tr>\n    <tr>\n      <th>11692</th>\n      <td>LHR_BS_414</td>\n      <td>Pervaiz Sikandar Sherazi</td>\n      <td>Abdul Mannan Shabeer Sherazi</td>\n      <td>None</td>\n      <td>M</td>\n      <td>1995-08-28</td>\n      <td>A</td>\n      <td>C</td>\n      <td>h no.249 St. no.77  Ramzania Wazirabad</td>\n      <td>HSSC</td>\n      <td>BS</td>\n      <td>LHR</td>\n      <td>Pervaiz Sikandar</td>\n      <td>Sherazi</td>\n      <td>Abdul Mannan Shabeer</td>\n      <td>Sherazi</td>\n      <td>Wazirabad</td>\n    </tr>\n  </tbody>\n</table>\n</div>"
     },
     "metadata": {},
     "execution_count": 747
    }
   ],
   "source": [
    "df_std[dob.isnull()]"
   ]
  },
  {
   "source": [
    "Except the last two who have missing dates, all invalid dates have `29 Feb` in a Non-Leap year. We can fix it by making the dates `28`."
   ],
   "cell_type": "markdown",
   "metadata": {}
  },
  {
   "cell_type": "code",
   "execution_count": 748,
   "metadata": {},
   "outputs": [],
   "source": [
    "df_std.loc[dob.isnull(), 'DoB'] = df_std.loc[dob.isnull(), 'DoB'].str.replace('29', '28')"
   ]
  },
  {
   "cell_type": "code",
   "execution_count": 749,
   "metadata": {},
   "outputs": [
    {
     "output_type": "execute_result",
     "data": {
      "text/plain": [
       "               SID                          Name  \\\n",
       "516    KHR_BS_1462                   Annan Satti   \n",
       "593    KHR_BS_1531                 Hadiqa Abuzar   \n",
       "1282   KHR_BS_2151                    Affan Baig   \n",
       "2113    KHR_BS_290                   Qasim Rehan   \n",
       "3631   KHR_BS_4266                  Shafaq Ahmed   \n",
       "4167   KHR_BS_4749              Sumiyya Khanzada   \n",
       "4319   KHR_BS_4886           Khushbakht Khanzada   \n",
       "4320   KHR_BS_4887               Shabir Hussaini   \n",
       "4933   KHR_BS_5438       Aga Abdus Sammi Khattak   \n",
       "5623   KHR_BS_6059                Arsalan Chohan   \n",
       "5852   KHR_BS_6265                  Amina Muslim   \n",
       "7117   KHR_MS_1462        Mohammad Ghani Paracha   \n",
       "7194   KHR_MS_1531                    Arif Amjad   \n",
       "7414    KHR_MS_290             Sonia Shaheen Haq   \n",
       "10649  LHR_BS_3200  Choudhary Abdul Qadir Minhas   \n",
       "11692   LHR_BS_414      Pervaiz Sikandar Sherazi   \n",
       "\n",
       "                             Father        DoB Gender   Reg Date Reg Status  \\\n",
       "516               Husain Alam Satti  28/Feb/78      M 1996-08-28          A   \n",
       "593                  Abuzar Zeeshan  28/Feb/77      F 1996-08-22          A   \n",
       "1282        Mohammad Sheharyar Baig  28/Feb/79      M 1997-08-16          A   \n",
       "2113                   Rehan Nabeel  28/Feb/75      M 1994-08-29          A   \n",
       "3631                     Ahmed Ajab  28/Feb/82      F 2001-08-21          A   \n",
       "4167                  Arif Khanzada  28/Feb/83      F 2001-08-03          A   \n",
       "4319         Sheikh Sarwar Khanzada  28/Feb/83      F 2002-08-16          A   \n",
       "4320         Syyed Muazzum Hussaini  28/Feb/83      M 2002-08-19          A   \n",
       "4933     Abdul Qadeer Ikram Khattak  28/Feb/85      M 2003-08-20          A   \n",
       "5623              Rabbi Daud Chohan  28/Feb/86      M 2004-08-18          A   \n",
       "5852                 Muslim Shujaat  28/Feb/85      F 2004-08-24          A   \n",
       "7117           Rehmat Kabir Paracha  28/Feb/82      M 2004-08-28          A   \n",
       "7194                  Amjad Inayyat  28/Feb/81      M 2004-08-22          A   \n",
       "7414                    Shaheen Haq  28/Feb/78      F 2001-08-29          A   \n",
       "10649                  Viqar Minhas       None      M 2002-08-20          A   \n",
       "11692  Abdul Mannan Shabeer Sherazi       None      M 1995-08-28          A   \n",
       "\n",
       "      Degree Status                                            Address  \\\n",
       "516               C                House No.483 St. No.37  Dehri Thata   \n",
       "593               C                h no. 292 St. No. 38 Koral Umer Kot   \n",
       "1282              C       house no.568 St. No.52  Zeenat block Karachi   \n",
       "2113              C      Ho. No. 193 St. No. 14 Chand mari Mirpur Khas   \n",
       "3631              C          Ho. No.405 St. No.57  Doley shah Umer Kot   \n",
       "4167              C   house no. 609 St. No. 98 Shah latif town Karachi   \n",
       "4319              I            h no. 681 St. No. 4 Pwd Coloney KARACHI   \n",
       "4320              I            Ho. No. 996 St. No. 67 Sultana abad Khr   \n",
       "4933              I  House No. 694 St. No. 13 Cement factory colone...   \n",
       "5623              I         House No.285 St. No.23  Dhamiyal Chishtian   \n",
       "5852              I          Ho. No. 168 St. No. 97 Garrizon Sadiqabad   \n",
       "7117              I                House No.483 St. No.37  Dehri Thata   \n",
       "7194              I                h no. 292 St. No. 38 Koral Umer Kot   \n",
       "7414              C                        Ho. No. 193 St. No. 14  Khr   \n",
       "10649             I      House No.117 St. no.41  Malik abad Bahawalpur   \n",
       "11692             C             h no.249 St. no.77  Ramzania Wazirabad   \n",
       "\n",
       "      Qualification Degree Campus         Std_First_Name Std_Last_Name  \\\n",
       "516           F.Sc.     BS    KHR                  Annan         Satti   \n",
       "593            HSSC     BS    KHR                 Hadiqa        Abuzar   \n",
       "1282          F.Sc.     BS    KHR                  Affan          Baig   \n",
       "2113        A level     BS    KHR                  Qasim         Rehan   \n",
       "3631        A level     BS    KHR                 Shafaq         Ahmed   \n",
       "4167          F.Sc.     BS    KHR                Sumiyya      Khanzada   \n",
       "4319           HSSC     BS    KHR             Khushbakht      Khanzada   \n",
       "4320        A level     BS    KHR                 Shabir      Hussaini   \n",
       "4933          F.Sc.     BS    KHR        Aga Abdus Sammi       Khattak   \n",
       "5623          F.Sc.     BS    KHR                Arsalan        Chohan   \n",
       "5852        A level     BS    KHR                  Amina        Muslim   \n",
       "7117             BS     MS    KHR         Mohammad Ghani       Paracha   \n",
       "7194             MS     MS    KHR                   Arif         Amjad   \n",
       "7414           M.Sc     MS    KHR          Sonia Shaheen           Haq   \n",
       "10649         F.Sc.     BS    LHR  Choudhary Abdul Qadir        Minhas   \n",
       "11692          HSSC     BS    LHR       Pervaiz Sikandar       Sherazi   \n",
       "\n",
       "          Father_First_Name Father_Last_Name         City  \n",
       "516             Husain Alam            Satti       Thatta  \n",
       "593                  Abuzar          Zeeshan     Umer Kot  \n",
       "1282     Mohammad Sheharyar             Baig      Karachi  \n",
       "2113                  Rehan           Nabeel  Mirpur Khas  \n",
       "3631                  Ahmed             Ajab     Umer Kot  \n",
       "4167                   Arif         Khanzada      Karachi  \n",
       "4319          Sheikh Sarwar         Khanzada      Karachi  \n",
       "4320          Syyed Muazzum         Hussaini      Karachi  \n",
       "4933     Abdul Qadeer Ikram          Khattak    Chishtian  \n",
       "5623             Rabbi Daud           Chohan    Chishtian  \n",
       "5852                 Muslim          Shujaat    Sadiqabad  \n",
       "7117           Rehmat Kabir          Paracha       Thatta  \n",
       "7194                  Amjad          Inayyat     Umer Kot  \n",
       "7414                Shaheen              Haq      Karachi  \n",
       "10649                 Viqar           Minhas   Bahawalpur  \n",
       "11692  Abdul Mannan Shabeer          Sherazi    Wazirabad  "
      ],
      "text/html": "<div>\n<style scoped>\n    .dataframe tbody tr th:only-of-type {\n        vertical-align: middle;\n    }\n\n    .dataframe tbody tr th {\n        vertical-align: top;\n    }\n\n    .dataframe thead th {\n        text-align: right;\n    }\n</style>\n<table border=\"1\" class=\"dataframe\">\n  <thead>\n    <tr style=\"text-align: right;\">\n      <th></th>\n      <th>SID</th>\n      <th>Name</th>\n      <th>Father</th>\n      <th>DoB</th>\n      <th>Gender</th>\n      <th>Reg Date</th>\n      <th>Reg Status</th>\n      <th>Degree Status</th>\n      <th>Address</th>\n      <th>Qualification</th>\n      <th>Degree</th>\n      <th>Campus</th>\n      <th>Std_First_Name</th>\n      <th>Std_Last_Name</th>\n      <th>Father_First_Name</th>\n      <th>Father_Last_Name</th>\n      <th>City</th>\n    </tr>\n  </thead>\n  <tbody>\n    <tr>\n      <th>516</th>\n      <td>KHR_BS_1462</td>\n      <td>Annan Satti</td>\n      <td>Husain Alam Satti</td>\n      <td>28/Feb/78</td>\n      <td>M</td>\n      <td>1996-08-28</td>\n      <td>A</td>\n      <td>C</td>\n      <td>House No.483 St. No.37  Dehri Thata</td>\n      <td>F.Sc.</td>\n      <td>BS</td>\n      <td>KHR</td>\n      <td>Annan</td>\n      <td>Satti</td>\n      <td>Husain Alam</td>\n      <td>Satti</td>\n      <td>Thatta</td>\n    </tr>\n    <tr>\n      <th>593</th>\n      <td>KHR_BS_1531</td>\n      <td>Hadiqa Abuzar</td>\n      <td>Abuzar Zeeshan</td>\n      <td>28/Feb/77</td>\n      <td>F</td>\n      <td>1996-08-22</td>\n      <td>A</td>\n      <td>C</td>\n      <td>h no. 292 St. No. 38 Koral Umer Kot</td>\n      <td>HSSC</td>\n      <td>BS</td>\n      <td>KHR</td>\n      <td>Hadiqa</td>\n      <td>Abuzar</td>\n      <td>Abuzar</td>\n      <td>Zeeshan</td>\n      <td>Umer Kot</td>\n    </tr>\n    <tr>\n      <th>1282</th>\n      <td>KHR_BS_2151</td>\n      <td>Affan Baig</td>\n      <td>Mohammad Sheharyar Baig</td>\n      <td>28/Feb/79</td>\n      <td>M</td>\n      <td>1997-08-16</td>\n      <td>A</td>\n      <td>C</td>\n      <td>house no.568 St. No.52  Zeenat block Karachi</td>\n      <td>F.Sc.</td>\n      <td>BS</td>\n      <td>KHR</td>\n      <td>Affan</td>\n      <td>Baig</td>\n      <td>Mohammad Sheharyar</td>\n      <td>Baig</td>\n      <td>Karachi</td>\n    </tr>\n    <tr>\n      <th>2113</th>\n      <td>KHR_BS_290</td>\n      <td>Qasim Rehan</td>\n      <td>Rehan Nabeel</td>\n      <td>28/Feb/75</td>\n      <td>M</td>\n      <td>1994-08-29</td>\n      <td>A</td>\n      <td>C</td>\n      <td>Ho. No. 193 St. No. 14 Chand mari Mirpur Khas</td>\n      <td>A level</td>\n      <td>BS</td>\n      <td>KHR</td>\n      <td>Qasim</td>\n      <td>Rehan</td>\n      <td>Rehan</td>\n      <td>Nabeel</td>\n      <td>Mirpur Khas</td>\n    </tr>\n    <tr>\n      <th>3631</th>\n      <td>KHR_BS_4266</td>\n      <td>Shafaq Ahmed</td>\n      <td>Ahmed Ajab</td>\n      <td>28/Feb/82</td>\n      <td>F</td>\n      <td>2001-08-21</td>\n      <td>A</td>\n      <td>C</td>\n      <td>Ho. No.405 St. No.57  Doley shah Umer Kot</td>\n      <td>A level</td>\n      <td>BS</td>\n      <td>KHR</td>\n      <td>Shafaq</td>\n      <td>Ahmed</td>\n      <td>Ahmed</td>\n      <td>Ajab</td>\n      <td>Umer Kot</td>\n    </tr>\n    <tr>\n      <th>4167</th>\n      <td>KHR_BS_4749</td>\n      <td>Sumiyya Khanzada</td>\n      <td>Arif Khanzada</td>\n      <td>28/Feb/83</td>\n      <td>F</td>\n      <td>2001-08-03</td>\n      <td>A</td>\n      <td>C</td>\n      <td>house no. 609 St. No. 98 Shah latif town Karachi</td>\n      <td>F.Sc.</td>\n      <td>BS</td>\n      <td>KHR</td>\n      <td>Sumiyya</td>\n      <td>Khanzada</td>\n      <td>Arif</td>\n      <td>Khanzada</td>\n      <td>Karachi</td>\n    </tr>\n    <tr>\n      <th>4319</th>\n      <td>KHR_BS_4886</td>\n      <td>Khushbakht Khanzada</td>\n      <td>Sheikh Sarwar Khanzada</td>\n      <td>28/Feb/83</td>\n      <td>F</td>\n      <td>2002-08-16</td>\n      <td>A</td>\n      <td>I</td>\n      <td>h no. 681 St. No. 4 Pwd Coloney KARACHI</td>\n      <td>HSSC</td>\n      <td>BS</td>\n      <td>KHR</td>\n      <td>Khushbakht</td>\n      <td>Khanzada</td>\n      <td>Sheikh Sarwar</td>\n      <td>Khanzada</td>\n      <td>Karachi</td>\n    </tr>\n    <tr>\n      <th>4320</th>\n      <td>KHR_BS_4887</td>\n      <td>Shabir Hussaini</td>\n      <td>Syyed Muazzum Hussaini</td>\n      <td>28/Feb/83</td>\n      <td>M</td>\n      <td>2002-08-19</td>\n      <td>A</td>\n      <td>I</td>\n      <td>Ho. No. 996 St. No. 67 Sultana abad Khr</td>\n      <td>A level</td>\n      <td>BS</td>\n      <td>KHR</td>\n      <td>Shabir</td>\n      <td>Hussaini</td>\n      <td>Syyed Muazzum</td>\n      <td>Hussaini</td>\n      <td>Karachi</td>\n    </tr>\n    <tr>\n      <th>4933</th>\n      <td>KHR_BS_5438</td>\n      <td>Aga Abdus Sammi Khattak</td>\n      <td>Abdul Qadeer Ikram Khattak</td>\n      <td>28/Feb/85</td>\n      <td>M</td>\n      <td>2003-08-20</td>\n      <td>A</td>\n      <td>I</td>\n      <td>House No. 694 St. No. 13 Cement factory colone...</td>\n      <td>F.Sc.</td>\n      <td>BS</td>\n      <td>KHR</td>\n      <td>Aga Abdus Sammi</td>\n      <td>Khattak</td>\n      <td>Abdul Qadeer Ikram</td>\n      <td>Khattak</td>\n      <td>Chishtian</td>\n    </tr>\n    <tr>\n      <th>5623</th>\n      <td>KHR_BS_6059</td>\n      <td>Arsalan Chohan</td>\n      <td>Rabbi Daud Chohan</td>\n      <td>28/Feb/86</td>\n      <td>M</td>\n      <td>2004-08-18</td>\n      <td>A</td>\n      <td>I</td>\n      <td>House No.285 St. No.23  Dhamiyal Chishtian</td>\n      <td>F.Sc.</td>\n      <td>BS</td>\n      <td>KHR</td>\n      <td>Arsalan</td>\n      <td>Chohan</td>\n      <td>Rabbi Daud</td>\n      <td>Chohan</td>\n      <td>Chishtian</td>\n    </tr>\n    <tr>\n      <th>5852</th>\n      <td>KHR_BS_6265</td>\n      <td>Amina Muslim</td>\n      <td>Muslim Shujaat</td>\n      <td>28/Feb/85</td>\n      <td>F</td>\n      <td>2004-08-24</td>\n      <td>A</td>\n      <td>I</td>\n      <td>Ho. No. 168 St. No. 97 Garrizon Sadiqabad</td>\n      <td>A level</td>\n      <td>BS</td>\n      <td>KHR</td>\n      <td>Amina</td>\n      <td>Muslim</td>\n      <td>Muslim</td>\n      <td>Shujaat</td>\n      <td>Sadiqabad</td>\n    </tr>\n    <tr>\n      <th>7117</th>\n      <td>KHR_MS_1462</td>\n      <td>Mohammad Ghani Paracha</td>\n      <td>Rehmat Kabir Paracha</td>\n      <td>28/Feb/82</td>\n      <td>M</td>\n      <td>2004-08-28</td>\n      <td>A</td>\n      <td>I</td>\n      <td>House No.483 St. No.37  Dehri Thata</td>\n      <td>BS</td>\n      <td>MS</td>\n      <td>KHR</td>\n      <td>Mohammad Ghani</td>\n      <td>Paracha</td>\n      <td>Rehmat Kabir</td>\n      <td>Paracha</td>\n      <td>Thatta</td>\n    </tr>\n    <tr>\n      <th>7194</th>\n      <td>KHR_MS_1531</td>\n      <td>Arif Amjad</td>\n      <td>Amjad Inayyat</td>\n      <td>28/Feb/81</td>\n      <td>M</td>\n      <td>2004-08-22</td>\n      <td>A</td>\n      <td>I</td>\n      <td>h no. 292 St. No. 38 Koral Umer Kot</td>\n      <td>MS</td>\n      <td>MS</td>\n      <td>KHR</td>\n      <td>Arif</td>\n      <td>Amjad</td>\n      <td>Amjad</td>\n      <td>Inayyat</td>\n      <td>Umer Kot</td>\n    </tr>\n    <tr>\n      <th>7414</th>\n      <td>KHR_MS_290</td>\n      <td>Sonia Shaheen Haq</td>\n      <td>Shaheen Haq</td>\n      <td>28/Feb/78</td>\n      <td>F</td>\n      <td>2001-08-29</td>\n      <td>A</td>\n      <td>C</td>\n      <td>Ho. No. 193 St. No. 14  Khr</td>\n      <td>M.Sc</td>\n      <td>MS</td>\n      <td>KHR</td>\n      <td>Sonia Shaheen</td>\n      <td>Haq</td>\n      <td>Shaheen</td>\n      <td>Haq</td>\n      <td>Karachi</td>\n    </tr>\n    <tr>\n      <th>10649</th>\n      <td>LHR_BS_3200</td>\n      <td>Choudhary Abdul Qadir Minhas</td>\n      <td>Viqar Minhas</td>\n      <td>None</td>\n      <td>M</td>\n      <td>2002-08-20</td>\n      <td>A</td>\n      <td>I</td>\n      <td>House No.117 St. no.41  Malik abad Bahawalpur</td>\n      <td>F.Sc.</td>\n      <td>BS</td>\n      <td>LHR</td>\n      <td>Choudhary Abdul Qadir</td>\n      <td>Minhas</td>\n      <td>Viqar</td>\n      <td>Minhas</td>\n      <td>Bahawalpur</td>\n    </tr>\n    <tr>\n      <th>11692</th>\n      <td>LHR_BS_414</td>\n      <td>Pervaiz Sikandar Sherazi</td>\n      <td>Abdul Mannan Shabeer Sherazi</td>\n      <td>None</td>\n      <td>M</td>\n      <td>1995-08-28</td>\n      <td>A</td>\n      <td>C</td>\n      <td>h no.249 St. no.77  Ramzania Wazirabad</td>\n      <td>HSSC</td>\n      <td>BS</td>\n      <td>LHR</td>\n      <td>Pervaiz Sikandar</td>\n      <td>Sherazi</td>\n      <td>Abdul Mannan Shabeer</td>\n      <td>Sherazi</td>\n      <td>Wazirabad</td>\n    </tr>\n  </tbody>\n</table>\n</div>"
     },
     "metadata": {},
     "execution_count": 749
    }
   ],
   "source": [
    "df_std[dob.isnull()]"
   ]
  },
  {
   "cell_type": "code",
   "execution_count": 750,
   "metadata": {},
   "outputs": [
    {
     "output_type": "execute_result",
     "data": {
      "text/plain": [
       "               SID                          Name  \\\n",
       "10649  LHR_BS_3200  Choudhary Abdul Qadir Minhas   \n",
       "11692   LHR_BS_414      Pervaiz Sikandar Sherazi   \n",
       "\n",
       "                             Father   DoB Gender   Reg Date Reg Status  \\\n",
       "10649                  Viqar Minhas  None      M 2002-08-20          A   \n",
       "11692  Abdul Mannan Shabeer Sherazi  None      M 1995-08-28          A   \n",
       "\n",
       "      Degree Status                                        Address  \\\n",
       "10649             I  House No.117 St. no.41  Malik abad Bahawalpur   \n",
       "11692             C         h no.249 St. no.77  Ramzania Wazirabad   \n",
       "\n",
       "      Qualification Degree Campus         Std_First_Name Std_Last_Name  \\\n",
       "10649         F.Sc.     BS    LHR  Choudhary Abdul Qadir        Minhas   \n",
       "11692          HSSC     BS    LHR       Pervaiz Sikandar       Sherazi   \n",
       "\n",
       "          Father_First_Name Father_Last_Name        City  \n",
       "10649                 Viqar           Minhas  Bahawalpur  \n",
       "11692  Abdul Mannan Shabeer          Sherazi   Wazirabad  "
      ],
      "text/html": "<div>\n<style scoped>\n    .dataframe tbody tr th:only-of-type {\n        vertical-align: middle;\n    }\n\n    .dataframe tbody tr th {\n        vertical-align: top;\n    }\n\n    .dataframe thead th {\n        text-align: right;\n    }\n</style>\n<table border=\"1\" class=\"dataframe\">\n  <thead>\n    <tr style=\"text-align: right;\">\n      <th></th>\n      <th>SID</th>\n      <th>Name</th>\n      <th>Father</th>\n      <th>DoB</th>\n      <th>Gender</th>\n      <th>Reg Date</th>\n      <th>Reg Status</th>\n      <th>Degree Status</th>\n      <th>Address</th>\n      <th>Qualification</th>\n      <th>Degree</th>\n      <th>Campus</th>\n      <th>Std_First_Name</th>\n      <th>Std_Last_Name</th>\n      <th>Father_First_Name</th>\n      <th>Father_Last_Name</th>\n      <th>City</th>\n    </tr>\n  </thead>\n  <tbody>\n    <tr>\n      <th>10649</th>\n      <td>LHR_BS_3200</td>\n      <td>Choudhary Abdul Qadir Minhas</td>\n      <td>Viqar Minhas</td>\n      <td>None</td>\n      <td>M</td>\n      <td>2002-08-20</td>\n      <td>A</td>\n      <td>I</td>\n      <td>House No.117 St. no.41  Malik abad Bahawalpur</td>\n      <td>F.Sc.</td>\n      <td>BS</td>\n      <td>LHR</td>\n      <td>Choudhary Abdul Qadir</td>\n      <td>Minhas</td>\n      <td>Viqar</td>\n      <td>Minhas</td>\n      <td>Bahawalpur</td>\n    </tr>\n    <tr>\n      <th>11692</th>\n      <td>LHR_BS_414</td>\n      <td>Pervaiz Sikandar Sherazi</td>\n      <td>Abdul Mannan Shabeer Sherazi</td>\n      <td>None</td>\n      <td>M</td>\n      <td>1995-08-28</td>\n      <td>A</td>\n      <td>C</td>\n      <td>h no.249 St. no.77  Ramzania Wazirabad</td>\n      <td>HSSC</td>\n      <td>BS</td>\n      <td>LHR</td>\n      <td>Pervaiz Sikandar</td>\n      <td>Sherazi</td>\n      <td>Abdul Mannan Shabeer</td>\n      <td>Sherazi</td>\n      <td>Wazirabad</td>\n    </tr>\n  </tbody>\n</table>\n</div>"
     },
     "metadata": {},
     "execution_count": 750
    }
   ],
   "source": [
    "dob = pd.to_datetime(df_std.DoB, errors=\"coerce\")\n",
    "df_std[dob.isnull()]"
   ]
  },
  {
   "source": [
    "To figure out the missing dates, we can deduce it from the `Reg Date`, and take the median DoB of all the students who registered around the same time."
   ],
   "cell_type": "markdown",
   "metadata": {}
  },
  {
   "cell_type": "code",
   "execution_count": 751,
   "metadata": {},
   "outputs": [],
   "source": [
    "def get_median_dob(reg_date):\n",
    "    a = pd.Timestamp(reg_date) - pd.Timedelta(5, unit='d')\n",
    "    b = pd.Timestamp(reg_date) + pd.Timedelta(5, unit='d')\n",
    "    df2_numeric_format = pd.to_numeric(pd.to_datetime(df_std[df_std[\"Reg Date\"].between(a, b)].DoB))\n",
    "    median_numeric_format = np.median(df2_numeric_format)\n",
    "    median_datetime_format = pd.to_datetime(median_numeric_format)\n",
    "    return median_datetime_format"
   ]
  },
  {
   "cell_type": "code",
   "execution_count": 752,
   "metadata": {},
   "outputs": [
    {
     "output_type": "execute_result",
     "data": {
      "text/plain": [
       "Timestamp('1976-08-06 00:00:00')"
      ]
     },
     "metadata": {},
     "execution_count": 752
    }
   ],
   "source": [
    "get_median_dob(\"1995-08-28\")"
   ]
  },
  {
   "cell_type": "code",
   "execution_count": 753,
   "metadata": {},
   "outputs": [
    {
     "output_type": "execute_result",
     "data": {
      "text/plain": [
       "                      DoB   Reg Date\n",
       "10649 1982-07-25 12:00:00 2002-08-20\n",
       "11692 1976-08-06 00:00:00 1995-08-28"
      ],
      "text/html": "<div>\n<style scoped>\n    .dataframe tbody tr th:only-of-type {\n        vertical-align: middle;\n    }\n\n    .dataframe tbody tr th {\n        vertical-align: top;\n    }\n\n    .dataframe thead th {\n        text-align: right;\n    }\n</style>\n<table border=\"1\" class=\"dataframe\">\n  <thead>\n    <tr style=\"text-align: right;\">\n      <th></th>\n      <th>DoB</th>\n      <th>Reg Date</th>\n    </tr>\n  </thead>\n  <tbody>\n    <tr>\n      <th>10649</th>\n      <td>1982-07-25 12:00:00</td>\n      <td>2002-08-20</td>\n    </tr>\n    <tr>\n      <th>11692</th>\n      <td>1976-08-06 00:00:00</td>\n      <td>1995-08-28</td>\n    </tr>\n  </tbody>\n</table>\n</div>"
     },
     "metadata": {},
     "execution_count": 753
    }
   ],
   "source": [
    "invalid_dates = df_std.loc[dob.isnull()][['DoB', 'Reg Date']]\n",
    "invalid_dates.DoB = invalid_dates['Reg Date'].apply(get_median_dob)\n",
    "invalid_dates"
   ]
  },
  {
   "cell_type": "code",
   "execution_count": 754,
   "metadata": {},
   "outputs": [],
   "source": [
    "df_std.loc[dob.isnull(), 'DoB'] = df_std.loc[dob.isnull(), 'Reg Date'].apply(get_median_dob)"
   ]
  },
  {
   "cell_type": "code",
   "execution_count": 755,
   "metadata": {},
   "outputs": [
    {
     "output_type": "execute_result",
     "data": {
      "text/plain": [
       "Empty DataFrame\n",
       "Columns: [SID, Name, Father, DoB, Gender, Reg Date, Reg Status, Degree Status, Address, Qualification, Degree, Campus, Std_First_Name, Std_Last_Name, Father_First_Name, Father_Last_Name, City]\n",
       "Index: []"
      ],
      "text/html": "<div>\n<style scoped>\n    .dataframe tbody tr th:only-of-type {\n        vertical-align: middle;\n    }\n\n    .dataframe tbody tr th {\n        vertical-align: top;\n    }\n\n    .dataframe thead th {\n        text-align: right;\n    }\n</style>\n<table border=\"1\" class=\"dataframe\">\n  <thead>\n    <tr style=\"text-align: right;\">\n      <th></th>\n      <th>SID</th>\n      <th>Name</th>\n      <th>Father</th>\n      <th>DoB</th>\n      <th>Gender</th>\n      <th>Reg Date</th>\n      <th>Reg Status</th>\n      <th>Degree Status</th>\n      <th>Address</th>\n      <th>Qualification</th>\n      <th>Degree</th>\n      <th>Campus</th>\n      <th>Std_First_Name</th>\n      <th>Std_Last_Name</th>\n      <th>Father_First_Name</th>\n      <th>Father_Last_Name</th>\n      <th>City</th>\n    </tr>\n  </thead>\n  <tbody>\n  </tbody>\n</table>\n</div>"
     },
     "metadata": {},
     "execution_count": 755
    }
   ],
   "source": [
    "dob = pd.to_datetime(df_std.DoB, errors=\"coerce\")\n",
    "df_std[dob.isnull()]"
   ]
  },
  {
   "source": [
    "Now that all dates are valid, we'll change the data type of column to `DateTime`."
   ],
   "cell_type": "markdown",
   "metadata": {}
  },
  {
   "cell_type": "code",
   "execution_count": 756,
   "metadata": {},
   "outputs": [],
   "source": [
    "df_std.DoB = pd.to_datetime(df_std.DoB)"
   ]
  },
  {
   "cell_type": "code",
   "execution_count": 757,
   "metadata": {},
   "outputs": [
    {
     "output_type": "execute_result",
     "data": {
      "text/plain": [
       "           SID                   Name                Father        DoB Gender  \\\n",
       "0     KHR_BS_0         Hussain Ansary          Ubaid Ansary 1974-01-05      M   \n",
       "1     KHR_BS_1  Sheikh Munir Hussaini  Viqar Hamid Hussaini 1974-12-13      M   \n",
       "2    KHR_BS_10           Hamna Ansary         Hameed Ansary 1974-04-25      F   \n",
       "3   KHR_BS_100          Jabbar Haqqie     Muneer Rai Haqqie 1974-05-22      M   \n",
       "4  KHR_BS_1000       Rana Hayyat Baig   Ghulam Mustafa Baig 1976-02-25      M   \n",
       "\n",
       "    Reg Date Reg Status Degree Status  \\\n",
       "0 1994-08-13          A             C   \n",
       "1 1994-08-13          A             C   \n",
       "2 1994-08-14          A             C   \n",
       "3 1994-08-18          A             C   \n",
       "4 1995-08-28          A             C   \n",
       "\n",
       "                                             Address Qualification Degree  \\\n",
       "0           h# 978 Street No.72  Defense Phase 1 KHR       A-Level     BS   \n",
       "1                    H#  169 s#  0 Mutian wala Thata       A-Level     BS   \n",
       "2                     h#  697 St. #  94 sea site KHR       A-Level     BS   \n",
       "3                       H# 504 S No.4  Kumria Quetta       A-Level     BS   \n",
       "4  H No.509 St. No.38  Kishwar heights university...          HSSC     BS   \n",
       "\n",
       "  Campus Std_First_Name Std_Last_Name Father_First_Name Father_Last_Name  \\\n",
       "0    KHR        Hussain        Ansary             Ubaid           Ansary   \n",
       "1    KHR   Sheikh Munir      Hussaini       Viqar Hamid         Hussaini   \n",
       "2    KHR          Hamna        Ansary            Hameed           Ansary   \n",
       "3    KHR         Jabbar        Haqqie        Muneer Rai           Haqqie   \n",
       "4    KHR    Rana Hayyat          Baig    Ghulam Mustafa             Baig   \n",
       "\n",
       "      City  \n",
       "0  Karachi  \n",
       "1   Thatta  \n",
       "2  Karachi  \n",
       "3   Quetta  \n",
       "4  Karachi  "
      ],
      "text/html": "<div>\n<style scoped>\n    .dataframe tbody tr th:only-of-type {\n        vertical-align: middle;\n    }\n\n    .dataframe tbody tr th {\n        vertical-align: top;\n    }\n\n    .dataframe thead th {\n        text-align: right;\n    }\n</style>\n<table border=\"1\" class=\"dataframe\">\n  <thead>\n    <tr style=\"text-align: right;\">\n      <th></th>\n      <th>SID</th>\n      <th>Name</th>\n      <th>Father</th>\n      <th>DoB</th>\n      <th>Gender</th>\n      <th>Reg Date</th>\n      <th>Reg Status</th>\n      <th>Degree Status</th>\n      <th>Address</th>\n      <th>Qualification</th>\n      <th>Degree</th>\n      <th>Campus</th>\n      <th>Std_First_Name</th>\n      <th>Std_Last_Name</th>\n      <th>Father_First_Name</th>\n      <th>Father_Last_Name</th>\n      <th>City</th>\n    </tr>\n  </thead>\n  <tbody>\n    <tr>\n      <th>0</th>\n      <td>KHR_BS_0</td>\n      <td>Hussain Ansary</td>\n      <td>Ubaid Ansary</td>\n      <td>1974-01-05</td>\n      <td>M</td>\n      <td>1994-08-13</td>\n      <td>A</td>\n      <td>C</td>\n      <td>h# 978 Street No.72  Defense Phase 1 KHR</td>\n      <td>A-Level</td>\n      <td>BS</td>\n      <td>KHR</td>\n      <td>Hussain</td>\n      <td>Ansary</td>\n      <td>Ubaid</td>\n      <td>Ansary</td>\n      <td>Karachi</td>\n    </tr>\n    <tr>\n      <th>1</th>\n      <td>KHR_BS_1</td>\n      <td>Sheikh Munir Hussaini</td>\n      <td>Viqar Hamid Hussaini</td>\n      <td>1974-12-13</td>\n      <td>M</td>\n      <td>1994-08-13</td>\n      <td>A</td>\n      <td>C</td>\n      <td>H#  169 s#  0 Mutian wala Thata</td>\n      <td>A-Level</td>\n      <td>BS</td>\n      <td>KHR</td>\n      <td>Sheikh Munir</td>\n      <td>Hussaini</td>\n      <td>Viqar Hamid</td>\n      <td>Hussaini</td>\n      <td>Thatta</td>\n    </tr>\n    <tr>\n      <th>2</th>\n      <td>KHR_BS_10</td>\n      <td>Hamna Ansary</td>\n      <td>Hameed Ansary</td>\n      <td>1974-04-25</td>\n      <td>F</td>\n      <td>1994-08-14</td>\n      <td>A</td>\n      <td>C</td>\n      <td>h#  697 St. #  94 sea site KHR</td>\n      <td>A-Level</td>\n      <td>BS</td>\n      <td>KHR</td>\n      <td>Hamna</td>\n      <td>Ansary</td>\n      <td>Hameed</td>\n      <td>Ansary</td>\n      <td>Karachi</td>\n    </tr>\n    <tr>\n      <th>3</th>\n      <td>KHR_BS_100</td>\n      <td>Jabbar Haqqie</td>\n      <td>Muneer Rai Haqqie</td>\n      <td>1974-05-22</td>\n      <td>M</td>\n      <td>1994-08-18</td>\n      <td>A</td>\n      <td>C</td>\n      <td>H# 504 S No.4  Kumria Quetta</td>\n      <td>A-Level</td>\n      <td>BS</td>\n      <td>KHR</td>\n      <td>Jabbar</td>\n      <td>Haqqie</td>\n      <td>Muneer Rai</td>\n      <td>Haqqie</td>\n      <td>Quetta</td>\n    </tr>\n    <tr>\n      <th>4</th>\n      <td>KHR_BS_1000</td>\n      <td>Rana Hayyat Baig</td>\n      <td>Ghulam Mustafa Baig</td>\n      <td>1976-02-25</td>\n      <td>M</td>\n      <td>1995-08-28</td>\n      <td>A</td>\n      <td>C</td>\n      <td>H No.509 St. No.38  Kishwar heights university...</td>\n      <td>HSSC</td>\n      <td>BS</td>\n      <td>KHR</td>\n      <td>Rana Hayyat</td>\n      <td>Baig</td>\n      <td>Ghulam Mustafa</td>\n      <td>Baig</td>\n      <td>Karachi</td>\n    </tr>\n  </tbody>\n</table>\n</div>"
     },
     "metadata": {},
     "execution_count": 757
    }
   ],
   "source": [
    "df_std.head()"
   ]
  },
  {
   "source": [
    "### DOB should be smaller than Reg Date"
   ],
   "cell_type": "markdown",
   "metadata": {}
  },
  {
   "cell_type": "code",
   "execution_count": 758,
   "metadata": {},
   "outputs": [
    {
     "output_type": "execute_result",
     "data": {
      "text/plain": [
       "Empty DataFrame\n",
       "Columns: [SID, Name, Father, DoB, Gender, Reg Date, Reg Status, Degree Status, Address, Qualification, Degree, Campus, Std_First_Name, Std_Last_Name, Father_First_Name, Father_Last_Name, City]\n",
       "Index: []"
      ],
      "text/html": "<div>\n<style scoped>\n    .dataframe tbody tr th:only-of-type {\n        vertical-align: middle;\n    }\n\n    .dataframe tbody tr th {\n        vertical-align: top;\n    }\n\n    .dataframe thead th {\n        text-align: right;\n    }\n</style>\n<table border=\"1\" class=\"dataframe\">\n  <thead>\n    <tr style=\"text-align: right;\">\n      <th></th>\n      <th>SID</th>\n      <th>Name</th>\n      <th>Father</th>\n      <th>DoB</th>\n      <th>Gender</th>\n      <th>Reg Date</th>\n      <th>Reg Status</th>\n      <th>Degree Status</th>\n      <th>Address</th>\n      <th>Qualification</th>\n      <th>Degree</th>\n      <th>Campus</th>\n      <th>Std_First_Name</th>\n      <th>Std_Last_Name</th>\n      <th>Father_First_Name</th>\n      <th>Father_Last_Name</th>\n      <th>City</th>\n    </tr>\n  </thead>\n  <tbody>\n  </tbody>\n</table>\n</div>"
     },
     "metadata": {},
     "execution_count": 758
    }
   ],
   "source": [
    "df_std[df_std.DoB > df_std['Reg Date']]"
   ]
  },
  {
   "source": [
    "---\n",
    "\n",
    "- For some campuses, the degree information is missing. Devise some technique to figure it out and update the rows with empty degree fields."
   ],
   "cell_type": "markdown",
   "metadata": {}
  },
  {
   "cell_type": "code",
   "execution_count": 759,
   "metadata": {},
   "outputs": [
    {
     "output_type": "execute_result",
     "data": {
      "text/plain": [
       "0"
      ]
     },
     "metadata": {},
     "execution_count": 759
    }
   ],
   "source": [
    "sum(df_std.Degree.isnull())"
   ]
  },
  {
   "source": [
    "No Degree information is missing."
   ],
   "cell_type": "markdown",
   "metadata": {}
  },
  {
   "source": [
    "---\n",
    "\n",
    "- Validate other businessrules for each field. One example is that marks should be in the range 0 to 100 inclusive."
   ],
   "cell_type": "markdown",
   "metadata": {}
  },
  {
   "cell_type": "code",
   "execution_count": 760,
   "metadata": {},
   "outputs": [
    {
     "output_type": "execute_result",
     "data": {
      "text/plain": [
       "                SID           Name       Father                  DoB Gender  \\\n",
       "count         17102          17102        17102                17102  17102   \n",
       "unique        17102          14642        14230                 4085      2   \n",
       "top     PEW_BS_1573  Kishwar Pasha  Amjad Satti  1982-03-28 00:00:00      M   \n",
       "freq              1              6            5                   14  11531   \n",
       "first           NaN            NaN          NaN  1974-01-01 00:00:00    NaN   \n",
       "last            NaN            NaN          NaN  1986-12-29 00:00:00    NaN   \n",
       "\n",
       "                   Reg Date Reg Status Degree Status  \\\n",
       "count                 17102      17102         17102   \n",
       "unique                  442          2             2   \n",
       "top     2003-08-16 00:00:00          A             C   \n",
       "freq                     76      17100         12500   \n",
       "first   1994-01-08 00:00:00        NaN           NaN   \n",
       "last    2005-01-12 00:00:00        NaN           NaN   \n",
       "\n",
       "                                       Address Qualification Degree Campus  \\\n",
       "count                                    17102         17102  17102  17102   \n",
       "unique                                   15360            12      2      3   \n",
       "top     house no.141 S# 16  Haider road Multan         F.Sc.     BS    KHR   \n",
       "freq                                         3          2390  14302   8201   \n",
       "first                                      NaN           NaN    NaN    NaN   \n",
       "last                                       NaN           NaN    NaN    NaN   \n",
       "\n",
       "       Std_First_Name Std_Last_Name Father_First_Name Father_Last_Name  \\\n",
       "count           17102         17102             17102            17102   \n",
       "unique           5879           315              6458              316   \n",
       "top           Firdous         Zaidi             Amjad            Zaidi   \n",
       "freq               55           369                62              369   \n",
       "first             NaN           NaN               NaN              NaN   \n",
       "last              NaN           NaN               NaN              NaN   \n",
       "\n",
       "           City  \n",
       "count     17102  \n",
       "unique       41  \n",
       "top     Karachi  \n",
       "freq       4438  \n",
       "first       NaN  \n",
       "last        NaN  "
      ],
      "text/html": "<div>\n<style scoped>\n    .dataframe tbody tr th:only-of-type {\n        vertical-align: middle;\n    }\n\n    .dataframe tbody tr th {\n        vertical-align: top;\n    }\n\n    .dataframe thead th {\n        text-align: right;\n    }\n</style>\n<table border=\"1\" class=\"dataframe\">\n  <thead>\n    <tr style=\"text-align: right;\">\n      <th></th>\n      <th>SID</th>\n      <th>Name</th>\n      <th>Father</th>\n      <th>DoB</th>\n      <th>Gender</th>\n      <th>Reg Date</th>\n      <th>Reg Status</th>\n      <th>Degree Status</th>\n      <th>Address</th>\n      <th>Qualification</th>\n      <th>Degree</th>\n      <th>Campus</th>\n      <th>Std_First_Name</th>\n      <th>Std_Last_Name</th>\n      <th>Father_First_Name</th>\n      <th>Father_Last_Name</th>\n      <th>City</th>\n    </tr>\n  </thead>\n  <tbody>\n    <tr>\n      <th>count</th>\n      <td>17102</td>\n      <td>17102</td>\n      <td>17102</td>\n      <td>17102</td>\n      <td>17102</td>\n      <td>17102</td>\n      <td>17102</td>\n      <td>17102</td>\n      <td>17102</td>\n      <td>17102</td>\n      <td>17102</td>\n      <td>17102</td>\n      <td>17102</td>\n      <td>17102</td>\n      <td>17102</td>\n      <td>17102</td>\n      <td>17102</td>\n    </tr>\n    <tr>\n      <th>unique</th>\n      <td>17102</td>\n      <td>14642</td>\n      <td>14230</td>\n      <td>4085</td>\n      <td>2</td>\n      <td>442</td>\n      <td>2</td>\n      <td>2</td>\n      <td>15360</td>\n      <td>12</td>\n      <td>2</td>\n      <td>3</td>\n      <td>5879</td>\n      <td>315</td>\n      <td>6458</td>\n      <td>316</td>\n      <td>41</td>\n    </tr>\n    <tr>\n      <th>top</th>\n      <td>PEW_BS_1573</td>\n      <td>Kishwar Pasha</td>\n      <td>Amjad Satti</td>\n      <td>1982-03-28 00:00:00</td>\n      <td>M</td>\n      <td>2003-08-16 00:00:00</td>\n      <td>A</td>\n      <td>C</td>\n      <td>house no.141 S# 16  Haider road Multan</td>\n      <td>F.Sc.</td>\n      <td>BS</td>\n      <td>KHR</td>\n      <td>Firdous</td>\n      <td>Zaidi</td>\n      <td>Amjad</td>\n      <td>Zaidi</td>\n      <td>Karachi</td>\n    </tr>\n    <tr>\n      <th>freq</th>\n      <td>1</td>\n      <td>6</td>\n      <td>5</td>\n      <td>14</td>\n      <td>11531</td>\n      <td>76</td>\n      <td>17100</td>\n      <td>12500</td>\n      <td>3</td>\n      <td>2390</td>\n      <td>14302</td>\n      <td>8201</td>\n      <td>55</td>\n      <td>369</td>\n      <td>62</td>\n      <td>369</td>\n      <td>4438</td>\n    </tr>\n    <tr>\n      <th>first</th>\n      <td>NaN</td>\n      <td>NaN</td>\n      <td>NaN</td>\n      <td>1974-01-01 00:00:00</td>\n      <td>NaN</td>\n      <td>1994-01-08 00:00:00</td>\n      <td>NaN</td>\n      <td>NaN</td>\n      <td>NaN</td>\n      <td>NaN</td>\n      <td>NaN</td>\n      <td>NaN</td>\n      <td>NaN</td>\n      <td>NaN</td>\n      <td>NaN</td>\n      <td>NaN</td>\n      <td>NaN</td>\n    </tr>\n    <tr>\n      <th>last</th>\n      <td>NaN</td>\n      <td>NaN</td>\n      <td>NaN</td>\n      <td>1986-12-29 00:00:00</td>\n      <td>NaN</td>\n      <td>2005-01-12 00:00:00</td>\n      <td>NaN</td>\n      <td>NaN</td>\n      <td>NaN</td>\n      <td>NaN</td>\n      <td>NaN</td>\n      <td>NaN</td>\n      <td>NaN</td>\n      <td>NaN</td>\n      <td>NaN</td>\n      <td>NaN</td>\n      <td>NaN</td>\n    </tr>\n  </tbody>\n</table>\n</div>"
     },
     "metadata": {},
     "execution_count": 760
    }
   ],
   "source": [
    "df_std.describe(include='all')"
   ]
  },
  {
   "cell_type": "code",
   "execution_count": 761,
   "metadata": {},
   "outputs": [
    {
     "output_type": "execute_result",
     "data": {
      "text/plain": [
       "count    406200.000000\n",
       "mean         74.460268\n",
       "std          14.415844\n",
       "min          50.000000\n",
       "25%          62.000000\n",
       "50%          74.000000\n",
       "75%          87.000000\n",
       "max          99.000000\n",
       "Name: Score, dtype: float64"
      ]
     },
     "metadata": {},
     "execution_count": 761
    }
   ],
   "source": [
    "df_reg.Score.describe(include='all')"
   ]
  },
  {
   "source": [
    "# Save Cleaned Data in DB"
   ],
   "cell_type": "markdown",
   "metadata": {}
  },
  {
   "cell_type": "code",
   "execution_count": 762,
   "metadata": {},
   "outputs": [],
   "source": [
    "from sqlalchemy import create_engine\n",
    "from sqlalchemy.types import Integer, Text, String, DateTime, Boolean, CHAR"
   ]
  },
  {
   "cell_type": "code",
   "execution_count": 763,
   "metadata": {},
   "outputs": [
    {
     "output_type": "execute_result",
     "data": {
      "text/plain": [
       "Index(['SID', 'Course', 'Score', 'Semester', 'Year', 'Discipline', 'Degree',\n",
       "       'Campus'],\n",
       "      dtype='object')"
      ]
     },
     "metadata": {},
     "execution_count": 763
    }
   ],
   "source": [
    "df_reg.columns"
   ]
  },
  {
   "cell_type": "code",
   "execution_count": 764,
   "metadata": {},
   "outputs": [],
   "source": [
    "std_col_types = {\n",
    "    \"SID\": Text,\n",
    "    \"Name\": Text,\n",
    "    \"Father\": Text,\n",
    "    \"DoB\":  DateTime,\n",
    "    \"Gender\": CHAR(1),\n",
    "    \"Reg Date\": DateTime,\n",
    "    \"Reg Status\": CHAR(1),\n",
    "    \"Degree Status\": CHAR(1),\n",
    "    \"Address\": Text,\n",
    "    \"Qualification\": String(8),\n",
    "    \"Degree\": CHAR(2),\n",
    "    \"Campus\": CHAR(2),\n",
    "    \"Std_First_Name\": Text,\n",
    "    \"Std_Last_Name\": Text,\n",
    "    \"Father_First_Name\": Text,\n",
    "    \"Father_Last_Name\": Text\n",
    "    }"
   ]
  },
  {
   "cell_type": "code",
   "execution_count": 765,
   "metadata": {},
   "outputs": [],
   "source": [
    "reg_col_types = {\n",
    "    \"SID\": Text,\n",
    "    \"Courses\": String(8),\n",
    "    \"Score\": Integer,\n",
    "    \"Semester\":  String(10),\n",
    "    \"Year\": DateTime,\n",
    "    \"Discipline\": String(3),\n",
    "    \"Degree\": CHAR(2),\n",
    "    \"Campus\": CHAR(2)\n",
    "    }"
   ]
  },
  {
   "cell_type": "code",
   "execution_count": 766,
   "metadata": {},
   "outputs": [
    {
     "output_type": "stream",
     "name": "stdout",
     "text": [
      "2020-11-16 16:11:08,724 INFO sqlalchemy.engine.base.Engine SELECT CAST('test plain returns' AS VARCHAR(60)) AS anon_1\n",
      "2020-11-16 16:11:08,725 INFO sqlalchemy.engine.base.Engine ()\n",
      "2020-11-16 16:11:08,726 INFO sqlalchemy.engine.base.Engine SELECT CAST('test unicode returns' AS VARCHAR(60)) AS anon_1\n",
      "2020-11-16 16:11:08,727 INFO sqlalchemy.engine.base.Engine ()\n",
      "2020-11-16 16:11:08,734 INFO sqlalchemy.engine.base.Engine PRAGMA main.table_info(\"CLN_Students\")\n",
      "2020-11-16 16:11:08,735 INFO sqlalchemy.engine.base.Engine ()\n",
      "2020-11-16 16:11:08,737 INFO sqlalchemy.engine.base.Engine PRAGMA main.table_info(\"CLN_Students\")\n",
      "2020-11-16 16:11:08,738 INFO sqlalchemy.engine.base.Engine ()\n",
      "2020-11-16 16:11:08,740 INFO sqlalchemy.engine.base.Engine SELECT name FROM sqlite_master WHERE type='table' ORDER BY name\n",
      "2020-11-16 16:11:08,741 INFO sqlalchemy.engine.base.Engine ()\n",
      "2020-11-16 16:11:08,743 INFO sqlalchemy.engine.base.Engine PRAGMA main.table_xinfo(\"CLN_Students\")\n",
      "2020-11-16 16:11:08,744 INFO sqlalchemy.engine.base.Engine ()\n",
      "2020-11-16 16:11:08,747 INFO sqlalchemy.engine.base.Engine SELECT sql FROM  (SELECT * FROM sqlite_master UNION ALL   SELECT * FROM sqlite_temp_master) WHERE name = ? AND type = 'table'\n",
      "2020-11-16 16:11:08,748 INFO sqlalchemy.engine.base.Engine ('CLN_Students',)\n",
      "2020-11-16 16:11:08,750 INFO sqlalchemy.engine.base.Engine PRAGMA main.foreign_key_list(\"CLN_Students\")\n",
      "2020-11-16 16:11:08,751 INFO sqlalchemy.engine.base.Engine ()\n",
      "2020-11-16 16:11:08,752 INFO sqlalchemy.engine.base.Engine PRAGMA temp.foreign_key_list(\"CLN_Students\")\n",
      "2020-11-16 16:11:08,753 INFO sqlalchemy.engine.base.Engine ()\n",
      "2020-11-16 16:11:08,754 INFO sqlalchemy.engine.base.Engine SELECT sql FROM  (SELECT * FROM sqlite_master UNION ALL   SELECT * FROM sqlite_temp_master) WHERE name = ? AND type = 'table'\n",
      "2020-11-16 16:11:08,755 INFO sqlalchemy.engine.base.Engine ('CLN_Students',)\n",
      "2020-11-16 16:11:08,757 INFO sqlalchemy.engine.base.Engine PRAGMA main.index_list(\"CLN_Students\")\n",
      "2020-11-16 16:11:08,758 INFO sqlalchemy.engine.base.Engine ()\n",
      "2020-11-16 16:11:08,761 INFO sqlalchemy.engine.base.Engine PRAGMA temp.index_list(\"CLN_Students\")\n",
      "2020-11-16 16:11:08,762 INFO sqlalchemy.engine.base.Engine ()\n",
      "2020-11-16 16:11:08,763 INFO sqlalchemy.engine.base.Engine PRAGMA main.index_list(\"CLN_Students\")\n",
      "2020-11-16 16:11:08,764 INFO sqlalchemy.engine.base.Engine ()\n",
      "2020-11-16 16:11:08,765 INFO sqlalchemy.engine.base.Engine PRAGMA temp.index_list(\"CLN_Students\")\n",
      "2020-11-16 16:11:08,766 INFO sqlalchemy.engine.base.Engine ()\n",
      "2020-11-16 16:11:08,768 INFO sqlalchemy.engine.base.Engine SELECT sql FROM  (SELECT * FROM sqlite_master UNION ALL   SELECT * FROM sqlite_temp_master) WHERE name = ? AND type = 'table'\n",
      "2020-11-16 16:11:08,768 INFO sqlalchemy.engine.base.Engine ('CLN_Students',)\n",
      "2020-11-16 16:11:08,770 INFO sqlalchemy.engine.base.Engine \n",
      "DROP TABLE \"CLN_Students\"\n",
      "2020-11-16 16:11:08,771 INFO sqlalchemy.engine.base.Engine ()\n",
      "2020-11-16 16:11:08,855 INFO sqlalchemy.engine.base.Engine COMMIT\n",
      "2020-11-16 16:11:08,860 INFO sqlalchemy.engine.base.Engine \n",
      "CREATE TABLE \"CLN_Students\" (\n",
      "\t\"SID\" TEXT, \n",
      "\t\"Name\" TEXT, \n",
      "\t\"Father\" TEXT, \n",
      "\t\"DoB\" DATETIME, \n",
      "\t\"Gender\" CHAR(1), \n",
      "\t\"Reg Date\" DATETIME, \n",
      "\t\"Reg Status\" CHAR(1), \n",
      "\t\"Degree Status\" CHAR(1), \n",
      "\t\"Address\" TEXT, \n",
      "\t\"Qualification\" VARCHAR(8), \n",
      "\t\"Degree\" CHAR(2), \n",
      "\t\"Campus\" CHAR(2), \n",
      "\t\"Std_First_Name\" TEXT, \n",
      "\t\"Std_Last_Name\" TEXT, \n",
      "\t\"Father_First_Name\" TEXT, \n",
      "\t\"Father_Last_Name\" TEXT, \n",
      "\t\"City\" TEXT\n",
      ")\n",
      "\n",
      "\n",
      "2020-11-16 16:11:08,861 INFO sqlalchemy.engine.base.Engine ()\n",
      "2020-11-16 16:11:08,865 INFO sqlalchemy.engine.base.Engine COMMIT\n",
      "2020-11-16 16:11:08,902 INFO sqlalchemy.engine.base.Engine BEGIN (implicit)\n",
      "2020-11-16 16:11:09,182 INFO sqlalchemy.engine.base.Engine INSERT INTO \"CLN_Students\" (\"SID\", \"Name\", \"Father\", \"DoB\", \"Gender\", \"Reg Date\", \"Reg Status\", \"Degree Status\", \"Address\", \"Qualification\", \"Degree\", \"Campus\", \"Std_First_Name\", \"Std_Last_Name\", \"Father_First_Name\", \"Father_Last_Name\", \"City\") VALUES (?, ?, ?, ?, ?, ?, ?, ?, ?, ?, ?, ?, ?, ?, ?, ?, ?)\n",
      "2020-11-16 16:11:09,184 INFO sqlalchemy.engine.base.Engine (('KHR_BS_0', 'Hussain Ansary', 'Ubaid Ansary', '1974-01-05 00:00:00.000000', 'M', '1994-08-13 00:00:00.000000', 'A', 'C', 'h# 978 Street No.72  Defense Phase 1 KHR', 'A-Level', 'BS', 'KHR', 'Hussain', 'Ansary', 'Ubaid', 'Ansary', 'Karachi'), ('KHR_BS_1', 'Sheikh Munir Hussaini', 'Viqar Hamid Hussaini', '1974-12-13 00:00:00.000000', 'M', '1994-08-13 00:00:00.000000', 'A', 'C', 'H#  169 s#  0 Mutian wala Thata', 'A-Level', 'BS', 'KHR', 'Sheikh Munir', 'Hussaini', 'Viqar Hamid', 'Hussaini', 'Thatta'), ('KHR_BS_10', 'Hamna Ansary', 'Hameed Ansary', '1974-04-25 00:00:00.000000', 'F', '1994-08-14 00:00:00.000000', 'A', 'C', 'h#  697 St. #  94 sea site KHR', 'A-Level', 'BS', 'KHR', 'Hamna', 'Ansary', 'Hameed', 'Ansary', 'Karachi'), ('KHR_BS_100', 'Jabbar Haqqie', 'Muneer Rai Haqqie', '1974-05-22 00:00:00.000000', 'M', '1994-08-18 00:00:00.000000', 'A', 'C', 'H# 504 S No.4  Kumria Quetta', 'A-Level', 'BS', 'KHR', 'Jabbar', 'Haqqie', 'Muneer Rai', 'Haqqie', 'Quetta'), ('KHR_BS_1000', 'Rana Hayyat Baig', 'Ghulam Mustafa Baig', '1976-02-25 00:00:00.000000', 'M', '1995-08-28 00:00:00.000000', 'A', 'C', 'H No.509 St. No.38  Kishwar heights university road KARACHI', 'HSSC', 'BS', 'KHR', 'Rana Hayyat', 'Baig', 'Ghulam Mustafa', 'Baig', 'Karachi'), ('KHR_BS_1001', 'Sheikh Yasin Chatta', 'Tahir Aadil Chatta', '1976-11-27 00:00:00.000000', 'M', '1995-08-02 00:00:00.000000', 'A', 'C', 'Ho. no.824 s no.34  Jamia masjid chowk Lyyah', 'A level', 'BS', 'KHR', 'Sheikh Yasin', 'Chatta', 'Tahir Aadil', 'Chatta', 'Layyah'), ('KHR_BS_1002', 'Ajab Baig', 'Nabeel Mustansar Baig', '1976-07-28 00:00:00.000000', 'M', '1995-08-05 00:00:00.000000', 'A', 'C', 'h no. 138 street no. 97 Mitthian Wahari', 'HSSC', 'BS', 'KHR', 'Ajab', 'Baig', 'Nabeel Mustansar', 'Baig', 'Vehari'), ('KHR_BS_1003', 'Raja Moeen Chatta', 'Mirza Sabir Chatta', '1976-08-01 00:00:00.000000', 'M', '1995-08-08 00:00:00.000000', 'A', 'C', 'Ho. No. 453 St. no. 92 New Clifton Khr', 'A level', 'BS', 'KHR', 'Raja Moeen', 'Chatta', 'Mirza Sabir', 'Chatta', 'Karachi')  ... displaying 10 of 17102 total bound parameter sets ...  ('PEW_MS_98', 'Riffat Ajmal Affan Ansary', 'Ajmal Affan Ansary', '1978-08-20 00:00:00.000000', 'F', '2001-11-08 00:00:00.000000', 'A', 'C', 'h no.875 St. no.45  Purani Taal Noshera', 'MS', 'MS', 'PEW', 'Riffat Ajmal Affan', 'Ansary', 'Ajmal Affan', 'Ansary', 'Nowshera'), ('PEW_MS_99', 'Zulfiqar Gondal', 'Mohammad Ijaz Gondal', '1978-04-20 00:00:00.000000', 'M', '2001-08-14 00:00:00.000000', 'A', 'C', 'Ho. No.190 St. # 9  Lane 6 Mall road Psh', 'M.Sc', 'MS', 'PEW', 'Zulfiqar', 'Gondal', 'Mohammad Ijaz', 'Gondal', 'Peshawar'))\n",
      "2020-11-16 16:11:09,307 INFO sqlalchemy.engine.base.Engine COMMIT\n",
      "2020-11-16 16:11:09,360 INFO sqlalchemy.engine.base.Engine SELECT name FROM sqlite_master WHERE type='table' ORDER BY name\n",
      "2020-11-16 16:11:09,361 INFO sqlalchemy.engine.base.Engine ()\n",
      "2020-11-16 16:11:09,424 INFO sqlalchemy.engine.base.Engine PRAGMA main.table_info(\"CLN_Course_Registrations\")\n",
      "2020-11-16 16:11:09,425 INFO sqlalchemy.engine.base.Engine ()\n",
      "2020-11-16 16:11:09,426 INFO sqlalchemy.engine.base.Engine PRAGMA main.table_info(\"CLN_Course_Registrations\")\n",
      "2020-11-16 16:11:09,427 INFO sqlalchemy.engine.base.Engine ()\n",
      "2020-11-16 16:11:09,429 INFO sqlalchemy.engine.base.Engine SELECT name FROM sqlite_master WHERE type='table' ORDER BY name\n",
      "2020-11-16 16:11:09,429 INFO sqlalchemy.engine.base.Engine ()\n",
      "2020-11-16 16:11:09,431 INFO sqlalchemy.engine.base.Engine PRAGMA main.table_xinfo(\"CLN_Course_Registrations\")\n",
      "2020-11-16 16:11:09,433 INFO sqlalchemy.engine.base.Engine ()\n",
      "2020-11-16 16:11:09,435 INFO sqlalchemy.engine.base.Engine SELECT sql FROM  (SELECT * FROM sqlite_master UNION ALL   SELECT * FROM sqlite_temp_master) WHERE name = ? AND type = 'table'\n",
      "2020-11-16 16:11:09,436 INFO sqlalchemy.engine.base.Engine ('CLN_Course_Registrations',)\n",
      "2020-11-16 16:11:09,437 INFO sqlalchemy.engine.base.Engine PRAGMA main.foreign_key_list(\"CLN_Course_Registrations\")\n",
      "2020-11-16 16:11:09,444 INFO sqlalchemy.engine.base.Engine ()\n",
      "2020-11-16 16:11:09,447 INFO sqlalchemy.engine.base.Engine PRAGMA temp.foreign_key_list(\"CLN_Course_Registrations\")\n",
      "2020-11-16 16:11:09,452 INFO sqlalchemy.engine.base.Engine ()\n",
      "2020-11-16 16:11:09,458 INFO sqlalchemy.engine.base.Engine SELECT sql FROM  (SELECT * FROM sqlite_master UNION ALL   SELECT * FROM sqlite_temp_master) WHERE name = ? AND type = 'table'\n",
      "2020-11-16 16:11:09,460 INFO sqlalchemy.engine.base.Engine ('CLN_Course_Registrations',)\n",
      "2020-11-16 16:11:09,465 INFO sqlalchemy.engine.base.Engine PRAGMA main.index_list(\"CLN_Course_Registrations\")\n",
      "2020-11-16 16:11:09,472 INFO sqlalchemy.engine.base.Engine ()\n",
      "2020-11-16 16:11:09,474 INFO sqlalchemy.engine.base.Engine PRAGMA temp.index_list(\"CLN_Course_Registrations\")\n",
      "2020-11-16 16:11:09,475 INFO sqlalchemy.engine.base.Engine ()\n",
      "2020-11-16 16:11:09,477 INFO sqlalchemy.engine.base.Engine PRAGMA main.index_list(\"CLN_Course_Registrations\")\n",
      "2020-11-16 16:11:09,478 INFO sqlalchemy.engine.base.Engine ()\n",
      "2020-11-16 16:11:09,480 INFO sqlalchemy.engine.base.Engine PRAGMA temp.index_list(\"CLN_Course_Registrations\")\n",
      "2020-11-16 16:11:09,481 INFO sqlalchemy.engine.base.Engine ()\n",
      "2020-11-16 16:11:09,483 INFO sqlalchemy.engine.base.Engine SELECT sql FROM  (SELECT * FROM sqlite_master UNION ALL   SELECT * FROM sqlite_temp_master) WHERE name = ? AND type = 'table'\n",
      "2020-11-16 16:11:09,484 INFO sqlalchemy.engine.base.Engine ('CLN_Course_Registrations',)\n",
      "2020-11-16 16:11:09,486 INFO sqlalchemy.engine.base.Engine \n",
      "DROP TABLE \"CLN_Course_Registrations\"\n",
      "2020-11-16 16:11:09,489 INFO sqlalchemy.engine.base.Engine ()\n",
      "2020-11-16 16:11:10,003 INFO sqlalchemy.engine.base.Engine COMMIT\n",
      "2020-11-16 16:11:10,007 INFO sqlalchemy.engine.base.Engine \n",
      "CREATE TABLE \"CLN_Course_Registrations\" (\n",
      "\t\"SID\" TEXT, \n",
      "\t\"Course\" TEXT, \n",
      "\t\"Score\" INTEGER, \n",
      "\t\"Semester\" VARCHAR(10), \n",
      "\t\"Year\" DATETIME, \n",
      "\t\"Discipline\" VARCHAR(3), \n",
      "\t\"Degree\" CHAR(2), \n",
      "\t\"Campus\" CHAR(2)\n",
      ")\n",
      "\n",
      "\n",
      "2020-11-16 16:11:10,010 INFO sqlalchemy.engine.base.Engine ()\n",
      "2020-11-16 16:11:10,017 INFO sqlalchemy.engine.base.Engine COMMIT\n",
      "2020-11-16 16:11:10,403 INFO sqlalchemy.engine.base.Engine BEGIN (implicit)\n",
      "2020-11-16 16:11:13,654 INFO sqlalchemy.engine.base.Engine INSERT INTO \"CLN_Course_Registrations\" (\"SID\", \"Course\", \"Score\", \"Semester\", \"Year\", \"Discipline\", \"Degree\", \"Campus\") VALUES (?, ?, ?, ?, ?, ?, ?, ?)\n",
      "2020-11-16 16:11:13,654 INFO sqlalchemy.engine.base.Engine (('KHR_BS_0', 'CS-101', 72, 'Fall', '1994-01-01 00:00:00.000000', 'CS', 'BS', 'KHR'), ('KHR_BS_0', 'CS-102', 78, 'Fall', '1994-01-01 00:00:00.000000', 'CS', 'BS', 'KHR'), ('KHR_BS_0', 'CS-103', 53, 'Fall', '1994-01-01 00:00:00.000000', 'CS', 'BS', 'KHR'), ('KHR_BS_0', 'CS-104', 58, 'Fall', '1994-01-01 00:00:00.000000', 'CS', 'BS', 'KHR'), ('KHR_BS_0', 'CS-105', 61, 'Spring', '1995-01-01 00:00:00.000000', 'CS', 'BS', 'KHR'), ('KHR_BS_0', 'CS-106', 66, 'Spring', '1995-01-01 00:00:00.000000', 'CS', 'BS', 'KHR'), ('KHR_BS_0', 'CS-107', 57, 'Spring', '1995-01-01 00:00:00.000000', 'CS', 'BS', 'KHR'), ('KHR_BS_0', 'CS-108', 94, 'Spring', '1995-01-01 00:00:00.000000', 'CS', 'BS', 'KHR')  ... displaying 10 of 406200 total bound parameter sets ...  ('PEW_MS_99', 'CS-968', 74, 'Spring', '1970-01-01 00:00:00.000002', 'MS-NW', 'MS', 'PEW'), ('PEW_MS_99', 'CS-987', 83, 'Spring', '1970-01-01 00:00:00.000002', 'MS-NW', 'MS', 'PEW'))\n",
      "2020-11-16 16:11:15,219 INFO sqlalchemy.engine.base.Engine COMMIT\n",
      "2020-11-16 16:11:15,392 INFO sqlalchemy.engine.base.Engine SELECT name FROM sqlite_master WHERE type='table' ORDER BY name\n",
      "2020-11-16 16:11:15,393 INFO sqlalchemy.engine.base.Engine ()\n"
     ]
    }
   ],
   "source": [
    "engine = create_engine('sqlite:///University.db', echo=True)\n",
    "sqlite_connection = engine.connect()\n",
    "\n",
    "std_table = \"CLN_Students\"\n",
    "df_std.to_sql(\n",
    "    std_table, \n",
    "    sqlite_connection, \n",
    "    if_exists='replace', \n",
    "    index=False, \n",
    "    dtype=std_col_types)\n",
    "\n",
    "\n",
    "reg_table = \"CLN_Course_Registrations\"\n",
    "df_reg.to_sql(\n",
    "    reg_table, \n",
    "    sqlite_connection, \n",
    "    if_exists='replace', \n",
    "    index=False, \n",
    "    dtype=reg_col_types)\n",
    "\n",
    "\n",
    "sqlite_connection.close()"
   ]
  }
 ]
}