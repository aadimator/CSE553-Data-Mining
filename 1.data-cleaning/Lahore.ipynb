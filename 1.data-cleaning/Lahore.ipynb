{
 "metadata": {
  "language_info": {
   "codemirror_mode": {
    "name": "ipython",
    "version": 3
   },
   "file_extension": ".py",
   "mimetype": "text/x-python",
   "name": "python",
   "nbconvert_exporter": "python",
   "pygments_lexer": "ipython3",
   "version": "3.8.5-final"
  },
  "orig_nbformat": 2,
  "kernelspec": {
   "name": "python3",
   "display_name": "Python 3.8.5 64-bit ('dm': conda)",
   "metadata": {
    "interpreter": {
     "hash": "ac3e7ebb8ce5c1abf99050b2338cc9c5dc675ebfd4b9c2d5cec509c998990cf5"
    }
   }
  }
 },
 "nbformat": 4,
 "nbformat_minor": 2,
 "cells": [
  {
   "cell_type": "code",
   "execution_count": 312,
   "metadata": {},
   "outputs": [],
   "source": [
    "import pandas as pd\n",
    "import numpy as np\n",
    "import re\n",
    "import sqlite3\n",
    "import glob\n",
    "\n",
    "from pathlib import Path\n",
    "from sqlalchemy import create_engine\n",
    "from sqlalchemy.types import Integer, Text, String, DateTime, Boolean"
   ]
  },
  {
   "cell_type": "code",
   "execution_count": 227,
   "metadata": {},
   "outputs": [],
   "source": [
    "data_dir = Path(\"Assignment 1 Data Set/Lahore/\")"
   ]
  },
  {
   "source": [
    "# Student DB"
   ],
   "cell_type": "markdown",
   "metadata": {}
  },
  {
   "cell_type": "code",
   "execution_count": 3,
   "metadata": {},
   "outputs": [],
   "source": [
    "STUDENT_COLUMN_NAMES = ['SID', 'Name', 'Father', 'DoB', 'Gender', 'Reg Date', 'Reg Status', 'Degree Status', 'Address', 'Qualification']"
   ]
  },
  {
   "cell_type": "code",
   "execution_count": 122,
   "metadata": {},
   "outputs": [],
   "source": [
    "std_col_types = {\n",
    "    \"SID\": Text,\n",
    "    \"Name\": Text,\n",
    "    \"Father\": Text,\n",
    "    \"DoB\":  DateTime,\n",
    "    \"Gender\": Boolean,\n",
    "    \"Reg Date\": DateTime,\n",
    "    \"Reg Status\": String(1),\n",
    "    \"Degree Status\": String(1),\n",
    "    \"Address\": Text,\n",
    "    \"Qualification\": Text,\n",
    "    \"Degree\": String(2),\n",
    "    }"
   ]
  },
  {
   "source": [
    "## BS Level"
   ],
   "cell_type": "markdown",
   "metadata": {}
  },
  {
   "cell_type": "code",
   "execution_count": 175,
   "metadata": {},
   "outputs": [],
   "source": [
    "bs_student_files = data_dir.rglob('Lhr_Student_[0-9]*.txt')\n",
    "# list(bs_student_files)"
   ]
  },
  {
   "cell_type": "code",
   "execution_count": 176,
   "metadata": {},
   "outputs": [],
   "source": [
    "bs_std_dfs = []\n",
    "for std_file in bs_student_files:\n",
    "    df = pd.read_csv(std_file, index_col=None, header=0)\n",
    "    bs_std_dfs.append(df) "
   ]
  },
  {
   "source": [
    "### Add Transfer Student"
   ],
   "cell_type": "markdown",
   "metadata": {}
  },
  {
   "cell_type": "code",
   "execution_count": 177,
   "metadata": {},
   "outputs": [],
   "source": [
    "bs_std_dfs.append(pd.read_csv(data_dir / 'Transfer.txt', index_col=None, header=0))"
   ]
  },
  {
   "cell_type": "code",
   "execution_count": 178,
   "metadata": {},
   "outputs": [],
   "source": [
    "df_bs_std = pd.concat(bs_std_dfs, axis=0, ignore_index=True)\n",
    "df_bs_std = df_bs_std.sort_values(by=['SID'])"
   ]
  },
  {
   "cell_type": "code",
   "execution_count": 179,
   "metadata": {},
   "outputs": [
    {
     "output_type": "execute_result",
     "data": {
      "text/plain": [
       "['SID',\n",
       " 'St_Name',\n",
       " 'Father_Name',\n",
       " 'Gender',\n",
       " 'Address',\n",
       " 'Date of Birth',\n",
       " 'Reg Date',\n",
       " 'Reg Status',\n",
       " 'Degree Status',\n",
       " 'Last Degree']"
      ]
     },
     "metadata": {},
     "execution_count": 179
    }
   ],
   "source": [
    "original_order = list(df_bs_std.columns.values)\n",
    "original_order"
   ]
  },
  {
   "cell_type": "code",
   "execution_count": 180,
   "metadata": {},
   "outputs": [],
   "source": [
    "new_order = [\n",
    "    'SID',\n",
    "    'St_Name',\n",
    "    'Father_Name',\n",
    "    'Date of Birth',\n",
    "    'Gender',\n",
    "    'Reg Date',\n",
    "    'Reg Status',\n",
    "    'Degree Status',\n",
    "    'Address',\n",
    "    'Last Degree'\n",
    "    ]"
   ]
  },
  {
   "cell_type": "code",
   "execution_count": 181,
   "metadata": {},
   "outputs": [],
   "source": [
    "df_bs_std = df_bs_std[new_order]\n",
    "df_bs_std.columns = STUDENT_COLUMN_NAMES"
   ]
  },
  {
   "cell_type": "code",
   "execution_count": 182,
   "metadata": {},
   "outputs": [],
   "source": [
    "df_bs_std.SID = \"LHR_BS_\" + df_bs_std.SID.astype(str)"
   ]
  },
  {
   "cell_type": "code",
   "execution_count": 183,
   "metadata": {},
   "outputs": [],
   "source": [
    "df_bs_std[\"Degree\"] = \"BS\""
   ]
  },
  {
   "cell_type": "code",
   "execution_count": 184,
   "metadata": {},
   "outputs": [
    {
     "output_type": "execute_result",
     "data": {
      "text/plain": [
       "           SID                         Name                       Father  \\\n",
       "2000  LHR_BS_0  Hafiz Viqar-ul-Islam Chohan           Raja Sharif Chohan   \n",
       "2001  LHR_BS_1    Muazzam Abdul Hameed Shah              Sh. Haseeb Shah   \n",
       "2002  LHR_BS_2           Babar Abdul Mujeeb           Abdul Mujeeb Anwer   \n",
       "2003  LHR_BS_3     Muhammad Mudassir Abbasi               Khurram Abbasi   \n",
       "2004  LHR_BS_4               Hadiqa Durrani  Mahtab Abdus Sattar Durrani   \n",
       "\n",
       "            DoB Gender   Reg Date Reg Status Degree Status  \\\n",
       "2000  11-Apr-74      0  10-Aug-94          A             C   \n",
       "2001  13-Dec-74      0  13-Aug-94          A             C   \n",
       "2002  13-Sep-76      0  17-Aug-94          A             C   \n",
       "2003  15-Sep-76      0  20-Aug-94          A             C   \n",
       "2004  16-Jun-76      1  23-Aug-94          A             C   \n",
       "\n",
       "                                                Address Qualification Degree  \n",
       "2000  House #  855 St. #  37 Shuakat coloney Bahawalpur           FSc     BS  \n",
       "2001          H#  169 s#  0 Mutian wala Dera ghazi khan       A-Level     BS  \n",
       "2002     ho. #  484 street #  95 Buliyan wali Gujrawala           Fsc     BS  \n",
       "2003       House No. 31 street #  91 Dak ghar Wazirabad         F.Sc.     BS  \n",
       "2004   Ho. # 345 S# 86  Cement factory coloney Sargodha           Fsc     BS  "
      ],
      "text/html": "<div>\n<style scoped>\n    .dataframe tbody tr th:only-of-type {\n        vertical-align: middle;\n    }\n\n    .dataframe tbody tr th {\n        vertical-align: top;\n    }\n\n    .dataframe thead th {\n        text-align: right;\n    }\n</style>\n<table border=\"1\" class=\"dataframe\">\n  <thead>\n    <tr style=\"text-align: right;\">\n      <th></th>\n      <th>SID</th>\n      <th>Name</th>\n      <th>Father</th>\n      <th>DoB</th>\n      <th>Gender</th>\n      <th>Reg Date</th>\n      <th>Reg Status</th>\n      <th>Degree Status</th>\n      <th>Address</th>\n      <th>Qualification</th>\n      <th>Degree</th>\n    </tr>\n  </thead>\n  <tbody>\n    <tr>\n      <th>2000</th>\n      <td>LHR_BS_0</td>\n      <td>Hafiz Viqar-ul-Islam Chohan</td>\n      <td>Raja Sharif Chohan</td>\n      <td>11-Apr-74</td>\n      <td>0</td>\n      <td>10-Aug-94</td>\n      <td>A</td>\n      <td>C</td>\n      <td>House #  855 St. #  37 Shuakat coloney Bahawalpur</td>\n      <td>FSc</td>\n      <td>BS</td>\n    </tr>\n    <tr>\n      <th>2001</th>\n      <td>LHR_BS_1</td>\n      <td>Muazzam Abdul Hameed Shah</td>\n      <td>Sh. Haseeb Shah</td>\n      <td>13-Dec-74</td>\n      <td>0</td>\n      <td>13-Aug-94</td>\n      <td>A</td>\n      <td>C</td>\n      <td>H#  169 s#  0 Mutian wala Dera ghazi khan</td>\n      <td>A-Level</td>\n      <td>BS</td>\n    </tr>\n    <tr>\n      <th>2002</th>\n      <td>LHR_BS_2</td>\n      <td>Babar Abdul Mujeeb</td>\n      <td>Abdul Mujeeb Anwer</td>\n      <td>13-Sep-76</td>\n      <td>0</td>\n      <td>17-Aug-94</td>\n      <td>A</td>\n      <td>C</td>\n      <td>ho. #  484 street #  95 Buliyan wali Gujrawala</td>\n      <td>Fsc</td>\n      <td>BS</td>\n    </tr>\n    <tr>\n      <th>2003</th>\n      <td>LHR_BS_3</td>\n      <td>Muhammad Mudassir Abbasi</td>\n      <td>Khurram Abbasi</td>\n      <td>15-Sep-76</td>\n      <td>0</td>\n      <td>20-Aug-94</td>\n      <td>A</td>\n      <td>C</td>\n      <td>House No. 31 street #  91 Dak ghar Wazirabad</td>\n      <td>F.Sc.</td>\n      <td>BS</td>\n    </tr>\n    <tr>\n      <th>2004</th>\n      <td>LHR_BS_4</td>\n      <td>Hadiqa Durrani</td>\n      <td>Mahtab Abdus Sattar Durrani</td>\n      <td>16-Jun-76</td>\n      <td>1</td>\n      <td>23-Aug-94</td>\n      <td>A</td>\n      <td>C</td>\n      <td>Ho. # 345 S# 86  Cement factory coloney Sargodha</td>\n      <td>Fsc</td>\n      <td>BS</td>\n    </tr>\n  </tbody>\n</table>\n</div>"
     },
     "metadata": {},
     "execution_count": 184
    }
   ],
   "source": [
    "df_bs_std.head()"
   ]
  },
  {
   "cell_type": "code",
   "execution_count": 185,
   "metadata": {},
   "outputs": [
    {
     "output_type": "execute_result",
     "data": {
      "text/plain": [
       "               SID           Name       Father        DoB  Gender   Reg Date  \\\n",
       "count         4401           4401         4401       4399    4400       4401   \n",
       "unique        4401           4309         4305       2933       3        320   \n",
       "top     LHR_BS_436  Kishwar Pasha  Jameel Khan  26-Mar-84       0  25-Aug-98   \n",
       "freq             1              4            2          5    2932         16   \n",
       "\n",
       "       Reg Status Degree Status  \\\n",
       "count        4401          4401   \n",
       "unique          2             2   \n",
       "top             A             C   \n",
       "freq         4400          3200   \n",
       "\n",
       "                                                 Address Qualification Degree  \n",
       "count                                               4401          4401   4401  \n",
       "unique                                              4401             6      1  \n",
       "top     house # 987 Street # 25  Mujahid block D.I. Khan         F.Sc.     BS  \n",
       "freq                                                   1           737   4401  "
      ],
      "text/html": "<div>\n<style scoped>\n    .dataframe tbody tr th:only-of-type {\n        vertical-align: middle;\n    }\n\n    .dataframe tbody tr th {\n        vertical-align: top;\n    }\n\n    .dataframe thead th {\n        text-align: right;\n    }\n</style>\n<table border=\"1\" class=\"dataframe\">\n  <thead>\n    <tr style=\"text-align: right;\">\n      <th></th>\n      <th>SID</th>\n      <th>Name</th>\n      <th>Father</th>\n      <th>DoB</th>\n      <th>Gender</th>\n      <th>Reg Date</th>\n      <th>Reg Status</th>\n      <th>Degree Status</th>\n      <th>Address</th>\n      <th>Qualification</th>\n      <th>Degree</th>\n    </tr>\n  </thead>\n  <tbody>\n    <tr>\n      <th>count</th>\n      <td>4401</td>\n      <td>4401</td>\n      <td>4401</td>\n      <td>4399</td>\n      <td>4400</td>\n      <td>4401</td>\n      <td>4401</td>\n      <td>4401</td>\n      <td>4401</td>\n      <td>4401</td>\n      <td>4401</td>\n    </tr>\n    <tr>\n      <th>unique</th>\n      <td>4401</td>\n      <td>4309</td>\n      <td>4305</td>\n      <td>2933</td>\n      <td>3</td>\n      <td>320</td>\n      <td>2</td>\n      <td>2</td>\n      <td>4401</td>\n      <td>6</td>\n      <td>1</td>\n    </tr>\n    <tr>\n      <th>top</th>\n      <td>LHR_BS_436</td>\n      <td>Kishwar Pasha</td>\n      <td>Jameel Khan</td>\n      <td>26-Mar-84</td>\n      <td>0</td>\n      <td>25-Aug-98</td>\n      <td>A</td>\n      <td>C</td>\n      <td>house # 987 Street # 25  Mujahid block D.I. Khan</td>\n      <td>F.Sc.</td>\n      <td>BS</td>\n    </tr>\n    <tr>\n      <th>freq</th>\n      <td>1</td>\n      <td>4</td>\n      <td>2</td>\n      <td>5</td>\n      <td>2932</td>\n      <td>16</td>\n      <td>4400</td>\n      <td>3200</td>\n      <td>1</td>\n      <td>737</td>\n      <td>4401</td>\n    </tr>\n  </tbody>\n</table>\n</div>"
     },
     "metadata": {},
     "execution_count": 185
    }
   ],
   "source": [
    "df_bs_std.describe(include=\"all\")"
   ]
  },
  {
   "source": [
    "## MS Level"
   ],
   "cell_type": "markdown",
   "metadata": {}
  },
  {
   "cell_type": "code",
   "execution_count": 186,
   "metadata": {},
   "outputs": [],
   "source": [
    "ms_student_files = data_dir.rglob('Lhr_Student_MS_[0-9]*.txt')\n",
    "# list(ms_student_files)"
   ]
  },
  {
   "cell_type": "code",
   "execution_count": 187,
   "metadata": {},
   "outputs": [],
   "source": [
    "ms_std_dfs = []\n",
    "for std_file in ms_student_files:\n",
    "    df = pd.read_csv(std_file, index_col=None, header=0)\n",
    "    ms_std_dfs.append(df) "
   ]
  },
  {
   "cell_type": "code",
   "execution_count": 188,
   "metadata": {},
   "outputs": [],
   "source": [
    "df_ms_std = pd.concat(ms_std_dfs, axis=0, ignore_index=True)\n",
    "df_ms_std = df_ms_std.sort_values(by=['SID'])"
   ]
  },
  {
   "cell_type": "code",
   "execution_count": 189,
   "metadata": {},
   "outputs": [],
   "source": [
    "new_order = [\n",
    "    'SID',\n",
    "    'St_Name',\n",
    "    'Father_Name',\n",
    "    'Date of Birth',\n",
    "    'Gender',\n",
    "    'Reg Date',\n",
    "    'Reg Status',\n",
    "    'Degree Status',\n",
    "    'Address',\n",
    "    'Last Degree'\n",
    "    ]"
   ]
  },
  {
   "cell_type": "code",
   "execution_count": 190,
   "metadata": {},
   "outputs": [],
   "source": [
    "df_ms_std = df_ms_std[new_order]\n",
    "df_ms_std.columns = STUDENT_COLUMN_NAMES"
   ]
  },
  {
   "cell_type": "code",
   "execution_count": 191,
   "metadata": {},
   "outputs": [],
   "source": [
    "df_ms_std.SID = \"LHR_MS_\" + df_ms_std.SID.astype(str)"
   ]
  },
  {
   "cell_type": "code",
   "execution_count": 192,
   "metadata": {},
   "outputs": [],
   "source": [
    "df_ms_std[\"Degree\"] = \"MS\""
   ]
  },
  {
   "cell_type": "code",
   "execution_count": 193,
   "metadata": {},
   "outputs": [
    {
     "output_type": "execute_result",
     "data": {
      "text/plain": [
       "        SID                    Name                   Father        DoB  \\\n",
       "0  LHR_MS_0         Maryyum Jaffery   Ghulam Mustafa Jaffery  24-Aug-78   \n",
       "1  LHR_MS_1            Firdous Shah         Sahir Rahid Shah  13-Dec-77   \n",
       "2  LHR_MS_2  Arsalan Abuzar Durrani  Mouhammed Ghani Durrani  13-Sep-79   \n",
       "3  LHR_MS_3           Jibran Abbasi   Sahibzada Tahir Abbasi  15-Sep-79   \n",
       "4  LHR_MS_4     Hasina Abdul Jabbar     Abdul Jabbar Suleman  16-Jun-79   \n",
       "\n",
       "   Gender   Reg Date Reg Status Degree Status  \\\n",
       "0     1.0  24-Aug-01          A             C   \n",
       "1     0.0  13-Aug-01          A             C   \n",
       "2     0.0  17-Aug-01          A             C   \n",
       "3     0.0  20-Aug-01          A             C   \n",
       "4     1.0  23-Aug-01          A             C   \n",
       "\n",
       "                                            Address Qualification Degree  \n",
       "0   Ho. no. 302 St. no. 9 Pind dadu Dera ghazi khan          M.Sc     MS  \n",
       "1         H#  169 s#  0 Mutian wala Dera ghazi khan        M.Phil     MS  \n",
       "2    ho. #  484 street #  95 Buliyan wali Gujrawala           MSc     MS  \n",
       "3      House No. 31 street #  91 Dak ghar Wazirabad            BS     MS  \n",
       "4  Ho. # 345 S# 86  Cement factory coloney Sargodha           MSc     MS  "
      ],
      "text/html": "<div>\n<style scoped>\n    .dataframe tbody tr th:only-of-type {\n        vertical-align: middle;\n    }\n\n    .dataframe tbody tr th {\n        vertical-align: top;\n    }\n\n    .dataframe thead th {\n        text-align: right;\n    }\n</style>\n<table border=\"1\" class=\"dataframe\">\n  <thead>\n    <tr style=\"text-align: right;\">\n      <th></th>\n      <th>SID</th>\n      <th>Name</th>\n      <th>Father</th>\n      <th>DoB</th>\n      <th>Gender</th>\n      <th>Reg Date</th>\n      <th>Reg Status</th>\n      <th>Degree Status</th>\n      <th>Address</th>\n      <th>Qualification</th>\n      <th>Degree</th>\n    </tr>\n  </thead>\n  <tbody>\n    <tr>\n      <th>0</th>\n      <td>LHR_MS_0</td>\n      <td>Maryyum Jaffery</td>\n      <td>Ghulam Mustafa Jaffery</td>\n      <td>24-Aug-78</td>\n      <td>1.0</td>\n      <td>24-Aug-01</td>\n      <td>A</td>\n      <td>C</td>\n      <td>Ho. no. 302 St. no. 9 Pind dadu Dera ghazi khan</td>\n      <td>M.Sc</td>\n      <td>MS</td>\n    </tr>\n    <tr>\n      <th>1</th>\n      <td>LHR_MS_1</td>\n      <td>Firdous Shah</td>\n      <td>Sahir Rahid Shah</td>\n      <td>13-Dec-77</td>\n      <td>0.0</td>\n      <td>13-Aug-01</td>\n      <td>A</td>\n      <td>C</td>\n      <td>H#  169 s#  0 Mutian wala Dera ghazi khan</td>\n      <td>M.Phil</td>\n      <td>MS</td>\n    </tr>\n    <tr>\n      <th>2</th>\n      <td>LHR_MS_2</td>\n      <td>Arsalan Abuzar Durrani</td>\n      <td>Mouhammed Ghani Durrani</td>\n      <td>13-Sep-79</td>\n      <td>0.0</td>\n      <td>17-Aug-01</td>\n      <td>A</td>\n      <td>C</td>\n      <td>ho. #  484 street #  95 Buliyan wali Gujrawala</td>\n      <td>MSc</td>\n      <td>MS</td>\n    </tr>\n    <tr>\n      <th>3</th>\n      <td>LHR_MS_3</td>\n      <td>Jibran Abbasi</td>\n      <td>Sahibzada Tahir Abbasi</td>\n      <td>15-Sep-79</td>\n      <td>0.0</td>\n      <td>20-Aug-01</td>\n      <td>A</td>\n      <td>C</td>\n      <td>House No. 31 street #  91 Dak ghar Wazirabad</td>\n      <td>BS</td>\n      <td>MS</td>\n    </tr>\n    <tr>\n      <th>4</th>\n      <td>LHR_MS_4</td>\n      <td>Hasina Abdul Jabbar</td>\n      <td>Abdul Jabbar Suleman</td>\n      <td>16-Jun-79</td>\n      <td>1.0</td>\n      <td>23-Aug-01</td>\n      <td>A</td>\n      <td>C</td>\n      <td>Ho. # 345 S# 86  Cement factory coloney Sargodha</td>\n      <td>MSc</td>\n      <td>MS</td>\n    </tr>\n  </tbody>\n</table>\n</div>"
     },
     "metadata": {},
     "execution_count": 193
    }
   ],
   "source": [
    "df_ms_std.head()"
   ]
  },
  {
   "cell_type": "code",
   "execution_count": 194,
   "metadata": {},
   "outputs": [
    {
     "output_type": "execute_result",
     "data": {
      "text/plain": [
       "               SID            Name       Father        DoB      Gender  \\\n",
       "count          800             800          800        800  798.000000   \n",
       "unique         800             796          799        605         NaN   \n",
       "top     LHR_MS_645  Jamal Shahroze  Amjad Pasha  11-Dec-80         NaN   \n",
       "freq             1               2            2          3         NaN   \n",
       "mean           NaN             NaN          NaN        NaN    0.333333   \n",
       "std            NaN             NaN          NaN        NaN    0.471700   \n",
       "min            NaN             NaN          NaN        NaN    0.000000   \n",
       "25%            NaN             NaN          NaN        NaN    0.000000   \n",
       "50%            NaN             NaN          NaN        NaN    0.000000   \n",
       "75%            NaN             NaN          NaN        NaN    1.000000   \n",
       "max            NaN             NaN          NaN        NaN    1.000000   \n",
       "\n",
       "         Reg Date Reg Status Degree Status  \\\n",
       "count         800        800           800   \n",
       "unique        116          1             2   \n",
       "top     24-Aug-01          A             C   \n",
       "freq            9        800           600   \n",
       "mean          NaN        NaN           NaN   \n",
       "std           NaN        NaN           NaN   \n",
       "min           NaN        NaN           NaN   \n",
       "25%           NaN        NaN           NaN   \n",
       "50%           NaN        NaN           NaN   \n",
       "75%           NaN        NaN           NaN   \n",
       "max           NaN        NaN           NaN   \n",
       "\n",
       "                                         Address Qualification Degree  \n",
       "count                                        800           800    800  \n",
       "unique                                       800             6      1  \n",
       "top     H# 327 Street No.14  Purana shehar Melsi            BS     MS  \n",
       "freq                                           1           135    800  \n",
       "mean                                         NaN           NaN    NaN  \n",
       "std                                          NaN           NaN    NaN  \n",
       "min                                          NaN           NaN    NaN  \n",
       "25%                                          NaN           NaN    NaN  \n",
       "50%                                          NaN           NaN    NaN  \n",
       "75%                                          NaN           NaN    NaN  \n",
       "max                                          NaN           NaN    NaN  "
      ],
      "text/html": "<div>\n<style scoped>\n    .dataframe tbody tr th:only-of-type {\n        vertical-align: middle;\n    }\n\n    .dataframe tbody tr th {\n        vertical-align: top;\n    }\n\n    .dataframe thead th {\n        text-align: right;\n    }\n</style>\n<table border=\"1\" class=\"dataframe\">\n  <thead>\n    <tr style=\"text-align: right;\">\n      <th></th>\n      <th>SID</th>\n      <th>Name</th>\n      <th>Father</th>\n      <th>DoB</th>\n      <th>Gender</th>\n      <th>Reg Date</th>\n      <th>Reg Status</th>\n      <th>Degree Status</th>\n      <th>Address</th>\n      <th>Qualification</th>\n      <th>Degree</th>\n    </tr>\n  </thead>\n  <tbody>\n    <tr>\n      <th>count</th>\n      <td>800</td>\n      <td>800</td>\n      <td>800</td>\n      <td>800</td>\n      <td>798.000000</td>\n      <td>800</td>\n      <td>800</td>\n      <td>800</td>\n      <td>800</td>\n      <td>800</td>\n      <td>800</td>\n    </tr>\n    <tr>\n      <th>unique</th>\n      <td>800</td>\n      <td>796</td>\n      <td>799</td>\n      <td>605</td>\n      <td>NaN</td>\n      <td>116</td>\n      <td>1</td>\n      <td>2</td>\n      <td>800</td>\n      <td>6</td>\n      <td>1</td>\n    </tr>\n    <tr>\n      <th>top</th>\n      <td>LHR_MS_645</td>\n      <td>Jamal Shahroze</td>\n      <td>Amjad Pasha</td>\n      <td>11-Dec-80</td>\n      <td>NaN</td>\n      <td>24-Aug-01</td>\n      <td>A</td>\n      <td>C</td>\n      <td>H# 327 Street No.14  Purana shehar Melsi</td>\n      <td>BS</td>\n      <td>MS</td>\n    </tr>\n    <tr>\n      <th>freq</th>\n      <td>1</td>\n      <td>2</td>\n      <td>2</td>\n      <td>3</td>\n      <td>NaN</td>\n      <td>9</td>\n      <td>800</td>\n      <td>600</td>\n      <td>1</td>\n      <td>135</td>\n      <td>800</td>\n    </tr>\n    <tr>\n      <th>mean</th>\n      <td>NaN</td>\n      <td>NaN</td>\n      <td>NaN</td>\n      <td>NaN</td>\n      <td>0.333333</td>\n      <td>NaN</td>\n      <td>NaN</td>\n      <td>NaN</td>\n      <td>NaN</td>\n      <td>NaN</td>\n      <td>NaN</td>\n    </tr>\n    <tr>\n      <th>std</th>\n      <td>NaN</td>\n      <td>NaN</td>\n      <td>NaN</td>\n      <td>NaN</td>\n      <td>0.471700</td>\n      <td>NaN</td>\n      <td>NaN</td>\n      <td>NaN</td>\n      <td>NaN</td>\n      <td>NaN</td>\n      <td>NaN</td>\n    </tr>\n    <tr>\n      <th>min</th>\n      <td>NaN</td>\n      <td>NaN</td>\n      <td>NaN</td>\n      <td>NaN</td>\n      <td>0.000000</td>\n      <td>NaN</td>\n      <td>NaN</td>\n      <td>NaN</td>\n      <td>NaN</td>\n      <td>NaN</td>\n      <td>NaN</td>\n    </tr>\n    <tr>\n      <th>25%</th>\n      <td>NaN</td>\n      <td>NaN</td>\n      <td>NaN</td>\n      <td>NaN</td>\n      <td>0.000000</td>\n      <td>NaN</td>\n      <td>NaN</td>\n      <td>NaN</td>\n      <td>NaN</td>\n      <td>NaN</td>\n      <td>NaN</td>\n    </tr>\n    <tr>\n      <th>50%</th>\n      <td>NaN</td>\n      <td>NaN</td>\n      <td>NaN</td>\n      <td>NaN</td>\n      <td>0.000000</td>\n      <td>NaN</td>\n      <td>NaN</td>\n      <td>NaN</td>\n      <td>NaN</td>\n      <td>NaN</td>\n      <td>NaN</td>\n    </tr>\n    <tr>\n      <th>75%</th>\n      <td>NaN</td>\n      <td>NaN</td>\n      <td>NaN</td>\n      <td>NaN</td>\n      <td>1.000000</td>\n      <td>NaN</td>\n      <td>NaN</td>\n      <td>NaN</td>\n      <td>NaN</td>\n      <td>NaN</td>\n      <td>NaN</td>\n    </tr>\n    <tr>\n      <th>max</th>\n      <td>NaN</td>\n      <td>NaN</td>\n      <td>NaN</td>\n      <td>NaN</td>\n      <td>1.000000</td>\n      <td>NaN</td>\n      <td>NaN</td>\n      <td>NaN</td>\n      <td>NaN</td>\n      <td>NaN</td>\n      <td>NaN</td>\n    </tr>\n  </tbody>\n</table>\n</div>"
     },
     "metadata": {},
     "execution_count": 194
    }
   ],
   "source": [
    "df_ms_std.describe(include=\"all\")"
   ]
  },
  {
   "source": [
    "## Concat BS and MS"
   ],
   "cell_type": "markdown",
   "metadata": {}
  },
  {
   "cell_type": "code",
   "execution_count": 195,
   "metadata": {},
   "outputs": [],
   "source": [
    "df_std = pd.concat([df_bs_std, df_ms_std], ignore_index=True)"
   ]
  },
  {
   "cell_type": "code",
   "execution_count": 196,
   "metadata": {},
   "outputs": [],
   "source": [
    "df_std.Gender = df_std.Gender.map({0: False, 1: True})"
   ]
  },
  {
   "cell_type": "code",
   "execution_count": 197,
   "metadata": {},
   "outputs": [],
   "source": [
    "df_std[\"Reg Date\"] = pd.to_datetime(df_std[\"Reg Date\"])"
   ]
  },
  {
   "cell_type": "code",
   "execution_count": 198,
   "metadata": {},
   "outputs": [],
   "source": [
    "df_std[\"DoB\"] = pd.to_datetime(df_std[\"DoB\"])"
   ]
  },
  {
   "cell_type": "code",
   "execution_count": 199,
   "metadata": {},
   "outputs": [
    {
     "output_type": "execute_result",
     "data": {
      "text/plain": [
       "        SID                         Name                       Father  \\\n",
       "0  LHR_BS_0  Hafiz Viqar-ul-Islam Chohan           Raja Sharif Chohan   \n",
       "1  LHR_BS_1    Muazzam Abdul Hameed Shah              Sh. Haseeb Shah   \n",
       "2  LHR_BS_2           Babar Abdul Mujeeb           Abdul Mujeeb Anwer   \n",
       "3  LHR_BS_3     Muhammad Mudassir Abbasi               Khurram Abbasi   \n",
       "4  LHR_BS_4               Hadiqa Durrani  Mahtab Abdus Sattar Durrani   \n",
       "\n",
       "         DoB Gender   Reg Date Reg Status Degree Status  \\\n",
       "0 1974-04-11  False 1994-08-10          A             C   \n",
       "1 1974-12-13  False 1994-08-13          A             C   \n",
       "2 1976-09-13  False 1994-08-17          A             C   \n",
       "3 1976-09-15  False 1994-08-20          A             C   \n",
       "4 1976-06-16   True 1994-08-23          A             C   \n",
       "\n",
       "                                             Address Qualification Degree  \n",
       "0  House #  855 St. #  37 Shuakat coloney Bahawalpur           FSc     BS  \n",
       "1          H#  169 s#  0 Mutian wala Dera ghazi khan       A-Level     BS  \n",
       "2     ho. #  484 street #  95 Buliyan wali Gujrawala           Fsc     BS  \n",
       "3       House No. 31 street #  91 Dak ghar Wazirabad         F.Sc.     BS  \n",
       "4   Ho. # 345 S# 86  Cement factory coloney Sargodha           Fsc     BS  "
      ],
      "text/html": "<div>\n<style scoped>\n    .dataframe tbody tr th:only-of-type {\n        vertical-align: middle;\n    }\n\n    .dataframe tbody tr th {\n        vertical-align: top;\n    }\n\n    .dataframe thead th {\n        text-align: right;\n    }\n</style>\n<table border=\"1\" class=\"dataframe\">\n  <thead>\n    <tr style=\"text-align: right;\">\n      <th></th>\n      <th>SID</th>\n      <th>Name</th>\n      <th>Father</th>\n      <th>DoB</th>\n      <th>Gender</th>\n      <th>Reg Date</th>\n      <th>Reg Status</th>\n      <th>Degree Status</th>\n      <th>Address</th>\n      <th>Qualification</th>\n      <th>Degree</th>\n    </tr>\n  </thead>\n  <tbody>\n    <tr>\n      <th>0</th>\n      <td>LHR_BS_0</td>\n      <td>Hafiz Viqar-ul-Islam Chohan</td>\n      <td>Raja Sharif Chohan</td>\n      <td>1974-04-11</td>\n      <td>False</td>\n      <td>1994-08-10</td>\n      <td>A</td>\n      <td>C</td>\n      <td>House #  855 St. #  37 Shuakat coloney Bahawalpur</td>\n      <td>FSc</td>\n      <td>BS</td>\n    </tr>\n    <tr>\n      <th>1</th>\n      <td>LHR_BS_1</td>\n      <td>Muazzam Abdul Hameed Shah</td>\n      <td>Sh. Haseeb Shah</td>\n      <td>1974-12-13</td>\n      <td>False</td>\n      <td>1994-08-13</td>\n      <td>A</td>\n      <td>C</td>\n      <td>H#  169 s#  0 Mutian wala Dera ghazi khan</td>\n      <td>A-Level</td>\n      <td>BS</td>\n    </tr>\n    <tr>\n      <th>2</th>\n      <td>LHR_BS_2</td>\n      <td>Babar Abdul Mujeeb</td>\n      <td>Abdul Mujeeb Anwer</td>\n      <td>1976-09-13</td>\n      <td>False</td>\n      <td>1994-08-17</td>\n      <td>A</td>\n      <td>C</td>\n      <td>ho. #  484 street #  95 Buliyan wali Gujrawala</td>\n      <td>Fsc</td>\n      <td>BS</td>\n    </tr>\n    <tr>\n      <th>3</th>\n      <td>LHR_BS_3</td>\n      <td>Muhammad Mudassir Abbasi</td>\n      <td>Khurram Abbasi</td>\n      <td>1976-09-15</td>\n      <td>False</td>\n      <td>1994-08-20</td>\n      <td>A</td>\n      <td>C</td>\n      <td>House No. 31 street #  91 Dak ghar Wazirabad</td>\n      <td>F.Sc.</td>\n      <td>BS</td>\n    </tr>\n    <tr>\n      <th>4</th>\n      <td>LHR_BS_4</td>\n      <td>Hadiqa Durrani</td>\n      <td>Mahtab Abdus Sattar Durrani</td>\n      <td>1976-06-16</td>\n      <td>True</td>\n      <td>1994-08-23</td>\n      <td>A</td>\n      <td>C</td>\n      <td>Ho. # 345 S# 86  Cement factory coloney Sargodha</td>\n      <td>Fsc</td>\n      <td>BS</td>\n    </tr>\n  </tbody>\n</table>\n</div>"
     },
     "metadata": {},
     "execution_count": 199
    }
   ],
   "source": [
    "df_std.head()"
   ]
  },
  {
   "cell_type": "code",
   "execution_count": 200,
   "metadata": {},
   "outputs": [
    {
     "output_type": "execute_result",
     "data": {
      "text/plain": [
       "               SID           Name       Father                  DoB Gender  \\\n",
       "count         5201           5201         5201                 5199   5197   \n",
       "unique        5201           4794         4578                 3089      2   \n",
       "top     LHR_BS_436  Kishwar Pasha  Amjad Pasha  1979-02-12 00:00:00  False   \n",
       "freq             1              4            4                    7   3464   \n",
       "first          NaN            NaN          NaN  1974-01-02 00:00:00    NaN   \n",
       "last           NaN            NaN          NaN  1986-12-29 00:00:00    NaN   \n",
       "\n",
       "                   Reg Date Reg Status Degree Status  \\\n",
       "count                  5201       5201          5201   \n",
       "unique                  320          2             2   \n",
       "top     2002-08-27 00:00:00          A             C   \n",
       "freq                     24       5200          3800   \n",
       "first   1994-08-01 00:00:00        NaN           NaN   \n",
       "last    2005-01-12 00:00:00        NaN           NaN   \n",
       "\n",
       "                                                  Address Qualification Degree  \n",
       "count                                                5201          5201   5201  \n",
       "unique                                               4402            12      2  \n",
       "top     Ho. # 499 Street No.95  kurang nala Dera ghazi...         F.Sc.     BS  \n",
       "freq                                                    2           737   4401  \n",
       "first                                                 NaN           NaN    NaN  \n",
       "last                                                  NaN           NaN    NaN  "
      ],
      "text/html": "<div>\n<style scoped>\n    .dataframe tbody tr th:only-of-type {\n        vertical-align: middle;\n    }\n\n    .dataframe tbody tr th {\n        vertical-align: top;\n    }\n\n    .dataframe thead th {\n        text-align: right;\n    }\n</style>\n<table border=\"1\" class=\"dataframe\">\n  <thead>\n    <tr style=\"text-align: right;\">\n      <th></th>\n      <th>SID</th>\n      <th>Name</th>\n      <th>Father</th>\n      <th>DoB</th>\n      <th>Gender</th>\n      <th>Reg Date</th>\n      <th>Reg Status</th>\n      <th>Degree Status</th>\n      <th>Address</th>\n      <th>Qualification</th>\n      <th>Degree</th>\n    </tr>\n  </thead>\n  <tbody>\n    <tr>\n      <th>count</th>\n      <td>5201</td>\n      <td>5201</td>\n      <td>5201</td>\n      <td>5199</td>\n      <td>5197</td>\n      <td>5201</td>\n      <td>5201</td>\n      <td>5201</td>\n      <td>5201</td>\n      <td>5201</td>\n      <td>5201</td>\n    </tr>\n    <tr>\n      <th>unique</th>\n      <td>5201</td>\n      <td>4794</td>\n      <td>4578</td>\n      <td>3089</td>\n      <td>2</td>\n      <td>320</td>\n      <td>2</td>\n      <td>2</td>\n      <td>4402</td>\n      <td>12</td>\n      <td>2</td>\n    </tr>\n    <tr>\n      <th>top</th>\n      <td>LHR_BS_436</td>\n      <td>Kishwar Pasha</td>\n      <td>Amjad Pasha</td>\n      <td>1979-02-12 00:00:00</td>\n      <td>False</td>\n      <td>2002-08-27 00:00:00</td>\n      <td>A</td>\n      <td>C</td>\n      <td>Ho. # 499 Street No.95  kurang nala Dera ghazi...</td>\n      <td>F.Sc.</td>\n      <td>BS</td>\n    </tr>\n    <tr>\n      <th>freq</th>\n      <td>1</td>\n      <td>4</td>\n      <td>4</td>\n      <td>7</td>\n      <td>3464</td>\n      <td>24</td>\n      <td>5200</td>\n      <td>3800</td>\n      <td>2</td>\n      <td>737</td>\n      <td>4401</td>\n    </tr>\n    <tr>\n      <th>first</th>\n      <td>NaN</td>\n      <td>NaN</td>\n      <td>NaN</td>\n      <td>1974-01-02 00:00:00</td>\n      <td>NaN</td>\n      <td>1994-08-01 00:00:00</td>\n      <td>NaN</td>\n      <td>NaN</td>\n      <td>NaN</td>\n      <td>NaN</td>\n      <td>NaN</td>\n    </tr>\n    <tr>\n      <th>last</th>\n      <td>NaN</td>\n      <td>NaN</td>\n      <td>NaN</td>\n      <td>1986-12-29 00:00:00</td>\n      <td>NaN</td>\n      <td>2005-01-12 00:00:00</td>\n      <td>NaN</td>\n      <td>NaN</td>\n      <td>NaN</td>\n      <td>NaN</td>\n      <td>NaN</td>\n    </tr>\n  </tbody>\n</table>\n</div>"
     },
     "metadata": {},
     "execution_count": 200
    }
   ],
   "source": [
    "df_std.describe(include=\"all\")"
   ]
  },
  {
   "source": [
    "# Store Student data in DB"
   ],
   "cell_type": "markdown",
   "metadata": {}
  },
  {
   "cell_type": "code",
   "execution_count": 201,
   "metadata": {},
   "outputs": [
    {
     "output_type": "stream",
     "name": "stdout",
     "text": [
      "2020-11-15 11:28:02,523 INFO sqlalchemy.engine.base.Engine SELECT CAST('test plain returns' AS VARCHAR(60)) AS anon_1\n",
      "2020-11-15 11:28:02,524 INFO sqlalchemy.engine.base.Engine ()\n",
      "2020-11-15 11:28:02,525 INFO sqlalchemy.engine.base.Engine SELECT CAST('test unicode returns' AS VARCHAR(60)) AS anon_1\n",
      "2020-11-15 11:28:02,525 INFO sqlalchemy.engine.base.Engine ()\n"
     ]
    }
   ],
   "source": [
    "engine = create_engine('sqlite:///University.db', echo=True)\n",
    "sqlite_connection = engine.connect()"
   ]
  },
  {
   "cell_type": "code",
   "execution_count": 202,
   "metadata": {},
   "outputs": [
    {
     "output_type": "stream",
     "name": "stdout",
     "text": [
      "2020-11-15 11:28:03,143 INFO sqlalchemy.engine.base.Engine PRAGMA main.table_info(\"LHR_Student\")\n",
      "2020-11-15 11:28:03,144 INFO sqlalchemy.engine.base.Engine ()\n",
      "2020-11-15 11:28:03,146 INFO sqlalchemy.engine.base.Engine PRAGMA main.table_info(\"LHR_Student\")\n",
      "2020-11-15 11:28:03,148 INFO sqlalchemy.engine.base.Engine ()\n",
      "2020-11-15 11:28:03,150 INFO sqlalchemy.engine.base.Engine SELECT name FROM sqlite_master WHERE type='table' ORDER BY name\n",
      "2020-11-15 11:28:03,152 INFO sqlalchemy.engine.base.Engine ()\n",
      "2020-11-15 11:28:03,154 INFO sqlalchemy.engine.base.Engine PRAGMA main.table_xinfo(\"LHR_Student\")\n",
      "2020-11-15 11:28:03,155 INFO sqlalchemy.engine.base.Engine ()\n",
      "2020-11-15 11:28:03,157 INFO sqlalchemy.engine.base.Engine SELECT sql FROM  (SELECT * FROM sqlite_master UNION ALL   SELECT * FROM sqlite_temp_master) WHERE name = ? AND type = 'table'\n",
      "2020-11-15 11:28:03,158 INFO sqlalchemy.engine.base.Engine ('LHR_Student',)\n",
      "2020-11-15 11:28:03,160 INFO sqlalchemy.engine.base.Engine PRAGMA main.foreign_key_list(\"LHR_Student\")\n",
      "2020-11-15 11:28:03,161 INFO sqlalchemy.engine.base.Engine ()\n",
      "2020-11-15 11:28:03,163 INFO sqlalchemy.engine.base.Engine PRAGMA temp.foreign_key_list(\"LHR_Student\")\n",
      "2020-11-15 11:28:03,164 INFO sqlalchemy.engine.base.Engine ()\n",
      "2020-11-15 11:28:03,165 INFO sqlalchemy.engine.base.Engine SELECT sql FROM  (SELECT * FROM sqlite_master UNION ALL   SELECT * FROM sqlite_temp_master) WHERE name = ? AND type = 'table'\n",
      "2020-11-15 11:28:03,166 INFO sqlalchemy.engine.base.Engine ('LHR_Student',)\n",
      "2020-11-15 11:28:03,169 INFO sqlalchemy.engine.base.Engine PRAGMA main.index_list(\"LHR_Student\")\n",
      "2020-11-15 11:28:03,170 INFO sqlalchemy.engine.base.Engine ()\n",
      "2020-11-15 11:28:03,172 INFO sqlalchemy.engine.base.Engine PRAGMA main.index_list(\"LHR_Student\")\n",
      "2020-11-15 11:28:03,174 INFO sqlalchemy.engine.base.Engine ()\n",
      "2020-11-15 11:28:03,176 INFO sqlalchemy.engine.base.Engine PRAGMA main.index_info(\"sqlite_autoindex_LHR_Student_1\")\n",
      "2020-11-15 11:28:03,177 INFO sqlalchemy.engine.base.Engine ()\n",
      "2020-11-15 11:28:03,179 INFO sqlalchemy.engine.base.Engine SELECT sql FROM  (SELECT * FROM sqlite_master UNION ALL   SELECT * FROM sqlite_temp_master) WHERE name = ? AND type = 'table'\n",
      "2020-11-15 11:28:03,180 INFO sqlalchemy.engine.base.Engine ('LHR_Student',)\n",
      "2020-11-15 11:28:03,183 INFO sqlalchemy.engine.base.Engine \n",
      "DROP TABLE \"LHR_Student\"\n",
      "2020-11-15 11:28:03,184 INFO sqlalchemy.engine.base.Engine ()\n",
      "2020-11-15 11:28:03,204 INFO sqlalchemy.engine.base.Engine COMMIT\n",
      "2020-11-15 11:28:03,206 INFO sqlalchemy.engine.base.Engine \n",
      "CREATE TABLE \"LHR_Student\" (\n",
      "\t\"SID\" TEXT, \n",
      "\t\"Name\" TEXT, \n",
      "\t\"Father\" TEXT, \n",
      "\t\"DoB\" DATETIME, \n",
      "\t\"Gender\" BOOLEAN, \n",
      "\t\"Reg Date\" DATETIME, \n",
      "\t\"Reg Status\" VARCHAR(1), \n",
      "\t\"Degree Status\" VARCHAR(1), \n",
      "\t\"Address\" TEXT, \n",
      "\t\"Qualification\" TEXT, \n",
      "\t\"Degree\" VARCHAR(2), \n",
      "\tCHECK (\"Gender\" IN (0, 1))\n",
      ")\n",
      "\n",
      "\n",
      "2020-11-15 11:28:03,207 INFO sqlalchemy.engine.base.Engine ()\n",
      "2020-11-15 11:28:03,211 INFO sqlalchemy.engine.base.Engine COMMIT\n",
      "2020-11-15 11:28:03,221 INFO sqlalchemy.engine.base.Engine BEGIN (implicit)\n",
      "2020-11-15 11:28:03,297 INFO sqlalchemy.engine.base.Engine INSERT INTO \"LHR_Student\" (\"SID\", \"Name\", \"Father\", \"DoB\", \"Gender\", \"Reg Date\", \"Reg Status\", \"Degree Status\", \"Address\", \"Qualification\", \"Degree\") VALUES (?, ?, ?, ?, ?, ?, ?, ?, ?, ?, ?)\n",
      "2020-11-15 11:28:03,298 INFO sqlalchemy.engine.base.Engine (('LHR_BS_0', 'Hafiz Viqar-ul-Islam Chohan', 'Raja Sharif Chohan', '1974-04-11 00:00:00.000000', 0, '1994-08-10 00:00:00.000000', 'A', 'C', 'House #  855 St. #  37 Shuakat coloney Bahawalpur', 'FSc', 'BS'), ('LHR_BS_1', 'Muazzam Abdul Hameed Shah', 'Sh. Haseeb Shah', '1974-12-13 00:00:00.000000', 0, '1994-08-13 00:00:00.000000', 'A', 'C', 'H#  169 s#  0 Mutian wala Dera ghazi khan', 'A-Level', 'BS'), ('LHR_BS_2', 'Babar Abdul Mujeeb', 'Abdul Mujeeb Anwer', '1976-09-13 00:00:00.000000', 0, '1994-08-17 00:00:00.000000', 'A', 'C', 'ho. #  484 street #  95 Buliyan wali Gujrawala', 'Fsc', 'BS'), ('LHR_BS_3', 'Muhammad Mudassir Abbasi', 'Khurram Abbasi', '1976-09-15 00:00:00.000000', 0, '1994-08-20 00:00:00.000000', 'A', 'C', 'House No. 31 street #  91 Dak ghar Wazirabad', 'F.Sc.', 'BS'), ('LHR_BS_4', 'Hadiqa Durrani', 'Mahtab Abdus Sattar Durrani', '1976-06-16 00:00:00.000000', 1, '1994-08-23 00:00:00.000000', 'A', 'C', 'Ho. # 345 S# 86  Cement factory coloney Sargodha', 'Fsc', 'BS'), ('LHR_BS_5', 'Masood Abdul Wasay Jaffery', 'Farooq Muaz Jaffery', '1976-02-18 00:00:00.000000', 0, '1994-08-26 00:00:00.000000', 'A', 'C', 'house no.660 St. No.49   Pindi Bhatian', 'F.Sc.', 'BS'), ('LHR_BS_6', 'Momd. Haroon Gondal', 'Hafiz Shabi Gondal', '1975-02-18 00:00:00.000000', 0, '1994-08-01 00:00:00.000000', 'A', 'C', 'h no.206 St. No.45  Mujahid block Shekhopura', 'HSSC', 'BS'), ('LHR_BS_7', 'Abida Khurshid', 'Khurshid Baber', '1975-11-20 00:00:00.000000', 1, '1994-08-04 00:00:00.000000', 'A', 'C', 'Ho. No.521 s no.40  Bakra mandi Melsi', 'A level', 'BS')  ... displaying 10 of 5201 total bound parameter sets ...  ('LHR_MS_798', 'Sunera Durrani', 'M. Ahmad Durrani', '1981-04-03 00:00:00.000000', 1, '2004-08-06 00:00:00.000000', 'A', 'I', 'H No.117 St. # 13  Nizam pur Wazirabad', 'MS', 'MS'), ('LHR_MS_799', 'Masud Jaffery', 'Choudhary Muneer Jaffery', '1981-05-05 00:00:00.000000', 0, '2004-08-09 00:00:00.000000', 'A', 'I', 'Ho. no.432 S No.76  post office Sargodha', 'M.Sc', 'MS'))\n",
      "2020-11-15 11:28:03,323 INFO sqlalchemy.engine.base.Engine COMMIT\n",
      "2020-11-15 11:28:03,335 INFO sqlalchemy.engine.base.Engine SELECT name FROM sqlite_master WHERE type='table' ORDER BY name\n",
      "2020-11-15 11:28:03,336 INFO sqlalchemy.engine.base.Engine ()\n"
     ]
    }
   ],
   "source": [
    "std_table = \"LHR_Student\"\n",
    "df_std.to_sql(\n",
    "    std_table, \n",
    "    sqlite_connection, \n",
    "    if_exists='replace', \n",
    "    index=False, \n",
    "    dtype=std_col_types)"
   ]
  },
  {
   "cell_type": "code",
   "execution_count": 203,
   "metadata": {},
   "outputs": [],
   "source": [
    "sqlite_connection.close()"
   ]
  },
  {
   "source": [
    "# Process BS Course Reg"
   ],
   "cell_type": "markdown",
   "metadata": {}
  },
  {
   "cell_type": "code",
   "execution_count": 165,
   "metadata": {},
   "outputs": [],
   "source": [
    "COURSE_COLUMN_NAMES = ['SID', 'Course', 'Score', 'Semester', 'Discipline', 'Degree']"
   ]
  },
  {
   "cell_type": "code",
   "execution_count": 279,
   "metadata": {},
   "outputs": [],
   "source": [
    "reg_col_types = {\n",
    "    \"SID\": Text,\n",
    "    \"Courses\": String(8),\n",
    "    \"Score\": Integer,\n",
    "    \"Semester\":  String(10),\n",
    "    \"Year\": DateTime,\n",
    "    \"Discipline\": String(3),\n",
    "    \"Degree\": String(2)\n",
    "    }"
   ]
  },
  {
   "cell_type": "code",
   "execution_count": 229,
   "metadata": {},
   "outputs": [],
   "source": [
    "bs_reg_files = data_dir.rglob('Lhr_Detail_[0-9]*.txt')\n",
    "# sorted(bs_reg_files)"
   ]
  },
  {
   "cell_type": "code",
   "execution_count": 230,
   "metadata": {},
   "outputs": [],
   "source": [
    "bs_reg_dfs = []\n",
    "for std_file in bs_reg_files:\n",
    "    df = pd.read_csv(std_file, index_col=None, header=0)\n",
    "    bs_reg_dfs.append(df) \n",
    "\n",
    "df_bs_reg = pd.concat(bs_reg_dfs, axis=0, ignore_index=True)\n",
    "df_bs_reg = df_bs_reg.sort_values(by=['SID'])"
   ]
  },
  {
   "cell_type": "code",
   "execution_count": 231,
   "metadata": {},
   "outputs": [
    {
     "output_type": "execute_result",
     "data": {
      "text/plain": [
       "['SID', 'Degree', 'Semester', 'Course', 'Marks', 'Discipline']"
      ]
     },
     "metadata": {},
     "execution_count": 231
    }
   ],
   "source": [
    "list(df_bs_reg.columns.values)"
   ]
  },
  {
   "cell_type": "code",
   "execution_count": 232,
   "metadata": {},
   "outputs": [],
   "source": [
    "new_order_reg = ['SID', 'Course', 'Marks', 'Semester', 'Discipline', 'Degree']\n",
    "df_bs_reg = df_bs_reg[new_order_reg]\n",
    "df_bs_reg.columns = COURSE_COLUMN_NAMES\n",
    "df_bs_reg.SID = \"LHR_BS_\" + df_bs_reg.SID.astype(str)"
   ]
  },
  {
   "cell_type": "code",
   "execution_count": 233,
   "metadata": {},
   "outputs": [
    {
     "output_type": "execute_result",
     "data": {
      "text/plain": [
       "            SID  Course  Score Semester Discipline Degree\n",
       "72002  LHR_BS_0  SS-202     94   Fall95         CS     BS\n",
       "76804  LHR_BS_0  CS-119     59   Fall96         CS     BS\n",
       "76805  LHR_BS_0  CS-120     67   Fall96         CS     BS\n",
       "81600  LHR_BS_0  UR-404     97   Fall97         CS     BS\n",
       "81601  LHR_BS_0  CS-125     66   Fall97         CS     BS"
      ],
      "text/html": "<div>\n<style scoped>\n    .dataframe tbody tr th:only-of-type {\n        vertical-align: middle;\n    }\n\n    .dataframe tbody tr th {\n        vertical-align: top;\n    }\n\n    .dataframe thead th {\n        text-align: right;\n    }\n</style>\n<table border=\"1\" class=\"dataframe\">\n  <thead>\n    <tr style=\"text-align: right;\">\n      <th></th>\n      <th>SID</th>\n      <th>Course</th>\n      <th>Score</th>\n      <th>Semester</th>\n      <th>Discipline</th>\n      <th>Degree</th>\n    </tr>\n  </thead>\n  <tbody>\n    <tr>\n      <th>72002</th>\n      <td>LHR_BS_0</td>\n      <td>SS-202</td>\n      <td>94</td>\n      <td>Fall95</td>\n      <td>CS</td>\n      <td>BS</td>\n    </tr>\n    <tr>\n      <th>76804</th>\n      <td>LHR_BS_0</td>\n      <td>CS-119</td>\n      <td>59</td>\n      <td>Fall96</td>\n      <td>CS</td>\n      <td>BS</td>\n    </tr>\n    <tr>\n      <th>76805</th>\n      <td>LHR_BS_0</td>\n      <td>CS-120</td>\n      <td>67</td>\n      <td>Fall96</td>\n      <td>CS</td>\n      <td>BS</td>\n    </tr>\n    <tr>\n      <th>81600</th>\n      <td>LHR_BS_0</td>\n      <td>UR-404</td>\n      <td>97</td>\n      <td>Fall97</td>\n      <td>CS</td>\n      <td>BS</td>\n    </tr>\n    <tr>\n      <th>81601</th>\n      <td>LHR_BS_0</td>\n      <td>CS-125</td>\n      <td>66</td>\n      <td>Fall97</td>\n      <td>CS</td>\n      <td>BS</td>\n    </tr>\n  </tbody>\n</table>\n</div>"
     },
     "metadata": {},
     "execution_count": 233
    }
   ],
   "source": [
    "df_bs_reg.head()"
   ]
  },
  {
   "cell_type": "code",
   "execution_count": 234,
   "metadata": {},
   "outputs": [
    {
     "output_type": "execute_result",
     "data": {
      "text/plain": [
       "               SID  Course          Score Semester Discipline  Degree\n",
       "count       182400  182400  182400.000000   182400     182400  182400\n",
       "unique        4400      89            NaN       22          4       1\n",
       "top     LHR_BS_679  CS-106            NaN   Fall03         CS      BS\n",
       "freq            48    4400            NaN     9600      45600  182400\n",
       "mean           NaN     NaN      74.466168      NaN        NaN     NaN\n",
       "std            NaN     NaN      14.408256      NaN        NaN     NaN\n",
       "min            NaN     NaN      50.000000      NaN        NaN     NaN\n",
       "25%            NaN     NaN      62.000000      NaN        NaN     NaN\n",
       "50%            NaN     NaN      74.000000      NaN        NaN     NaN\n",
       "75%            NaN     NaN      87.000000      NaN        NaN     NaN\n",
       "max            NaN     NaN      99.000000      NaN        NaN     NaN"
      ],
      "text/html": "<div>\n<style scoped>\n    .dataframe tbody tr th:only-of-type {\n        vertical-align: middle;\n    }\n\n    .dataframe tbody tr th {\n        vertical-align: top;\n    }\n\n    .dataframe thead th {\n        text-align: right;\n    }\n</style>\n<table border=\"1\" class=\"dataframe\">\n  <thead>\n    <tr style=\"text-align: right;\">\n      <th></th>\n      <th>SID</th>\n      <th>Course</th>\n      <th>Score</th>\n      <th>Semester</th>\n      <th>Discipline</th>\n      <th>Degree</th>\n    </tr>\n  </thead>\n  <tbody>\n    <tr>\n      <th>count</th>\n      <td>182400</td>\n      <td>182400</td>\n      <td>182400.000000</td>\n      <td>182400</td>\n      <td>182400</td>\n      <td>182400</td>\n    </tr>\n    <tr>\n      <th>unique</th>\n      <td>4400</td>\n      <td>89</td>\n      <td>NaN</td>\n      <td>22</td>\n      <td>4</td>\n      <td>1</td>\n    </tr>\n    <tr>\n      <th>top</th>\n      <td>LHR_BS_679</td>\n      <td>CS-106</td>\n      <td>NaN</td>\n      <td>Fall03</td>\n      <td>CS</td>\n      <td>BS</td>\n    </tr>\n    <tr>\n      <th>freq</th>\n      <td>48</td>\n      <td>4400</td>\n      <td>NaN</td>\n      <td>9600</td>\n      <td>45600</td>\n      <td>182400</td>\n    </tr>\n    <tr>\n      <th>mean</th>\n      <td>NaN</td>\n      <td>NaN</td>\n      <td>74.466168</td>\n      <td>NaN</td>\n      <td>NaN</td>\n      <td>NaN</td>\n    </tr>\n    <tr>\n      <th>std</th>\n      <td>NaN</td>\n      <td>NaN</td>\n      <td>14.408256</td>\n      <td>NaN</td>\n      <td>NaN</td>\n      <td>NaN</td>\n    </tr>\n    <tr>\n      <th>min</th>\n      <td>NaN</td>\n      <td>NaN</td>\n      <td>50.000000</td>\n      <td>NaN</td>\n      <td>NaN</td>\n      <td>NaN</td>\n    </tr>\n    <tr>\n      <th>25%</th>\n      <td>NaN</td>\n      <td>NaN</td>\n      <td>62.000000</td>\n      <td>NaN</td>\n      <td>NaN</td>\n      <td>NaN</td>\n    </tr>\n    <tr>\n      <th>50%</th>\n      <td>NaN</td>\n      <td>NaN</td>\n      <td>74.000000</td>\n      <td>NaN</td>\n      <td>NaN</td>\n      <td>NaN</td>\n    </tr>\n    <tr>\n      <th>75%</th>\n      <td>NaN</td>\n      <td>NaN</td>\n      <td>87.000000</td>\n      <td>NaN</td>\n      <td>NaN</td>\n      <td>NaN</td>\n    </tr>\n    <tr>\n      <th>max</th>\n      <td>NaN</td>\n      <td>NaN</td>\n      <td>99.000000</td>\n      <td>NaN</td>\n      <td>NaN</td>\n      <td>NaN</td>\n    </tr>\n  </tbody>\n</table>\n</div>"
     },
     "metadata": {},
     "execution_count": 234
    }
   ],
   "source": [
    "df_bs_reg.describe(include='all')"
   ]
  },
  {
   "source": [
    "# Process MS Course Reg"
   ],
   "cell_type": "markdown",
   "metadata": {}
  },
  {
   "cell_type": "code",
   "execution_count": 268,
   "metadata": {},
   "outputs": [],
   "source": [
    "ms_reg_files = data_dir.rglob('Lhr_Detail_MS_[0-9]*.txt')\n",
    "# sorted(ms_reg_files)"
   ]
  },
  {
   "cell_type": "code",
   "execution_count": 269,
   "metadata": {},
   "outputs": [],
   "source": [
    "ms_reg_dfs = []\n",
    "for std_file in ms_reg_files:\n",
    "    df = pd.read_csv(std_file, index_col=None, header=0)\n",
    "    ms_reg_dfs.append(df) \n",
    "\n",
    "df_ms_reg = pd.concat(ms_reg_dfs, axis=0, ignore_index=True)\n",
    "df_ms_reg = df_ms_reg.sort_values(by=['SID'])"
   ]
  },
  {
   "cell_type": "code",
   "execution_count": 270,
   "metadata": {},
   "outputs": [],
   "source": [
    "new_order_reg = ['SID', 'Course', 'Marks', 'Semester', 'Discipline', 'Degree']\n",
    "df_ms_reg = df_ms_reg[new_order_reg]\n",
    "df_ms_reg.columns = COURSE_COLUMN_NAMES\n",
    "df_ms_reg.SID = \"LHR_MS_\" + df_ms_reg.SID.astype(str)"
   ]
  },
  {
   "cell_type": "code",
   "execution_count": 271,
   "metadata": {},
   "outputs": [
    {
     "output_type": "execute_result",
     "data": {
      "text/plain": [
       "           SID  Course  Score  Semester Discipline Degree\n",
       "0     LHR_MS_0  CS-801     72    Fall20      MS-CS     MS\n",
       "1802  LHR_MS_0  CS-968     57  Spring20      MS-CS     MS\n",
       "1801  LHR_MS_0  CS-708     63  Spring20      MS-CS     MS\n",
       "1800  LHR_MS_0  CS-907     57  Spring20      MS-CS     MS\n",
       "1202  LHR_MS_0  CS-606     62    Fall20      MS-CS     MS"
      ],
      "text/html": "<div>\n<style scoped>\n    .dataframe tbody tr th:only-of-type {\n        vertical-align: middle;\n    }\n\n    .dataframe tbody tr th {\n        vertical-align: top;\n    }\n\n    .dataframe thead th {\n        text-align: right;\n    }\n</style>\n<table border=\"1\" class=\"dataframe\">\n  <thead>\n    <tr style=\"text-align: right;\">\n      <th></th>\n      <th>SID</th>\n      <th>Course</th>\n      <th>Score</th>\n      <th>Semester</th>\n      <th>Discipline</th>\n      <th>Degree</th>\n    </tr>\n  </thead>\n  <tbody>\n    <tr>\n      <th>0</th>\n      <td>LHR_MS_0</td>\n      <td>CS-801</td>\n      <td>72</td>\n      <td>Fall20</td>\n      <td>MS-CS</td>\n      <td>MS</td>\n    </tr>\n    <tr>\n      <th>1802</th>\n      <td>LHR_MS_0</td>\n      <td>CS-968</td>\n      <td>57</td>\n      <td>Spring20</td>\n      <td>MS-CS</td>\n      <td>MS</td>\n    </tr>\n    <tr>\n      <th>1801</th>\n      <td>LHR_MS_0</td>\n      <td>CS-708</td>\n      <td>63</td>\n      <td>Spring20</td>\n      <td>MS-CS</td>\n      <td>MS</td>\n    </tr>\n    <tr>\n      <th>1800</th>\n      <td>LHR_MS_0</td>\n      <td>CS-907</td>\n      <td>57</td>\n      <td>Spring20</td>\n      <td>MS-CS</td>\n      <td>MS</td>\n    </tr>\n    <tr>\n      <th>1202</th>\n      <td>LHR_MS_0</td>\n      <td>CS-606</td>\n      <td>62</td>\n      <td>Fall20</td>\n      <td>MS-CS</td>\n      <td>MS</td>\n    </tr>\n  </tbody>\n</table>\n</div>"
     },
     "metadata": {},
     "execution_count": 271
    }
   ],
   "source": [
    "df_ms_reg.head()"
   ]
  },
  {
   "cell_type": "code",
   "execution_count": 272,
   "metadata": {},
   "outputs": [
    {
     "output_type": "execute_result",
     "data": {
      "text/plain": [
       "              SID  Course        Score  Semester Discipline Degree\n",
       "count        8400    8400  8400.000000      8400       8400   8400\n",
       "unique        800      31          NaN         2          4      1\n",
       "top     LHR_MS_87  CS-802          NaN  Spring20      MS-NW     MS\n",
       "freq           12     800          NaN      4200       2100   8400\n",
       "mean          NaN     NaN    74.509167       NaN        NaN    NaN\n",
       "std           NaN     NaN    14.415472       NaN        NaN    NaN\n",
       "min           NaN     NaN    50.000000       NaN        NaN    NaN\n",
       "25%           NaN     NaN    62.000000       NaN        NaN    NaN\n",
       "50%           NaN     NaN    74.000000       NaN        NaN    NaN\n",
       "75%           NaN     NaN    87.000000       NaN        NaN    NaN\n",
       "max           NaN     NaN    99.000000       NaN        NaN    NaN"
      ],
      "text/html": "<div>\n<style scoped>\n    .dataframe tbody tr th:only-of-type {\n        vertical-align: middle;\n    }\n\n    .dataframe tbody tr th {\n        vertical-align: top;\n    }\n\n    .dataframe thead th {\n        text-align: right;\n    }\n</style>\n<table border=\"1\" class=\"dataframe\">\n  <thead>\n    <tr style=\"text-align: right;\">\n      <th></th>\n      <th>SID</th>\n      <th>Course</th>\n      <th>Score</th>\n      <th>Semester</th>\n      <th>Discipline</th>\n      <th>Degree</th>\n    </tr>\n  </thead>\n  <tbody>\n    <tr>\n      <th>count</th>\n      <td>8400</td>\n      <td>8400</td>\n      <td>8400.000000</td>\n      <td>8400</td>\n      <td>8400</td>\n      <td>8400</td>\n    </tr>\n    <tr>\n      <th>unique</th>\n      <td>800</td>\n      <td>31</td>\n      <td>NaN</td>\n      <td>2</td>\n      <td>4</td>\n      <td>1</td>\n    </tr>\n    <tr>\n      <th>top</th>\n      <td>LHR_MS_87</td>\n      <td>CS-802</td>\n      <td>NaN</td>\n      <td>Spring20</td>\n      <td>MS-NW</td>\n      <td>MS</td>\n    </tr>\n    <tr>\n      <th>freq</th>\n      <td>12</td>\n      <td>800</td>\n      <td>NaN</td>\n      <td>4200</td>\n      <td>2100</td>\n      <td>8400</td>\n    </tr>\n    <tr>\n      <th>mean</th>\n      <td>NaN</td>\n      <td>NaN</td>\n      <td>74.509167</td>\n      <td>NaN</td>\n      <td>NaN</td>\n      <td>NaN</td>\n    </tr>\n    <tr>\n      <th>std</th>\n      <td>NaN</td>\n      <td>NaN</td>\n      <td>14.415472</td>\n      <td>NaN</td>\n      <td>NaN</td>\n      <td>NaN</td>\n    </tr>\n    <tr>\n      <th>min</th>\n      <td>NaN</td>\n      <td>NaN</td>\n      <td>50.000000</td>\n      <td>NaN</td>\n      <td>NaN</td>\n      <td>NaN</td>\n    </tr>\n    <tr>\n      <th>25%</th>\n      <td>NaN</td>\n      <td>NaN</td>\n      <td>62.000000</td>\n      <td>NaN</td>\n      <td>NaN</td>\n      <td>NaN</td>\n    </tr>\n    <tr>\n      <th>50%</th>\n      <td>NaN</td>\n      <td>NaN</td>\n      <td>74.000000</td>\n      <td>NaN</td>\n      <td>NaN</td>\n      <td>NaN</td>\n    </tr>\n    <tr>\n      <th>75%</th>\n      <td>NaN</td>\n      <td>NaN</td>\n      <td>87.000000</td>\n      <td>NaN</td>\n      <td>NaN</td>\n      <td>NaN</td>\n    </tr>\n    <tr>\n      <th>max</th>\n      <td>NaN</td>\n      <td>NaN</td>\n      <td>99.000000</td>\n      <td>NaN</td>\n      <td>NaN</td>\n      <td>NaN</td>\n    </tr>\n  </tbody>\n</table>\n</div>"
     },
     "metadata": {},
     "execution_count": 272
    }
   ],
   "source": [
    "df_ms_reg.describe(include=\"all\")"
   ]
  },
  {
   "source": [
    "# Concat BS and MS Course Reg Tables"
   ],
   "cell_type": "markdown",
   "metadata": {}
  },
  {
   "cell_type": "code",
   "execution_count": 320,
   "metadata": {},
   "outputs": [
    {
     "output_type": "execute_result",
     "data": {
      "text/plain": [
       "        SID  Course  Score Semester Discipline Degree\n",
       "0  LHR_BS_0  SS-202     94   Fall95         CS     BS\n",
       "1  LHR_BS_0  CS-119     59   Fall96         CS     BS\n",
       "2  LHR_BS_0  CS-120     67   Fall96         CS     BS\n",
       "3  LHR_BS_0  UR-404     97   Fall97         CS     BS\n",
       "4  LHR_BS_0  CS-125     66   Fall97         CS     BS"
      ],
      "text/html": "<div>\n<style scoped>\n    .dataframe tbody tr th:only-of-type {\n        vertical-align: middle;\n    }\n\n    .dataframe tbody tr th {\n        vertical-align: top;\n    }\n\n    .dataframe thead th {\n        text-align: right;\n    }\n</style>\n<table border=\"1\" class=\"dataframe\">\n  <thead>\n    <tr style=\"text-align: right;\">\n      <th></th>\n      <th>SID</th>\n      <th>Course</th>\n      <th>Score</th>\n      <th>Semester</th>\n      <th>Discipline</th>\n      <th>Degree</th>\n    </tr>\n  </thead>\n  <tbody>\n    <tr>\n      <th>0</th>\n      <td>LHR_BS_0</td>\n      <td>SS-202</td>\n      <td>94</td>\n      <td>Fall95</td>\n      <td>CS</td>\n      <td>BS</td>\n    </tr>\n    <tr>\n      <th>1</th>\n      <td>LHR_BS_0</td>\n      <td>CS-119</td>\n      <td>59</td>\n      <td>Fall96</td>\n      <td>CS</td>\n      <td>BS</td>\n    </tr>\n    <tr>\n      <th>2</th>\n      <td>LHR_BS_0</td>\n      <td>CS-120</td>\n      <td>67</td>\n      <td>Fall96</td>\n      <td>CS</td>\n      <td>BS</td>\n    </tr>\n    <tr>\n      <th>3</th>\n      <td>LHR_BS_0</td>\n      <td>UR-404</td>\n      <td>97</td>\n      <td>Fall97</td>\n      <td>CS</td>\n      <td>BS</td>\n    </tr>\n    <tr>\n      <th>4</th>\n      <td>LHR_BS_0</td>\n      <td>CS-125</td>\n      <td>66</td>\n      <td>Fall97</td>\n      <td>CS</td>\n      <td>BS</td>\n    </tr>\n  </tbody>\n</table>\n</div>"
     },
     "metadata": {},
     "execution_count": 320
    }
   ],
   "source": [
    "df_reg = pd.concat([df_bs_reg, df_ms_reg], ignore_index=True)\n",
    "df_reg.head()"
   ]
  },
  {
   "cell_type": "code",
   "execution_count": 321,
   "metadata": {},
   "outputs": [],
   "source": [
    "df_reg['Year'] = df_reg.Semester.str.extract('(\\d+)')\n",
    "df_reg.Semester = df_reg.Semester.str.replace('\\d+', '')\n",
    "df_reg[\"Year\"] = pd.to_datetime(df_reg[\"Year\"], format='%y')"
   ]
  },
  {
   "cell_type": "code",
   "execution_count": 322,
   "metadata": {},
   "outputs": [],
   "source": [
    "new_order_reg = ['SID', 'Course', 'Score', 'Semester', 'Year', 'Discipline', 'Degree']\n",
    "df_reg = df_reg[new_order_reg]"
   ]
  },
  {
   "cell_type": "code",
   "execution_count": 324,
   "metadata": {},
   "outputs": [
    {
     "output_type": "execute_result",
     "data": {
      "text/plain": [
       "               SID  Course  Score Semester       Year Discipline Degree\n",
       "190795  LHR_MS_799  CS-802     95     Fall 2020-01-01      MS-NW     MS\n",
       "190796  LHR_MS_799  CS-703     71     Fall 2020-01-01      MS-NW     MS\n",
       "190797  LHR_MS_799  CS-801     76     Fall 2020-01-01      MS-NW     MS\n",
       "190798  LHR_MS_799  CS-404     62   Spring 2020-01-01      MS-NW     MS\n",
       "190799  LHR_MS_799  CS-307     95   Spring 2020-01-01      MS-NW     MS"
      ],
      "text/html": "<div>\n<style scoped>\n    .dataframe tbody tr th:only-of-type {\n        vertical-align: middle;\n    }\n\n    .dataframe tbody tr th {\n        vertical-align: top;\n    }\n\n    .dataframe thead th {\n        text-align: right;\n    }\n</style>\n<table border=\"1\" class=\"dataframe\">\n  <thead>\n    <tr style=\"text-align: right;\">\n      <th></th>\n      <th>SID</th>\n      <th>Course</th>\n      <th>Score</th>\n      <th>Semester</th>\n      <th>Year</th>\n      <th>Discipline</th>\n      <th>Degree</th>\n    </tr>\n  </thead>\n  <tbody>\n    <tr>\n      <th>190795</th>\n      <td>LHR_MS_799</td>\n      <td>CS-802</td>\n      <td>95</td>\n      <td>Fall</td>\n      <td>2020-01-01</td>\n      <td>MS-NW</td>\n      <td>MS</td>\n    </tr>\n    <tr>\n      <th>190796</th>\n      <td>LHR_MS_799</td>\n      <td>CS-703</td>\n      <td>71</td>\n      <td>Fall</td>\n      <td>2020-01-01</td>\n      <td>MS-NW</td>\n      <td>MS</td>\n    </tr>\n    <tr>\n      <th>190797</th>\n      <td>LHR_MS_799</td>\n      <td>CS-801</td>\n      <td>76</td>\n      <td>Fall</td>\n      <td>2020-01-01</td>\n      <td>MS-NW</td>\n      <td>MS</td>\n    </tr>\n    <tr>\n      <th>190798</th>\n      <td>LHR_MS_799</td>\n      <td>CS-404</td>\n      <td>62</td>\n      <td>Spring</td>\n      <td>2020-01-01</td>\n      <td>MS-NW</td>\n      <td>MS</td>\n    </tr>\n    <tr>\n      <th>190799</th>\n      <td>LHR_MS_799</td>\n      <td>CS-307</td>\n      <td>95</td>\n      <td>Spring</td>\n      <td>2020-01-01</td>\n      <td>MS-NW</td>\n      <td>MS</td>\n    </tr>\n  </tbody>\n</table>\n</div>"
     },
     "metadata": {},
     "execution_count": 324
    }
   ],
   "source": [
    "df_reg.tail()"
   ]
  },
  {
   "cell_type": "code",
   "execution_count": 325,
   "metadata": {},
   "outputs": [
    {
     "output_type": "execute_result",
     "data": {
      "text/plain": [
       "0         False\n",
       "1         False\n",
       "2         False\n",
       "3         False\n",
       "4         False\n",
       "          ...  \n",
       "190795    False\n",
       "190796    False\n",
       "190797    False\n",
       "190798    False\n",
       "190799    False\n",
       "Name: Semester, Length: 190800, dtype: bool"
      ]
     },
     "metadata": {},
     "execution_count": 325
    }
   ],
   "source": [
    "df_reg.Semester.isnull()"
   ]
  },
  {
   "cell_type": "code",
   "execution_count": 326,
   "metadata": {},
   "outputs": [
    {
     "output_type": "execute_result",
     "data": {
      "text/plain": [
       "                SID  Course          Score Semester                 Year  \\\n",
       "count        190800  190800  190800.000000   190800               190800   \n",
       "unique         5200     120            NaN        2                   13   \n",
       "top     LHR_BS_1932  CS-104            NaN     Fall  2004-01-01 00:00:00   \n",
       "freq             48    4400            NaN    95400                19200   \n",
       "first           NaN     NaN            NaN      NaN  1994-01-01 00:00:00   \n",
       "last            NaN     NaN            NaN      NaN  2020-01-01 00:00:00   \n",
       "mean            NaN     NaN      74.468061      NaN                  NaN   \n",
       "std             NaN     NaN      14.408539      NaN                  NaN   \n",
       "min             NaN     NaN      50.000000      NaN                  NaN   \n",
       "25%             NaN     NaN      62.000000      NaN                  NaN   \n",
       "50%             NaN     NaN      74.000000      NaN                  NaN   \n",
       "75%             NaN     NaN      87.000000      NaN                  NaN   \n",
       "max             NaN     NaN      99.000000      NaN                  NaN   \n",
       "\n",
       "       Discipline  Degree  \n",
       "count      190800  190800  \n",
       "unique          8       2  \n",
       "top            CS      BS  \n",
       "freq        45600  182400  \n",
       "first         NaN     NaN  \n",
       "last          NaN     NaN  \n",
       "mean          NaN     NaN  \n",
       "std           NaN     NaN  \n",
       "min           NaN     NaN  \n",
       "25%           NaN     NaN  \n",
       "50%           NaN     NaN  \n",
       "75%           NaN     NaN  \n",
       "max           NaN     NaN  "
      ],
      "text/html": "<div>\n<style scoped>\n    .dataframe tbody tr th:only-of-type {\n        vertical-align: middle;\n    }\n\n    .dataframe tbody tr th {\n        vertical-align: top;\n    }\n\n    .dataframe thead th {\n        text-align: right;\n    }\n</style>\n<table border=\"1\" class=\"dataframe\">\n  <thead>\n    <tr style=\"text-align: right;\">\n      <th></th>\n      <th>SID</th>\n      <th>Course</th>\n      <th>Score</th>\n      <th>Semester</th>\n      <th>Year</th>\n      <th>Discipline</th>\n      <th>Degree</th>\n    </tr>\n  </thead>\n  <tbody>\n    <tr>\n      <th>count</th>\n      <td>190800</td>\n      <td>190800</td>\n      <td>190800.000000</td>\n      <td>190800</td>\n      <td>190800</td>\n      <td>190800</td>\n      <td>190800</td>\n    </tr>\n    <tr>\n      <th>unique</th>\n      <td>5200</td>\n      <td>120</td>\n      <td>NaN</td>\n      <td>2</td>\n      <td>13</td>\n      <td>8</td>\n      <td>2</td>\n    </tr>\n    <tr>\n      <th>top</th>\n      <td>LHR_BS_1932</td>\n      <td>CS-104</td>\n      <td>NaN</td>\n      <td>Fall</td>\n      <td>2004-01-01 00:00:00</td>\n      <td>CS</td>\n      <td>BS</td>\n    </tr>\n    <tr>\n      <th>freq</th>\n      <td>48</td>\n      <td>4400</td>\n      <td>NaN</td>\n      <td>95400</td>\n      <td>19200</td>\n      <td>45600</td>\n      <td>182400</td>\n    </tr>\n    <tr>\n      <th>first</th>\n      <td>NaN</td>\n      <td>NaN</td>\n      <td>NaN</td>\n      <td>NaN</td>\n      <td>1994-01-01 00:00:00</td>\n      <td>NaN</td>\n      <td>NaN</td>\n    </tr>\n    <tr>\n      <th>last</th>\n      <td>NaN</td>\n      <td>NaN</td>\n      <td>NaN</td>\n      <td>NaN</td>\n      <td>2020-01-01 00:00:00</td>\n      <td>NaN</td>\n      <td>NaN</td>\n    </tr>\n    <tr>\n      <th>mean</th>\n      <td>NaN</td>\n      <td>NaN</td>\n      <td>74.468061</td>\n      <td>NaN</td>\n      <td>NaN</td>\n      <td>NaN</td>\n      <td>NaN</td>\n    </tr>\n    <tr>\n      <th>std</th>\n      <td>NaN</td>\n      <td>NaN</td>\n      <td>14.408539</td>\n      <td>NaN</td>\n      <td>NaN</td>\n      <td>NaN</td>\n      <td>NaN</td>\n    </tr>\n    <tr>\n      <th>min</th>\n      <td>NaN</td>\n      <td>NaN</td>\n      <td>50.000000</td>\n      <td>NaN</td>\n      <td>NaN</td>\n      <td>NaN</td>\n      <td>NaN</td>\n    </tr>\n    <tr>\n      <th>25%</th>\n      <td>NaN</td>\n      <td>NaN</td>\n      <td>62.000000</td>\n      <td>NaN</td>\n      <td>NaN</td>\n      <td>NaN</td>\n      <td>NaN</td>\n    </tr>\n    <tr>\n      <th>50%</th>\n      <td>NaN</td>\n      <td>NaN</td>\n      <td>74.000000</td>\n      <td>NaN</td>\n      <td>NaN</td>\n      <td>NaN</td>\n      <td>NaN</td>\n    </tr>\n    <tr>\n      <th>75%</th>\n      <td>NaN</td>\n      <td>NaN</td>\n      <td>87.000000</td>\n      <td>NaN</td>\n      <td>NaN</td>\n      <td>NaN</td>\n      <td>NaN</td>\n    </tr>\n    <tr>\n      <th>max</th>\n      <td>NaN</td>\n      <td>NaN</td>\n      <td>99.000000</td>\n      <td>NaN</td>\n      <td>NaN</td>\n      <td>NaN</td>\n      <td>NaN</td>\n    </tr>\n  </tbody>\n</table>\n</div>"
     },
     "metadata": {},
     "execution_count": 326
    }
   ],
   "source": [
    "df_reg.describe(include='all')"
   ]
  },
  {
   "cell_type": "code",
   "execution_count": 327,
   "metadata": {},
   "outputs": [
    {
     "output_type": "stream",
     "name": "stdout",
     "text": [
      "2020-11-15 12:27:10,983 INFO sqlalchemy.engine.base.Engine SELECT CAST('test plain returns' AS VARCHAR(60)) AS anon_1\n",
      "2020-11-15 12:27:10,984 INFO sqlalchemy.engine.base.Engine ()\n",
      "2020-11-15 12:27:10,986 INFO sqlalchemy.engine.base.Engine SELECT CAST('test unicode returns' AS VARCHAR(60)) AS anon_1\n",
      "2020-11-15 12:27:10,987 INFO sqlalchemy.engine.base.Engine ()\n",
      "2020-11-15 12:27:11,001 INFO sqlalchemy.engine.base.Engine PRAGMA main.table_info(\"LHR_Course_Reg\")\n",
      "2020-11-15 12:27:11,002 INFO sqlalchemy.engine.base.Engine ()\n",
      "2020-11-15 12:27:11,003 INFO sqlalchemy.engine.base.Engine PRAGMA main.table_info(\"LHR_Course_Reg\")\n",
      "2020-11-15 12:27:11,004 INFO sqlalchemy.engine.base.Engine ()\n",
      "2020-11-15 12:27:11,006 INFO sqlalchemy.engine.base.Engine SELECT name FROM sqlite_master WHERE type='table' ORDER BY name\n",
      "2020-11-15 12:27:11,007 INFO sqlalchemy.engine.base.Engine ()\n",
      "2020-11-15 12:27:11,009 INFO sqlalchemy.engine.base.Engine PRAGMA main.table_xinfo(\"LHR_Course_Reg\")\n",
      "2020-11-15 12:27:11,011 INFO sqlalchemy.engine.base.Engine ()\n",
      "2020-11-15 12:27:11,014 INFO sqlalchemy.engine.base.Engine SELECT sql FROM  (SELECT * FROM sqlite_master UNION ALL   SELECT * FROM sqlite_temp_master) WHERE name = ? AND type = 'table'\n",
      "2020-11-15 12:27:11,015 INFO sqlalchemy.engine.base.Engine ('LHR_Course_Reg',)\n",
      "2020-11-15 12:27:11,016 INFO sqlalchemy.engine.base.Engine PRAGMA main.foreign_key_list(\"LHR_Course_Reg\")\n",
      "2020-11-15 12:27:11,017 INFO sqlalchemy.engine.base.Engine ()\n",
      "2020-11-15 12:27:11,019 INFO sqlalchemy.engine.base.Engine PRAGMA temp.foreign_key_list(\"LHR_Course_Reg\")\n",
      "2020-11-15 12:27:11,020 INFO sqlalchemy.engine.base.Engine ()\n",
      "2020-11-15 12:27:11,022 INFO sqlalchemy.engine.base.Engine SELECT sql FROM  (SELECT * FROM sqlite_master UNION ALL   SELECT * FROM sqlite_temp_master) WHERE name = ? AND type = 'table'\n",
      "2020-11-15 12:27:11,023 INFO sqlalchemy.engine.base.Engine ('LHR_Course_Reg',)\n",
      "2020-11-15 12:27:11,025 INFO sqlalchemy.engine.base.Engine PRAGMA main.index_list(\"LHR_Course_Reg\")\n",
      "2020-11-15 12:27:11,027 INFO sqlalchemy.engine.base.Engine ()\n",
      "2020-11-15 12:27:11,028 INFO sqlalchemy.engine.base.Engine PRAGMA temp.index_list(\"LHR_Course_Reg\")\n",
      "2020-11-15 12:27:11,029 INFO sqlalchemy.engine.base.Engine ()\n",
      "2020-11-15 12:27:11,031 INFO sqlalchemy.engine.base.Engine PRAGMA main.index_list(\"LHR_Course_Reg\")\n",
      "2020-11-15 12:27:11,032 INFO sqlalchemy.engine.base.Engine ()\n",
      "2020-11-15 12:27:11,034 INFO sqlalchemy.engine.base.Engine PRAGMA temp.index_list(\"LHR_Course_Reg\")\n",
      "2020-11-15 12:27:11,035 INFO sqlalchemy.engine.base.Engine ()\n",
      "2020-11-15 12:27:11,036 INFO sqlalchemy.engine.base.Engine SELECT sql FROM  (SELECT * FROM sqlite_master UNION ALL   SELECT * FROM sqlite_temp_master) WHERE name = ? AND type = 'table'\n",
      "2020-11-15 12:27:11,036 INFO sqlalchemy.engine.base.Engine ('LHR_Course_Reg',)\n",
      "2020-11-15 12:27:11,040 INFO sqlalchemy.engine.base.Engine \n",
      "DROP TABLE \"LHR_Course_Reg\"\n",
      "2020-11-15 12:27:11,042 INFO sqlalchemy.engine.base.Engine ()\n",
      "2020-11-15 12:27:11,216 INFO sqlalchemy.engine.base.Engine COMMIT\n",
      "2020-11-15 12:27:11,218 INFO sqlalchemy.engine.base.Engine \n",
      "CREATE TABLE \"LHR_Course_Reg\" (\n",
      "\t\"SID\" TEXT, \n",
      "\t\"Course\" TEXT, \n",
      "\t\"Score\" INTEGER, \n",
      "\t\"Semester\" VARCHAR(10), \n",
      "\t\"Year\" DATETIME, \n",
      "\t\"Discipline\" VARCHAR(3), \n",
      "\t\"Degree\" VARCHAR(2)\n",
      ")\n",
      "\n",
      "\n",
      "2020-11-15 12:27:11,219 INFO sqlalchemy.engine.base.Engine ()\n",
      "2020-11-15 12:27:11,225 INFO sqlalchemy.engine.base.Engine COMMIT\n",
      "2020-11-15 12:27:11,361 INFO sqlalchemy.engine.base.Engine BEGIN (implicit)\n",
      "2020-11-15 12:27:12,902 INFO sqlalchemy.engine.base.Engine INSERT INTO \"LHR_Course_Reg\" (\"SID\", \"Course\", \"Score\", \"Semester\", \"Year\", \"Discipline\", \"Degree\") VALUES (?, ?, ?, ?, ?, ?, ?)\n",
      "2020-11-15 12:27:12,903 INFO sqlalchemy.engine.base.Engine (('LHR_BS_0', 'SS-202', 94, 'Fall', '1995-01-01 00:00:00.000000', 'CS', 'BS'), ('LHR_BS_0', 'CS-119', 59, 'Fall', '1996-01-01 00:00:00.000000', 'CS', 'BS'), ('LHR_BS_0', 'CS-120', 67, 'Fall', '1996-01-01 00:00:00.000000', 'CS', 'BS'), ('LHR_BS_0', 'UR-404', 97, 'Fall', '1997-01-01 00:00:00.000000', 'CS', 'BS'), ('LHR_BS_0', 'CS-125', 66, 'Fall', '1997-01-01 00:00:00.000000', 'CS', 'BS'), ('LHR_BS_0', 'CS-126', 93, 'Fall', '1997-01-01 00:00:00.000000', 'CS', 'BS'), ('LHR_BS_0', 'CS-127', 62, 'Fall', '1997-01-01 00:00:00.000000', 'CS', 'BS'), ('LHR_BS_0', 'CS-128', 59, 'Fall', '1997-01-01 00:00:00.000000', 'CS', 'BS')  ... displaying 10 of 190800 total bound parameter sets ...  ('LHR_MS_799', 'CS-404', 62, 'Spring', '2020-01-01 00:00:00.000000', 'MS-NW', 'MS'), ('LHR_MS_799', 'CS-307', 95, 'Spring', '2020-01-01 00:00:00.000000', 'MS-NW', 'MS'))\n",
      "2020-11-15 12:27:13,438 INFO sqlalchemy.engine.base.Engine COMMIT\n",
      "2020-11-15 12:27:13,500 INFO sqlalchemy.engine.base.Engine SELECT name FROM sqlite_master WHERE type='table' ORDER BY name\n",
      "2020-11-15 12:27:13,502 INFO sqlalchemy.engine.base.Engine ()\n"
     ]
    }
   ],
   "source": [
    "engine = create_engine('sqlite:///University.db', echo=True)\n",
    "sqlite_connection = engine.connect()\n",
    "\n",
    "reg_table = \"LHR_Course_Reg\"\n",
    "df_reg.to_sql(\n",
    "    reg_table, \n",
    "    sqlite_connection, \n",
    "    if_exists='replace', \n",
    "    index=False, \n",
    "    dtype=reg_col_types)\n",
    "\n",
    "sqlite_connection.close()"
   ]
  },
  {
   "cell_type": "code",
   "execution_count": null,
   "metadata": {},
   "outputs": [],
   "source": []
  }
 ]
}