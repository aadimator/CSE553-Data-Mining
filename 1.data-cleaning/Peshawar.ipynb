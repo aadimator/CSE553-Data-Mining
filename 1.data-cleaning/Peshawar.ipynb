{
 "metadata": {
  "language_info": {
   "codemirror_mode": {
    "name": "ipython",
    "version": 3
   },
   "file_extension": ".py",
   "mimetype": "text/x-python",
   "name": "python",
   "nbconvert_exporter": "python",
   "pygments_lexer": "ipython3",
   "version": "3.8.5-final"
  },
  "orig_nbformat": 2,
  "kernelspec": {
   "name": "python3",
   "display_name": "Python 3.8.5 64-bit ('dm': conda)",
   "metadata": {
    "interpreter": {
     "hash": "ac3e7ebb8ce5c1abf99050b2338cc9c5dc675ebfd4b9c2d5cec509c998990cf5"
    }
   }
  }
 },
 "nbformat": 4,
 "nbformat_minor": 2,
 "cells": [
  {
   "cell_type": "code",
   "execution_count": 1,
   "metadata": {},
   "outputs": [],
   "source": [
    "import pandas as pd\n",
    "import numpy as np\n",
    "import re\n",
    "import sqlite3\n",
    "import glob\n",
    "\n",
    "from pathlib import Path\n",
    "from sqlalchemy import create_engine\n",
    "from sqlalchemy.types import Integer, Text, String, DateTime, Boolean"
   ]
  },
  {
   "cell_type": "code",
   "execution_count": 2,
   "metadata": {},
   "outputs": [],
   "source": [
    "data_dir = Path(\"Assignment 1 Data Set/Peshawar/\")"
   ]
  },
  {
   "source": [
    "# Student DB"
   ],
   "cell_type": "markdown",
   "metadata": {}
  },
  {
   "cell_type": "code",
   "execution_count": 3,
   "metadata": {},
   "outputs": [],
   "source": [
    "STUDENT_COLUMN_NAMES = ['SID', 'Name', 'Father', 'DoB', 'Gender', 'Reg Date', 'Reg Status', 'Degree Status', 'Address', 'Qualification']"
   ]
  },
  {
   "cell_type": "code",
   "execution_count": 4,
   "metadata": {},
   "outputs": [],
   "source": [
    "std_col_types = {\n",
    "    \"SID\": Text,\n",
    "    \"Name\": Text,\n",
    "    \"Father\": Text,\n",
    "    \"DoB\":  DateTime,\n",
    "    \"Gender\": Boolean,\n",
    "    \"Reg Date\": DateTime,\n",
    "    \"Reg Status\": String(1),\n",
    "    \"Degree Status\": String(1),\n",
    "    \"Address\": Text,\n",
    "    \"Qualification\": Text,\n",
    "    \"Degree\": String(2),\n",
    "    }"
   ]
  },
  {
   "source": [
    "## BS Level"
   ],
   "cell_type": "markdown",
   "metadata": {}
  },
  {
   "cell_type": "code",
   "execution_count": 9,
   "metadata": {},
   "outputs": [],
   "source": [
    "bs_student_files = data_dir.rglob('BS_P_*[0-9]_Student.txt')\n",
    "# list(bs_student_files)"
   ]
  },
  {
   "cell_type": "code",
   "execution_count": 10,
   "metadata": {},
   "outputs": [],
   "source": [
    "bs_std_dfs = []\n",
    "for std_file in bs_student_files:\n",
    "    df = pd.read_csv(std_file, index_col=None, header=0)\n",
    "    bs_std_dfs.append(df) "
   ]
  },
  {
   "cell_type": "code",
   "execution_count": 18,
   "metadata": {},
   "outputs": [],
   "source": [
    "df_bs_std = pd.concat(bs_std_dfs, axis=0, ignore_index=True)\n",
    "df_bs_std = df_bs_std.sort_values(by=['Reg#'])\n",
    "df_bs_std[\"Gender\"] = None"
   ]
  },
  {
   "cell_type": "code",
   "execution_count": 19,
   "metadata": {},
   "outputs": [
    {
     "output_type": "execute_result",
     "data": {
      "text/plain": [
       "['Reg#',\n",
       " 'Name',\n",
       " 'Father',\n",
       " 'Address',\n",
       " 'Date of Birth',\n",
       " 'lastDeg',\n",
       " 'Reg Date',\n",
       " 'Reg Status',\n",
       " 'Deg Status',\n",
       " 'Gender']"
      ]
     },
     "metadata": {},
     "execution_count": 19
    }
   ],
   "source": [
    "list(df_bs_std.columns.values)"
   ]
  },
  {
   "cell_type": "code",
   "execution_count": 22,
   "metadata": {},
   "outputs": [],
   "source": [
    "new_order = [\n",
    "    'Reg#',\n",
    "    'Name',\n",
    "    'Father',\n",
    "    'Date of Birth',\n",
    "    'Gender',\n",
    "    'Reg Date',\n",
    "    'Reg Status',\n",
    "    'Deg Status',\n",
    "    'Address',\n",
    "    'lastDeg',\n",
    "    ]"
   ]
  },
  {
   "cell_type": "code",
   "execution_count": 23,
   "metadata": {},
   "outputs": [],
   "source": [
    "df_bs_std = df_bs_std[new_order]\n",
    "df_bs_std.columns = STUDENT_COLUMN_NAMES"
   ]
  },
  {
   "cell_type": "code",
   "execution_count": 24,
   "metadata": {},
   "outputs": [],
   "source": [
    "df_bs_std.SID = \"PEW_BS_\" + df_bs_std.SID.astype(str)"
   ]
  },
  {
   "cell_type": "code",
   "execution_count": 25,
   "metadata": {},
   "outputs": [],
   "source": [
    "df_bs_std[\"Degree\"] = \"BS\""
   ]
  },
  {
   "cell_type": "code",
   "execution_count": 26,
   "metadata": {},
   "outputs": [
    {
     "output_type": "execute_result",
     "data": {
      "text/plain": [
       "           SID                         Name                 Father       DoB  \\\n",
       "1500  PEW_BS_0         Midhat Azhar Durrani          Azhar Durrani   14-4-74   \n",
       "1501  PEW_BS_1  Mouhammed Abdul Rafay Kazmi            Iffan Kazmi  13-12-74   \n",
       "1502  PEW_BS_2                    Ajab Khan       Sahir Fazal Khan   13-9-76   \n",
       "1503  PEW_BS_3                 Moeen Minhas  Chodhary Zakir Minhas   15-9-76   \n",
       "1504  PEW_BS_4                 Samina Niazi  Sahibzada Javed Niazi   16-6-76   \n",
       "\n",
       "     Gender Reg Date Reg Status Degree Status  \\\n",
       "1500   None  26-8-94          A             C   \n",
       "1501   None  13-8-94          A             C   \n",
       "1502   None  17-8-94          A             C   \n",
       "1503   None  20-8-94          A             C   \n",
       "1504   None  23-8-94          A             C   \n",
       "\n",
       "                                                Address Qualification Degree  \n",
       "1500               H# 447 St. # 5  Air port coloney PSH       A-Level     BS  \n",
       "1501               H#  169 s#  0 University coloney PSH       A-Level     BS  \n",
       "1502         ho. #  484 street #  95 Buliyan wali Sawat           Fsc     BS  \n",
       "1503  House No. 31 street #  91 Industrial estate Pe...         F.Sc.     BS  \n",
       "1504                   Ho. # 345 S# 86  Afindi road psh           Fsc     BS  "
      ],
      "text/html": "<div>\n<style scoped>\n    .dataframe tbody tr th:only-of-type {\n        vertical-align: middle;\n    }\n\n    .dataframe tbody tr th {\n        vertical-align: top;\n    }\n\n    .dataframe thead th {\n        text-align: right;\n    }\n</style>\n<table border=\"1\" class=\"dataframe\">\n  <thead>\n    <tr style=\"text-align: right;\">\n      <th></th>\n      <th>SID</th>\n      <th>Name</th>\n      <th>Father</th>\n      <th>DoB</th>\n      <th>Gender</th>\n      <th>Reg Date</th>\n      <th>Reg Status</th>\n      <th>Degree Status</th>\n      <th>Address</th>\n      <th>Qualification</th>\n      <th>Degree</th>\n    </tr>\n  </thead>\n  <tbody>\n    <tr>\n      <th>1500</th>\n      <td>PEW_BS_0</td>\n      <td>Midhat Azhar Durrani</td>\n      <td>Azhar Durrani</td>\n      <td>14-4-74</td>\n      <td>None</td>\n      <td>26-8-94</td>\n      <td>A</td>\n      <td>C</td>\n      <td>H# 447 St. # 5  Air port coloney PSH</td>\n      <td>A-Level</td>\n      <td>BS</td>\n    </tr>\n    <tr>\n      <th>1501</th>\n      <td>PEW_BS_1</td>\n      <td>Mouhammed Abdul Rafay Kazmi</td>\n      <td>Iffan Kazmi</td>\n      <td>13-12-74</td>\n      <td>None</td>\n      <td>13-8-94</td>\n      <td>A</td>\n      <td>C</td>\n      <td>H#  169 s#  0 University coloney PSH</td>\n      <td>A-Level</td>\n      <td>BS</td>\n    </tr>\n    <tr>\n      <th>1502</th>\n      <td>PEW_BS_2</td>\n      <td>Ajab Khan</td>\n      <td>Sahir Fazal Khan</td>\n      <td>13-9-76</td>\n      <td>None</td>\n      <td>17-8-94</td>\n      <td>A</td>\n      <td>C</td>\n      <td>ho. #  484 street #  95 Buliyan wali Sawat</td>\n      <td>Fsc</td>\n      <td>BS</td>\n    </tr>\n    <tr>\n      <th>1503</th>\n      <td>PEW_BS_3</td>\n      <td>Moeen Minhas</td>\n      <td>Chodhary Zakir Minhas</td>\n      <td>15-9-76</td>\n      <td>None</td>\n      <td>20-8-94</td>\n      <td>A</td>\n      <td>C</td>\n      <td>House No. 31 street #  91 Industrial estate Pe...</td>\n      <td>F.Sc.</td>\n      <td>BS</td>\n    </tr>\n    <tr>\n      <th>1504</th>\n      <td>PEW_BS_4</td>\n      <td>Samina Niazi</td>\n      <td>Sahibzada Javed Niazi</td>\n      <td>16-6-76</td>\n      <td>None</td>\n      <td>23-8-94</td>\n      <td>A</td>\n      <td>C</td>\n      <td>Ho. # 345 S# 86  Afindi road psh</td>\n      <td>Fsc</td>\n      <td>BS</td>\n    </tr>\n  </tbody>\n</table>\n</div>"
     },
     "metadata": {},
     "execution_count": 26
    }
   ],
   "source": [
    "df_bs_std.head()"
   ]
  },
  {
   "cell_type": "code",
   "execution_count": 27,
   "metadata": {},
   "outputs": [
    {
     "output_type": "execute_result",
     "data": {
      "text/plain": [
       "               SID         Name             Father      DoB Gender Reg Date  \\\n",
       "count         3300         3300               3300     3300      0     3300   \n",
       "unique        3300         3252               3246     2230      0      319   \n",
       "top     PEW_BS_665  Munir Niazi  Abdul Hameed Khan  29-4-82    NaN  17-8-00   \n",
       "freq             1            3                  2        4    NaN       12   \n",
       "\n",
       "       Reg Status Degree Status                               Address  \\\n",
       "count        3300          3300                                  3300   \n",
       "unique          1             2                                  3299   \n",
       "top             A             C  H# 447 St. # 5  Air port coloney PSH   \n",
       "freq         3300          2400                                     2   \n",
       "\n",
       "       Qualification Degree  \n",
       "count           3300   3300  \n",
       "unique             6      1  \n",
       "top          A-Level     BS  \n",
       "freq             552   3300  "
      ],
      "text/html": "<div>\n<style scoped>\n    .dataframe tbody tr th:only-of-type {\n        vertical-align: middle;\n    }\n\n    .dataframe tbody tr th {\n        vertical-align: top;\n    }\n\n    .dataframe thead th {\n        text-align: right;\n    }\n</style>\n<table border=\"1\" class=\"dataframe\">\n  <thead>\n    <tr style=\"text-align: right;\">\n      <th></th>\n      <th>SID</th>\n      <th>Name</th>\n      <th>Father</th>\n      <th>DoB</th>\n      <th>Gender</th>\n      <th>Reg Date</th>\n      <th>Reg Status</th>\n      <th>Degree Status</th>\n      <th>Address</th>\n      <th>Qualification</th>\n      <th>Degree</th>\n    </tr>\n  </thead>\n  <tbody>\n    <tr>\n      <th>count</th>\n      <td>3300</td>\n      <td>3300</td>\n      <td>3300</td>\n      <td>3300</td>\n      <td>0</td>\n      <td>3300</td>\n      <td>3300</td>\n      <td>3300</td>\n      <td>3300</td>\n      <td>3300</td>\n      <td>3300</td>\n    </tr>\n    <tr>\n      <th>unique</th>\n      <td>3300</td>\n      <td>3252</td>\n      <td>3246</td>\n      <td>2230</td>\n      <td>0</td>\n      <td>319</td>\n      <td>1</td>\n      <td>2</td>\n      <td>3299</td>\n      <td>6</td>\n      <td>1</td>\n    </tr>\n    <tr>\n      <th>top</th>\n      <td>PEW_BS_665</td>\n      <td>Munir Niazi</td>\n      <td>Abdul Hameed Khan</td>\n      <td>29-4-82</td>\n      <td>NaN</td>\n      <td>17-8-00</td>\n      <td>A</td>\n      <td>C</td>\n      <td>H# 447 St. # 5  Air port coloney PSH</td>\n      <td>A-Level</td>\n      <td>BS</td>\n    </tr>\n    <tr>\n      <th>freq</th>\n      <td>1</td>\n      <td>3</td>\n      <td>2</td>\n      <td>4</td>\n      <td>NaN</td>\n      <td>12</td>\n      <td>3300</td>\n      <td>2400</td>\n      <td>2</td>\n      <td>552</td>\n      <td>3300</td>\n    </tr>\n  </tbody>\n</table>\n</div>"
     },
     "metadata": {},
     "execution_count": 27
    }
   ],
   "source": [
    "df_bs_std.describe(include=\"all\")"
   ]
  },
  {
   "source": [
    "## MS Level"
   ],
   "cell_type": "markdown",
   "metadata": {}
  },
  {
   "cell_type": "code",
   "execution_count": 29,
   "metadata": {},
   "outputs": [],
   "source": [
    "ms_student_files = data_dir.rglob('MS_P_*[0-9]_Student.txt')\n",
    "# list(ms_student_files)"
   ]
  },
  {
   "cell_type": "code",
   "execution_count": 30,
   "metadata": {},
   "outputs": [],
   "source": [
    "ms_std_dfs = []\n",
    "for std_file in ms_student_files:\n",
    "    df = pd.read_csv(std_file, index_col=None, header=0)\n",
    "    ms_std_dfs.append(df) "
   ]
  },
  {
   "cell_type": "code",
   "execution_count": 31,
   "metadata": {},
   "outputs": [],
   "source": [
    "df_ms_std = pd.concat(ms_std_dfs, axis=0, ignore_index=True)\n",
    "df_ms_std = df_ms_std.sort_values(by=['Reg#'])\n",
    "df_ms_std[\"Gender\"] = None"
   ]
  },
  {
   "cell_type": "code",
   "execution_count": 32,
   "metadata": {},
   "outputs": [],
   "source": [
    "df_ms_std = df_ms_std[new_order]\n",
    "df_ms_std.columns = STUDENT_COLUMN_NAMES"
   ]
  },
  {
   "cell_type": "code",
   "execution_count": 33,
   "metadata": {},
   "outputs": [],
   "source": [
    "df_ms_std.SID = \"PEW_MS_\" + df_ms_std.SID.astype(str)"
   ]
  },
  {
   "cell_type": "code",
   "execution_count": 34,
   "metadata": {},
   "outputs": [],
   "source": [
    "df_ms_std[\"Degree\"] = \"MS\""
   ]
  },
  {
   "cell_type": "code",
   "execution_count": 35,
   "metadata": {},
   "outputs": [
    {
     "output_type": "execute_result",
     "data": {
      "text/plain": [
       "        SID                           Name                     Father  \\\n",
       "0  PEW_MS_0  Badar Rana Qutab-ud-Din Sehti    Rana Qutab-ud-Din Sehti   \n",
       "1  PEW_MS_1                  AAmer Hussain            Hussain Rasheed   \n",
       "2  PEW_MS_2           Momd. Imtiaz Paracha              Karam Paracha   \n",
       "3  PEW_MS_3                    Ghazi Haque               Zameer Haque   \n",
       "4  PEW_MS_4                   Nosheen Butt  Viqar-ul-Islam Athar Butt   \n",
       "\n",
       "        DoB Gender Reg Date Reg Status Degree Status  \\\n",
       "0   28-9-79   None  28-8-01          A             C   \n",
       "1  13-12-77   None  13-8-01          A             C   \n",
       "2   13-9-79   None  17-8-01          A             C   \n",
       "3   15-9-79   None  20-8-01          A             C   \n",
       "4   16-6-79   None  23-8-01          A             C   \n",
       "\n",
       "                                             Address Qualification Degree  \n",
       "0             Ho. #  998 street #  8 Afindi road psh           MSc     MS  \n",
       "1                   H#  169 s#  0 Mutian wala Mardan        M.Phil     MS  \n",
       "2     ho. #  484 street #  95 Lane 3 Khybar road psh           MSc     MS  \n",
       "3  House No. 31 street #  91 Industrial estate Pe...            BS     MS  \n",
       "4     Ho. # 345 S# 86  Cement factory coloney Gilgit           MSc     MS  "
      ],
      "text/html": "<div>\n<style scoped>\n    .dataframe tbody tr th:only-of-type {\n        vertical-align: middle;\n    }\n\n    .dataframe tbody tr th {\n        vertical-align: top;\n    }\n\n    .dataframe thead th {\n        text-align: right;\n    }\n</style>\n<table border=\"1\" class=\"dataframe\">\n  <thead>\n    <tr style=\"text-align: right;\">\n      <th></th>\n      <th>SID</th>\n      <th>Name</th>\n      <th>Father</th>\n      <th>DoB</th>\n      <th>Gender</th>\n      <th>Reg Date</th>\n      <th>Reg Status</th>\n      <th>Degree Status</th>\n      <th>Address</th>\n      <th>Qualification</th>\n      <th>Degree</th>\n    </tr>\n  </thead>\n  <tbody>\n    <tr>\n      <th>0</th>\n      <td>PEW_MS_0</td>\n      <td>Badar Rana Qutab-ud-Din Sehti</td>\n      <td>Rana Qutab-ud-Din Sehti</td>\n      <td>28-9-79</td>\n      <td>None</td>\n      <td>28-8-01</td>\n      <td>A</td>\n      <td>C</td>\n      <td>Ho. #  998 street #  8 Afindi road psh</td>\n      <td>MSc</td>\n      <td>MS</td>\n    </tr>\n    <tr>\n      <th>1</th>\n      <td>PEW_MS_1</td>\n      <td>AAmer Hussain</td>\n      <td>Hussain Rasheed</td>\n      <td>13-12-77</td>\n      <td>None</td>\n      <td>13-8-01</td>\n      <td>A</td>\n      <td>C</td>\n      <td>H#  169 s#  0 Mutian wala Mardan</td>\n      <td>M.Phil</td>\n      <td>MS</td>\n    </tr>\n    <tr>\n      <th>2</th>\n      <td>PEW_MS_2</td>\n      <td>Momd. Imtiaz Paracha</td>\n      <td>Karam Paracha</td>\n      <td>13-9-79</td>\n      <td>None</td>\n      <td>17-8-01</td>\n      <td>A</td>\n      <td>C</td>\n      <td>ho. #  484 street #  95 Lane 3 Khybar road psh</td>\n      <td>MSc</td>\n      <td>MS</td>\n    </tr>\n    <tr>\n      <th>3</th>\n      <td>PEW_MS_3</td>\n      <td>Ghazi Haque</td>\n      <td>Zameer Haque</td>\n      <td>15-9-79</td>\n      <td>None</td>\n      <td>20-8-01</td>\n      <td>A</td>\n      <td>C</td>\n      <td>House No. 31 street #  91 Industrial estate Pe...</td>\n      <td>BS</td>\n      <td>MS</td>\n    </tr>\n    <tr>\n      <th>4</th>\n      <td>PEW_MS_4</td>\n      <td>Nosheen Butt</td>\n      <td>Viqar-ul-Islam Athar Butt</td>\n      <td>16-6-79</td>\n      <td>None</td>\n      <td>23-8-01</td>\n      <td>A</td>\n      <td>C</td>\n      <td>Ho. # 345 S# 86  Cement factory coloney Gilgit</td>\n      <td>MSc</td>\n      <td>MS</td>\n    </tr>\n  </tbody>\n</table>\n</div>"
     },
     "metadata": {},
     "execution_count": 35
    }
   ],
   "source": [
    "df_ms_std.head()"
   ]
  },
  {
   "cell_type": "code",
   "execution_count": 36,
   "metadata": {},
   "outputs": [
    {
     "output_type": "execute_result",
     "data": {
      "text/plain": [
       "               SID            Name                     Father     DoB Gender  \\\n",
       "count          400             400                        400     400      0   \n",
       "unique         400             400                        400     341      0   \n",
       "top     PEW_MS_251  Zubair Qureshi  Abdul kareem Haroon Satti  2-4-80    NaN   \n",
       "freq             1               1                          1       3    NaN   \n",
       "\n",
       "       Reg Date Reg Status Degree Status  \\\n",
       "count       400        400           400   \n",
       "unique      116          1             2   \n",
       "top     17-8-01          A             C   \n",
       "freq          6        400           300   \n",
       "\n",
       "                                       Address Qualification Degree  \n",
       "count                                      400           400    400  \n",
       "unique                                     400             6      1  \n",
       "top     ho. #  996 S#  44 Lane 6 Mall road psh           MSc     MS  \n",
       "freq                                         1            69    400  "
      ],
      "text/html": "<div>\n<style scoped>\n    .dataframe tbody tr th:only-of-type {\n        vertical-align: middle;\n    }\n\n    .dataframe tbody tr th {\n        vertical-align: top;\n    }\n\n    .dataframe thead th {\n        text-align: right;\n    }\n</style>\n<table border=\"1\" class=\"dataframe\">\n  <thead>\n    <tr style=\"text-align: right;\">\n      <th></th>\n      <th>SID</th>\n      <th>Name</th>\n      <th>Father</th>\n      <th>DoB</th>\n      <th>Gender</th>\n      <th>Reg Date</th>\n      <th>Reg Status</th>\n      <th>Degree Status</th>\n      <th>Address</th>\n      <th>Qualification</th>\n      <th>Degree</th>\n    </tr>\n  </thead>\n  <tbody>\n    <tr>\n      <th>count</th>\n      <td>400</td>\n      <td>400</td>\n      <td>400</td>\n      <td>400</td>\n      <td>0</td>\n      <td>400</td>\n      <td>400</td>\n      <td>400</td>\n      <td>400</td>\n      <td>400</td>\n      <td>400</td>\n    </tr>\n    <tr>\n      <th>unique</th>\n      <td>400</td>\n      <td>400</td>\n      <td>400</td>\n      <td>341</td>\n      <td>0</td>\n      <td>116</td>\n      <td>1</td>\n      <td>2</td>\n      <td>400</td>\n      <td>6</td>\n      <td>1</td>\n    </tr>\n    <tr>\n      <th>top</th>\n      <td>PEW_MS_251</td>\n      <td>Zubair Qureshi</td>\n      <td>Abdul kareem Haroon Satti</td>\n      <td>2-4-80</td>\n      <td>NaN</td>\n      <td>17-8-01</td>\n      <td>A</td>\n      <td>C</td>\n      <td>ho. #  996 S#  44 Lane 6 Mall road psh</td>\n      <td>MSc</td>\n      <td>MS</td>\n    </tr>\n    <tr>\n      <th>freq</th>\n      <td>1</td>\n      <td>1</td>\n      <td>1</td>\n      <td>3</td>\n      <td>NaN</td>\n      <td>6</td>\n      <td>400</td>\n      <td>300</td>\n      <td>1</td>\n      <td>69</td>\n      <td>400</td>\n    </tr>\n  </tbody>\n</table>\n</div>"
     },
     "metadata": {},
     "execution_count": 36
    }
   ],
   "source": [
    "df_ms_std.describe(include=\"all\")"
   ]
  },
  {
   "source": [
    "## Concat BS and MS"
   ],
   "cell_type": "markdown",
   "metadata": {}
  },
  {
   "cell_type": "code",
   "execution_count": 37,
   "metadata": {},
   "outputs": [],
   "source": [
    "df_std = pd.concat([df_bs_std, df_ms_std], ignore_index=True)"
   ]
  },
  {
   "cell_type": "code",
   "execution_count": 38,
   "metadata": {},
   "outputs": [],
   "source": [
    "df_std.Gender = df_std.Gender.map({0: False, 1: True})"
   ]
  },
  {
   "cell_type": "code",
   "execution_count": 39,
   "metadata": {},
   "outputs": [],
   "source": [
    "df_std[\"Reg Date\"] = pd.to_datetime(df_std[\"Reg Date\"])"
   ]
  },
  {
   "cell_type": "code",
   "execution_count": 40,
   "metadata": {},
   "outputs": [],
   "source": [
    "df_std[\"DoB\"] = pd.to_datetime(df_std[\"DoB\"])"
   ]
  },
  {
   "cell_type": "code",
   "execution_count": 41,
   "metadata": {},
   "outputs": [
    {
     "output_type": "execute_result",
     "data": {
      "text/plain": [
       "        SID                         Name                 Father        DoB  \\\n",
       "0  PEW_BS_0         Midhat Azhar Durrani          Azhar Durrani 1974-04-14   \n",
       "1  PEW_BS_1  Mouhammed Abdul Rafay Kazmi            Iffan Kazmi 1974-12-13   \n",
       "2  PEW_BS_2                    Ajab Khan       Sahir Fazal Khan 1976-09-13   \n",
       "3  PEW_BS_3                 Moeen Minhas  Chodhary Zakir Minhas 1976-09-15   \n",
       "4  PEW_BS_4                 Samina Niazi  Sahibzada Javed Niazi 1976-06-16   \n",
       "\n",
       "  Gender   Reg Date Reg Status Degree Status  \\\n",
       "0    NaN 1994-08-26          A             C   \n",
       "1    NaN 1994-08-13          A             C   \n",
       "2    NaN 1994-08-17          A             C   \n",
       "3    NaN 1994-08-20          A             C   \n",
       "4    NaN 1994-08-23          A             C   \n",
       "\n",
       "                                             Address Qualification Degree  \n",
       "0               H# 447 St. # 5  Air port coloney PSH       A-Level     BS  \n",
       "1               H#  169 s#  0 University coloney PSH       A-Level     BS  \n",
       "2         ho. #  484 street #  95 Buliyan wali Sawat           Fsc     BS  \n",
       "3  House No. 31 street #  91 Industrial estate Pe...         F.Sc.     BS  \n",
       "4                   Ho. # 345 S# 86  Afindi road psh           Fsc     BS  "
      ],
      "text/html": "<div>\n<style scoped>\n    .dataframe tbody tr th:only-of-type {\n        vertical-align: middle;\n    }\n\n    .dataframe tbody tr th {\n        vertical-align: top;\n    }\n\n    .dataframe thead th {\n        text-align: right;\n    }\n</style>\n<table border=\"1\" class=\"dataframe\">\n  <thead>\n    <tr style=\"text-align: right;\">\n      <th></th>\n      <th>SID</th>\n      <th>Name</th>\n      <th>Father</th>\n      <th>DoB</th>\n      <th>Gender</th>\n      <th>Reg Date</th>\n      <th>Reg Status</th>\n      <th>Degree Status</th>\n      <th>Address</th>\n      <th>Qualification</th>\n      <th>Degree</th>\n    </tr>\n  </thead>\n  <tbody>\n    <tr>\n      <th>0</th>\n      <td>PEW_BS_0</td>\n      <td>Midhat Azhar Durrani</td>\n      <td>Azhar Durrani</td>\n      <td>1974-04-14</td>\n      <td>NaN</td>\n      <td>1994-08-26</td>\n      <td>A</td>\n      <td>C</td>\n      <td>H# 447 St. # 5  Air port coloney PSH</td>\n      <td>A-Level</td>\n      <td>BS</td>\n    </tr>\n    <tr>\n      <th>1</th>\n      <td>PEW_BS_1</td>\n      <td>Mouhammed Abdul Rafay Kazmi</td>\n      <td>Iffan Kazmi</td>\n      <td>1974-12-13</td>\n      <td>NaN</td>\n      <td>1994-08-13</td>\n      <td>A</td>\n      <td>C</td>\n      <td>H#  169 s#  0 University coloney PSH</td>\n      <td>A-Level</td>\n      <td>BS</td>\n    </tr>\n    <tr>\n      <th>2</th>\n      <td>PEW_BS_2</td>\n      <td>Ajab Khan</td>\n      <td>Sahir Fazal Khan</td>\n      <td>1976-09-13</td>\n      <td>NaN</td>\n      <td>1994-08-17</td>\n      <td>A</td>\n      <td>C</td>\n      <td>ho. #  484 street #  95 Buliyan wali Sawat</td>\n      <td>Fsc</td>\n      <td>BS</td>\n    </tr>\n    <tr>\n      <th>3</th>\n      <td>PEW_BS_3</td>\n      <td>Moeen Minhas</td>\n      <td>Chodhary Zakir Minhas</td>\n      <td>1976-09-15</td>\n      <td>NaN</td>\n      <td>1994-08-20</td>\n      <td>A</td>\n      <td>C</td>\n      <td>House No. 31 street #  91 Industrial estate Pe...</td>\n      <td>F.Sc.</td>\n      <td>BS</td>\n    </tr>\n    <tr>\n      <th>4</th>\n      <td>PEW_BS_4</td>\n      <td>Samina Niazi</td>\n      <td>Sahibzada Javed Niazi</td>\n      <td>1976-06-16</td>\n      <td>NaN</td>\n      <td>1994-08-23</td>\n      <td>A</td>\n      <td>C</td>\n      <td>Ho. # 345 S# 86  Afindi road psh</td>\n      <td>Fsc</td>\n      <td>BS</td>\n    </tr>\n  </tbody>\n</table>\n</div>"
     },
     "metadata": {},
     "execution_count": 41
    }
   ],
   "source": [
    "df_std.head()"
   ]
  },
  {
   "cell_type": "code",
   "execution_count": 42,
   "metadata": {},
   "outputs": [
    {
     "output_type": "execute_result",
     "data": {
      "text/plain": [
       "               SID       Name           Father                  DoB Gender  \\\n",
       "count         3700       3700             3700                 3700      0   \n",
       "unique        3700       3518             3372                 2406      0   \n",
       "top     PEW_BS_665  Rafi Khan  Islam Kharasani  1980-08-14 00:00:00    NaN   \n",
       "freq             1          3                3                    5    NaN   \n",
       "first          NaN        NaN              NaN  1974-01-18 00:00:00    NaN   \n",
       "last           NaN        NaN              NaN  1986-12-29 00:00:00    NaN   \n",
       "\n",
       "                   Reg Date Reg Status Degree Status  \\\n",
       "count                  3700       3700          3700   \n",
       "unique                  319          1             2   \n",
       "top     2001-01-08 00:00:00          A             C   \n",
       "freq                     17       3700          2700   \n",
       "first   1994-01-08 00:00:00        NaN           NaN   \n",
       "last    2004-12-08 00:00:00        NaN           NaN   \n",
       "\n",
       "                                        Address Qualification Degree  \n",
       "count                                      3700          3700   3700  \n",
       "unique                                     3551            12      2  \n",
       "top     House No.158 s no.27  Khumar road Sawat       A-Level     BS  \n",
       "freq                                          2           552   3300  \n",
       "first                                       NaN           NaN    NaN  \n",
       "last                                        NaN           NaN    NaN  "
      ],
      "text/html": "<div>\n<style scoped>\n    .dataframe tbody tr th:only-of-type {\n        vertical-align: middle;\n    }\n\n    .dataframe tbody tr th {\n        vertical-align: top;\n    }\n\n    .dataframe thead th {\n        text-align: right;\n    }\n</style>\n<table border=\"1\" class=\"dataframe\">\n  <thead>\n    <tr style=\"text-align: right;\">\n      <th></th>\n      <th>SID</th>\n      <th>Name</th>\n      <th>Father</th>\n      <th>DoB</th>\n      <th>Gender</th>\n      <th>Reg Date</th>\n      <th>Reg Status</th>\n      <th>Degree Status</th>\n      <th>Address</th>\n      <th>Qualification</th>\n      <th>Degree</th>\n    </tr>\n  </thead>\n  <tbody>\n    <tr>\n      <th>count</th>\n      <td>3700</td>\n      <td>3700</td>\n      <td>3700</td>\n      <td>3700</td>\n      <td>0</td>\n      <td>3700</td>\n      <td>3700</td>\n      <td>3700</td>\n      <td>3700</td>\n      <td>3700</td>\n      <td>3700</td>\n    </tr>\n    <tr>\n      <th>unique</th>\n      <td>3700</td>\n      <td>3518</td>\n      <td>3372</td>\n      <td>2406</td>\n      <td>0</td>\n      <td>319</td>\n      <td>1</td>\n      <td>2</td>\n      <td>3551</td>\n      <td>12</td>\n      <td>2</td>\n    </tr>\n    <tr>\n      <th>top</th>\n      <td>PEW_BS_665</td>\n      <td>Rafi Khan</td>\n      <td>Islam Kharasani</td>\n      <td>1980-08-14 00:00:00</td>\n      <td>NaN</td>\n      <td>2001-01-08 00:00:00</td>\n      <td>A</td>\n      <td>C</td>\n      <td>House No.158 s no.27  Khumar road Sawat</td>\n      <td>A-Level</td>\n      <td>BS</td>\n    </tr>\n    <tr>\n      <th>freq</th>\n      <td>1</td>\n      <td>3</td>\n      <td>3</td>\n      <td>5</td>\n      <td>NaN</td>\n      <td>17</td>\n      <td>3700</td>\n      <td>2700</td>\n      <td>2</td>\n      <td>552</td>\n      <td>3300</td>\n    </tr>\n    <tr>\n      <th>first</th>\n      <td>NaN</td>\n      <td>NaN</td>\n      <td>NaN</td>\n      <td>1974-01-18 00:00:00</td>\n      <td>NaN</td>\n      <td>1994-01-08 00:00:00</td>\n      <td>NaN</td>\n      <td>NaN</td>\n      <td>NaN</td>\n      <td>NaN</td>\n      <td>NaN</td>\n    </tr>\n    <tr>\n      <th>last</th>\n      <td>NaN</td>\n      <td>NaN</td>\n      <td>NaN</td>\n      <td>1986-12-29 00:00:00</td>\n      <td>NaN</td>\n      <td>2004-12-08 00:00:00</td>\n      <td>NaN</td>\n      <td>NaN</td>\n      <td>NaN</td>\n      <td>NaN</td>\n      <td>NaN</td>\n    </tr>\n  </tbody>\n</table>\n</div>"
     },
     "metadata": {},
     "execution_count": 42
    }
   ],
   "source": [
    "df_std.describe(include=\"all\")"
   ]
  },
  {
   "source": [
    "# Store Student data in DB"
   ],
   "cell_type": "markdown",
   "metadata": {}
  },
  {
   "cell_type": "code",
   "execution_count": 43,
   "metadata": {},
   "outputs": [
    {
     "output_type": "stream",
     "name": "stdout",
     "text": [
      "2020-11-15 11:51:06,919 INFO sqlalchemy.engine.base.Engine SELECT CAST('test plain returns' AS VARCHAR(60)) AS anon_1\n",
      "2020-11-15 11:51:06,919 INFO sqlalchemy.engine.base.Engine ()\n",
      "2020-11-15 11:51:06,921 INFO sqlalchemy.engine.base.Engine SELECT CAST('test unicode returns' AS VARCHAR(60)) AS anon_1\n",
      "2020-11-15 11:51:06,922 INFO sqlalchemy.engine.base.Engine ()\n"
     ]
    }
   ],
   "source": [
    "engine = create_engine('sqlite:///University.db', echo=True)\n",
    "sqlite_connection = engine.connect()"
   ]
  },
  {
   "cell_type": "code",
   "execution_count": 44,
   "metadata": {},
   "outputs": [
    {
     "output_type": "stream",
     "name": "stdout",
     "text": [
      "2020-11-15 11:51:13,983 INFO sqlalchemy.engine.base.Engine PRAGMA main.table_info(\"PEW_Student\")\n",
      "2020-11-15 11:51:13,984 INFO sqlalchemy.engine.base.Engine ()\n",
      "2020-11-15 11:51:13,988 INFO sqlalchemy.engine.base.Engine PRAGMA temp.table_info(\"PEW_Student\")\n",
      "2020-11-15 11:51:13,990 INFO sqlalchemy.engine.base.Engine ()\n",
      "2020-11-15 11:51:13,994 INFO sqlalchemy.engine.base.Engine \n",
      "CREATE TABLE \"PEW_Student\" (\n",
      "\t\"SID\" TEXT, \n",
      "\t\"Name\" TEXT, \n",
      "\t\"Father\" TEXT, \n",
      "\t\"DoB\" DATETIME, \n",
      "\t\"Gender\" BOOLEAN, \n",
      "\t\"Reg Date\" DATETIME, \n",
      "\t\"Reg Status\" VARCHAR(1), \n",
      "\t\"Degree Status\" VARCHAR(1), \n",
      "\t\"Address\" TEXT, \n",
      "\t\"Qualification\" TEXT, \n",
      "\t\"Degree\" VARCHAR(2), \n",
      "\tCHECK (\"Gender\" IN (0, 1))\n",
      ")\n",
      "\n",
      "\n",
      "2020-11-15 11:51:13,996 INFO sqlalchemy.engine.base.Engine ()\n",
      "2020-11-15 11:51:14,002 INFO sqlalchemy.engine.base.Engine COMMIT\n",
      "2020-11-15 11:51:14,009 INFO sqlalchemy.engine.base.Engine BEGIN (implicit)\n",
      "2020-11-15 11:51:14,059 INFO sqlalchemy.engine.base.Engine INSERT INTO \"PEW_Student\" (\"SID\", \"Name\", \"Father\", \"DoB\", \"Gender\", \"Reg Date\", \"Reg Status\", \"Degree Status\", \"Address\", \"Qualification\", \"Degree\") VALUES (?, ?, ?, ?, ?, ?, ?, ?, ?, ?, ?)\n",
      "2020-11-15 11:51:14,060 INFO sqlalchemy.engine.base.Engine (('PEW_BS_0', 'Midhat Azhar Durrani', 'Azhar Durrani', '1974-04-14 00:00:00.000000', None, '1994-08-26 00:00:00.000000', 'A', 'C', 'H# 447 St. # 5  Air port coloney PSH', 'A-Level', 'BS'), ('PEW_BS_1', 'Mouhammed Abdul Rafay Kazmi', 'Iffan Kazmi', '1974-12-13 00:00:00.000000', None, '1994-08-13 00:00:00.000000', 'A', 'C', 'H#  169 s#  0 University coloney PSH', 'A-Level', 'BS'), ('PEW_BS_2', 'Ajab Khan', 'Sahir Fazal Khan', '1976-09-13 00:00:00.000000', None, '1994-08-17 00:00:00.000000', 'A', 'C', 'ho. #  484 street #  95 Buliyan wali Sawat', 'Fsc', 'BS'), ('PEW_BS_3', 'Moeen Minhas', 'Chodhary Zakir Minhas', '1976-09-15 00:00:00.000000', None, '1994-08-20 00:00:00.000000', 'A', 'C', 'House No. 31 street #  91 Industrial estate Peshawar', 'F.Sc.', 'BS'), ('PEW_BS_4', 'Samina Niazi', 'Sahibzada Javed Niazi', '1976-06-16 00:00:00.000000', None, '1994-08-23 00:00:00.000000', 'A', 'C', 'Ho. # 345 S# 86  Afindi road psh', 'Fsc', 'BS'), ('PEW_BS_5', 'Ijaz Bashir', 'Bashir Muneer', '1976-02-18 00:00:00.000000', None, '1994-08-26 00:00:00.000000', 'A', 'C', 'house no.660 St. No.49   Sawat', 'F.Sc.', 'BS'), ('PEW_BS_6', 'Yawar Karam Illahi Awan', 'Furqan Awan', '1975-02-18 00:00:00.000000', None, '1994-01-08 00:00:00.000000', 'A', 'C', 'h no.206 St. No.45  Lane 3 Khybar road PESHAWAR', 'HSSC', 'BS'), ('PEW_BS_7', 'Manahil Baqir Abuzar Haq', 'Baqir Abuzar Haq', '1975-11-20 00:00:00.000000', None, '1994-04-08 00:00:00.000000', 'A', 'C', 'Ho. No.521 s no.40  Bakra mandi Noshera', 'A level', 'BS')  ... displaying 10 of 3700 total bound parameter sets ...  ('PEW_MS_398', 'Sadia Abdul Hameed', 'Abdul Hameed Muaz', '1982-06-20 00:00:00.000000', None, '2004-05-08 00:00:00.000000', 'A', 'I', 'house no. 55 S#  79 Jalabad Gilgit', 'BS', 'MS'), ('PEW_MS_399', 'AAdil Latif', 'Latif Obaid', '1982-06-22 00:00:00.000000', None, '2004-08-08 00:00:00.000000', 'A', 'I', 'ho. #  370 S#  75 Sherazia coloney Sawat', 'MSc', 'MS'))\n",
      "2020-11-15 11:51:14,078 INFO sqlalchemy.engine.base.Engine COMMIT\n",
      "2020-11-15 11:51:14,089 INFO sqlalchemy.engine.base.Engine SELECT name FROM sqlite_master WHERE type='table' ORDER BY name\n",
      "2020-11-15 11:51:14,090 INFO sqlalchemy.engine.base.Engine ()\n"
     ]
    }
   ],
   "source": [
    "std_table = \"PEW_Student\"\n",
    "df_std.to_sql(\n",
    "    std_table, \n",
    "    sqlite_connection, \n",
    "    if_exists='replace', \n",
    "    index=False, \n",
    "    dtype=std_col_types)"
   ]
  },
  {
   "cell_type": "code",
   "execution_count": 45,
   "metadata": {},
   "outputs": [],
   "source": [
    "sqlite_connection.close()"
   ]
  },
  {
   "source": [
    "# Process BS Course Reg"
   ],
   "cell_type": "markdown",
   "metadata": {}
  },
  {
   "cell_type": "code",
   "execution_count": 64,
   "metadata": {},
   "outputs": [],
   "source": [
    "COURSE_COLUMN_NAMES = ['SID', 'Course', 'Score', 'Semester', 'Year', 'Discipline', 'Degree']"
   ]
  },
  {
   "cell_type": "code",
   "execution_count": 84,
   "metadata": {},
   "outputs": [],
   "source": [
    "reg_col_types = {\n",
    "    \"SID\": Text,\n",
    "    \"Courses\": String(8),\n",
    "    \"Score\": Integer,\n",
    "    \"Semester\":  String(10),\n",
    "    \"Year\": DateTime,\n",
    "    \"Discipline\": String(3),\n",
    "    \"Degree\": String(2)\n",
    "    }"
   ]
  },
  {
   "cell_type": "code",
   "execution_count": 66,
   "metadata": {},
   "outputs": [],
   "source": [
    "bs_reg_files = data_dir.rglob('BS_P_*[0-9]_Reg.txt')\n",
    "# sorted(bs_reg_files)"
   ]
  },
  {
   "cell_type": "code",
   "execution_count": 67,
   "metadata": {},
   "outputs": [],
   "source": [
    "bs_reg_dfs = []\n",
    "for std_file in bs_reg_files:\n",
    "    df = pd.read_csv(std_file, index_col=None, header=0)\n",
    "    bs_reg_dfs.append(df) \n",
    "\n",
    "df_bs_reg = pd.concat(bs_reg_dfs, axis=0, ignore_index=True)\n",
    "df_bs_reg = df_bs_reg.sort_values(by=['Reg#'])\n",
    "df_bs_reg[\"Degree\"] = \"BS\""
   ]
  },
  {
   "cell_type": "code",
   "execution_count": 68,
   "metadata": {},
   "outputs": [
    {
     "output_type": "execute_result",
     "data": {
      "text/plain": [
       "['Reg#', 'Courses', 'Score', 'Program', 'Sem', 'Year', 'Degree']"
      ]
     },
     "metadata": {},
     "execution_count": 68
    }
   ],
   "source": [
    "list(df_bs_reg.columns.values)"
   ]
  },
  {
   "cell_type": "code",
   "execution_count": 69,
   "metadata": {},
   "outputs": [],
   "source": [
    "new_order_reg = ['Reg#', 'Courses', 'Score', 'Sem', 'Year', 'Program', 'Degree']\n",
    "df_bs_reg = df_bs_reg[new_order_reg]\n",
    "df_bs_reg.columns = COURSE_COLUMN_NAMES\n",
    "df_bs_reg.SID = \"PEW_BS_\" + df_bs_reg.SID.astype(str)"
   ]
  },
  {
   "cell_type": "code",
   "execution_count": 70,
   "metadata": {},
   "outputs": [
    {
     "output_type": "execute_result",
     "data": {
      "text/plain": [
       "            SID  Course  Score Semester  Year Discipline Degree\n",
       "54002  PEW_BS_0  SS-202     96     Fall  1995         CS     BS\n",
       "57604  PEW_BS_0  CS-119     90     Fall  1996         CS     BS\n",
       "57605  PEW_BS_0  CS-120     53     Fall  1996         CS     BS\n",
       "61200  PEW_BS_0  UR-404     89     Fall  1997         CS     BS\n",
       "61201  PEW_BS_0  CS-125     67     Fall  1997         CS     BS"
      ],
      "text/html": "<div>\n<style scoped>\n    .dataframe tbody tr th:only-of-type {\n        vertical-align: middle;\n    }\n\n    .dataframe tbody tr th {\n        vertical-align: top;\n    }\n\n    .dataframe thead th {\n        text-align: right;\n    }\n</style>\n<table border=\"1\" class=\"dataframe\">\n  <thead>\n    <tr style=\"text-align: right;\">\n      <th></th>\n      <th>SID</th>\n      <th>Course</th>\n      <th>Score</th>\n      <th>Semester</th>\n      <th>Year</th>\n      <th>Discipline</th>\n      <th>Degree</th>\n    </tr>\n  </thead>\n  <tbody>\n    <tr>\n      <th>54002</th>\n      <td>PEW_BS_0</td>\n      <td>SS-202</td>\n      <td>96</td>\n      <td>Fall</td>\n      <td>1995</td>\n      <td>CS</td>\n      <td>BS</td>\n    </tr>\n    <tr>\n      <th>57604</th>\n      <td>PEW_BS_0</td>\n      <td>CS-119</td>\n      <td>90</td>\n      <td>Fall</td>\n      <td>1996</td>\n      <td>CS</td>\n      <td>BS</td>\n    </tr>\n    <tr>\n      <th>57605</th>\n      <td>PEW_BS_0</td>\n      <td>CS-120</td>\n      <td>53</td>\n      <td>Fall</td>\n      <td>1996</td>\n      <td>CS</td>\n      <td>BS</td>\n    </tr>\n    <tr>\n      <th>61200</th>\n      <td>PEW_BS_0</td>\n      <td>UR-404</td>\n      <td>89</td>\n      <td>Fall</td>\n      <td>1997</td>\n      <td>CS</td>\n      <td>BS</td>\n    </tr>\n    <tr>\n      <th>61201</th>\n      <td>PEW_BS_0</td>\n      <td>CS-125</td>\n      <td>67</td>\n      <td>Fall</td>\n      <td>1997</td>\n      <td>CS</td>\n      <td>BS</td>\n    </tr>\n  </tbody>\n</table>\n</div>"
     },
     "metadata": {},
     "execution_count": 70
    }
   ],
   "source": [
    "df_bs_reg.head()"
   ]
  },
  {
   "cell_type": "code",
   "execution_count": 71,
   "metadata": {},
   "outputs": [
    {
     "output_type": "execute_result",
     "data": {
      "text/plain": [
       "                SID  Course          Score Semester           Year Discipline  \\\n",
       "count        136800  136800  136800.000000   136800  136800.000000     136800   \n",
       "unique         3300      89            NaN        2            NaN          4   \n",
       "top     PEW_BS_2018  CS-107            NaN     Fall            NaN         CS   \n",
       "freq             48    3300            NaN    68400            NaN      34200   \n",
       "mean            NaN     NaN      74.462368      NaN    1894.921053        NaN   \n",
       "std             NaN     NaN      14.415317      NaN     446.648106        NaN   \n",
       "min             NaN     NaN      50.000000      NaN       0.000000        NaN   \n",
       "25%             NaN     NaN      62.000000      NaN    1997.000000        NaN   \n",
       "50%             NaN     NaN      74.000000      NaN    2000.000000        NaN   \n",
       "75%             NaN     NaN      87.000000      NaN    2003.000000        NaN   \n",
       "max             NaN     NaN      99.000000      NaN    2005.000000        NaN   \n",
       "\n",
       "        Degree  \n",
       "count   136800  \n",
       "unique       1  \n",
       "top         BS  \n",
       "freq    136800  \n",
       "mean       NaN  \n",
       "std        NaN  \n",
       "min        NaN  \n",
       "25%        NaN  \n",
       "50%        NaN  \n",
       "75%        NaN  \n",
       "max        NaN  "
      ],
      "text/html": "<div>\n<style scoped>\n    .dataframe tbody tr th:only-of-type {\n        vertical-align: middle;\n    }\n\n    .dataframe tbody tr th {\n        vertical-align: top;\n    }\n\n    .dataframe thead th {\n        text-align: right;\n    }\n</style>\n<table border=\"1\" class=\"dataframe\">\n  <thead>\n    <tr style=\"text-align: right;\">\n      <th></th>\n      <th>SID</th>\n      <th>Course</th>\n      <th>Score</th>\n      <th>Semester</th>\n      <th>Year</th>\n      <th>Discipline</th>\n      <th>Degree</th>\n    </tr>\n  </thead>\n  <tbody>\n    <tr>\n      <th>count</th>\n      <td>136800</td>\n      <td>136800</td>\n      <td>136800.000000</td>\n      <td>136800</td>\n      <td>136800.000000</td>\n      <td>136800</td>\n      <td>136800</td>\n    </tr>\n    <tr>\n      <th>unique</th>\n      <td>3300</td>\n      <td>89</td>\n      <td>NaN</td>\n      <td>2</td>\n      <td>NaN</td>\n      <td>4</td>\n      <td>1</td>\n    </tr>\n    <tr>\n      <th>top</th>\n      <td>PEW_BS_2018</td>\n      <td>CS-107</td>\n      <td>NaN</td>\n      <td>Fall</td>\n      <td>NaN</td>\n      <td>CS</td>\n      <td>BS</td>\n    </tr>\n    <tr>\n      <th>freq</th>\n      <td>48</td>\n      <td>3300</td>\n      <td>NaN</td>\n      <td>68400</td>\n      <td>NaN</td>\n      <td>34200</td>\n      <td>136800</td>\n    </tr>\n    <tr>\n      <th>mean</th>\n      <td>NaN</td>\n      <td>NaN</td>\n      <td>74.462368</td>\n      <td>NaN</td>\n      <td>1894.921053</td>\n      <td>NaN</td>\n      <td>NaN</td>\n    </tr>\n    <tr>\n      <th>std</th>\n      <td>NaN</td>\n      <td>NaN</td>\n      <td>14.415317</td>\n      <td>NaN</td>\n      <td>446.648106</td>\n      <td>NaN</td>\n      <td>NaN</td>\n    </tr>\n    <tr>\n      <th>min</th>\n      <td>NaN</td>\n      <td>NaN</td>\n      <td>50.000000</td>\n      <td>NaN</td>\n      <td>0.000000</td>\n      <td>NaN</td>\n      <td>NaN</td>\n    </tr>\n    <tr>\n      <th>25%</th>\n      <td>NaN</td>\n      <td>NaN</td>\n      <td>62.000000</td>\n      <td>NaN</td>\n      <td>1997.000000</td>\n      <td>NaN</td>\n      <td>NaN</td>\n    </tr>\n    <tr>\n      <th>50%</th>\n      <td>NaN</td>\n      <td>NaN</td>\n      <td>74.000000</td>\n      <td>NaN</td>\n      <td>2000.000000</td>\n      <td>NaN</td>\n      <td>NaN</td>\n    </tr>\n    <tr>\n      <th>75%</th>\n      <td>NaN</td>\n      <td>NaN</td>\n      <td>87.000000</td>\n      <td>NaN</td>\n      <td>2003.000000</td>\n      <td>NaN</td>\n      <td>NaN</td>\n    </tr>\n    <tr>\n      <th>max</th>\n      <td>NaN</td>\n      <td>NaN</td>\n      <td>99.000000</td>\n      <td>NaN</td>\n      <td>2005.000000</td>\n      <td>NaN</td>\n      <td>NaN</td>\n    </tr>\n  </tbody>\n</table>\n</div>"
     },
     "metadata": {},
     "execution_count": 71
    }
   ],
   "source": [
    "df_bs_reg.describe(include='all')"
   ]
  },
  {
   "source": [
    "# Process MS Course Reg"
   ],
   "cell_type": "markdown",
   "metadata": {}
  },
  {
   "cell_type": "code",
   "execution_count": 87,
   "metadata": {},
   "outputs": [],
   "source": [
    "ms_reg_files = data_dir.rglob('MS_P_*[0-9]_Reg.txt')\n",
    "# sorted(ms_reg_files)"
   ]
  },
  {
   "cell_type": "code",
   "execution_count": 88,
   "metadata": {},
   "outputs": [],
   "source": [
    "ms_reg_dfs = []\n",
    "for std_file in ms_reg_files:\n",
    "    df = pd.read_csv(std_file, index_col=None, header=0)\n",
    "    ms_reg_dfs.append(df) \n",
    "\n",
    "df_ms_reg = pd.concat(ms_reg_dfs, axis=0, ignore_index=True)\n",
    "df_ms_reg = df_ms_reg.sort_values(by=['Reg#'])\n",
    "df_ms_reg[\"Degree\"] = \"MS\""
   ]
  },
  {
   "cell_type": "code",
   "execution_count": 89,
   "metadata": {},
   "outputs": [],
   "source": [
    "df_ms_reg = df_ms_reg[new_order_reg]\n",
    "df_ms_reg.columns = COURSE_COLUMN_NAMES\n",
    "df_ms_reg.SID = \"PEW_MS_\" + df_ms_reg.SID.astype(str)"
   ]
  },
  {
   "cell_type": "code",
   "execution_count": 90,
   "metadata": {},
   "outputs": [
    {
     "output_type": "execute_result",
     "data": {
      "text/plain": [
       "          SID  Course  Score Semester  Year Discipline Degree\n",
       "0    PEW_MS_0  CS-801     95     Fall  2001      MS-CS     MS\n",
       "902  PEW_MS_0  CS-968     67   Spring  2003      MS-CS     MS\n",
       "602  PEW_MS_0  CS-606     61     Fall  2002      MS-CS     MS\n",
       "601  PEW_MS_0  CS-505     72     Fall  2002      MS-CS     MS\n",
       "600  PEW_MS_0  CS-401     71     Fall  2002      MS-CS     MS"
      ],
      "text/html": "<div>\n<style scoped>\n    .dataframe tbody tr th:only-of-type {\n        vertical-align: middle;\n    }\n\n    .dataframe tbody tr th {\n        vertical-align: top;\n    }\n\n    .dataframe thead th {\n        text-align: right;\n    }\n</style>\n<table border=\"1\" class=\"dataframe\">\n  <thead>\n    <tr style=\"text-align: right;\">\n      <th></th>\n      <th>SID</th>\n      <th>Course</th>\n      <th>Score</th>\n      <th>Semester</th>\n      <th>Year</th>\n      <th>Discipline</th>\n      <th>Degree</th>\n    </tr>\n  </thead>\n  <tbody>\n    <tr>\n      <th>0</th>\n      <td>PEW_MS_0</td>\n      <td>CS-801</td>\n      <td>95</td>\n      <td>Fall</td>\n      <td>2001</td>\n      <td>MS-CS</td>\n      <td>MS</td>\n    </tr>\n    <tr>\n      <th>902</th>\n      <td>PEW_MS_0</td>\n      <td>CS-968</td>\n      <td>67</td>\n      <td>Spring</td>\n      <td>2003</td>\n      <td>MS-CS</td>\n      <td>MS</td>\n    </tr>\n    <tr>\n      <th>602</th>\n      <td>PEW_MS_0</td>\n      <td>CS-606</td>\n      <td>61</td>\n      <td>Fall</td>\n      <td>2002</td>\n      <td>MS-CS</td>\n      <td>MS</td>\n    </tr>\n    <tr>\n      <th>601</th>\n      <td>PEW_MS_0</td>\n      <td>CS-505</td>\n      <td>72</td>\n      <td>Fall</td>\n      <td>2002</td>\n      <td>MS-CS</td>\n      <td>MS</td>\n    </tr>\n    <tr>\n      <th>600</th>\n      <td>PEW_MS_0</td>\n      <td>CS-401</td>\n      <td>71</td>\n      <td>Fall</td>\n      <td>2002</td>\n      <td>MS-CS</td>\n      <td>MS</td>\n    </tr>\n  </tbody>\n</table>\n</div>"
     },
     "metadata": {},
     "execution_count": 90
    }
   ],
   "source": [
    "df_ms_reg.head()"
   ]
  },
  {
   "cell_type": "code",
   "execution_count": 80,
   "metadata": {},
   "outputs": [
    {
     "output_type": "execute_result",
     "data": {
      "text/plain": [
       "               SID  Course        Score Semester         Year Discipline  \\\n",
       "count         4200    4200  4200.000000     4200  4200.000000       4200   \n",
       "unique         400      20          NaN        2          NaN          2   \n",
       "top     PEW_MS_251  CS-801          NaN   Spring          NaN      MS-CS   \n",
       "freq            12     400          NaN     2100          NaN       2100   \n",
       "mean           NaN     NaN    74.281667      NaN  2003.214286        NaN   \n",
       "std            NaN     NaN    14.363015      NaN     1.145223        NaN   \n",
       "min            NaN     NaN    50.000000      NaN  2001.000000        NaN   \n",
       "25%            NaN     NaN    62.000000      NaN  2002.000000        NaN   \n",
       "50%            NaN     NaN    74.000000      NaN  2003.000000        NaN   \n",
       "75%            NaN     NaN    86.250000      NaN  2004.000000        NaN   \n",
       "max            NaN     NaN    99.000000      NaN  2005.000000        NaN   \n",
       "\n",
       "       Degree  \n",
       "count    4200  \n",
       "unique      1  \n",
       "top        MS  \n",
       "freq     4200  \n",
       "mean      NaN  \n",
       "std       NaN  \n",
       "min       NaN  \n",
       "25%       NaN  \n",
       "50%       NaN  \n",
       "75%       NaN  \n",
       "max       NaN  "
      ],
      "text/html": "<div>\n<style scoped>\n    .dataframe tbody tr th:only-of-type {\n        vertical-align: middle;\n    }\n\n    .dataframe tbody tr th {\n        vertical-align: top;\n    }\n\n    .dataframe thead th {\n        text-align: right;\n    }\n</style>\n<table border=\"1\" class=\"dataframe\">\n  <thead>\n    <tr style=\"text-align: right;\">\n      <th></th>\n      <th>SID</th>\n      <th>Course</th>\n      <th>Score</th>\n      <th>Semester</th>\n      <th>Year</th>\n      <th>Discipline</th>\n      <th>Degree</th>\n    </tr>\n  </thead>\n  <tbody>\n    <tr>\n      <th>count</th>\n      <td>4200</td>\n      <td>4200</td>\n      <td>4200.000000</td>\n      <td>4200</td>\n      <td>4200.000000</td>\n      <td>4200</td>\n      <td>4200</td>\n    </tr>\n    <tr>\n      <th>unique</th>\n      <td>400</td>\n      <td>20</td>\n      <td>NaN</td>\n      <td>2</td>\n      <td>NaN</td>\n      <td>2</td>\n      <td>1</td>\n    </tr>\n    <tr>\n      <th>top</th>\n      <td>PEW_MS_251</td>\n      <td>CS-801</td>\n      <td>NaN</td>\n      <td>Spring</td>\n      <td>NaN</td>\n      <td>MS-CS</td>\n      <td>MS</td>\n    </tr>\n    <tr>\n      <th>freq</th>\n      <td>12</td>\n      <td>400</td>\n      <td>NaN</td>\n      <td>2100</td>\n      <td>NaN</td>\n      <td>2100</td>\n      <td>4200</td>\n    </tr>\n    <tr>\n      <th>mean</th>\n      <td>NaN</td>\n      <td>NaN</td>\n      <td>74.281667</td>\n      <td>NaN</td>\n      <td>2003.214286</td>\n      <td>NaN</td>\n      <td>NaN</td>\n    </tr>\n    <tr>\n      <th>std</th>\n      <td>NaN</td>\n      <td>NaN</td>\n      <td>14.363015</td>\n      <td>NaN</td>\n      <td>1.145223</td>\n      <td>NaN</td>\n      <td>NaN</td>\n    </tr>\n    <tr>\n      <th>min</th>\n      <td>NaN</td>\n      <td>NaN</td>\n      <td>50.000000</td>\n      <td>NaN</td>\n      <td>2001.000000</td>\n      <td>NaN</td>\n      <td>NaN</td>\n    </tr>\n    <tr>\n      <th>25%</th>\n      <td>NaN</td>\n      <td>NaN</td>\n      <td>62.000000</td>\n      <td>NaN</td>\n      <td>2002.000000</td>\n      <td>NaN</td>\n      <td>NaN</td>\n    </tr>\n    <tr>\n      <th>50%</th>\n      <td>NaN</td>\n      <td>NaN</td>\n      <td>74.000000</td>\n      <td>NaN</td>\n      <td>2003.000000</td>\n      <td>NaN</td>\n      <td>NaN</td>\n    </tr>\n    <tr>\n      <th>75%</th>\n      <td>NaN</td>\n      <td>NaN</td>\n      <td>86.250000</td>\n      <td>NaN</td>\n      <td>2004.000000</td>\n      <td>NaN</td>\n      <td>NaN</td>\n    </tr>\n    <tr>\n      <th>max</th>\n      <td>NaN</td>\n      <td>NaN</td>\n      <td>99.000000</td>\n      <td>NaN</td>\n      <td>2005.000000</td>\n      <td>NaN</td>\n      <td>NaN</td>\n    </tr>\n  </tbody>\n</table>\n</div>"
     },
     "metadata": {},
     "execution_count": 80
    }
   ],
   "source": [
    "df_ms_reg.describe(include=\"all\")"
   ]
  },
  {
   "source": [
    "# Concat BS and MS Course Reg Tables"
   ],
   "cell_type": "markdown",
   "metadata": {}
  },
  {
   "cell_type": "code",
   "execution_count": 92,
   "metadata": {},
   "outputs": [
    {
     "output_type": "execute_result",
     "data": {
      "text/plain": [
       "        SID  Course  Score Semester                          Year Discipline  \\\n",
       "0  PEW_BS_0  SS-202     96     Fall 1970-01-01 00:00:00.000001995         CS   \n",
       "1  PEW_BS_0  CS-119     90     Fall 1970-01-01 00:00:00.000001996         CS   \n",
       "2  PEW_BS_0  CS-120     53     Fall 1970-01-01 00:00:00.000001996         CS   \n",
       "3  PEW_BS_0  UR-404     89     Fall 1970-01-01 00:00:00.000001997         CS   \n",
       "4  PEW_BS_0  CS-125     67     Fall 1970-01-01 00:00:00.000001997         CS   \n",
       "\n",
       "  Degree  \n",
       "0     BS  \n",
       "1     BS  \n",
       "2     BS  \n",
       "3     BS  \n",
       "4     BS  "
      ],
      "text/html": "<div>\n<style scoped>\n    .dataframe tbody tr th:only-of-type {\n        vertical-align: middle;\n    }\n\n    .dataframe tbody tr th {\n        vertical-align: top;\n    }\n\n    .dataframe thead th {\n        text-align: right;\n    }\n</style>\n<table border=\"1\" class=\"dataframe\">\n  <thead>\n    <tr style=\"text-align: right;\">\n      <th></th>\n      <th>SID</th>\n      <th>Course</th>\n      <th>Score</th>\n      <th>Semester</th>\n      <th>Year</th>\n      <th>Discipline</th>\n      <th>Degree</th>\n    </tr>\n  </thead>\n  <tbody>\n    <tr>\n      <th>0</th>\n      <td>PEW_BS_0</td>\n      <td>SS-202</td>\n      <td>96</td>\n      <td>Fall</td>\n      <td>1970-01-01 00:00:00.000001995</td>\n      <td>CS</td>\n      <td>BS</td>\n    </tr>\n    <tr>\n      <th>1</th>\n      <td>PEW_BS_0</td>\n      <td>CS-119</td>\n      <td>90</td>\n      <td>Fall</td>\n      <td>1970-01-01 00:00:00.000001996</td>\n      <td>CS</td>\n      <td>BS</td>\n    </tr>\n    <tr>\n      <th>2</th>\n      <td>PEW_BS_0</td>\n      <td>CS-120</td>\n      <td>53</td>\n      <td>Fall</td>\n      <td>1970-01-01 00:00:00.000001996</td>\n      <td>CS</td>\n      <td>BS</td>\n    </tr>\n    <tr>\n      <th>3</th>\n      <td>PEW_BS_0</td>\n      <td>UR-404</td>\n      <td>89</td>\n      <td>Fall</td>\n      <td>1970-01-01 00:00:00.000001997</td>\n      <td>CS</td>\n      <td>BS</td>\n    </tr>\n    <tr>\n      <th>4</th>\n      <td>PEW_BS_0</td>\n      <td>CS-125</td>\n      <td>67</td>\n      <td>Fall</td>\n      <td>1970-01-01 00:00:00.000001997</td>\n      <td>CS</td>\n      <td>BS</td>\n    </tr>\n  </tbody>\n</table>\n</div>"
     },
     "metadata": {},
     "execution_count": 92
    }
   ],
   "source": [
    "df_reg = pd.concat([df_bs_reg, df_ms_reg], ignore_index=True)\n",
    "df_reg[\"Year\"] = pd.to_datetime(df_reg[\"Year\"])\n",
    "df_reg.head()"
   ]
  },
  {
   "cell_type": "code",
   "execution_count": 93,
   "metadata": {},
   "outputs": [
    {
     "output_type": "execute_result",
     "data": {
      "text/plain": [
       "                SID  Course          Score Semester  \\\n",
       "count        141000  141000  141000.000000   141000   \n",
       "unique         3700     109            NaN        2   \n",
       "top     PEW_BS_2018  CS-109            NaN     Fall   \n",
       "freq             48    3300            NaN    70500   \n",
       "first           NaN     NaN            NaN      NaN   \n",
       "last            NaN     NaN            NaN      NaN   \n",
       "mean            NaN     NaN      74.456986      NaN   \n",
       "std             NaN     NaN      14.413744      NaN   \n",
       "min             NaN     NaN      50.000000      NaN   \n",
       "25%             NaN     NaN      62.000000      NaN   \n",
       "50%             NaN     NaN      74.000000      NaN   \n",
       "75%             NaN     NaN      87.000000      NaN   \n",
       "max             NaN     NaN      99.000000      NaN   \n",
       "\n",
       "                                 Year Discipline  Degree  \n",
       "count                          141000     141000  141000  \n",
       "unique                             13          6       2  \n",
       "top     1970-01-01 00:00:00.000002004         CS      BS  \n",
       "freq                            15600      34200  136800  \n",
       "first             1970-01-01 00:00:00        NaN     NaN  \n",
       "last    1970-01-01 00:00:00.000002005        NaN     NaN  \n",
       "mean                              NaN        NaN     NaN  \n",
       "std                               NaN        NaN     NaN  \n",
       "min                               NaN        NaN     NaN  \n",
       "25%                               NaN        NaN     NaN  \n",
       "50%                               NaN        NaN     NaN  \n",
       "75%                               NaN        NaN     NaN  \n",
       "max                               NaN        NaN     NaN  "
      ],
      "text/html": "<div>\n<style scoped>\n    .dataframe tbody tr th:only-of-type {\n        vertical-align: middle;\n    }\n\n    .dataframe tbody tr th {\n        vertical-align: top;\n    }\n\n    .dataframe thead th {\n        text-align: right;\n    }\n</style>\n<table border=\"1\" class=\"dataframe\">\n  <thead>\n    <tr style=\"text-align: right;\">\n      <th></th>\n      <th>SID</th>\n      <th>Course</th>\n      <th>Score</th>\n      <th>Semester</th>\n      <th>Year</th>\n      <th>Discipline</th>\n      <th>Degree</th>\n    </tr>\n  </thead>\n  <tbody>\n    <tr>\n      <th>count</th>\n      <td>141000</td>\n      <td>141000</td>\n      <td>141000.000000</td>\n      <td>141000</td>\n      <td>141000</td>\n      <td>141000</td>\n      <td>141000</td>\n    </tr>\n    <tr>\n      <th>unique</th>\n      <td>3700</td>\n      <td>109</td>\n      <td>NaN</td>\n      <td>2</td>\n      <td>13</td>\n      <td>6</td>\n      <td>2</td>\n    </tr>\n    <tr>\n      <th>top</th>\n      <td>PEW_BS_2018</td>\n      <td>CS-109</td>\n      <td>NaN</td>\n      <td>Fall</td>\n      <td>1970-01-01 00:00:00.000002004</td>\n      <td>CS</td>\n      <td>BS</td>\n    </tr>\n    <tr>\n      <th>freq</th>\n      <td>48</td>\n      <td>3300</td>\n      <td>NaN</td>\n      <td>70500</td>\n      <td>15600</td>\n      <td>34200</td>\n      <td>136800</td>\n    </tr>\n    <tr>\n      <th>first</th>\n      <td>NaN</td>\n      <td>NaN</td>\n      <td>NaN</td>\n      <td>NaN</td>\n      <td>1970-01-01 00:00:00</td>\n      <td>NaN</td>\n      <td>NaN</td>\n    </tr>\n    <tr>\n      <th>last</th>\n      <td>NaN</td>\n      <td>NaN</td>\n      <td>NaN</td>\n      <td>NaN</td>\n      <td>1970-01-01 00:00:00.000002005</td>\n      <td>NaN</td>\n      <td>NaN</td>\n    </tr>\n    <tr>\n      <th>mean</th>\n      <td>NaN</td>\n      <td>NaN</td>\n      <td>74.456986</td>\n      <td>NaN</td>\n      <td>NaN</td>\n      <td>NaN</td>\n      <td>NaN</td>\n    </tr>\n    <tr>\n      <th>std</th>\n      <td>NaN</td>\n      <td>NaN</td>\n      <td>14.413744</td>\n      <td>NaN</td>\n      <td>NaN</td>\n      <td>NaN</td>\n      <td>NaN</td>\n    </tr>\n    <tr>\n      <th>min</th>\n      <td>NaN</td>\n      <td>NaN</td>\n      <td>50.000000</td>\n      <td>NaN</td>\n      <td>NaN</td>\n      <td>NaN</td>\n      <td>NaN</td>\n    </tr>\n    <tr>\n      <th>25%</th>\n      <td>NaN</td>\n      <td>NaN</td>\n      <td>62.000000</td>\n      <td>NaN</td>\n      <td>NaN</td>\n      <td>NaN</td>\n      <td>NaN</td>\n    </tr>\n    <tr>\n      <th>50%</th>\n      <td>NaN</td>\n      <td>NaN</td>\n      <td>74.000000</td>\n      <td>NaN</td>\n      <td>NaN</td>\n      <td>NaN</td>\n      <td>NaN</td>\n    </tr>\n    <tr>\n      <th>75%</th>\n      <td>NaN</td>\n      <td>NaN</td>\n      <td>87.000000</td>\n      <td>NaN</td>\n      <td>NaN</td>\n      <td>NaN</td>\n      <td>NaN</td>\n    </tr>\n    <tr>\n      <th>max</th>\n      <td>NaN</td>\n      <td>NaN</td>\n      <td>99.000000</td>\n      <td>NaN</td>\n      <td>NaN</td>\n      <td>NaN</td>\n      <td>NaN</td>\n    </tr>\n  </tbody>\n</table>\n</div>"
     },
     "metadata": {},
     "execution_count": 93
    }
   ],
   "source": [
    "df_reg.describe(include='all')"
   ]
  },
  {
   "cell_type": "code",
   "execution_count": 94,
   "metadata": {},
   "outputs": [
    {
     "output_type": "stream",
     "name": "stdout",
     "text": [
      "2020-11-15 12:01:55,136 INFO sqlalchemy.engine.base.Engine SELECT CAST('test plain returns' AS VARCHAR(60)) AS anon_1\n",
      "2020-11-15 12:01:55,138 INFO sqlalchemy.engine.base.Engine ()\n",
      "2020-11-15 12:01:55,139 INFO sqlalchemy.engine.base.Engine SELECT CAST('test unicode returns' AS VARCHAR(60)) AS anon_1\n",
      "2020-11-15 12:01:55,141 INFO sqlalchemy.engine.base.Engine ()\n",
      "2020-11-15 12:01:55,151 INFO sqlalchemy.engine.base.Engine PRAGMA main.table_info(\"PEW_Course_Reg\")\n",
      "2020-11-15 12:01:55,152 INFO sqlalchemy.engine.base.Engine ()\n",
      "2020-11-15 12:01:55,153 INFO sqlalchemy.engine.base.Engine PRAGMA main.table_info(\"PEW_Course_Reg\")\n",
      "2020-11-15 12:01:55,154 INFO sqlalchemy.engine.base.Engine ()\n",
      "2020-11-15 12:01:55,156 INFO sqlalchemy.engine.base.Engine SELECT name FROM sqlite_master WHERE type='table' ORDER BY name\n",
      "2020-11-15 12:01:55,157 INFO sqlalchemy.engine.base.Engine ()\n",
      "2020-11-15 12:01:55,159 INFO sqlalchemy.engine.base.Engine PRAGMA main.table_xinfo(\"PEW_Course_Reg\")\n",
      "2020-11-15 12:01:55,160 INFO sqlalchemy.engine.base.Engine ()\n",
      "2020-11-15 12:01:55,161 INFO sqlalchemy.engine.base.Engine SELECT sql FROM  (SELECT * FROM sqlite_master UNION ALL   SELECT * FROM sqlite_temp_master) WHERE name = ? AND type = 'table'\n",
      "2020-11-15 12:01:55,163 INFO sqlalchemy.engine.base.Engine ('PEW_Course_Reg',)\n",
      "2020-11-15 12:01:55,165 INFO sqlalchemy.engine.base.Engine PRAGMA main.foreign_key_list(\"PEW_Course_Reg\")\n",
      "2020-11-15 12:01:55,167 INFO sqlalchemy.engine.base.Engine ()\n",
      "2020-11-15 12:01:55,168 INFO sqlalchemy.engine.base.Engine PRAGMA temp.foreign_key_list(\"PEW_Course_Reg\")\n",
      "2020-11-15 12:01:55,169 INFO sqlalchemy.engine.base.Engine ()\n",
      "2020-11-15 12:01:55,171 INFO sqlalchemy.engine.base.Engine SELECT sql FROM  (SELECT * FROM sqlite_master UNION ALL   SELECT * FROM sqlite_temp_master) WHERE name = ? AND type = 'table'\n",
      "2020-11-15 12:01:55,171 INFO sqlalchemy.engine.base.Engine ('PEW_Course_Reg',)\n",
      "2020-11-15 12:01:55,173 INFO sqlalchemy.engine.base.Engine PRAGMA main.index_list(\"PEW_Course_Reg\")\n",
      "2020-11-15 12:01:55,174 INFO sqlalchemy.engine.base.Engine ()\n",
      "2020-11-15 12:01:55,175 INFO sqlalchemy.engine.base.Engine PRAGMA temp.index_list(\"PEW_Course_Reg\")\n",
      "2020-11-15 12:01:55,177 INFO sqlalchemy.engine.base.Engine ()\n",
      "2020-11-15 12:01:55,178 INFO sqlalchemy.engine.base.Engine PRAGMA main.index_list(\"PEW_Course_Reg\")\n",
      "2020-11-15 12:01:55,179 INFO sqlalchemy.engine.base.Engine ()\n",
      "2020-11-15 12:01:55,181 INFO sqlalchemy.engine.base.Engine PRAGMA temp.index_list(\"PEW_Course_Reg\")\n",
      "2020-11-15 12:01:55,182 INFO sqlalchemy.engine.base.Engine ()\n",
      "2020-11-15 12:01:55,184 INFO sqlalchemy.engine.base.Engine SELECT sql FROM  (SELECT * FROM sqlite_master UNION ALL   SELECT * FROM sqlite_temp_master) WHERE name = ? AND type = 'table'\n",
      "2020-11-15 12:01:55,185 INFO sqlalchemy.engine.base.Engine ('PEW_Course_Reg',)\n",
      "2020-11-15 12:01:55,186 INFO sqlalchemy.engine.base.Engine \n",
      "DROP TABLE \"PEW_Course_Reg\"\n",
      "2020-11-15 12:01:55,187 INFO sqlalchemy.engine.base.Engine ()\n",
      "2020-11-15 12:01:55,194 INFO sqlalchemy.engine.base.Engine COMMIT\n",
      "2020-11-15 12:01:55,196 INFO sqlalchemy.engine.base.Engine \n",
      "CREATE TABLE \"PEW_Course_Reg\" (\n",
      "\t\"SID\" TEXT, \n",
      "\t\"Course\" TEXT, \n",
      "\t\"Score\" INTEGER, \n",
      "\t\"Semester\" VARCHAR(10), \n",
      "\t\"Year\" DATETIME, \n",
      "\t\"Discipline\" VARCHAR(3), \n",
      "\t\"Degree\" VARCHAR(2)\n",
      ")\n",
      "\n",
      "\n",
      "2020-11-15 12:01:55,198 INFO sqlalchemy.engine.base.Engine ()\n",
      "2020-11-15 12:01:55,203 INFO sqlalchemy.engine.base.Engine COMMIT\n",
      "2020-11-15 12:01:55,335 INFO sqlalchemy.engine.base.Engine BEGIN (implicit)\n",
      "2020-11-15 12:01:56,521 INFO sqlalchemy.engine.base.Engine INSERT INTO \"PEW_Course_Reg\" (\"SID\", \"Course\", \"Score\", \"Semester\", \"Year\", \"Discipline\", \"Degree\") VALUES (?, ?, ?, ?, ?, ?, ?)\n",
      "2020-11-15 12:01:56,522 INFO sqlalchemy.engine.base.Engine (('PEW_BS_0', 'SS-202', 96, 'Fall', '1970-01-01 00:00:00.000001', 'CS', 'BS'), ('PEW_BS_0', 'CS-119', 90, 'Fall', '1970-01-01 00:00:00.000001', 'CS', 'BS'), ('PEW_BS_0', 'CS-120', 53, 'Fall', '1970-01-01 00:00:00.000001', 'CS', 'BS'), ('PEW_BS_0', 'UR-404', 89, 'Fall', '1970-01-01 00:00:00.000001', 'CS', 'BS'), ('PEW_BS_0', 'CS-125', 67, 'Fall', '1970-01-01 00:00:00.000001', 'CS', 'BS'), ('PEW_BS_0', 'CS-126', 72, 'Fall', '1970-01-01 00:00:00.000001', 'CS', 'BS'), ('PEW_BS_0', 'CS-127', 54, 'Fall', '1970-01-01 00:00:00.000001', 'CS', 'BS'), ('PEW_BS_0', 'CS-128', 95, 'Fall', '1970-01-01 00:00:00.000001', 'CS', 'BS')  ... displaying 10 of 141000 total bound parameter sets ...  ('PEW_MS_399', 'CS-404', 84, 'Spring', '1970-01-01 00:00:00.000002', 'MS-NW', 'MS'), ('PEW_MS_399', 'CS-307', 84, 'Spring', '1970-01-01 00:00:00.000002', 'MS-NW', 'MS'))\n",
      "2020-11-15 12:01:56,881 INFO sqlalchemy.engine.base.Engine COMMIT\n",
      "2020-11-15 12:01:56,930 INFO sqlalchemy.engine.base.Engine SELECT name FROM sqlite_master WHERE type='table' ORDER BY name\n",
      "2020-11-15 12:01:56,931 INFO sqlalchemy.engine.base.Engine ()\n"
     ]
    }
   ],
   "source": [
    "engine = create_engine('sqlite:///University.db', echo=True)\n",
    "sqlite_connection = engine.connect()\n",
    "\n",
    "reg_table = \"PEW_Course_Reg\"\n",
    "df_reg.to_sql(\n",
    "    reg_table, \n",
    "    sqlite_connection, \n",
    "    if_exists='replace', \n",
    "    index=False, \n",
    "    dtype=reg_col_types)\n",
    "\n",
    "sqlite_connection.close()"
   ]
  },
  {
   "cell_type": "code",
   "execution_count": null,
   "metadata": {},
   "outputs": [],
   "source": []
  }
 ]
}