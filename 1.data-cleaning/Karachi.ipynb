{
 "metadata": {
  "language_info": {
   "codemirror_mode": {
    "name": "ipython",
    "version": 3
   },
   "file_extension": ".py",
   "mimetype": "text/x-python",
   "name": "python",
   "nbconvert_exporter": "python",
   "pygments_lexer": "ipython3",
   "version": "3.8.5-final"
  },
  "orig_nbformat": 2,
  "kernelspec": {
   "name": "python3",
   "display_name": "Python 3.8.5 64-bit ('dm': conda)",
   "metadata": {
    "interpreter": {
     "hash": "ac3e7ebb8ce5c1abf99050b2338cc9c5dc675ebfd4b9c2d5cec509c998990cf5"
    }
   }
  }
 },
 "nbformat": 4,
 "nbformat_minor": 2,
 "cells": [
  {
   "cell_type": "code",
   "execution_count": 1,
   "metadata": {},
   "outputs": [],
   "source": [
    "import pandas as pd\n",
    "import numpy as np\n",
    "import re\n",
    "import sqlite3\n",
    "\n",
    "from pathlib import Path\n",
    "from sqlalchemy import create_engine\n",
    "from sqlalchemy.types import Integer, Text, String, DateTime, Boolean"
   ]
  },
  {
   "cell_type": "code",
   "execution_count": 2,
   "metadata": {},
   "outputs": [],
   "source": [
    "data_dir = Path(\"Assignment 1 Data Set/Karachi/\")"
   ]
  },
  {
   "source": [
    "# Student DB"
   ],
   "cell_type": "markdown",
   "metadata": {}
  },
  {
   "cell_type": "code",
   "execution_count": 3,
   "metadata": {},
   "outputs": [],
   "source": [
    "STUDENT_COLUMN_NAMES = ['SID', 'Name', 'Father', 'DoB', 'Gender', 'Reg Date', 'Reg Status', 'Degree Status', 'Address', 'Qualification']"
   ]
  },
  {
   "cell_type": "code",
   "execution_count": 4,
   "metadata": {},
   "outputs": [],
   "source": [
    "std_col_types = {\n",
    "    \"SID\": Text,\n",
    "    \"Name\": Text,\n",
    "    \"Father\": Text,\n",
    "    \"DoB\":  Text,\n",
    "    \"Gender\": String(1),\n",
    "    \"Reg Date\": DateTime,\n",
    "    \"Reg Status\": String(1),\n",
    "    \"Degree Status\": String(1),\n",
    "    \"Address\": Text,\n",
    "    \"Qualification\": Text,\n",
    "    \"Degree\": String(2)\n",
    "    }"
   ]
  },
  {
   "cell_type": "code",
   "execution_count": 5,
   "metadata": {},
   "outputs": [],
   "source": [
    "student_file = data_dir / \"Student.xls\""
   ]
  },
  {
   "source": [
    "## BS Level"
   ],
   "cell_type": "markdown",
   "metadata": {}
  },
  {
   "cell_type": "code",
   "execution_count": 6,
   "metadata": {},
   "outputs": [],
   "source": [
    "df_bs_std = pd.read_excel(student_file, sheet_name=\"BS\")\n",
    "df_bs_std.columns = STUDENT_COLUMN_NAMES"
   ]
  },
  {
   "cell_type": "code",
   "execution_count": 7,
   "metadata": {},
   "outputs": [],
   "source": [
    "df_bs_std.SID = \"KHR_BS_\" + df_bs_std.SID.astype(str)"
   ]
  },
  {
   "cell_type": "code",
   "execution_count": 8,
   "metadata": {},
   "outputs": [],
   "source": [
    "df_bs_std[\"Degree\"] = \"BS\""
   ]
  },
  {
   "cell_type": "code",
   "execution_count": 9,
   "metadata": {},
   "outputs": [
    {
     "output_type": "execute_result",
     "data": {
      "text/plain": [
       "        SID                     Name                Father  \\\n",
       "0  KHR_BS_0           Hussain Ansary          Ubaid Ansary   \n",
       "1  KHR_BS_1      Shk. Munir Hussaini  Viqar Hamid Hussaini   \n",
       "2  KHR_BS_2  Moeena Momd. Uhad Haque      Momd. Uhad Haque   \n",
       "3  KHR_BS_3        Zeeshan Mustamsir      Mustamsir Danish   \n",
       "4  KHR_BS_4        Sheik Ghazi Haque         Anayyat Haque   \n",
       "\n",
       "                   DoB Gender   Reg Date Reg Status Degree Status  \\\n",
       "0  1974-01-05 00:00:00      M 1994-08-13          A             C   \n",
       "1  1974-12-13 00:00:00      M 1994-08-13          A             C   \n",
       "2  1976-09-13 00:00:00      F 1994-08-17          A             C   \n",
       "3  1976-09-15 00:00:00      M 1994-08-20          A             C   \n",
       "4  1976-06-16 00:00:00      M 1994-08-23          A             C   \n",
       "\n",
       "                                        Address Qualification Degree  \n",
       "0      h# 978 Street No.72  Defense Phase 1 KHR       A-Level     BS  \n",
       "1               H#  169 s#  0 Mutian wala Thata       A-Level     BS  \n",
       "2        ho. #  484 street #  95 Lalu khait khr           Fsc     BS  \n",
       "3  House No. 31 street #  91 Dak ghar Sadiqabad         F.Sc.     BS  \n",
       "4                         Ho. # 345 S# 86   khr           Fsc     BS  "
      ],
      "text/html": "<div>\n<style scoped>\n    .dataframe tbody tr th:only-of-type {\n        vertical-align: middle;\n    }\n\n    .dataframe tbody tr th {\n        vertical-align: top;\n    }\n\n    .dataframe thead th {\n        text-align: right;\n    }\n</style>\n<table border=\"1\" class=\"dataframe\">\n  <thead>\n    <tr style=\"text-align: right;\">\n      <th></th>\n      <th>SID</th>\n      <th>Name</th>\n      <th>Father</th>\n      <th>DoB</th>\n      <th>Gender</th>\n      <th>Reg Date</th>\n      <th>Reg Status</th>\n      <th>Degree Status</th>\n      <th>Address</th>\n      <th>Qualification</th>\n      <th>Degree</th>\n    </tr>\n  </thead>\n  <tbody>\n    <tr>\n      <th>0</th>\n      <td>KHR_BS_0</td>\n      <td>Hussain Ansary</td>\n      <td>Ubaid Ansary</td>\n      <td>1974-01-05 00:00:00</td>\n      <td>M</td>\n      <td>1994-08-13</td>\n      <td>A</td>\n      <td>C</td>\n      <td>h# 978 Street No.72  Defense Phase 1 KHR</td>\n      <td>A-Level</td>\n      <td>BS</td>\n    </tr>\n    <tr>\n      <th>1</th>\n      <td>KHR_BS_1</td>\n      <td>Shk. Munir Hussaini</td>\n      <td>Viqar Hamid Hussaini</td>\n      <td>1974-12-13 00:00:00</td>\n      <td>M</td>\n      <td>1994-08-13</td>\n      <td>A</td>\n      <td>C</td>\n      <td>H#  169 s#  0 Mutian wala Thata</td>\n      <td>A-Level</td>\n      <td>BS</td>\n    </tr>\n    <tr>\n      <th>2</th>\n      <td>KHR_BS_2</td>\n      <td>Moeena Momd. Uhad Haque</td>\n      <td>Momd. Uhad Haque</td>\n      <td>1976-09-13 00:00:00</td>\n      <td>F</td>\n      <td>1994-08-17</td>\n      <td>A</td>\n      <td>C</td>\n      <td>ho. #  484 street #  95 Lalu khait khr</td>\n      <td>Fsc</td>\n      <td>BS</td>\n    </tr>\n    <tr>\n      <th>3</th>\n      <td>KHR_BS_3</td>\n      <td>Zeeshan Mustamsir</td>\n      <td>Mustamsir Danish</td>\n      <td>1976-09-15 00:00:00</td>\n      <td>M</td>\n      <td>1994-08-20</td>\n      <td>A</td>\n      <td>C</td>\n      <td>House No. 31 street #  91 Dak ghar Sadiqabad</td>\n      <td>F.Sc.</td>\n      <td>BS</td>\n    </tr>\n    <tr>\n      <th>4</th>\n      <td>KHR_BS_4</td>\n      <td>Sheik Ghazi Haque</td>\n      <td>Anayyat Haque</td>\n      <td>1976-06-16 00:00:00</td>\n      <td>M</td>\n      <td>1994-08-23</td>\n      <td>A</td>\n      <td>C</td>\n      <td>Ho. # 345 S# 86   khr</td>\n      <td>Fsc</td>\n      <td>BS</td>\n    </tr>\n  </tbody>\n</table>\n</div>"
     },
     "metadata": {},
     "execution_count": 9
    }
   ],
   "source": [
    "df_bs_std.head()"
   ]
  },
  {
   "cell_type": "code",
   "execution_count": 10,
   "metadata": {},
   "outputs": [
    {
     "output_type": "execute_result",
     "data": {
      "text/plain": [
       "                SID          Name          Father                  DoB Gender  \\\n",
       "count          6601          6601            6601                 6601   6601   \n",
       "unique         6601          6396            6398                 3622      2   \n",
       "top     KHR_BS_5083  Daud Kiyyani  Mustamsir Awan  1982-03-04 00:00:00      M   \n",
       "freq              1             4               2                    5   4403   \n",
       "first           NaN           NaN             NaN                  NaN    NaN   \n",
       "last            NaN           NaN             NaN                  NaN    NaN   \n",
       "\n",
       "                   Reg Date Reg Status Degree Status  \\\n",
       "count                  6601       6601          6601   \n",
       "unique                  320          2             2   \n",
       "top     1994-08-13 00:00:00          A             C   \n",
       "freq                     23       6600          4800   \n",
       "first   1994-08-01 00:00:00        NaN           NaN   \n",
       "last    2005-01-01 00:00:00        NaN           NaN   \n",
       "\n",
       "                                       Address Qualification Degree  \n",
       "count                                     6601          6601   6601  \n",
       "unique                                    6601             6      1  \n",
       "top     Ho. no. 38 S No. 64 Haider road Multan       A-Level     BS  \n",
       "freq                                         1          1103   6601  \n",
       "first                                      NaN           NaN    NaN  \n",
       "last                                       NaN           NaN    NaN  "
      ],
      "text/html": "<div>\n<style scoped>\n    .dataframe tbody tr th:only-of-type {\n        vertical-align: middle;\n    }\n\n    .dataframe tbody tr th {\n        vertical-align: top;\n    }\n\n    .dataframe thead th {\n        text-align: right;\n    }\n</style>\n<table border=\"1\" class=\"dataframe\">\n  <thead>\n    <tr style=\"text-align: right;\">\n      <th></th>\n      <th>SID</th>\n      <th>Name</th>\n      <th>Father</th>\n      <th>DoB</th>\n      <th>Gender</th>\n      <th>Reg Date</th>\n      <th>Reg Status</th>\n      <th>Degree Status</th>\n      <th>Address</th>\n      <th>Qualification</th>\n      <th>Degree</th>\n    </tr>\n  </thead>\n  <tbody>\n    <tr>\n      <th>count</th>\n      <td>6601</td>\n      <td>6601</td>\n      <td>6601</td>\n      <td>6601</td>\n      <td>6601</td>\n      <td>6601</td>\n      <td>6601</td>\n      <td>6601</td>\n      <td>6601</td>\n      <td>6601</td>\n      <td>6601</td>\n    </tr>\n    <tr>\n      <th>unique</th>\n      <td>6601</td>\n      <td>6396</td>\n      <td>6398</td>\n      <td>3622</td>\n      <td>2</td>\n      <td>320</td>\n      <td>2</td>\n      <td>2</td>\n      <td>6601</td>\n      <td>6</td>\n      <td>1</td>\n    </tr>\n    <tr>\n      <th>top</th>\n      <td>KHR_BS_5083</td>\n      <td>Daud Kiyyani</td>\n      <td>Mustamsir Awan</td>\n      <td>1982-03-04 00:00:00</td>\n      <td>M</td>\n      <td>1994-08-13 00:00:00</td>\n      <td>A</td>\n      <td>C</td>\n      <td>Ho. no. 38 S No. 64 Haider road Multan</td>\n      <td>A-Level</td>\n      <td>BS</td>\n    </tr>\n    <tr>\n      <th>freq</th>\n      <td>1</td>\n      <td>4</td>\n      <td>2</td>\n      <td>5</td>\n      <td>4403</td>\n      <td>23</td>\n      <td>6600</td>\n      <td>4800</td>\n      <td>1</td>\n      <td>1103</td>\n      <td>6601</td>\n    </tr>\n    <tr>\n      <th>first</th>\n      <td>NaN</td>\n      <td>NaN</td>\n      <td>NaN</td>\n      <td>NaN</td>\n      <td>NaN</td>\n      <td>1994-08-01 00:00:00</td>\n      <td>NaN</td>\n      <td>NaN</td>\n      <td>NaN</td>\n      <td>NaN</td>\n      <td>NaN</td>\n    </tr>\n    <tr>\n      <th>last</th>\n      <td>NaN</td>\n      <td>NaN</td>\n      <td>NaN</td>\n      <td>NaN</td>\n      <td>NaN</td>\n      <td>2005-01-01 00:00:00</td>\n      <td>NaN</td>\n      <td>NaN</td>\n      <td>NaN</td>\n      <td>NaN</td>\n      <td>NaN</td>\n    </tr>\n  </tbody>\n</table>\n</div>"
     },
     "metadata": {},
     "execution_count": 10
    }
   ],
   "source": [
    "df_bs_std.describe(include=\"all\")"
   ]
  },
  {
   "source": [
    "## MS Level"
   ],
   "cell_type": "markdown",
   "metadata": {}
  },
  {
   "cell_type": "code",
   "execution_count": 11,
   "metadata": {},
   "outputs": [],
   "source": [
    "df_ms_std = pd.read_excel(student_file, sheet_name=\"MS\")\n",
    "df_ms_std.columns = STUDENT_COLUMN_NAMES"
   ]
  },
  {
   "cell_type": "code",
   "execution_count": 12,
   "metadata": {},
   "outputs": [],
   "source": [
    "df_ms_std.SID = \"KHR_MS_\" + df_ms_std.SID.astype(str)"
   ]
  },
  {
   "cell_type": "code",
   "execution_count": 13,
   "metadata": {},
   "outputs": [],
   "source": [
    "df_ms_std[\"Degree\"] = \"MS\""
   ]
  },
  {
   "cell_type": "code",
   "execution_count": 14,
   "metadata": {},
   "outputs": [
    {
     "output_type": "execute_result",
     "data": {
      "text/plain": [
       "        SID                   Name             Father                  DoB  \\\n",
       "0  KHR_MS_0       Rukshanda Ansari   Jan Wajid Ansari  1979-06-16 00:00:00   \n",
       "1  KHR_MS_1          Bulbul Haqqie  Aga Salman Haqqie  1977-12-13 00:00:00   \n",
       "2  KHR_MS_2           Shamim Bakht         Bakht Raza  1979-09-13 00:00:00   \n",
       "3  KHR_MS_3  Mohammad Yawar Haqqie      Mumtaz Haqqie  1979-09-15 00:00:00   \n",
       "4  KHR_MS_4    Muneer Kishwar Baig    Aun Haroon Baig  1979-06-16 00:00:00   \n",
       "\n",
       "  Gender   Reg Date Reg Status Degree Status  \\\n",
       "0      F 2001-08-16          A             C   \n",
       "1      M 2001-08-13          A             C   \n",
       "2      F 2001-08-17          A             C   \n",
       "3      M 2001-08-20          A             C   \n",
       "4      M 2001-08-23          A             C   \n",
       "\n",
       "                                             Address Qualification Degree  \n",
       "0                      Ho. #  910 S#  79 Mandi Sibbi           MSc     MS  \n",
       "1                 H#  169 s#  0 Defense Phase IV KHR        M.Phil     MS  \n",
       "2     ho. #  484 street #  95 Buliyan wali Usman Kot           MSc     MS  \n",
       "3   House No. 31 street #  91 Sultan coloney Karachi            BS     MS  \n",
       "4  Ho. # 345 S# 86  Cement factory coloney Chishtian           MSc     MS  "
      ],
      "text/html": "<div>\n<style scoped>\n    .dataframe tbody tr th:only-of-type {\n        vertical-align: middle;\n    }\n\n    .dataframe tbody tr th {\n        vertical-align: top;\n    }\n\n    .dataframe thead th {\n        text-align: right;\n    }\n</style>\n<table border=\"1\" class=\"dataframe\">\n  <thead>\n    <tr style=\"text-align: right;\">\n      <th></th>\n      <th>SID</th>\n      <th>Name</th>\n      <th>Father</th>\n      <th>DoB</th>\n      <th>Gender</th>\n      <th>Reg Date</th>\n      <th>Reg Status</th>\n      <th>Degree Status</th>\n      <th>Address</th>\n      <th>Qualification</th>\n      <th>Degree</th>\n    </tr>\n  </thead>\n  <tbody>\n    <tr>\n      <th>0</th>\n      <td>KHR_MS_0</td>\n      <td>Rukshanda Ansari</td>\n      <td>Jan Wajid Ansari</td>\n      <td>1979-06-16 00:00:00</td>\n      <td>F</td>\n      <td>2001-08-16</td>\n      <td>A</td>\n      <td>C</td>\n      <td>Ho. #  910 S#  79 Mandi Sibbi</td>\n      <td>MSc</td>\n      <td>MS</td>\n    </tr>\n    <tr>\n      <th>1</th>\n      <td>KHR_MS_1</td>\n      <td>Bulbul Haqqie</td>\n      <td>Aga Salman Haqqie</td>\n      <td>1977-12-13 00:00:00</td>\n      <td>M</td>\n      <td>2001-08-13</td>\n      <td>A</td>\n      <td>C</td>\n      <td>H#  169 s#  0 Defense Phase IV KHR</td>\n      <td>M.Phil</td>\n      <td>MS</td>\n    </tr>\n    <tr>\n      <th>2</th>\n      <td>KHR_MS_2</td>\n      <td>Shamim Bakht</td>\n      <td>Bakht Raza</td>\n      <td>1979-09-13 00:00:00</td>\n      <td>F</td>\n      <td>2001-08-17</td>\n      <td>A</td>\n      <td>C</td>\n      <td>ho. #  484 street #  95 Buliyan wali Usman Kot</td>\n      <td>MSc</td>\n      <td>MS</td>\n    </tr>\n    <tr>\n      <th>3</th>\n      <td>KHR_MS_3</td>\n      <td>Mohammad Yawar Haqqie</td>\n      <td>Mumtaz Haqqie</td>\n      <td>1979-09-15 00:00:00</td>\n      <td>M</td>\n      <td>2001-08-20</td>\n      <td>A</td>\n      <td>C</td>\n      <td>House No. 31 street #  91 Sultan coloney Karachi</td>\n      <td>BS</td>\n      <td>MS</td>\n    </tr>\n    <tr>\n      <th>4</th>\n      <td>KHR_MS_4</td>\n      <td>Muneer Kishwar Baig</td>\n      <td>Aun Haroon Baig</td>\n      <td>1979-06-16 00:00:00</td>\n      <td>M</td>\n      <td>2001-08-23</td>\n      <td>A</td>\n      <td>C</td>\n      <td>Ho. # 345 S# 86  Cement factory coloney Chishtian</td>\n      <td>MSc</td>\n      <td>MS</td>\n    </tr>\n  </tbody>\n</table>\n</div>"
     },
     "metadata": {},
     "execution_count": 14
    }
   ],
   "source": [
    "df_ms_std.head()"
   ]
  },
  {
   "cell_type": "code",
   "execution_count": 15,
   "metadata": {},
   "outputs": [
    {
     "output_type": "execute_result",
     "data": {
      "text/plain": [
       "                SID             Name        Father                  DoB  \\\n",
       "count          1600             1600          1600                 1600   \n",
       "unique         1600             1583          1575                 1102   \n",
       "top     KHR_MS_1008  Khurshid Usmani  Arif Jaffery  1979-10-07 00:00:00   \n",
       "freq              1                2             2                    4   \n",
       "first           NaN              NaN           NaN                  NaN   \n",
       "last            NaN              NaN           NaN                  NaN   \n",
       "\n",
       "       Gender             Reg Date Reg Status Degree Status  \\\n",
       "count    1600                 1600       1600          1600   \n",
       "unique      2                  116          1             2   \n",
       "top         M  2003-08-16 00:00:00          A             C   \n",
       "freq     1068                   16       1600          1200   \n",
       "first     NaN  2001-08-01 00:00:00        NaN           NaN   \n",
       "last      NaN  2004-08-29 00:00:00        NaN           NaN   \n",
       "\n",
       "                         Address Qualification Degree  \n",
       "count                       1600          1600   1600  \n",
       "unique                      1600             6      1  \n",
       "top     h no.270 s no.39   Thata            BS     MS  \n",
       "freq                           1           268   1600  \n",
       "first                        NaN           NaN    NaN  \n",
       "last                         NaN           NaN    NaN  "
      ],
      "text/html": "<div>\n<style scoped>\n    .dataframe tbody tr th:only-of-type {\n        vertical-align: middle;\n    }\n\n    .dataframe tbody tr th {\n        vertical-align: top;\n    }\n\n    .dataframe thead th {\n        text-align: right;\n    }\n</style>\n<table border=\"1\" class=\"dataframe\">\n  <thead>\n    <tr style=\"text-align: right;\">\n      <th></th>\n      <th>SID</th>\n      <th>Name</th>\n      <th>Father</th>\n      <th>DoB</th>\n      <th>Gender</th>\n      <th>Reg Date</th>\n      <th>Reg Status</th>\n      <th>Degree Status</th>\n      <th>Address</th>\n      <th>Qualification</th>\n      <th>Degree</th>\n    </tr>\n  </thead>\n  <tbody>\n    <tr>\n      <th>count</th>\n      <td>1600</td>\n      <td>1600</td>\n      <td>1600</td>\n      <td>1600</td>\n      <td>1600</td>\n      <td>1600</td>\n      <td>1600</td>\n      <td>1600</td>\n      <td>1600</td>\n      <td>1600</td>\n      <td>1600</td>\n    </tr>\n    <tr>\n      <th>unique</th>\n      <td>1600</td>\n      <td>1583</td>\n      <td>1575</td>\n      <td>1102</td>\n      <td>2</td>\n      <td>116</td>\n      <td>1</td>\n      <td>2</td>\n      <td>1600</td>\n      <td>6</td>\n      <td>1</td>\n    </tr>\n    <tr>\n      <th>top</th>\n      <td>KHR_MS_1008</td>\n      <td>Khurshid Usmani</td>\n      <td>Arif Jaffery</td>\n      <td>1979-10-07 00:00:00</td>\n      <td>M</td>\n      <td>2003-08-16 00:00:00</td>\n      <td>A</td>\n      <td>C</td>\n      <td>h no.270 s no.39   Thata</td>\n      <td>BS</td>\n      <td>MS</td>\n    </tr>\n    <tr>\n      <th>freq</th>\n      <td>1</td>\n      <td>2</td>\n      <td>2</td>\n      <td>4</td>\n      <td>1068</td>\n      <td>16</td>\n      <td>1600</td>\n      <td>1200</td>\n      <td>1</td>\n      <td>268</td>\n      <td>1600</td>\n    </tr>\n    <tr>\n      <th>first</th>\n      <td>NaN</td>\n      <td>NaN</td>\n      <td>NaN</td>\n      <td>NaN</td>\n      <td>NaN</td>\n      <td>2001-08-01 00:00:00</td>\n      <td>NaN</td>\n      <td>NaN</td>\n      <td>NaN</td>\n      <td>NaN</td>\n      <td>NaN</td>\n    </tr>\n    <tr>\n      <th>last</th>\n      <td>NaN</td>\n      <td>NaN</td>\n      <td>NaN</td>\n      <td>NaN</td>\n      <td>NaN</td>\n      <td>2004-08-29 00:00:00</td>\n      <td>NaN</td>\n      <td>NaN</td>\n      <td>NaN</td>\n      <td>NaN</td>\n      <td>NaN</td>\n    </tr>\n  </tbody>\n</table>\n</div>"
     },
     "metadata": {},
     "execution_count": 15
    }
   ],
   "source": [
    "df_ms_std.describe(include=\"all\")"
   ]
  },
  {
   "cell_type": "code",
   "execution_count": 24,
   "metadata": {},
   "outputs": [],
   "source": [
    "df_std = pd.concat([df_bs_std, df_ms_std], ignore_index=True)"
   ]
  },
  {
   "cell_type": "code",
   "execution_count": 25,
   "metadata": {},
   "outputs": [],
   "source": [
    "# df_std.Gender = df_std.Gender.map({'M': False, 'F': True})"
   ]
  },
  {
   "cell_type": "code",
   "execution_count": 26,
   "metadata": {},
   "outputs": [],
   "source": [
    "df_std[\"Reg Date\"] = pd.to_datetime(df_std[\"Reg Date\"])"
   ]
  },
  {
   "cell_type": "code",
   "execution_count": 27,
   "metadata": {},
   "outputs": [
    {
     "output_type": "execute_result",
     "data": {
      "text/plain": [
       "        SID                     Name                Father  \\\n",
       "0  KHR_BS_0           Hussain Ansary          Ubaid Ansary   \n",
       "1  KHR_BS_1      Shk. Munir Hussaini  Viqar Hamid Hussaini   \n",
       "2  KHR_BS_2  Moeena Momd. Uhad Haque      Momd. Uhad Haque   \n",
       "3  KHR_BS_3        Zeeshan Mustamsir      Mustamsir Danish   \n",
       "4  KHR_BS_4        Sheik Ghazi Haque         Anayyat Haque   \n",
       "\n",
       "                   DoB Gender   Reg Date Reg Status Degree Status  \\\n",
       "0  1974-01-05 00:00:00      M 1994-08-13          A             C   \n",
       "1  1974-12-13 00:00:00      M 1994-08-13          A             C   \n",
       "2  1976-09-13 00:00:00      F 1994-08-17          A             C   \n",
       "3  1976-09-15 00:00:00      M 1994-08-20          A             C   \n",
       "4  1976-06-16 00:00:00      M 1994-08-23          A             C   \n",
       "\n",
       "                                        Address Qualification Degree  \n",
       "0      h# 978 Street No.72  Defense Phase 1 KHR       A-Level     BS  \n",
       "1               H#  169 s#  0 Mutian wala Thata       A-Level     BS  \n",
       "2        ho. #  484 street #  95 Lalu khait khr           Fsc     BS  \n",
       "3  House No. 31 street #  91 Dak ghar Sadiqabad         F.Sc.     BS  \n",
       "4                         Ho. # 345 S# 86   khr           Fsc     BS  "
      ],
      "text/html": "<div>\n<style scoped>\n    .dataframe tbody tr th:only-of-type {\n        vertical-align: middle;\n    }\n\n    .dataframe tbody tr th {\n        vertical-align: top;\n    }\n\n    .dataframe thead th {\n        text-align: right;\n    }\n</style>\n<table border=\"1\" class=\"dataframe\">\n  <thead>\n    <tr style=\"text-align: right;\">\n      <th></th>\n      <th>SID</th>\n      <th>Name</th>\n      <th>Father</th>\n      <th>DoB</th>\n      <th>Gender</th>\n      <th>Reg Date</th>\n      <th>Reg Status</th>\n      <th>Degree Status</th>\n      <th>Address</th>\n      <th>Qualification</th>\n      <th>Degree</th>\n    </tr>\n  </thead>\n  <tbody>\n    <tr>\n      <th>0</th>\n      <td>KHR_BS_0</td>\n      <td>Hussain Ansary</td>\n      <td>Ubaid Ansary</td>\n      <td>1974-01-05 00:00:00</td>\n      <td>M</td>\n      <td>1994-08-13</td>\n      <td>A</td>\n      <td>C</td>\n      <td>h# 978 Street No.72  Defense Phase 1 KHR</td>\n      <td>A-Level</td>\n      <td>BS</td>\n    </tr>\n    <tr>\n      <th>1</th>\n      <td>KHR_BS_1</td>\n      <td>Shk. Munir Hussaini</td>\n      <td>Viqar Hamid Hussaini</td>\n      <td>1974-12-13 00:00:00</td>\n      <td>M</td>\n      <td>1994-08-13</td>\n      <td>A</td>\n      <td>C</td>\n      <td>H#  169 s#  0 Mutian wala Thata</td>\n      <td>A-Level</td>\n      <td>BS</td>\n    </tr>\n    <tr>\n      <th>2</th>\n      <td>KHR_BS_2</td>\n      <td>Moeena Momd. Uhad Haque</td>\n      <td>Momd. Uhad Haque</td>\n      <td>1976-09-13 00:00:00</td>\n      <td>F</td>\n      <td>1994-08-17</td>\n      <td>A</td>\n      <td>C</td>\n      <td>ho. #  484 street #  95 Lalu khait khr</td>\n      <td>Fsc</td>\n      <td>BS</td>\n    </tr>\n    <tr>\n      <th>3</th>\n      <td>KHR_BS_3</td>\n      <td>Zeeshan Mustamsir</td>\n      <td>Mustamsir Danish</td>\n      <td>1976-09-15 00:00:00</td>\n      <td>M</td>\n      <td>1994-08-20</td>\n      <td>A</td>\n      <td>C</td>\n      <td>House No. 31 street #  91 Dak ghar Sadiqabad</td>\n      <td>F.Sc.</td>\n      <td>BS</td>\n    </tr>\n    <tr>\n      <th>4</th>\n      <td>KHR_BS_4</td>\n      <td>Sheik Ghazi Haque</td>\n      <td>Anayyat Haque</td>\n      <td>1976-06-16 00:00:00</td>\n      <td>M</td>\n      <td>1994-08-23</td>\n      <td>A</td>\n      <td>C</td>\n      <td>Ho. # 345 S# 86   khr</td>\n      <td>Fsc</td>\n      <td>BS</td>\n    </tr>\n  </tbody>\n</table>\n</div>"
     },
     "metadata": {},
     "execution_count": 27
    }
   ],
   "source": [
    "df_std.head()"
   ]
  },
  {
   "cell_type": "code",
   "execution_count": 28,
   "metadata": {},
   "outputs": [
    {
     "output_type": "execute_result",
     "data": {
      "text/plain": [
       "                SID          Name      Father                  DoB Gender  \\\n",
       "count          8201          8201        8201                 8201   8201   \n",
       "unique         8201          7043        7041                 3742      2   \n",
       "top     KHR_BS_5083  Daud Kiyyani  Umar Pasha  1979-03-10 00:00:00      M   \n",
       "freq              1             5           4                    7   5471   \n",
       "first           NaN           NaN         NaN                  NaN    NaN   \n",
       "last            NaN           NaN         NaN                  NaN    NaN   \n",
       "\n",
       "                   Reg Date Reg Status Degree Status  \\\n",
       "count                  8201       8201          8201   \n",
       "unique                  320          2             2   \n",
       "top     2003-08-16 00:00:00          A             C   \n",
       "freq                     38       8200          6000   \n",
       "first   1994-08-01 00:00:00        NaN           NaN   \n",
       "last    2005-01-01 00:00:00        NaN           NaN   \n",
       "\n",
       "                                        Address Qualification Degree  \n",
       "count                                      8201          8201   8201  \n",
       "unique                                     7418            12      2  \n",
       "top     house # 467 Street # 30  Taj abad Thata       A-Level     BS  \n",
       "freq                                          2          1103   6601  \n",
       "first                                       NaN           NaN    NaN  \n",
       "last                                        NaN           NaN    NaN  "
      ],
      "text/html": "<div>\n<style scoped>\n    .dataframe tbody tr th:only-of-type {\n        vertical-align: middle;\n    }\n\n    .dataframe tbody tr th {\n        vertical-align: top;\n    }\n\n    .dataframe thead th {\n        text-align: right;\n    }\n</style>\n<table border=\"1\" class=\"dataframe\">\n  <thead>\n    <tr style=\"text-align: right;\">\n      <th></th>\n      <th>SID</th>\n      <th>Name</th>\n      <th>Father</th>\n      <th>DoB</th>\n      <th>Gender</th>\n      <th>Reg Date</th>\n      <th>Reg Status</th>\n      <th>Degree Status</th>\n      <th>Address</th>\n      <th>Qualification</th>\n      <th>Degree</th>\n    </tr>\n  </thead>\n  <tbody>\n    <tr>\n      <th>count</th>\n      <td>8201</td>\n      <td>8201</td>\n      <td>8201</td>\n      <td>8201</td>\n      <td>8201</td>\n      <td>8201</td>\n      <td>8201</td>\n      <td>8201</td>\n      <td>8201</td>\n      <td>8201</td>\n      <td>8201</td>\n    </tr>\n    <tr>\n      <th>unique</th>\n      <td>8201</td>\n      <td>7043</td>\n      <td>7041</td>\n      <td>3742</td>\n      <td>2</td>\n      <td>320</td>\n      <td>2</td>\n      <td>2</td>\n      <td>7418</td>\n      <td>12</td>\n      <td>2</td>\n    </tr>\n    <tr>\n      <th>top</th>\n      <td>KHR_BS_5083</td>\n      <td>Daud Kiyyani</td>\n      <td>Umar Pasha</td>\n      <td>1979-03-10 00:00:00</td>\n      <td>M</td>\n      <td>2003-08-16 00:00:00</td>\n      <td>A</td>\n      <td>C</td>\n      <td>house # 467 Street # 30  Taj abad Thata</td>\n      <td>A-Level</td>\n      <td>BS</td>\n    </tr>\n    <tr>\n      <th>freq</th>\n      <td>1</td>\n      <td>5</td>\n      <td>4</td>\n      <td>7</td>\n      <td>5471</td>\n      <td>38</td>\n      <td>8200</td>\n      <td>6000</td>\n      <td>2</td>\n      <td>1103</td>\n      <td>6601</td>\n    </tr>\n    <tr>\n      <th>first</th>\n      <td>NaN</td>\n      <td>NaN</td>\n      <td>NaN</td>\n      <td>NaN</td>\n      <td>NaN</td>\n      <td>1994-08-01 00:00:00</td>\n      <td>NaN</td>\n      <td>NaN</td>\n      <td>NaN</td>\n      <td>NaN</td>\n      <td>NaN</td>\n    </tr>\n    <tr>\n      <th>last</th>\n      <td>NaN</td>\n      <td>NaN</td>\n      <td>NaN</td>\n      <td>NaN</td>\n      <td>NaN</td>\n      <td>2005-01-01 00:00:00</td>\n      <td>NaN</td>\n      <td>NaN</td>\n      <td>NaN</td>\n      <td>NaN</td>\n      <td>NaN</td>\n    </tr>\n  </tbody>\n</table>\n</div>"
     },
     "metadata": {},
     "execution_count": 28
    }
   ],
   "source": [
    "df_std.describe(include=\"all\")"
   ]
  },
  {
   "cell_type": "code",
   "execution_count": 29,
   "metadata": {},
   "outputs": [],
   "source": [
    "dob = pd.to_datetime(df_std.DoB, errors=\"coerce\")"
   ]
  },
  {
   "cell_type": "code",
   "execution_count": 30,
   "metadata": {},
   "outputs": [
    {
     "output_type": "execute_result",
     "data": {
      "text/plain": [
       "              SID                     Name                      Father  \\\n",
       "290    KHR_BS_290              Qasim Rehan                Rehan Nabeel   \n",
       "1551  KHR_BS_2151               Affan Baig     Mohammad Sheharyar Baig   \n",
       "2662  KHR_BS_1462              Annan Satti           Husain Alam Satti   \n",
       "2731  KHR_BS_1531            Hadiqa Abuzar              Abuzar Zeeshan   \n",
       "4266  KHR_BS_4266             Shafaq Ahmed                  Ahmed Ajab   \n",
       "4749  KHR_BS_4749         Sumiyya Khanzada               Arif Khanzada   \n",
       "4886  KHR_BS_4886      Khushbakht Khanzada         Sh. Sarwar Khanzada   \n",
       "4887  KHR_BS_4887          Shabir Hussaini      Syyed Muazzum Hussaini   \n",
       "5438  KHR_BS_5438  Aga Abdus Sammi Khattak  Abdul Qadeer Ikram Khattak   \n",
       "6059  KHR_BS_6059           Arsalan Chohan           Rabbi Daud Chohan   \n",
       "6265  KHR_BS_6265             Amina Muslim              Muslim Shujaat   \n",
       "6891   KHR_MS_290        Sonia Shaheen Haq                 Shaheen Haq   \n",
       "8063  KHR_MS_1462  Mouhammad Ghani Paracha        Rehmat Kabir Paracha   \n",
       "8132  KHR_MS_1531               Arif Amjad               Amjad Inayyat   \n",
       "\n",
       "            DoB Gender   Reg Date Reg Status Degree Status  \\\n",
       "290   29/Feb/75      M 1994-08-29          A             C   \n",
       "1551  29/Feb/79      M 1997-08-16          A             C   \n",
       "2662  29/Feb/78      M 1996-08-28          A             C   \n",
       "2731  29/Feb/77      F 1996-08-22          A             C   \n",
       "4266  29/Feb/82      F 2001-08-21          A             C   \n",
       "4749  29/Feb/83      F 2001-08-03          A             C   \n",
       "4886  29/Feb/83      F 2002-08-16          A             I   \n",
       "4887  29/Feb/83      M 2002-08-19          A             I   \n",
       "5438  29/Feb/85      M 2003-08-20          A             I   \n",
       "6059  29/Feb/86      M 2004-08-18          A             I   \n",
       "6265  29/Feb/85      F 2004-08-24          A             I   \n",
       "6891  29/Feb/78      F 2001-08-29          A             C   \n",
       "8063  29/Feb/82      M 2004-08-28          A             I   \n",
       "8132  29/Feb/81      M 2004-08-22          A             I   \n",
       "\n",
       "                                                Address Qualification Degree  \n",
       "290       Ho. No. 193 St. No. 14 Chand mari Mirpur Khas       A level     BS  \n",
       "1551       house no.568 St. No.52  Zeenat block Karachi         F.Sc.     BS  \n",
       "2662                House No.483 St. No.37  Dehri Thata         F.Sc.     BS  \n",
       "2731                h no. 292 St. No. 38 Koral Umer Kot          HSSC     BS  \n",
       "4266          Ho. No.405 St. No.57  Doley shah Umer Kot       A level     BS  \n",
       "4749   house no. 609 St. No. 98 Shah latif town Karachi         F.Sc.     BS  \n",
       "4886            h no. 681 St. No. 4 Pwd Coloney KARACHI          HSSC     BS  \n",
       "4887            Ho. No. 996 St. No. 67 Sultana abad Khr       A level     BS  \n",
       "5438  House No. 694 St. No. 13 Cement factory colone...         F.Sc.     BS  \n",
       "6059         House No.285 St. No.23  Dhamiyal Chishtian         F.Sc.     BS  \n",
       "6265          Ho. No. 168 St. No. 97 Garrizon Sadiqabad       A level     BS  \n",
       "6891                        Ho. No. 193 St. No. 14  Khr          M.Sc     MS  \n",
       "8063                House No.483 St. No.37  Dehri Thata            BS     MS  \n",
       "8132                h no. 292 St. No. 38 Koral Umer Kot            MS     MS  "
      ],
      "text/html": "<div>\n<style scoped>\n    .dataframe tbody tr th:only-of-type {\n        vertical-align: middle;\n    }\n\n    .dataframe tbody tr th {\n        vertical-align: top;\n    }\n\n    .dataframe thead th {\n        text-align: right;\n    }\n</style>\n<table border=\"1\" class=\"dataframe\">\n  <thead>\n    <tr style=\"text-align: right;\">\n      <th></th>\n      <th>SID</th>\n      <th>Name</th>\n      <th>Father</th>\n      <th>DoB</th>\n      <th>Gender</th>\n      <th>Reg Date</th>\n      <th>Reg Status</th>\n      <th>Degree Status</th>\n      <th>Address</th>\n      <th>Qualification</th>\n      <th>Degree</th>\n    </tr>\n  </thead>\n  <tbody>\n    <tr>\n      <th>290</th>\n      <td>KHR_BS_290</td>\n      <td>Qasim Rehan</td>\n      <td>Rehan Nabeel</td>\n      <td>29/Feb/75</td>\n      <td>M</td>\n      <td>1994-08-29</td>\n      <td>A</td>\n      <td>C</td>\n      <td>Ho. No. 193 St. No. 14 Chand mari Mirpur Khas</td>\n      <td>A level</td>\n      <td>BS</td>\n    </tr>\n    <tr>\n      <th>1551</th>\n      <td>KHR_BS_2151</td>\n      <td>Affan Baig</td>\n      <td>Mohammad Sheharyar Baig</td>\n      <td>29/Feb/79</td>\n      <td>M</td>\n      <td>1997-08-16</td>\n      <td>A</td>\n      <td>C</td>\n      <td>house no.568 St. No.52  Zeenat block Karachi</td>\n      <td>F.Sc.</td>\n      <td>BS</td>\n    </tr>\n    <tr>\n      <th>2662</th>\n      <td>KHR_BS_1462</td>\n      <td>Annan Satti</td>\n      <td>Husain Alam Satti</td>\n      <td>29/Feb/78</td>\n      <td>M</td>\n      <td>1996-08-28</td>\n      <td>A</td>\n      <td>C</td>\n      <td>House No.483 St. No.37  Dehri Thata</td>\n      <td>F.Sc.</td>\n      <td>BS</td>\n    </tr>\n    <tr>\n      <th>2731</th>\n      <td>KHR_BS_1531</td>\n      <td>Hadiqa Abuzar</td>\n      <td>Abuzar Zeeshan</td>\n      <td>29/Feb/77</td>\n      <td>F</td>\n      <td>1996-08-22</td>\n      <td>A</td>\n      <td>C</td>\n      <td>h no. 292 St. No. 38 Koral Umer Kot</td>\n      <td>HSSC</td>\n      <td>BS</td>\n    </tr>\n    <tr>\n      <th>4266</th>\n      <td>KHR_BS_4266</td>\n      <td>Shafaq Ahmed</td>\n      <td>Ahmed Ajab</td>\n      <td>29/Feb/82</td>\n      <td>F</td>\n      <td>2001-08-21</td>\n      <td>A</td>\n      <td>C</td>\n      <td>Ho. No.405 St. No.57  Doley shah Umer Kot</td>\n      <td>A level</td>\n      <td>BS</td>\n    </tr>\n    <tr>\n      <th>4749</th>\n      <td>KHR_BS_4749</td>\n      <td>Sumiyya Khanzada</td>\n      <td>Arif Khanzada</td>\n      <td>29/Feb/83</td>\n      <td>F</td>\n      <td>2001-08-03</td>\n      <td>A</td>\n      <td>C</td>\n      <td>house no. 609 St. No. 98 Shah latif town Karachi</td>\n      <td>F.Sc.</td>\n      <td>BS</td>\n    </tr>\n    <tr>\n      <th>4886</th>\n      <td>KHR_BS_4886</td>\n      <td>Khushbakht Khanzada</td>\n      <td>Sh. Sarwar Khanzada</td>\n      <td>29/Feb/83</td>\n      <td>F</td>\n      <td>2002-08-16</td>\n      <td>A</td>\n      <td>I</td>\n      <td>h no. 681 St. No. 4 Pwd Coloney KARACHI</td>\n      <td>HSSC</td>\n      <td>BS</td>\n    </tr>\n    <tr>\n      <th>4887</th>\n      <td>KHR_BS_4887</td>\n      <td>Shabir Hussaini</td>\n      <td>Syyed Muazzum Hussaini</td>\n      <td>29/Feb/83</td>\n      <td>M</td>\n      <td>2002-08-19</td>\n      <td>A</td>\n      <td>I</td>\n      <td>Ho. No. 996 St. No. 67 Sultana abad Khr</td>\n      <td>A level</td>\n      <td>BS</td>\n    </tr>\n    <tr>\n      <th>5438</th>\n      <td>KHR_BS_5438</td>\n      <td>Aga Abdus Sammi Khattak</td>\n      <td>Abdul Qadeer Ikram Khattak</td>\n      <td>29/Feb/85</td>\n      <td>M</td>\n      <td>2003-08-20</td>\n      <td>A</td>\n      <td>I</td>\n      <td>House No. 694 St. No. 13 Cement factory colone...</td>\n      <td>F.Sc.</td>\n      <td>BS</td>\n    </tr>\n    <tr>\n      <th>6059</th>\n      <td>KHR_BS_6059</td>\n      <td>Arsalan Chohan</td>\n      <td>Rabbi Daud Chohan</td>\n      <td>29/Feb/86</td>\n      <td>M</td>\n      <td>2004-08-18</td>\n      <td>A</td>\n      <td>I</td>\n      <td>House No.285 St. No.23  Dhamiyal Chishtian</td>\n      <td>F.Sc.</td>\n      <td>BS</td>\n    </tr>\n    <tr>\n      <th>6265</th>\n      <td>KHR_BS_6265</td>\n      <td>Amina Muslim</td>\n      <td>Muslim Shujaat</td>\n      <td>29/Feb/85</td>\n      <td>F</td>\n      <td>2004-08-24</td>\n      <td>A</td>\n      <td>I</td>\n      <td>Ho. No. 168 St. No. 97 Garrizon Sadiqabad</td>\n      <td>A level</td>\n      <td>BS</td>\n    </tr>\n    <tr>\n      <th>6891</th>\n      <td>KHR_MS_290</td>\n      <td>Sonia Shaheen Haq</td>\n      <td>Shaheen Haq</td>\n      <td>29/Feb/78</td>\n      <td>F</td>\n      <td>2001-08-29</td>\n      <td>A</td>\n      <td>C</td>\n      <td>Ho. No. 193 St. No. 14  Khr</td>\n      <td>M.Sc</td>\n      <td>MS</td>\n    </tr>\n    <tr>\n      <th>8063</th>\n      <td>KHR_MS_1462</td>\n      <td>Mouhammad Ghani Paracha</td>\n      <td>Rehmat Kabir Paracha</td>\n      <td>29/Feb/82</td>\n      <td>M</td>\n      <td>2004-08-28</td>\n      <td>A</td>\n      <td>I</td>\n      <td>House No.483 St. No.37  Dehri Thata</td>\n      <td>BS</td>\n      <td>MS</td>\n    </tr>\n    <tr>\n      <th>8132</th>\n      <td>KHR_MS_1531</td>\n      <td>Arif Amjad</td>\n      <td>Amjad Inayyat</td>\n      <td>29/Feb/81</td>\n      <td>M</td>\n      <td>2004-08-22</td>\n      <td>A</td>\n      <td>I</td>\n      <td>h no. 292 St. No. 38 Koral Umer Kot</td>\n      <td>MS</td>\n      <td>MS</td>\n    </tr>\n  </tbody>\n</table>\n</div>"
     },
     "metadata": {},
     "execution_count": 30
    }
   ],
   "source": [
    "df_std[dob.isnull()]"
   ]
  },
  {
   "cell_type": "code",
   "execution_count": null,
   "metadata": {},
   "outputs": [],
   "source": []
  },
  {
   "cell_type": "code",
   "execution_count": null,
   "metadata": {},
   "outputs": [],
   "source": []
  },
  {
   "source": [
    "# Store Student data in DB"
   ],
   "cell_type": "markdown",
   "metadata": {}
  },
  {
   "cell_type": "code",
   "execution_count": 31,
   "metadata": {},
   "outputs": [
    {
     "output_type": "stream",
     "name": "stdout",
     "text": [
      "2020-11-15 14:38:49,264 INFO sqlalchemy.engine.base.Engine SELECT CAST('test plain returns' AS VARCHAR(60)) AS anon_1\n",
      "2020-11-15 14:38:49,266 INFO sqlalchemy.engine.base.Engine ()\n",
      "2020-11-15 14:38:49,268 INFO sqlalchemy.engine.base.Engine SELECT CAST('test unicode returns' AS VARCHAR(60)) AS anon_1\n",
      "2020-11-15 14:38:49,268 INFO sqlalchemy.engine.base.Engine ()\n"
     ]
    }
   ],
   "source": [
    "engine = create_engine('sqlite:///University.db', echo=True)\n",
    "sqlite_connection = engine.connect()"
   ]
  },
  {
   "cell_type": "code",
   "execution_count": 32,
   "metadata": {},
   "outputs": [
    {
     "output_type": "stream",
     "name": "stdout",
     "text": [
      "2020-11-15 14:38:50,417 INFO sqlalchemy.engine.base.Engine PRAGMA main.table_info(\"KHR_Student\")\n",
      "2020-11-15 14:38:50,418 INFO sqlalchemy.engine.base.Engine ()\n",
      "2020-11-15 14:38:50,420 INFO sqlalchemy.engine.base.Engine PRAGMA main.table_info(\"KHR_Student\")\n",
      "2020-11-15 14:38:50,421 INFO sqlalchemy.engine.base.Engine ()\n",
      "2020-11-15 14:38:50,424 INFO sqlalchemy.engine.base.Engine SELECT name FROM sqlite_master WHERE type='table' ORDER BY name\n",
      "2020-11-15 14:38:50,426 INFO sqlalchemy.engine.base.Engine ()\n",
      "2020-11-15 14:38:50,428 INFO sqlalchemy.engine.base.Engine PRAGMA main.table_xinfo(\"KHR_Student\")\n",
      "2020-11-15 14:38:50,429 INFO sqlalchemy.engine.base.Engine ()\n",
      "2020-11-15 14:38:50,433 INFO sqlalchemy.engine.base.Engine SELECT sql FROM  (SELECT * FROM sqlite_master UNION ALL   SELECT * FROM sqlite_temp_master) WHERE name = ? AND type = 'table'\n",
      "2020-11-15 14:38:50,434 INFO sqlalchemy.engine.base.Engine ('KHR_Student',)\n",
      "2020-11-15 14:38:50,435 INFO sqlalchemy.engine.base.Engine PRAGMA main.foreign_key_list(\"KHR_Student\")\n",
      "2020-11-15 14:38:50,437 INFO sqlalchemy.engine.base.Engine ()\n",
      "2020-11-15 14:38:50,439 INFO sqlalchemy.engine.base.Engine PRAGMA temp.foreign_key_list(\"KHR_Student\")\n",
      "2020-11-15 14:38:50,440 INFO sqlalchemy.engine.base.Engine ()\n",
      "2020-11-15 14:38:50,441 INFO sqlalchemy.engine.base.Engine SELECT sql FROM  (SELECT * FROM sqlite_master UNION ALL   SELECT * FROM sqlite_temp_master) WHERE name = ? AND type = 'table'\n",
      "2020-11-15 14:38:50,443 INFO sqlalchemy.engine.base.Engine ('KHR_Student',)\n",
      "2020-11-15 14:38:50,446 INFO sqlalchemy.engine.base.Engine PRAGMA main.index_list(\"KHR_Student\")\n",
      "2020-11-15 14:38:50,447 INFO sqlalchemy.engine.base.Engine ()\n",
      "2020-11-15 14:38:50,448 INFO sqlalchemy.engine.base.Engine PRAGMA main.index_list(\"KHR_Student\")\n",
      "2020-11-15 14:38:50,449 INFO sqlalchemy.engine.base.Engine ()\n",
      "2020-11-15 14:38:50,451 INFO sqlalchemy.engine.base.Engine PRAGMA main.index_info(\"sqlite_autoindex_KHR_Student_1\")\n",
      "2020-11-15 14:38:50,452 INFO sqlalchemy.engine.base.Engine ()\n",
      "2020-11-15 14:38:50,453 INFO sqlalchemy.engine.base.Engine SELECT sql FROM  (SELECT * FROM sqlite_master UNION ALL   SELECT * FROM sqlite_temp_master) WHERE name = ? AND type = 'table'\n",
      "2020-11-15 14:38:50,454 INFO sqlalchemy.engine.base.Engine ('KHR_Student',)\n",
      "2020-11-15 14:38:50,458 INFO sqlalchemy.engine.base.Engine \n",
      "DROP TABLE \"KHR_Student\"\n",
      "2020-11-15 14:38:50,459 INFO sqlalchemy.engine.base.Engine ()\n",
      "2020-11-15 14:38:50,483 INFO sqlalchemy.engine.base.Engine COMMIT\n",
      "2020-11-15 14:38:50,486 INFO sqlalchemy.engine.base.Engine \n",
      "CREATE TABLE \"KHR_Student\" (\n",
      "\t\"SID\" TEXT, \n",
      "\t\"Name\" TEXT, \n",
      "\t\"Father\" TEXT, \n",
      "\t\"DoB\" TEXT, \n",
      "\t\"Gender\" VARCHAR(1), \n",
      "\t\"Reg Date\" DATETIME, \n",
      "\t\"Reg Status\" VARCHAR(1), \n",
      "\t\"Degree Status\" VARCHAR(1), \n",
      "\t\"Address\" TEXT, \n",
      "\t\"Qualification\" TEXT, \n",
      "\t\"Degree\" VARCHAR(2)\n",
      ")\n",
      "\n",
      "\n",
      "2020-11-15 14:38:50,488 INFO sqlalchemy.engine.base.Engine ()\n",
      "2020-11-15 14:38:50,493 INFO sqlalchemy.engine.base.Engine COMMIT\n",
      "2020-11-15 14:38:50,502 INFO sqlalchemy.engine.base.Engine BEGIN (implicit)\n",
      "2020-11-15 14:38:50,595 INFO sqlalchemy.engine.base.Engine INSERT INTO \"KHR_Student\" (\"SID\", \"Name\", \"Father\", \"DoB\", \"Gender\", \"Reg Date\", \"Reg Status\", \"Degree Status\", \"Address\", \"Qualification\", \"Degree\") VALUES (?, ?, ?, ?, ?, ?, ?, ?, ?, ?, ?)\n",
      "2020-11-15 14:38:50,595 INFO sqlalchemy.engine.base.Engine (('KHR_BS_0', 'Hussain Ansary', 'Ubaid Ansary', datetime.datetime(1974, 1, 5, 0, 0), 'M', '1994-08-13 00:00:00.000000', 'A', 'C', 'h# 978 Street No.72  Defense Phase 1 KHR', 'A-Level', 'BS'), ('KHR_BS_1', 'Shk. Munir Hussaini', 'Viqar Hamid Hussaini', datetime.datetime(1974, 12, 13, 0, 0), 'M', '1994-08-13 00:00:00.000000', 'A', 'C', 'H#  169 s#  0 Mutian wala Thata', 'A-Level', 'BS'), ('KHR_BS_2', 'Moeena Momd. Uhad Haque', 'Momd. Uhad Haque', datetime.datetime(1976, 9, 13, 0, 0), 'F', '1994-08-17 00:00:00.000000', 'A', 'C', 'ho. #  484 street #  95 Lalu khait khr', 'Fsc', 'BS'), ('KHR_BS_3', 'Zeeshan Mustamsir', 'Mustamsir Danish', datetime.datetime(1976, 9, 15, 0, 0), 'M', '1994-08-20 00:00:00.000000', 'A', 'C', 'House No. 31 street #  91 Dak ghar Sadiqabad', 'F.Sc.', 'BS'), ('KHR_BS_4', 'Sheik Ghazi Haque', 'Anayyat Haque', datetime.datetime(1976, 6, 16, 0, 0), 'M', '1994-08-23 00:00:00.000000', 'A', 'C', 'Ho. # 345 S# 86   khr', 'Fsc', 'BS'), ('KHR_BS_5', 'Midhat Momin Butt', 'Momin Butt', datetime.datetime(1976, 2, 18, 0, 0), 'F', '1994-08-26 00:00:00.000000', 'A', 'C', 'house no.660 St. No.49  Kala pul Karachi', 'F.Sc.', 'BS'), ('KHR_BS_6', 'Sharif Murtaza Zaidi', 'Yawar Shariq Zaidi', datetime.datetime(1975, 2, 18, 0, 0), 'M', '1994-08-01 00:00:00.000000', 'A', 'C', 'h no.206 St. No.45  Mujahid block Usman Kot', 'HSSC', 'BS'), ('KHR_BS_7', 'Mouhammed Ibraheem Butt', 'Nawabzada Nazeer Butt', datetime.datetime(1975, 11, 20, 0, 0), 'M', '1994-08-04 00:00:00.000000', 'A', 'C', 'Ho. No.521 s no.40  Liaqat abad Khr', 'A level', 'BS')  ... displaying 10 of 8201 total bound parameter sets ...  ('KHR_MS_1598', 'Zulqur nain Haqq', 'Ghani Haqq', datetime.datetime(1981, 5, 26, 0, 0), 'M', '2004-08-09 00:00:00.000000', 'A', 'I', 'Ho. No. 241 S No. 48 Bander road Khr', 'M.Sc', 'MS'), ('KHR_MS_1599', 'Umer Naeem Sherazi', 'Tahir Sherazi', datetime.datetime(1981, 2, 28, 0, 0), 'M', '2004-08-12 00:00:00.000000', 'A', 'I', 'H No. 555 St. No. 43 Landhi KARACHI', 'MS', 'MS'))\n",
      "2020-11-15 14:38:50,647 INFO sqlalchemy.engine.base.Engine COMMIT\n",
      "2020-11-15 14:38:50,658 INFO sqlalchemy.engine.base.Engine SELECT name FROM sqlite_master WHERE type='table' ORDER BY name\n",
      "2020-11-15 14:38:50,659 INFO sqlalchemy.engine.base.Engine ()\n"
     ]
    }
   ],
   "source": [
    "std_table = \"KHR_Student\"\n",
    "df_std.to_sql(\n",
    "    std_table, \n",
    "    sqlite_connection, \n",
    "    if_exists='replace', \n",
    "    index=False, \n",
    "    dtype=std_col_types)"
   ]
  },
  {
   "cell_type": "code",
   "execution_count": 33,
   "metadata": {},
   "outputs": [],
   "source": [
    "sqlite_connection.close()"
   ]
  },
  {
   "cell_type": "code",
   "execution_count": 61,
   "metadata": {},
   "outputs": [],
   "source": [
    "def get_create_table_string(tablename, connection):\n",
    "    sql = \"\"\"\n",
    "    select * from sqlite_master where name = \"{}\" and type = \"table\"\n",
    "    \"\"\".format(tablename) \n",
    "    result = connection.execute(sql)\n",
    "\n",
    "    create_table_string = result.fetchmany()[0][4]\n",
    "    return create_table_string\n",
    "\n",
    "def add_pk_to_create_table_string(create_table_string, colname):\n",
    "    regex = \"(\\n.+{}[^,]+)(,)\".format(colname)\n",
    "    return re.sub(regex, \"\\\\1 PRIMARY KEY,\",  create_table_string, count=1)\n",
    "\n",
    "def add_pk_to_sqlite_table(tablename, index_column, connection):\n",
    "    cts = get_create_table_string(tablename, connection)\n",
    "    cts = add_pk_to_create_table_string(cts, index_column)\n",
    "    template = \"\"\"\n",
    "    BEGIN TRANSACTION;\n",
    "        ALTER TABLE {tablename} RENAME TO {tablename}_old_;\n",
    "\n",
    "        {cts};\n",
    "\n",
    "        INSERT INTO {tablename} SELECT * FROM {tablename}_old_;\n",
    "\n",
    "        DROP TABLE {tablename}_old_;\n",
    "\n",
    "    COMMIT TRANSACTION;\n",
    "    \"\"\"\n",
    "\n",
    "    create_and_drop_sql = template.format(tablename = tablename, cts = cts)\n",
    "    connection.executescript(create_and_drop_sql)\n"
   ]
  },
  {
   "cell_type": "code",
   "execution_count": 66,
   "metadata": {},
   "outputs": [],
   "source": [
    "con = sqlite3.connect(\"University.db\")\n",
    "add_pk_to_sqlite_table(std_table, \"SID\", con)\n",
    "con.close()"
   ]
  },
  {
   "source": [
    "# Process BS Course Reg Table"
   ],
   "cell_type": "markdown",
   "metadata": {}
  },
  {
   "cell_type": "code",
   "execution_count": 3,
   "metadata": {},
   "outputs": [],
   "source": [
    "bs_file = data_dir / \"Reg_BS_KHR.xls\""
   ]
  },
  {
   "cell_type": "code",
   "execution_count": 4,
   "metadata": {},
   "outputs": [],
   "source": [
    "COURSE_COLUMN_NAMES = ['SID', 'Course', 'Score', 'Semester', 'Discipline', 'Degree']"
   ]
  },
  {
   "cell_type": "code",
   "execution_count": 5,
   "metadata": {},
   "outputs": [],
   "source": [
    "reg_col_types = {\n",
    "    \"SID\": Text,\n",
    "    \"Courses\": String(8),\n",
    "    \"Score\": Integer,\n",
    "    \"Semester\":  String(10),\n",
    "    \"Year\": DateTime,\n",
    "    \"Discipline\": String(3),\n",
    "    \"Degree\": String(2)\n",
    "    }"
   ]
  },
  {
   "cell_type": "code",
   "execution_count": 6,
   "metadata": {},
   "outputs": [],
   "source": [
    "df_bs = pd.read_excel(bs_file)\n",
    "df_bs[\"Degree\"] = \"BS\"\n",
    "df_bs.columns = COURSE_COLUMN_NAMES"
   ]
  },
  {
   "cell_type": "code",
   "execution_count": 7,
   "metadata": {},
   "outputs": [],
   "source": [
    "df_bs.SID = \"KHR_BS_\" + df_bs.SID.astype(str)"
   ]
  },
  {
   "cell_type": "code",
   "execution_count": 8,
   "metadata": {},
   "outputs": [
    {
     "output_type": "execute_result",
     "data": {
      "text/plain": [
       "        SID  Course  Score Semester Discipline Degree\n",
       "0  KHR_BS_0  CS-101     72   Fall94         CS     BS\n",
       "1  KHR_BS_0  CS-102     78   Fall94         CS     BS\n",
       "2  KHR_BS_0  CS-103     53   Fall94         CS     BS\n",
       "3  KHR_BS_0  CS-104     58   Fall94         CS     BS\n",
       "4  KHR_BS_0  SS-201     93   Fall94         CS     BS"
      ],
      "text/html": "<div>\n<style scoped>\n    .dataframe tbody tr th:only-of-type {\n        vertical-align: middle;\n    }\n\n    .dataframe tbody tr th {\n        vertical-align: top;\n    }\n\n    .dataframe thead th {\n        text-align: right;\n    }\n</style>\n<table border=\"1\" class=\"dataframe\">\n  <thead>\n    <tr style=\"text-align: right;\">\n      <th></th>\n      <th>SID</th>\n      <th>Course</th>\n      <th>Score</th>\n      <th>Semester</th>\n      <th>Discipline</th>\n      <th>Degree</th>\n    </tr>\n  </thead>\n  <tbody>\n    <tr>\n      <th>0</th>\n      <td>KHR_BS_0</td>\n      <td>CS-101</td>\n      <td>72</td>\n      <td>Fall94</td>\n      <td>CS</td>\n      <td>BS</td>\n    </tr>\n    <tr>\n      <th>1</th>\n      <td>KHR_BS_0</td>\n      <td>CS-102</td>\n      <td>78</td>\n      <td>Fall94</td>\n      <td>CS</td>\n      <td>BS</td>\n    </tr>\n    <tr>\n      <th>2</th>\n      <td>KHR_BS_0</td>\n      <td>CS-103</td>\n      <td>53</td>\n      <td>Fall94</td>\n      <td>CS</td>\n      <td>BS</td>\n    </tr>\n    <tr>\n      <th>3</th>\n      <td>KHR_BS_0</td>\n      <td>CS-104</td>\n      <td>58</td>\n      <td>Fall94</td>\n      <td>CS</td>\n      <td>BS</td>\n    </tr>\n    <tr>\n      <th>4</th>\n      <td>KHR_BS_0</td>\n      <td>SS-201</td>\n      <td>93</td>\n      <td>Fall94</td>\n      <td>CS</td>\n      <td>BS</td>\n    </tr>\n  </tbody>\n</table>\n</div>"
     },
     "metadata": {},
     "execution_count": 8
    }
   ],
   "source": [
    "df_bs.head()"
   ]
  },
  {
   "cell_type": "code",
   "execution_count": 9,
   "metadata": {},
   "outputs": [
    {
     "output_type": "execute_result",
     "data": {
      "text/plain": [
       "               SID  Course         Score Semester Discipline Degree\n",
       "count        57600   57600  57600.000000    57600      57600  57600\n",
       "unique        1200      89           NaN       10          4      1\n",
       "top     KHR_BS_909  CS-103           NaN   Fall96         SE     BS\n",
       "freq            48    1200           NaN     7200      14400  57600\n",
       "mean           NaN     NaN     74.478715      NaN        NaN    NaN\n",
       "std            NaN     NaN     14.439515      NaN        NaN    NaN\n",
       "min            NaN     NaN     50.000000      NaN        NaN    NaN\n",
       "25%            NaN     NaN     62.000000      NaN        NaN    NaN\n",
       "50%            NaN     NaN     74.000000      NaN        NaN    NaN\n",
       "75%            NaN     NaN     87.000000      NaN        NaN    NaN\n",
       "max            NaN     NaN     99.000000      NaN        NaN    NaN"
      ],
      "text/html": "<div>\n<style scoped>\n    .dataframe tbody tr th:only-of-type {\n        vertical-align: middle;\n    }\n\n    .dataframe tbody tr th {\n        vertical-align: top;\n    }\n\n    .dataframe thead th {\n        text-align: right;\n    }\n</style>\n<table border=\"1\" class=\"dataframe\">\n  <thead>\n    <tr style=\"text-align: right;\">\n      <th></th>\n      <th>SID</th>\n      <th>Course</th>\n      <th>Score</th>\n      <th>Semester</th>\n      <th>Discipline</th>\n      <th>Degree</th>\n    </tr>\n  </thead>\n  <tbody>\n    <tr>\n      <th>count</th>\n      <td>57600</td>\n      <td>57600</td>\n      <td>57600.000000</td>\n      <td>57600</td>\n      <td>57600</td>\n      <td>57600</td>\n    </tr>\n    <tr>\n      <th>unique</th>\n      <td>1200</td>\n      <td>89</td>\n      <td>NaN</td>\n      <td>10</td>\n      <td>4</td>\n      <td>1</td>\n    </tr>\n    <tr>\n      <th>top</th>\n      <td>KHR_BS_909</td>\n      <td>CS-103</td>\n      <td>NaN</td>\n      <td>Fall96</td>\n      <td>SE</td>\n      <td>BS</td>\n    </tr>\n    <tr>\n      <th>freq</th>\n      <td>48</td>\n      <td>1200</td>\n      <td>NaN</td>\n      <td>7200</td>\n      <td>14400</td>\n      <td>57600</td>\n    </tr>\n    <tr>\n      <th>mean</th>\n      <td>NaN</td>\n      <td>NaN</td>\n      <td>74.478715</td>\n      <td>NaN</td>\n      <td>NaN</td>\n      <td>NaN</td>\n    </tr>\n    <tr>\n      <th>std</th>\n      <td>NaN</td>\n      <td>NaN</td>\n      <td>14.439515</td>\n      <td>NaN</td>\n      <td>NaN</td>\n      <td>NaN</td>\n    </tr>\n    <tr>\n      <th>min</th>\n      <td>NaN</td>\n      <td>NaN</td>\n      <td>50.000000</td>\n      <td>NaN</td>\n      <td>NaN</td>\n      <td>NaN</td>\n    </tr>\n    <tr>\n      <th>25%</th>\n      <td>NaN</td>\n      <td>NaN</td>\n      <td>62.000000</td>\n      <td>NaN</td>\n      <td>NaN</td>\n      <td>NaN</td>\n    </tr>\n    <tr>\n      <th>50%</th>\n      <td>NaN</td>\n      <td>NaN</td>\n      <td>74.000000</td>\n      <td>NaN</td>\n      <td>NaN</td>\n      <td>NaN</td>\n    </tr>\n    <tr>\n      <th>75%</th>\n      <td>NaN</td>\n      <td>NaN</td>\n      <td>87.000000</td>\n      <td>NaN</td>\n      <td>NaN</td>\n      <td>NaN</td>\n    </tr>\n    <tr>\n      <th>max</th>\n      <td>NaN</td>\n      <td>NaN</td>\n      <td>99.000000</td>\n      <td>NaN</td>\n      <td>NaN</td>\n      <td>NaN</td>\n    </tr>\n  </tbody>\n</table>\n</div>"
     },
     "metadata": {},
     "execution_count": 9
    }
   ],
   "source": [
    "df_bs.describe(include=\"all\")"
   ]
  },
  {
   "source": [
    "# Process MS Course Reg Table"
   ],
   "cell_type": "markdown",
   "metadata": {}
  },
  {
   "cell_type": "code",
   "execution_count": 10,
   "metadata": {},
   "outputs": [],
   "source": [
    "ms_file = data_dir / \"Reg_MS_KHR.xls\""
   ]
  },
  {
   "cell_type": "code",
   "execution_count": 11,
   "metadata": {},
   "outputs": [],
   "source": [
    "df_ms = pd.read_excel(ms_file)\n",
    "df_ms[\"Degree\"] = \"MS\"\n",
    "df_ms.columns = COURSE_COLUMN_NAMES"
   ]
  },
  {
   "cell_type": "code",
   "execution_count": 12,
   "metadata": {},
   "outputs": [],
   "source": [
    "df_ms.SID = \"KHR_MS_\" + df_ms.SID.astype(str)"
   ]
  },
  {
   "cell_type": "code",
   "execution_count": 13,
   "metadata": {},
   "outputs": [
    {
     "output_type": "execute_result",
     "data": {
      "text/plain": [
       "        SID  Course  Score Semester Discipline Degree\n",
       "0  KHR_MS_0  CS-801     79   Fall01      MS-CS     MS\n",
       "1  KHR_MS_0  CS-802     60   Fall01      MS-CS     MS\n",
       "2  KHR_MS_0  CS-703     76   Fall01      MS-CS     MS\n",
       "3  KHR_MS_1  CS-801     50   Fall01      MS-CS     MS\n",
       "4  KHR_MS_1  CS-802     69   Fall01      MS-CS     MS"
      ],
      "text/html": "<div>\n<style scoped>\n    .dataframe tbody tr th:only-of-type {\n        vertical-align: middle;\n    }\n\n    .dataframe tbody tr th {\n        vertical-align: top;\n    }\n\n    .dataframe thead th {\n        text-align: right;\n    }\n</style>\n<table border=\"1\" class=\"dataframe\">\n  <thead>\n    <tr style=\"text-align: right;\">\n      <th></th>\n      <th>SID</th>\n      <th>Course</th>\n      <th>Score</th>\n      <th>Semester</th>\n      <th>Discipline</th>\n      <th>Degree</th>\n    </tr>\n  </thead>\n  <tbody>\n    <tr>\n      <th>0</th>\n      <td>KHR_MS_0</td>\n      <td>CS-801</td>\n      <td>79</td>\n      <td>Fall01</td>\n      <td>MS-CS</td>\n      <td>MS</td>\n    </tr>\n    <tr>\n      <th>1</th>\n      <td>KHR_MS_0</td>\n      <td>CS-802</td>\n      <td>60</td>\n      <td>Fall01</td>\n      <td>MS-CS</td>\n      <td>MS</td>\n    </tr>\n    <tr>\n      <th>2</th>\n      <td>KHR_MS_0</td>\n      <td>CS-703</td>\n      <td>76</td>\n      <td>Fall01</td>\n      <td>MS-CS</td>\n      <td>MS</td>\n    </tr>\n    <tr>\n      <th>3</th>\n      <td>KHR_MS_1</td>\n      <td>CS-801</td>\n      <td>50</td>\n      <td>Fall01</td>\n      <td>MS-CS</td>\n      <td>MS</td>\n    </tr>\n    <tr>\n      <th>4</th>\n      <td>KHR_MS_1</td>\n      <td>CS-802</td>\n      <td>69</td>\n      <td>Fall01</td>\n      <td>MS-CS</td>\n      <td>MS</td>\n    </tr>\n  </tbody>\n</table>\n</div>"
     },
     "metadata": {},
     "execution_count": 13
    }
   ],
   "source": [
    "df_ms.head()"
   ]
  },
  {
   "source": [
    "# Concat BS and MS Course Reg Tables"
   ],
   "cell_type": "markdown",
   "metadata": {}
  },
  {
   "cell_type": "code",
   "execution_count": 15,
   "metadata": {},
   "outputs": [
    {
     "output_type": "execute_result",
     "data": {
      "text/plain": [
       "        SID  Course  Score Semester Discipline Degree\n",
       "0  KHR_BS_0  CS-101     72   Fall94         CS     BS\n",
       "1  KHR_BS_0  CS-102     78   Fall94         CS     BS\n",
       "2  KHR_BS_0  CS-103     53   Fall94         CS     BS\n",
       "3  KHR_BS_0  CS-104     58   Fall94         CS     BS\n",
       "4  KHR_BS_0  SS-201     93   Fall94         CS     BS"
      ],
      "text/html": "<div>\n<style scoped>\n    .dataframe tbody tr th:only-of-type {\n        vertical-align: middle;\n    }\n\n    .dataframe tbody tr th {\n        vertical-align: top;\n    }\n\n    .dataframe thead th {\n        text-align: right;\n    }\n</style>\n<table border=\"1\" class=\"dataframe\">\n  <thead>\n    <tr style=\"text-align: right;\">\n      <th></th>\n      <th>SID</th>\n      <th>Course</th>\n      <th>Score</th>\n      <th>Semester</th>\n      <th>Discipline</th>\n      <th>Degree</th>\n    </tr>\n  </thead>\n  <tbody>\n    <tr>\n      <th>0</th>\n      <td>KHR_BS_0</td>\n      <td>CS-101</td>\n      <td>72</td>\n      <td>Fall94</td>\n      <td>CS</td>\n      <td>BS</td>\n    </tr>\n    <tr>\n      <th>1</th>\n      <td>KHR_BS_0</td>\n      <td>CS-102</td>\n      <td>78</td>\n      <td>Fall94</td>\n      <td>CS</td>\n      <td>BS</td>\n    </tr>\n    <tr>\n      <th>2</th>\n      <td>KHR_BS_0</td>\n      <td>CS-103</td>\n      <td>53</td>\n      <td>Fall94</td>\n      <td>CS</td>\n      <td>BS</td>\n    </tr>\n    <tr>\n      <th>3</th>\n      <td>KHR_BS_0</td>\n      <td>CS-104</td>\n      <td>58</td>\n      <td>Fall94</td>\n      <td>CS</td>\n      <td>BS</td>\n    </tr>\n    <tr>\n      <th>4</th>\n      <td>KHR_BS_0</td>\n      <td>SS-201</td>\n      <td>93</td>\n      <td>Fall94</td>\n      <td>CS</td>\n      <td>BS</td>\n    </tr>\n  </tbody>\n</table>\n</div>"
     },
     "metadata": {},
     "execution_count": 15
    }
   ],
   "source": [
    "df_reg = pd.concat([df_bs, df_ms], ignore_index=True)\n",
    "df_reg.head()"
   ]
  },
  {
   "cell_type": "code",
   "execution_count": 16,
   "metadata": {},
   "outputs": [],
   "source": [
    "df_reg['Year'] = df_reg.Semester.str.extract('(\\d+)')\n",
    "df_reg.Semester = df_reg.Semester.str.replace('\\d+', '')\n",
    "df_reg[\"Year\"] = pd.to_datetime(df_reg[\"Year\"], format='%y')"
   ]
  },
  {
   "cell_type": "code",
   "execution_count": 17,
   "metadata": {},
   "outputs": [
    {
     "output_type": "execute_result",
     "data": {
      "text/plain": [
       "        SID  Course  Score Semester       Year Discipline Degree\n",
       "0  KHR_BS_0  CS-101     72     Fall 1994-01-01         CS     BS\n",
       "1  KHR_BS_0  CS-102     78     Fall 1994-01-01         CS     BS\n",
       "2  KHR_BS_0  CS-103     53     Fall 1994-01-01         CS     BS\n",
       "3  KHR_BS_0  CS-104     58     Fall 1994-01-01         CS     BS\n",
       "4  KHR_BS_0  SS-201     93     Fall 1994-01-01         CS     BS"
      ],
      "text/html": "<div>\n<style scoped>\n    .dataframe tbody tr th:only-of-type {\n        vertical-align: middle;\n    }\n\n    .dataframe tbody tr th {\n        vertical-align: top;\n    }\n\n    .dataframe thead th {\n        text-align: right;\n    }\n</style>\n<table border=\"1\" class=\"dataframe\">\n  <thead>\n    <tr style=\"text-align: right;\">\n      <th></th>\n      <th>SID</th>\n      <th>Course</th>\n      <th>Score</th>\n      <th>Semester</th>\n      <th>Year</th>\n      <th>Discipline</th>\n      <th>Degree</th>\n    </tr>\n  </thead>\n  <tbody>\n    <tr>\n      <th>0</th>\n      <td>KHR_BS_0</td>\n      <td>CS-101</td>\n      <td>72</td>\n      <td>Fall</td>\n      <td>1994-01-01</td>\n      <td>CS</td>\n      <td>BS</td>\n    </tr>\n    <tr>\n      <th>1</th>\n      <td>KHR_BS_0</td>\n      <td>CS-102</td>\n      <td>78</td>\n      <td>Fall</td>\n      <td>1994-01-01</td>\n      <td>CS</td>\n      <td>BS</td>\n    </tr>\n    <tr>\n      <th>2</th>\n      <td>KHR_BS_0</td>\n      <td>CS-103</td>\n      <td>53</td>\n      <td>Fall</td>\n      <td>1994-01-01</td>\n      <td>CS</td>\n      <td>BS</td>\n    </tr>\n    <tr>\n      <th>3</th>\n      <td>KHR_BS_0</td>\n      <td>CS-104</td>\n      <td>58</td>\n      <td>Fall</td>\n      <td>1994-01-01</td>\n      <td>CS</td>\n      <td>BS</td>\n    </tr>\n    <tr>\n      <th>4</th>\n      <td>KHR_BS_0</td>\n      <td>SS-201</td>\n      <td>93</td>\n      <td>Fall</td>\n      <td>1994-01-01</td>\n      <td>CS</td>\n      <td>BS</td>\n    </tr>\n  </tbody>\n</table>\n</div>"
     },
     "metadata": {},
     "execution_count": 17
    }
   ],
   "source": [
    "new_order_reg = ['SID', 'Course', 'Score', 'Semester', 'Year', 'Discipline', 'Degree']\n",
    "df_reg = df_reg[new_order_reg]\n",
    "df_reg.head()"
   ]
  },
  {
   "cell_type": "code",
   "execution_count": 18,
   "metadata": {},
   "outputs": [
    {
     "output_type": "execute_result",
     "data": {
      "text/plain": [
       "                SID  Course         Score Semester                 Year  \\\n",
       "count         74400   74400  74400.000000    74400                74400   \n",
       "unique         2800     120           NaN        2                   11   \n",
       "top     KHR_BS_1021  CS-802           NaN   Spring  1997-01-01 00:00:00   \n",
       "freq             48    1600           NaN    37200                14400   \n",
       "first           NaN     NaN           NaN      NaN  1994-01-01 00:00:00   \n",
       "last            NaN     NaN           NaN      NaN  2005-01-01 00:00:00   \n",
       "mean            NaN     NaN     74.446505      NaN                  NaN   \n",
       "std             NaN     NaN     14.438716      NaN                  NaN   \n",
       "min             NaN     NaN     50.000000      NaN                  NaN   \n",
       "25%             NaN     NaN     62.000000      NaN                  NaN   \n",
       "50%             NaN     NaN     74.000000      NaN                  NaN   \n",
       "75%             NaN     NaN     87.000000      NaN                  NaN   \n",
       "max             NaN     NaN     99.000000      NaN                  NaN   \n",
       "\n",
       "       Discipline Degree  \n",
       "count       74400  74400  \n",
       "unique          8      2  \n",
       "top            SE     BS  \n",
       "freq        14400  57600  \n",
       "first         NaN    NaN  \n",
       "last          NaN    NaN  \n",
       "mean          NaN    NaN  \n",
       "std           NaN    NaN  \n",
       "min           NaN    NaN  \n",
       "25%           NaN    NaN  \n",
       "50%           NaN    NaN  \n",
       "75%           NaN    NaN  \n",
       "max           NaN    NaN  "
      ],
      "text/html": "<div>\n<style scoped>\n    .dataframe tbody tr th:only-of-type {\n        vertical-align: middle;\n    }\n\n    .dataframe tbody tr th {\n        vertical-align: top;\n    }\n\n    .dataframe thead th {\n        text-align: right;\n    }\n</style>\n<table border=\"1\" class=\"dataframe\">\n  <thead>\n    <tr style=\"text-align: right;\">\n      <th></th>\n      <th>SID</th>\n      <th>Course</th>\n      <th>Score</th>\n      <th>Semester</th>\n      <th>Year</th>\n      <th>Discipline</th>\n      <th>Degree</th>\n    </tr>\n  </thead>\n  <tbody>\n    <tr>\n      <th>count</th>\n      <td>74400</td>\n      <td>74400</td>\n      <td>74400.000000</td>\n      <td>74400</td>\n      <td>74400</td>\n      <td>74400</td>\n      <td>74400</td>\n    </tr>\n    <tr>\n      <th>unique</th>\n      <td>2800</td>\n      <td>120</td>\n      <td>NaN</td>\n      <td>2</td>\n      <td>11</td>\n      <td>8</td>\n      <td>2</td>\n    </tr>\n    <tr>\n      <th>top</th>\n      <td>KHR_BS_1021</td>\n      <td>CS-802</td>\n      <td>NaN</td>\n      <td>Spring</td>\n      <td>1997-01-01 00:00:00</td>\n      <td>SE</td>\n      <td>BS</td>\n    </tr>\n    <tr>\n      <th>freq</th>\n      <td>48</td>\n      <td>1600</td>\n      <td>NaN</td>\n      <td>37200</td>\n      <td>14400</td>\n      <td>14400</td>\n      <td>57600</td>\n    </tr>\n    <tr>\n      <th>first</th>\n      <td>NaN</td>\n      <td>NaN</td>\n      <td>NaN</td>\n      <td>NaN</td>\n      <td>1994-01-01 00:00:00</td>\n      <td>NaN</td>\n      <td>NaN</td>\n    </tr>\n    <tr>\n      <th>last</th>\n      <td>NaN</td>\n      <td>NaN</td>\n      <td>NaN</td>\n      <td>NaN</td>\n      <td>2005-01-01 00:00:00</td>\n      <td>NaN</td>\n      <td>NaN</td>\n    </tr>\n    <tr>\n      <th>mean</th>\n      <td>NaN</td>\n      <td>NaN</td>\n      <td>74.446505</td>\n      <td>NaN</td>\n      <td>NaN</td>\n      <td>NaN</td>\n      <td>NaN</td>\n    </tr>\n    <tr>\n      <th>std</th>\n      <td>NaN</td>\n      <td>NaN</td>\n      <td>14.438716</td>\n      <td>NaN</td>\n      <td>NaN</td>\n      <td>NaN</td>\n      <td>NaN</td>\n    </tr>\n    <tr>\n      <th>min</th>\n      <td>NaN</td>\n      <td>NaN</td>\n      <td>50.000000</td>\n      <td>NaN</td>\n      <td>NaN</td>\n      <td>NaN</td>\n      <td>NaN</td>\n    </tr>\n    <tr>\n      <th>25%</th>\n      <td>NaN</td>\n      <td>NaN</td>\n      <td>62.000000</td>\n      <td>NaN</td>\n      <td>NaN</td>\n      <td>NaN</td>\n      <td>NaN</td>\n    </tr>\n    <tr>\n      <th>50%</th>\n      <td>NaN</td>\n      <td>NaN</td>\n      <td>74.000000</td>\n      <td>NaN</td>\n      <td>NaN</td>\n      <td>NaN</td>\n      <td>NaN</td>\n    </tr>\n    <tr>\n      <th>75%</th>\n      <td>NaN</td>\n      <td>NaN</td>\n      <td>87.000000</td>\n      <td>NaN</td>\n      <td>NaN</td>\n      <td>NaN</td>\n      <td>NaN</td>\n    </tr>\n    <tr>\n      <th>max</th>\n      <td>NaN</td>\n      <td>NaN</td>\n      <td>99.000000</td>\n      <td>NaN</td>\n      <td>NaN</td>\n      <td>NaN</td>\n      <td>NaN</td>\n    </tr>\n  </tbody>\n</table>\n</div>"
     },
     "metadata": {},
     "execution_count": 18
    }
   ],
   "source": [
    "df_reg.describe(include=\"all\")"
   ]
  },
  {
   "cell_type": "code",
   "execution_count": 19,
   "metadata": {},
   "outputs": [
    {
     "output_type": "stream",
     "name": "stdout",
     "text": [
      "2020-11-15 12:31:31,437 INFO sqlalchemy.engine.base.Engine SELECT CAST('test plain returns' AS VARCHAR(60)) AS anon_1\n",
      "2020-11-15 12:31:31,437 INFO sqlalchemy.engine.base.Engine ()\n",
      "2020-11-15 12:31:31,438 INFO sqlalchemy.engine.base.Engine SELECT CAST('test unicode returns' AS VARCHAR(60)) AS anon_1\n",
      "2020-11-15 12:31:31,439 INFO sqlalchemy.engine.base.Engine ()\n",
      "2020-11-15 12:31:31,449 INFO sqlalchemy.engine.base.Engine PRAGMA main.table_info(\"KHR_Course_Reg\")\n",
      "2020-11-15 12:31:31,449 INFO sqlalchemy.engine.base.Engine ()\n",
      "2020-11-15 12:31:31,451 INFO sqlalchemy.engine.base.Engine PRAGMA main.table_info(\"KHR_Course_Reg\")\n",
      "2020-11-15 12:31:31,452 INFO sqlalchemy.engine.base.Engine ()\n",
      "2020-11-15 12:31:31,454 INFO sqlalchemy.engine.base.Engine SELECT name FROM sqlite_master WHERE type='table' ORDER BY name\n",
      "2020-11-15 12:31:31,455 INFO sqlalchemy.engine.base.Engine ()\n",
      "2020-11-15 12:31:31,457 INFO sqlalchemy.engine.base.Engine PRAGMA main.table_xinfo(\"KHR_Course_Reg\")\n",
      "2020-11-15 12:31:31,458 INFO sqlalchemy.engine.base.Engine ()\n",
      "2020-11-15 12:31:31,461 INFO sqlalchemy.engine.base.Engine SELECT sql FROM  (SELECT * FROM sqlite_master UNION ALL   SELECT * FROM sqlite_temp_master) WHERE name = ? AND type = 'table'\n",
      "2020-11-15 12:31:31,462 INFO sqlalchemy.engine.base.Engine ('KHR_Course_Reg',)\n",
      "2020-11-15 12:31:31,464 INFO sqlalchemy.engine.base.Engine PRAGMA main.foreign_key_list(\"KHR_Course_Reg\")\n",
      "2020-11-15 12:31:31,465 INFO sqlalchemy.engine.base.Engine ()\n",
      "2020-11-15 12:31:31,466 INFO sqlalchemy.engine.base.Engine SELECT sql FROM  (SELECT * FROM sqlite_master UNION ALL   SELECT * FROM sqlite_temp_master) WHERE name = ? AND type = 'table'\n",
      "2020-11-15 12:31:31,467 INFO sqlalchemy.engine.base.Engine ('KHR_Course_Reg',)\n",
      "2020-11-15 12:31:31,471 INFO sqlalchemy.engine.base.Engine PRAGMA main.table_xinfo(\"KHR_Student\")\n",
      "2020-11-15 12:31:31,472 INFO sqlalchemy.engine.base.Engine ()\n",
      "2020-11-15 12:31:31,474 INFO sqlalchemy.engine.base.Engine SELECT sql FROM  (SELECT * FROM sqlite_master UNION ALL   SELECT * FROM sqlite_temp_master) WHERE name = ? AND type = 'table'\n",
      "2020-11-15 12:31:31,476 INFO sqlalchemy.engine.base.Engine ('KHR_Student',)\n",
      "2020-11-15 12:31:31,478 INFO sqlalchemy.engine.base.Engine PRAGMA main.foreign_key_list(\"KHR_Student\")\n",
      "2020-11-15 12:31:31,480 INFO sqlalchemy.engine.base.Engine ()\n",
      "2020-11-15 12:31:31,481 INFO sqlalchemy.engine.base.Engine PRAGMA temp.foreign_key_list(\"KHR_Student\")\n",
      "2020-11-15 12:31:31,482 INFO sqlalchemy.engine.base.Engine ()\n",
      "2020-11-15 12:31:31,484 INFO sqlalchemy.engine.base.Engine SELECT sql FROM  (SELECT * FROM sqlite_master UNION ALL   SELECT * FROM sqlite_temp_master) WHERE name = ? AND type = 'table'\n",
      "2020-11-15 12:31:31,485 INFO sqlalchemy.engine.base.Engine ('KHR_Student',)\n",
      "2020-11-15 12:31:31,486 INFO sqlalchemy.engine.base.Engine PRAGMA main.index_list(\"KHR_Student\")\n",
      "2020-11-15 12:31:31,488 INFO sqlalchemy.engine.base.Engine ()\n",
      "2020-11-15 12:31:31,489 INFO sqlalchemy.engine.base.Engine PRAGMA main.index_list(\"KHR_Student\")\n",
      "2020-11-15 12:31:31,490 INFO sqlalchemy.engine.base.Engine ()\n",
      "2020-11-15 12:31:31,492 INFO sqlalchemy.engine.base.Engine PRAGMA main.index_info(\"sqlite_autoindex_KHR_Student_1\")\n",
      "2020-11-15 12:31:31,493 INFO sqlalchemy.engine.base.Engine ()\n",
      "2020-11-15 12:31:31,495 INFO sqlalchemy.engine.base.Engine SELECT sql FROM  (SELECT * FROM sqlite_master UNION ALL   SELECT * FROM sqlite_temp_master) WHERE name = ? AND type = 'table'\n",
      "2020-11-15 12:31:31,497 INFO sqlalchemy.engine.base.Engine ('KHR_Student',)\n",
      "2020-11-15 12:31:31,501 INFO sqlalchemy.engine.base.Engine PRAGMA main.index_list(\"KHR_Course_Reg\")\n",
      "2020-11-15 12:31:31,502 INFO sqlalchemy.engine.base.Engine ()\n",
      "2020-11-15 12:31:31,503 INFO sqlalchemy.engine.base.Engine PRAGMA main.index_list(\"KHR_Course_Reg\")\n",
      "2020-11-15 12:31:31,504 INFO sqlalchemy.engine.base.Engine ()\n",
      "2020-11-15 12:31:31,506 INFO sqlalchemy.engine.base.Engine PRAGMA main.index_info(\"sqlite_autoindex_KHR_Course_Reg_1\")\n",
      "2020-11-15 12:31:31,508 INFO sqlalchemy.engine.base.Engine ()\n",
      "2020-11-15 12:31:31,510 INFO sqlalchemy.engine.base.Engine SELECT sql FROM  (SELECT * FROM sqlite_master UNION ALL   SELECT * FROM sqlite_temp_master) WHERE name = ? AND type = 'table'\n",
      "2020-11-15 12:31:31,512 INFO sqlalchemy.engine.base.Engine ('KHR_Course_Reg',)\n",
      "2020-11-15 12:31:31,513 INFO sqlalchemy.engine.base.Engine \n",
      "DROP TABLE \"KHR_Course_Reg\"\n",
      "2020-11-15 12:31:31,515 INFO sqlalchemy.engine.base.Engine ()\n",
      "2020-11-15 12:31:31,588 INFO sqlalchemy.engine.base.Engine COMMIT\n",
      "2020-11-15 12:31:31,591 INFO sqlalchemy.engine.base.Engine \n",
      "CREATE TABLE \"KHR_Course_Reg\" (\n",
      "\t\"index\" BIGINT, \n",
      "\t\"SID\" TEXT, \n",
      "\t\"Course\" TEXT, \n",
      "\t\"Score\" INTEGER, \n",
      "\t\"Semester\" VARCHAR(10), \n",
      "\t\"Year\" DATETIME, \n",
      "\t\"Discipline\" VARCHAR(3), \n",
      "\t\"Degree\" VARCHAR(2)\n",
      ")\n",
      "\n",
      "\n",
      "2020-11-15 12:31:31,591 INFO sqlalchemy.engine.base.Engine ()\n",
      "2020-11-15 12:31:31,597 INFO sqlalchemy.engine.base.Engine COMMIT\n",
      "2020-11-15 12:31:31,599 INFO sqlalchemy.engine.base.Engine CREATE INDEX \"ix_KHR_Course_Reg_index\" ON \"KHR_Course_Reg\" (\"index\")\n",
      "2020-11-15 12:31:31,600 INFO sqlalchemy.engine.base.Engine ()\n",
      "2020-11-15 12:31:31,604 INFO sqlalchemy.engine.base.Engine COMMIT\n",
      "2020-11-15 12:31:31,668 INFO sqlalchemy.engine.base.Engine BEGIN (implicit)\n",
      "2020-11-15 12:31:32,275 INFO sqlalchemy.engine.base.Engine INSERT INTO \"KHR_Course_Reg\" (\"index\", \"SID\", \"Course\", \"Score\", \"Semester\", \"Year\", \"Discipline\", \"Degree\") VALUES (?, ?, ?, ?, ?, ?, ?, ?)\n",
      "2020-11-15 12:31:32,275 INFO sqlalchemy.engine.base.Engine ((0, 'KHR_BS_0', 'CS-101', 72, 'Fall', '1994-01-01 00:00:00.000000', 'CS', 'BS'), (1, 'KHR_BS_0', 'CS-102', 78, 'Fall', '1994-01-01 00:00:00.000000', 'CS', 'BS'), (2, 'KHR_BS_0', 'CS-103', 53, 'Fall', '1994-01-01 00:00:00.000000', 'CS', 'BS'), (3, 'KHR_BS_0', 'CS-104', 58, 'Fall', '1994-01-01 00:00:00.000000', 'CS', 'BS'), (4, 'KHR_BS_0', 'SS-201', 93, 'Fall', '1994-01-01 00:00:00.000000', 'CS', 'BS'), (5, 'KHR_BS_0', 'MS-301', 68, 'Fall', '1994-01-01 00:00:00.000000', 'CS', 'BS'), (6, 'KHR_BS_1', 'CS-101', 50, 'Fall', '1994-01-01 00:00:00.000000', 'CS', 'BS'), (7, 'KHR_BS_1', 'CS-102', 69, 'Fall', '1994-01-01 00:00:00.000000', 'CS', 'BS')  ... displaying 10 of 74400 total bound parameter sets ...  (74398, 'KHR_MS_1599', 'CS-404', 67, 'Spring', '2005-01-01 00:00:00.000000', 'MS-NW', 'MS'), (74399, 'KHR_MS_1599', 'CS-307', 84, 'Spring', '2005-01-01 00:00:00.000000', 'MS-NW', 'MS'))\n",
      "2020-11-15 12:31:32,657 INFO sqlalchemy.engine.base.Engine COMMIT\n",
      "2020-11-15 12:31:32,705 INFO sqlalchemy.engine.base.Engine SELECT name FROM sqlite_master WHERE type='table' ORDER BY name\n",
      "2020-11-15 12:31:32,706 INFO sqlalchemy.engine.base.Engine ()\n"
     ]
    }
   ],
   "source": [
    "engine = create_engine('sqlite:///University.db', echo=True)\n",
    "sqlite_connection = engine.connect()\n",
    "\n",
    "reg_table = \"KHR_Course_Reg\"\n",
    "df_reg.to_sql(\n",
    "    reg_table, \n",
    "    sqlite_connection, \n",
    "    if_exists='replace', \n",
    "    index=True,\n",
    "    dtype=reg_col_types)\n",
    "\n",
    "sqlite_connection.close()"
   ]
  },
  {
   "cell_type": "code",
   "execution_count": null,
   "metadata": {},
   "outputs": [],
   "source": []
  },
  {
   "cell_type": "code",
   "execution_count": null,
   "metadata": {},
   "outputs": [],
   "source": []
  },
  {
   "source": [
    "## Process Semester Table"
   ],
   "cell_type": "markdown",
   "metadata": {}
  },
  {
   "cell_type": "code",
   "execution_count": 149,
   "metadata": {},
   "outputs": [
    {
     "output_type": "execute_result",
     "data": {
      "text/plain": [
       "            semester_name\n",
       "semester_id              \n",
       "0                  Fall94\n",
       "1                Spring95\n",
       "2                  Fall95\n",
       "3                Spring96\n",
       "4                  Fall96\n",
       "5                Spring97\n",
       "6                  Fall97\n",
       "7                Spring98\n",
       "8                  Fall98\n",
       "9                Spring99\n",
       "10                 Fall01\n",
       "11               Spring02\n",
       "12                 Fall02\n",
       "13               Spring03\n",
       "14                 Fall03\n",
       "15               Spring04\n",
       "16                 Fall04\n",
       "17               Spring05"
      ],
      "text/html": "<div>\n<style scoped>\n    .dataframe tbody tr th:only-of-type {\n        vertical-align: middle;\n    }\n\n    .dataframe tbody tr th {\n        vertical-align: top;\n    }\n\n    .dataframe thead th {\n        text-align: right;\n    }\n</style>\n<table border=\"1\" class=\"dataframe\">\n  <thead>\n    <tr style=\"text-align: right;\">\n      <th></th>\n      <th>semester_name</th>\n    </tr>\n    <tr>\n      <th>semester_id</th>\n      <th></th>\n    </tr>\n  </thead>\n  <tbody>\n    <tr>\n      <th>0</th>\n      <td>Fall94</td>\n    </tr>\n    <tr>\n      <th>1</th>\n      <td>Spring95</td>\n    </tr>\n    <tr>\n      <th>2</th>\n      <td>Fall95</td>\n    </tr>\n    <tr>\n      <th>3</th>\n      <td>Spring96</td>\n    </tr>\n    <tr>\n      <th>4</th>\n      <td>Fall96</td>\n    </tr>\n    <tr>\n      <th>5</th>\n      <td>Spring97</td>\n    </tr>\n    <tr>\n      <th>6</th>\n      <td>Fall97</td>\n    </tr>\n    <tr>\n      <th>7</th>\n      <td>Spring98</td>\n    </tr>\n    <tr>\n      <th>8</th>\n      <td>Fall98</td>\n    </tr>\n    <tr>\n      <th>9</th>\n      <td>Spring99</td>\n    </tr>\n    <tr>\n      <th>10</th>\n      <td>Fall01</td>\n    </tr>\n    <tr>\n      <th>11</th>\n      <td>Spring02</td>\n    </tr>\n    <tr>\n      <th>12</th>\n      <td>Fall02</td>\n    </tr>\n    <tr>\n      <th>13</th>\n      <td>Spring03</td>\n    </tr>\n    <tr>\n      <th>14</th>\n      <td>Fall03</td>\n    </tr>\n    <tr>\n      <th>15</th>\n      <td>Spring04</td>\n    </tr>\n    <tr>\n      <th>16</th>\n      <td>Fall04</td>\n    </tr>\n    <tr>\n      <th>17</th>\n      <td>Spring05</td>\n    </tr>\n  </tbody>\n</table>\n</div>"
     },
     "metadata": {},
     "execution_count": 149
    }
   ],
   "source": [
    "semester_table = \"Semesters\"\n",
    "df_sem = pd.DataFrame(df_reg.Semester.unique())\n",
    "df_sem.columns = [\"semester_name\"]\n",
    "df_sem.index.names = ['semester_id']\n",
    "df_sem"
   ]
  },
  {
   "cell_type": "code",
   "execution_count": 150,
   "metadata": {},
   "outputs": [
    {
     "output_type": "stream",
     "name": "stdout",
     "text": [
      "2020-11-14 18:03:12,949 INFO sqlalchemy.engine.base.Engine PRAGMA main.table_info(\"Semesters\")\n",
      "2020-11-14 18:03:12,951 INFO sqlalchemy.engine.base.Engine ()\n",
      "2020-11-14 18:03:12,953 INFO sqlalchemy.engine.base.Engine PRAGMA main.table_info(\"Semesters\")\n",
      "2020-11-14 18:03:12,955 INFO sqlalchemy.engine.base.Engine ()\n",
      "2020-11-14 18:03:12,957 INFO sqlalchemy.engine.base.Engine SELECT name FROM sqlite_master WHERE type='table' ORDER BY name\n",
      "2020-11-14 18:03:12,959 INFO sqlalchemy.engine.base.Engine ()\n",
      "2020-11-14 18:03:12,962 INFO sqlalchemy.engine.base.Engine PRAGMA main.table_xinfo(\"Semesters\")\n",
      "2020-11-14 18:03:12,963 INFO sqlalchemy.engine.base.Engine ()\n",
      "2020-11-14 18:03:12,966 INFO sqlalchemy.engine.base.Engine SELECT sql FROM  (SELECT * FROM sqlite_master UNION ALL   SELECT * FROM sqlite_temp_master) WHERE name = ? AND type = 'table'\n",
      "2020-11-14 18:03:12,968 INFO sqlalchemy.engine.base.Engine ('Semesters',)\n",
      "2020-11-14 18:03:12,970 INFO sqlalchemy.engine.base.Engine PRAGMA main.foreign_key_list(\"Semesters\")\n",
      "2020-11-14 18:03:12,971 INFO sqlalchemy.engine.base.Engine ()\n",
      "2020-11-14 18:03:12,973 INFO sqlalchemy.engine.base.Engine PRAGMA temp.foreign_key_list(\"Semesters\")\n",
      "2020-11-14 18:03:12,974 INFO sqlalchemy.engine.base.Engine ()\n",
      "2020-11-14 18:03:12,976 INFO sqlalchemy.engine.base.Engine SELECT sql FROM  (SELECT * FROM sqlite_master UNION ALL   SELECT * FROM sqlite_temp_master) WHERE name = ? AND type = 'table'\n",
      "2020-11-14 18:03:12,977 INFO sqlalchemy.engine.base.Engine ('Semesters',)\n",
      "2020-11-14 18:03:12,979 INFO sqlalchemy.engine.base.Engine PRAGMA main.index_list(\"Semesters\")\n",
      "2020-11-14 18:03:12,980 INFO sqlalchemy.engine.base.Engine ()\n",
      "2020-11-14 18:03:12,982 INFO sqlalchemy.engine.base.Engine PRAGMA main.index_list(\"Semesters\")\n",
      "2020-11-14 18:03:12,984 INFO sqlalchemy.engine.base.Engine ()\n",
      "2020-11-14 18:03:12,986 INFO sqlalchemy.engine.base.Engine PRAGMA main.index_info(\"sqlite_autoindex_Semesters_1\")\n",
      "2020-11-14 18:03:12,987 INFO sqlalchemy.engine.base.Engine ()\n",
      "2020-11-14 18:03:12,988 INFO sqlalchemy.engine.base.Engine SELECT sql FROM  (SELECT * FROM sqlite_master UNION ALL   SELECT * FROM sqlite_temp_master) WHERE name = ? AND type = 'table'\n",
      "2020-11-14 18:03:12,990 INFO sqlalchemy.engine.base.Engine ('Semesters',)\n",
      "2020-11-14 18:03:12,991 INFO sqlalchemy.engine.base.Engine \n",
      "DROP TABLE \"Semesters\"\n",
      "2020-11-14 18:03:12,992 INFO sqlalchemy.engine.base.Engine ()\n",
      "2020-11-14 18:03:12,996 INFO sqlalchemy.engine.base.Engine COMMIT\n",
      "2020-11-14 18:03:12,998 INFO sqlalchemy.engine.base.Engine \n",
      "CREATE TABLE \"Semesters\" (\n",
      "\tsemester_id BIGINT, \n",
      "\tsemester_name TEXT\n",
      ")\n",
      "\n",
      "\n",
      "2020-11-14 18:03:12,999 INFO sqlalchemy.engine.base.Engine ()\n",
      "2020-11-14 18:03:13,003 INFO sqlalchemy.engine.base.Engine COMMIT\n",
      "2020-11-14 18:03:13,004 INFO sqlalchemy.engine.base.Engine CREATE INDEX \"ix_Semesters_semester_id\" ON \"Semesters\" (semester_id)\n",
      "2020-11-14 18:03:13,005 INFO sqlalchemy.engine.base.Engine ()\n",
      "2020-11-14 18:03:13,010 INFO sqlalchemy.engine.base.Engine COMMIT\n",
      "2020-11-14 18:03:13,012 INFO sqlalchemy.engine.base.Engine BEGIN (implicit)\n",
      "2020-11-14 18:03:13,013 INFO sqlalchemy.engine.base.Engine INSERT INTO \"Semesters\" (semester_id, semester_name) VALUES (?, ?)\n",
      "2020-11-14 18:03:13,014 INFO sqlalchemy.engine.base.Engine ((0, 'Fall94'), (1, 'Spring95'), (2, 'Fall95'), (3, 'Spring96'), (4, 'Fall96'), (5, 'Spring97'), (6, 'Fall97'), (7, 'Spring98')  ... displaying 10 of 18 total bound parameter sets ...  (16, 'Fall04'), (17, 'Spring05'))\n",
      "2020-11-14 18:03:13,017 INFO sqlalchemy.engine.base.Engine COMMIT\n",
      "2020-11-14 18:03:13,021 INFO sqlalchemy.engine.base.Engine SELECT name FROM sqlite_master WHERE type='table' ORDER BY name\n",
      "2020-11-14 18:03:13,023 INFO sqlalchemy.engine.base.Engine ()\n"
     ]
    }
   ],
   "source": [
    "df_sem.to_sql(\n",
    "    semester_table, \n",
    "    sqlite_connection,\n",
    "    if_exists='replace'\n",
    "    )"
   ]
  },
  {
   "cell_type": "code",
   "execution_count": 151,
   "metadata": {},
   "outputs": [],
   "source": [
    "con = sqlite3.connect(\"University.db\")\n",
    "add_pk_to_sqlite_table(semester_table, \"semester_id\", con)\n",
    "con.close()"
   ]
  },
  {
   "cell_type": "code",
   "execution_count": 162,
   "metadata": {},
   "outputs": [
    {
     "output_type": "execute_result",
     "data": {
      "text/plain": [
       "{'Fall94': 0,\n",
       " 'Spring95': 1,\n",
       " 'Fall95': 2,\n",
       " 'Spring96': 3,\n",
       " 'Fall96': 4,\n",
       " 'Spring97': 5,\n",
       " 'Fall97': 6,\n",
       " 'Spring98': 7,\n",
       " 'Fall98': 8,\n",
       " 'Spring99': 9,\n",
       " 'Fall01': 10,\n",
       " 'Spring02': 11,\n",
       " 'Fall02': 12,\n",
       " 'Spring03': 13,\n",
       " 'Fall03': 14,\n",
       " 'Spring04': 15,\n",
       " 'Fall04': 16,\n",
       " 'Spring05': 17}"
      ]
     },
     "metadata": {},
     "execution_count": 162
    }
   ],
   "source": [
    "sem_map = {x:i for i, x in enumerate(df_sem.to_dict('list')['semester_name'])}\n",
    "sem_map"
   ]
  },
  {
   "cell_type": "code",
   "execution_count": 163,
   "metadata": {},
   "outputs": [
    {
     "output_type": "execute_result",
     "data": {
      "text/plain": [
       "        SID Courses  Score  Semester Discipline Degree\n",
       "0  KHR_BS_0  CS-101     72         0         CS     BS\n",
       "1  KHR_BS_0  CS-102     78         0         CS     BS\n",
       "2  KHR_BS_0  CS-103     53         0         CS     BS\n",
       "3  KHR_BS_0  CS-104     58         0         CS     BS\n",
       "4  KHR_BS_0  SS-201     93         0         CS     BS"
      ],
      "text/html": "<div>\n<style scoped>\n    .dataframe tbody tr th:only-of-type {\n        vertical-align: middle;\n    }\n\n    .dataframe tbody tr th {\n        vertical-align: top;\n    }\n\n    .dataframe thead th {\n        text-align: right;\n    }\n</style>\n<table border=\"1\" class=\"dataframe\">\n  <thead>\n    <tr style=\"text-align: right;\">\n      <th></th>\n      <th>SID</th>\n      <th>Courses</th>\n      <th>Score</th>\n      <th>Semester</th>\n      <th>Discipline</th>\n      <th>Degree</th>\n    </tr>\n  </thead>\n  <tbody>\n    <tr>\n      <th>0</th>\n      <td>KHR_BS_0</td>\n      <td>CS-101</td>\n      <td>72</td>\n      <td>0</td>\n      <td>CS</td>\n      <td>BS</td>\n    </tr>\n    <tr>\n      <th>1</th>\n      <td>KHR_BS_0</td>\n      <td>CS-102</td>\n      <td>78</td>\n      <td>0</td>\n      <td>CS</td>\n      <td>BS</td>\n    </tr>\n    <tr>\n      <th>2</th>\n      <td>KHR_BS_0</td>\n      <td>CS-103</td>\n      <td>53</td>\n      <td>0</td>\n      <td>CS</td>\n      <td>BS</td>\n    </tr>\n    <tr>\n      <th>3</th>\n      <td>KHR_BS_0</td>\n      <td>CS-104</td>\n      <td>58</td>\n      <td>0</td>\n      <td>CS</td>\n      <td>BS</td>\n    </tr>\n    <tr>\n      <th>4</th>\n      <td>KHR_BS_0</td>\n      <td>SS-201</td>\n      <td>93</td>\n      <td>0</td>\n      <td>CS</td>\n      <td>BS</td>\n    </tr>\n  </tbody>\n</table>\n</div>"
     },
     "metadata": {},
     "execution_count": 163
    }
   ],
   "source": [
    "df_reg.Semester = df_reg.Semester.map(sem_map)\n",
    "df_reg.head()"
   ]
  },
  {
   "cell_type": "code",
   "execution_count": 168,
   "metadata": {},
   "outputs": [
    {
     "output_type": "execute_result",
     "data": {
      "text/plain": [
       "0"
      ]
     },
     "metadata": {},
     "execution_count": 168
    }
   ],
   "source": [
    "sum(df_reg.Semester.isnull())"
   ]
  },
  {
   "source": [
    "# Process Courses Table"
   ],
   "cell_type": "markdown",
   "metadata": {}
  },
  {
   "cell_type": "code",
   "execution_count": 173,
   "metadata": {},
   "outputs": [
    {
     "output_type": "execute_result",
     "data": {
      "text/plain": [
       "          course_name\n",
       "course_id            \n",
       "0              CS-101\n",
       "1              CS-102\n",
       "2              CS-103\n",
       "3              CS-104\n",
       "4              SS-201\n",
       "...               ...\n",
       "115            CS-708\n",
       "116            CS-968\n",
       "117            CS-977\n",
       "118            CS-798\n",
       "119            CS-987\n",
       "\n",
       "[120 rows x 1 columns]"
      ],
      "text/html": "<div>\n<style scoped>\n    .dataframe tbody tr th:only-of-type {\n        vertical-align: middle;\n    }\n\n    .dataframe tbody tr th {\n        vertical-align: top;\n    }\n\n    .dataframe thead th {\n        text-align: right;\n    }\n</style>\n<table border=\"1\" class=\"dataframe\">\n  <thead>\n    <tr style=\"text-align: right;\">\n      <th></th>\n      <th>course_name</th>\n    </tr>\n    <tr>\n      <th>course_id</th>\n      <th></th>\n    </tr>\n  </thead>\n  <tbody>\n    <tr>\n      <th>0</th>\n      <td>CS-101</td>\n    </tr>\n    <tr>\n      <th>1</th>\n      <td>CS-102</td>\n    </tr>\n    <tr>\n      <th>2</th>\n      <td>CS-103</td>\n    </tr>\n    <tr>\n      <th>3</th>\n      <td>CS-104</td>\n    </tr>\n    <tr>\n      <th>4</th>\n      <td>SS-201</td>\n    </tr>\n    <tr>\n      <th>...</th>\n      <td>...</td>\n    </tr>\n    <tr>\n      <th>115</th>\n      <td>CS-708</td>\n    </tr>\n    <tr>\n      <th>116</th>\n      <td>CS-968</td>\n    </tr>\n    <tr>\n      <th>117</th>\n      <td>CS-977</td>\n    </tr>\n    <tr>\n      <th>118</th>\n      <td>CS-798</td>\n    </tr>\n    <tr>\n      <th>119</th>\n      <td>CS-987</td>\n    </tr>\n  </tbody>\n</table>\n<p>120 rows × 1 columns</p>\n</div>"
     },
     "metadata": {},
     "execution_count": 173
    }
   ],
   "source": [
    "courses_table = \"Courses\"\n",
    "df_courses = pd.DataFrame(df_reg.Courses.unique())\n",
    "df_courses.columns = [\"course_name\"]\n",
    "df_courses.index.names = ['course_id']\n",
    "df_courses"
   ]
  },
  {
   "cell_type": "code",
   "execution_count": 174,
   "metadata": {},
   "outputs": [
    {
     "output_type": "stream",
     "name": "stdout",
     "text": [
      "2020-11-14 18:14:10,647 INFO sqlalchemy.engine.base.Engine PRAGMA main.table_info(\"Courses\")\n",
      "2020-11-14 18:14:10,649 INFO sqlalchemy.engine.base.Engine ()\n",
      "2020-11-14 18:14:10,652 INFO sqlalchemy.engine.base.Engine PRAGMA temp.table_info(\"Courses\")\n",
      "2020-11-14 18:14:10,653 INFO sqlalchemy.engine.base.Engine ()\n",
      "2020-11-14 18:14:10,657 INFO sqlalchemy.engine.base.Engine \n",
      "CREATE TABLE \"Courses\" (\n",
      "\tcourse_id BIGINT, \n",
      "\tcourse_name TEXT\n",
      ")\n",
      "\n",
      "\n",
      "2020-11-14 18:14:10,658 INFO sqlalchemy.engine.base.Engine ()\n",
      "2020-11-14 18:14:10,665 INFO sqlalchemy.engine.base.Engine COMMIT\n",
      "2020-11-14 18:14:10,667 INFO sqlalchemy.engine.base.Engine CREATE INDEX \"ix_Courses_course_id\" ON \"Courses\" (course_id)\n",
      "2020-11-14 18:14:10,668 INFO sqlalchemy.engine.base.Engine ()\n",
      "2020-11-14 18:14:10,672 INFO sqlalchemy.engine.base.Engine COMMIT\n",
      "2020-11-14 18:14:10,674 INFO sqlalchemy.engine.base.Engine BEGIN (implicit)\n",
      "2020-11-14 18:14:10,677 INFO sqlalchemy.engine.base.Engine INSERT INTO \"Courses\" (course_id, course_name) VALUES (?, ?)\n",
      "2020-11-14 18:14:10,678 INFO sqlalchemy.engine.base.Engine ((0, 'CS-101'), (1, 'CS-102'), (2, 'CS-103'), (3, 'CS-104'), (4, 'SS-201'), (5, 'MS-301'), (6, 'UR-401'), (7, 'CS-105')  ... displaying 10 of 120 total bound parameter sets ...  (118, 'CS-798'), (119, 'CS-987'))\n",
      "2020-11-14 18:14:10,681 INFO sqlalchemy.engine.base.Engine COMMIT\n",
      "2020-11-14 18:14:10,685 INFO sqlalchemy.engine.base.Engine SELECT name FROM sqlite_master WHERE type='table' ORDER BY name\n",
      "2020-11-14 18:14:10,687 INFO sqlalchemy.engine.base.Engine ()\n"
     ]
    }
   ],
   "source": [
    "df_courses.to_sql(\n",
    "    courses_table, \n",
    "    sqlite_connection,\n",
    "    if_exists='replace'\n",
    "    )"
   ]
  },
  {
   "cell_type": "code",
   "execution_count": 175,
   "metadata": {},
   "outputs": [],
   "source": [
    "con = sqlite3.connect(\"University.db\")\n",
    "add_pk_to_sqlite_table(courses_table, \"course_id\", con)\n",
    "con.close()"
   ]
  },
  {
   "cell_type": "code",
   "execution_count": 177,
   "metadata": {},
   "outputs": [],
   "source": [
    "course_map = {x:i for i, x in enumerate(df_courses.to_dict('list')['course_name'])}"
   ]
  },
  {
   "cell_type": "code",
   "execution_count": 178,
   "metadata": {},
   "outputs": [
    {
     "output_type": "execute_result",
     "data": {
      "text/plain": [
       "        SID  Courses  Score  Semester Discipline Degree\n",
       "0  KHR_BS_0        0     72         0         CS     BS\n",
       "1  KHR_BS_0        1     78         0         CS     BS\n",
       "2  KHR_BS_0        2     53         0         CS     BS\n",
       "3  KHR_BS_0        3     58         0         CS     BS\n",
       "4  KHR_BS_0        4     93         0         CS     BS"
      ],
      "text/html": "<div>\n<style scoped>\n    .dataframe tbody tr th:only-of-type {\n        vertical-align: middle;\n    }\n\n    .dataframe tbody tr th {\n        vertical-align: top;\n    }\n\n    .dataframe thead th {\n        text-align: right;\n    }\n</style>\n<table border=\"1\" class=\"dataframe\">\n  <thead>\n    <tr style=\"text-align: right;\">\n      <th></th>\n      <th>SID</th>\n      <th>Courses</th>\n      <th>Score</th>\n      <th>Semester</th>\n      <th>Discipline</th>\n      <th>Degree</th>\n    </tr>\n  </thead>\n  <tbody>\n    <tr>\n      <th>0</th>\n      <td>KHR_BS_0</td>\n      <td>0</td>\n      <td>72</td>\n      <td>0</td>\n      <td>CS</td>\n      <td>BS</td>\n    </tr>\n    <tr>\n      <th>1</th>\n      <td>KHR_BS_0</td>\n      <td>1</td>\n      <td>78</td>\n      <td>0</td>\n      <td>CS</td>\n      <td>BS</td>\n    </tr>\n    <tr>\n      <th>2</th>\n      <td>KHR_BS_0</td>\n      <td>2</td>\n      <td>53</td>\n      <td>0</td>\n      <td>CS</td>\n      <td>BS</td>\n    </tr>\n    <tr>\n      <th>3</th>\n      <td>KHR_BS_0</td>\n      <td>3</td>\n      <td>58</td>\n      <td>0</td>\n      <td>CS</td>\n      <td>BS</td>\n    </tr>\n    <tr>\n      <th>4</th>\n      <td>KHR_BS_0</td>\n      <td>4</td>\n      <td>93</td>\n      <td>0</td>\n      <td>CS</td>\n      <td>BS</td>\n    </tr>\n  </tbody>\n</table>\n</div>"
     },
     "metadata": {},
     "execution_count": 178
    }
   ],
   "source": [
    "df_reg.Courses = df_reg.Courses.map(course_map)\n",
    "df_reg.head()"
   ]
  },
  {
   "cell_type": "code",
   "execution_count": null,
   "metadata": {},
   "outputs": [],
   "source": []
  },
  {
   "cell_type": "code",
   "execution_count": null,
   "metadata": {},
   "outputs": [],
   "source": []
  },
  {
   "cell_type": "code",
   "execution_count": null,
   "metadata": {},
   "outputs": [],
   "source": []
  },
  {
   "source": [
    "# Process Disciplines Table"
   ],
   "cell_type": "markdown",
   "metadata": {}
  },
  {
   "cell_type": "code",
   "execution_count": 183,
   "metadata": {},
   "outputs": [
    {
     "output_type": "execute_result",
     "data": {
      "text/plain": [
       "              discipline_name\n",
       "discipline_id                \n",
       "0                          CS\n",
       "1                          TC\n",
       "2                          SE\n",
       "3                          CE\n",
       "4                       MS-CS\n",
       "5                       MS-TC\n",
       "6                      MS-SPM\n",
       "7                       MS-NW"
      ],
      "text/html": "<div>\n<style scoped>\n    .dataframe tbody tr th:only-of-type {\n        vertical-align: middle;\n    }\n\n    .dataframe tbody tr th {\n        vertical-align: top;\n    }\n\n    .dataframe thead th {\n        text-align: right;\n    }\n</style>\n<table border=\"1\" class=\"dataframe\">\n  <thead>\n    <tr style=\"text-align: right;\">\n      <th></th>\n      <th>discipline_name</th>\n    </tr>\n    <tr>\n      <th>discipline_id</th>\n      <th></th>\n    </tr>\n  </thead>\n  <tbody>\n    <tr>\n      <th>0</th>\n      <td>CS</td>\n    </tr>\n    <tr>\n      <th>1</th>\n      <td>TC</td>\n    </tr>\n    <tr>\n      <th>2</th>\n      <td>SE</td>\n    </tr>\n    <tr>\n      <th>3</th>\n      <td>CE</td>\n    </tr>\n    <tr>\n      <th>4</th>\n      <td>MS-CS</td>\n    </tr>\n    <tr>\n      <th>5</th>\n      <td>MS-TC</td>\n    </tr>\n    <tr>\n      <th>6</th>\n      <td>MS-SPM</td>\n    </tr>\n    <tr>\n      <th>7</th>\n      <td>MS-NW</td>\n    </tr>\n  </tbody>\n</table>\n</div>"
     },
     "metadata": {},
     "execution_count": 183
    }
   ],
   "source": [
    "discipline_table = \"Disciplines\"\n",
    "df_disciplines = pd.DataFrame(df_reg.Discipline.unique())\n",
    "df_disciplines.columns = [\"discipline_name\"]\n",
    "df_disciplines.index.names = ['discipline_id']\n",
    "df_disciplines"
   ]
  },
  {
   "cell_type": "code",
   "execution_count": 184,
   "metadata": {},
   "outputs": [
    {
     "output_type": "stream",
     "name": "stdout",
     "text": [
      "2020-11-14 18:24:58,506 INFO sqlalchemy.engine.base.Engine PRAGMA main.table_info(\"Disciplines\")\n",
      "2020-11-14 18:24:58,507 INFO sqlalchemy.engine.base.Engine ()\n",
      "2020-11-14 18:24:58,509 INFO sqlalchemy.engine.base.Engine PRAGMA temp.table_info(\"Disciplines\")\n",
      "2020-11-14 18:24:58,511 INFO sqlalchemy.engine.base.Engine ()\n",
      "2020-11-14 18:24:58,514 INFO sqlalchemy.engine.base.Engine \n",
      "CREATE TABLE \"Disciplines\" (\n",
      "\tdiscipline_id BIGINT, \n",
      "\tdiscipline_name TEXT\n",
      ")\n",
      "\n",
      "\n",
      "2020-11-14 18:24:58,515 INFO sqlalchemy.engine.base.Engine ()\n",
      "2020-11-14 18:24:58,520 INFO sqlalchemy.engine.base.Engine COMMIT\n",
      "2020-11-14 18:24:58,522 INFO sqlalchemy.engine.base.Engine CREATE INDEX \"ix_Disciplines_discipline_id\" ON \"Disciplines\" (discipline_id)\n",
      "2020-11-14 18:24:58,523 INFO sqlalchemy.engine.base.Engine ()\n",
      "2020-11-14 18:24:58,528 INFO sqlalchemy.engine.base.Engine COMMIT\n",
      "2020-11-14 18:24:58,531 INFO sqlalchemy.engine.base.Engine BEGIN (implicit)\n",
      "2020-11-14 18:24:58,532 INFO sqlalchemy.engine.base.Engine INSERT INTO \"Disciplines\" (discipline_id, discipline_name) VALUES (?, ?)\n",
      "2020-11-14 18:24:58,533 INFO sqlalchemy.engine.base.Engine ((0, 'CS'), (1, 'TC'), (2, 'SE'), (3, 'CE'), (4, 'MS-CS'), (5, 'MS-TC'), (6, 'MS-SPM'), (7, 'MS-NW'))\n",
      "2020-11-14 18:24:58,534 INFO sqlalchemy.engine.base.Engine COMMIT\n",
      "2020-11-14 18:24:58,538 INFO sqlalchemy.engine.base.Engine SELECT name FROM sqlite_master WHERE type='table' ORDER BY name\n",
      "2020-11-14 18:24:58,539 INFO sqlalchemy.engine.base.Engine ()\n"
     ]
    }
   ],
   "source": [
    "df_disciplines.to_sql(\n",
    "    discipline_table, \n",
    "    sqlite_connection,\n",
    "    if_exists='replace'\n",
    "    )"
   ]
  },
  {
   "cell_type": "code",
   "execution_count": 191,
   "metadata": {},
   "outputs": [
    {
     "output_type": "error",
     "ename": "OperationalError",
     "evalue": "database is locked",
     "traceback": [
      "\u001b[1;31m---------------------------------------------------------------------------\u001b[0m",
      "\u001b[1;31mOperationalError\u001b[0m                          Traceback (most recent call last)",
      "\u001b[1;32m<ipython-input-191-ad14f596b6eb>\u001b[0m in \u001b[0;36m<module>\u001b[1;34m\u001b[0m\n\u001b[0;32m      1\u001b[0m \u001b[0mcon\u001b[0m \u001b[1;33m=\u001b[0m \u001b[0msqlite3\u001b[0m\u001b[1;33m.\u001b[0m\u001b[0mconnect\u001b[0m\u001b[1;33m(\u001b[0m\u001b[1;34m\"University.db\"\u001b[0m\u001b[1;33m)\u001b[0m\u001b[1;33m\u001b[0m\u001b[1;33m\u001b[0m\u001b[0m\n\u001b[1;32m----> 2\u001b[1;33m \u001b[0madd_pk_to_sqlite_table\u001b[0m\u001b[1;33m(\u001b[0m\u001b[0mdiscipline_table\u001b[0m\u001b[1;33m,\u001b[0m \u001b[1;34m\"discipline_id\"\u001b[0m\u001b[1;33m,\u001b[0m \u001b[0mcon\u001b[0m\u001b[1;33m)\u001b[0m\u001b[1;33m\u001b[0m\u001b[1;33m\u001b[0m\u001b[0m\n\u001b[0m\u001b[0;32m      3\u001b[0m \u001b[0mcon\u001b[0m\u001b[1;33m.\u001b[0m\u001b[0mclose\u001b[0m\u001b[1;33m(\u001b[0m\u001b[1;33m)\u001b[0m\u001b[1;33m\u001b[0m\u001b[1;33m\u001b[0m\u001b[0m\n",
      "\u001b[1;32m<ipython-input-61-0801115d17bd>\u001b[0m in \u001b[0;36madd_pk_to_sqlite_table\u001b[1;34m(tablename, index_column, connection)\u001b[0m\n\u001b[0;32m     29\u001b[0m \u001b[1;33m\u001b[0m\u001b[0m\n\u001b[0;32m     30\u001b[0m     \u001b[0mcreate_and_drop_sql\u001b[0m \u001b[1;33m=\u001b[0m \u001b[0mtemplate\u001b[0m\u001b[1;33m.\u001b[0m\u001b[0mformat\u001b[0m\u001b[1;33m(\u001b[0m\u001b[0mtablename\u001b[0m \u001b[1;33m=\u001b[0m \u001b[0mtablename\u001b[0m\u001b[1;33m,\u001b[0m \u001b[0mcts\u001b[0m \u001b[1;33m=\u001b[0m \u001b[0mcts\u001b[0m\u001b[1;33m)\u001b[0m\u001b[1;33m\u001b[0m\u001b[1;33m\u001b[0m\u001b[0m\n\u001b[1;32m---> 31\u001b[1;33m     \u001b[0mconnection\u001b[0m\u001b[1;33m.\u001b[0m\u001b[0mexecutescript\u001b[0m\u001b[1;33m(\u001b[0m\u001b[0mcreate_and_drop_sql\u001b[0m\u001b[1;33m)\u001b[0m\u001b[1;33m\u001b[0m\u001b[1;33m\u001b[0m\u001b[0m\n\u001b[0m",
      "\u001b[1;31mOperationalError\u001b[0m: database is locked"
     ]
    }
   ],
   "source": [
    "con = sqlite3.connect(\"University.db\")\n",
    "add_pk_to_sqlite_table(discipline_table, \"discipline_id\", con)\n",
    "con.close()"
   ]
  },
  {
   "cell_type": "code",
   "execution_count": 188,
   "metadata": {},
   "outputs": [
    {
     "output_type": "execute_result",
     "data": {
      "text/plain": [
       "{'CS': 0,\n",
       " 'TC': 1,\n",
       " 'SE': 2,\n",
       " 'CE': 3,\n",
       " 'MS-CS': 4,\n",
       " 'MS-TC': 5,\n",
       " 'MS-SPM': 6,\n",
       " 'MS-NW': 7}"
      ]
     },
     "metadata": {},
     "execution_count": 188
    }
   ],
   "source": [
    "discipline_map = {x:i for i, x in enumerate(df_disciplines.to_dict('list')['discipline_name'])}\n",
    "discipline_map"
   ]
  },
  {
   "cell_type": "code",
   "execution_count": null,
   "metadata": {},
   "outputs": [],
   "source": []
  }
 ]
}